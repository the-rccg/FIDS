{
 "cells": [
  {
   "cell_type": "markdown",
   "metadata": {
    "ExecuteTime": {
     "end_time": "2019-05-14T10:10:14.419126Z",
     "start_time": "2019-05-14T10:10:14.414125Z"
    }
   },
   "source": [
    "# Point in Polygon Tests"
   ]
  },
  {
   "cell_type": "markdown",
   "metadata": {
    "ExecuteTime": {
     "end_time": "2019-05-14T10:09:58.305682Z",
     "start_time": "2019-05-14T10:09:58.260649Z"
    }
   },
   "source": [
    "# Setup"
   ]
  },
  {
   "cell_type": "code",
   "execution_count": 1,
   "metadata": {
    "ExecuteTime": {
     "end_time": "2019-05-27T17:39:31.985894Z",
     "start_time": "2019-05-27T17:39:31.847759Z"
    }
   },
   "outputs": [],
   "source": [
    "import numpy as np\n",
    "import json\n",
    "from pprint import pprint\n",
    "from memory_profiler import profile"
   ]
  },
  {
   "cell_type": "code",
   "execution_count": 2,
   "metadata": {
    "ExecuteTime": {
     "end_time": "2019-05-27T17:39:33.038606Z",
     "start_time": "2019-05-27T17:39:32.670347Z"
    }
   },
   "outputs": [],
   "source": [
    "from astropy.io import fits\n",
    "data = fits.open('../../PHAT_BEAST/b22_stats_toothpick_v1.1.fits', memmap=True)[1]"
   ]
  },
  {
   "cell_type": "code",
   "execution_count": 3,
   "metadata": {
    "ExecuteTime": {
     "end_time": "2019-05-27T17:39:33.625025Z",
     "start_time": "2019-05-27T17:39:33.368843Z"
    }
   },
   "outputs": [],
   "source": [
    "from numba import jit"
   ]
  },
  {
   "cell_type": "code",
   "execution_count": 294,
   "metadata": {
    "ExecuteTime": {
     "end_time": "2019-05-14T11:58:15.006051Z",
     "start_time": "2019-05-14T11:58:14.995043Z"
    }
   },
   "outputs": [],
   "source": [
    "vertices = [(42.08966338773695, 11.63993711820775),\n",
    " (42.16591939189332, 11.791014549991507),\n",
    " (42.172697703373885, 11.792076979097095),\n",
    " (42.15775460760991, 11.86325972917151),\n",
    " (42.10768753417391, 11.954628632252101)]"
   ]
  },
  {
   "cell_type": "code",
   "execution_count": 4,
   "metadata": {
    "ExecuteTime": {
     "end_time": "2019-05-27T17:39:34.395572Z",
     "start_time": "2019-05-27T17:39:34.383562Z"
    }
   },
   "outputs": [],
   "source": [
    "vertices = [(42.098136277087654, 11.957815919568866),\n",
    " (42.09613359415022, 11.967377781519161),\n",
    " (42.08534991679477, 11.969290140940114),\n",
    " (42.085658021862066, 11.862197300065922),\n",
    " (42.08673638959761, 11.833511714215039),\n",
    " (42.08750665226586, 11.818637706736803),\n",
    " (42.09536333148197, 11.737893094712094),\n",
    " (42.100909222693346, 11.713457225283562),\n",
    " (42.10614700883742, 11.695395930488562),\n",
    " (42.105992956303766, 11.693271072277387),\n",
    " (42.10768753417391, 11.677334635693562),\n",
    " (42.112463162717034, 11.644399333420326),\n",
    " (42.114157740587174, 11.63993711820775),\n",
    " (42.119087421663956, 11.641212046103561),\n",
    " (42.12263062993789, 11.644399333420326),\n",
    " (42.12478736540898, 11.64758662073709),\n",
    " (42.12524952300992, 11.650773908053855),\n",
    " (42.124633312875325, 11.645461762525914),\n",
    " (42.12694410088007, 11.649711478948268),\n",
    " (42.13664941049996, 11.655023624476208),\n",
    " (42.140192618773895, 11.663523057320914),\n",
    " (42.141579091576745, 11.742142811134446),\n",
    " (42.1405007238412, 11.793139408202684),\n",
    " (42.1395764086393, 11.799513982836213),\n",
    " (42.1398845137066, 11.835636572426214),\n",
    " (42.13834398837011, 11.912131468028571),\n",
    " (42.13834398837011, 11.910006609817394),\n",
    " (42.13572509529807, 11.923818188190042),\n",
    " (42.12771436354831, 11.94931648672416),\n",
    " (42.12802246861561, 11.950378915829749)]"
   ]
  },
  {
   "cell_type": "code",
   "execution_count": 5,
   "metadata": {
    "ExecuteTime": {
     "end_time": "2019-05-27T17:39:37.176582Z",
     "start_time": "2019-05-27T17:39:36.622154Z"
    }
   },
   "outputs": [],
   "source": [
    "points = np.vstack([data.data['DEC'], data.data['RA']])"
   ]
  },
  {
   "cell_type": "code",
   "execution_count": 7,
   "metadata": {
    "ExecuteTime": {
     "end_time": "2019-05-24T09:36:49.766632Z",
     "start_time": "2019-05-24T09:36:49.751620Z"
    }
   },
   "outputs": [
    {
     "data": {
      "text/plain": [
       "array([[42.16295068, 11.94153659],\n",
       "       [42.1134434 , 11.68024732],\n",
       "       [42.11515299, 11.88223938],\n",
       "       ...,\n",
       "       [42.15991029, 11.69838903],\n",
       "       [42.15988112, 11.69978689],\n",
       "       [42.16066163, 11.69991191]])"
      ]
     },
     "execution_count": 7,
     "metadata": {},
     "output_type": "execute_result"
    }
   ],
   "source": [
    "points.T"
   ]
  },
  {
   "cell_type": "code",
   "execution_count": 280,
   "metadata": {
    "ExecuteTime": {
     "end_time": "2019-05-14T10:33:57.798485Z",
     "start_time": "2019-05-14T10:33:57.794482Z"
    }
   },
   "outputs": [],
   "source": [
    "vertices = np.array([[42.09, 11.94], [42.09, 11.90], [42.11, 11.90], [42.11, 11,95]])"
   ]
  },
  {
   "cell_type": "code",
   "execution_count": 12,
   "metadata": {
    "ExecuteTime": {
     "end_time": "2019-05-24T09:37:21.596252Z",
     "start_time": "2019-05-24T09:37:21.591248Z"
    }
   },
   "outputs": [],
   "source": [
    "vertices = np.array(vertices)"
   ]
  },
  {
   "cell_type": "code",
   "execution_count": 6,
   "metadata": {
    "ExecuteTime": {
     "end_time": "2019-05-27T17:39:40.013562Z",
     "start_time": "2019-05-27T17:39:39.680325Z"
    }
   },
   "outputs": [],
   "source": [
    "from matplotlib import pylab as plt"
   ]
  },
  {
   "cell_type": "code",
   "execution_count": 7,
   "metadata": {
    "ExecuteTime": {
     "end_time": "2019-05-27T17:39:41.427568Z",
     "start_time": "2019-05-27T17:39:41.423567Z"
    }
   },
   "outputs": [],
   "source": [
    "from matplotlib import patches"
   ]
  },
  {
   "cell_type": "code",
   "execution_count": 13,
   "metadata": {
    "ExecuteTime": {
     "end_time": "2019-05-24T09:37:36.942158Z",
     "start_time": "2019-05-24T09:37:24.336199Z"
    },
    "scrolled": false
   },
   "outputs": [
    {
     "data": {
      "text/plain": [
       "<matplotlib.patches.Polygon at 0xc103d7ed68>"
      ]
     },
     "execution_count": 13,
     "metadata": {},
     "output_type": "execute_result"
    },
    {
     "data": {
      "image/png": "[encoded data removed]",
      "text/plain": [
       "<Figure size 1080x432 with 1 Axes>"
      ]
     },
     "metadata": {
      "needs_background": "light"
     },
     "output_type": "display_data"
    }
   ],
   "source": [
    "fig, ax = plt.subplots(1,1, figsize=(15,6))\n",
    "ax.scatter(data.data['DEC'], data.data['RA'])\n",
    "ax.add_patch(patches.Polygon(np.array(vertices), closed=False, fill=True, color='r', alpha=0.5))"
   ]
  },
  {
   "cell_type": "code",
   "execution_count": 8,
   "metadata": {
    "ExecuteTime": {
     "end_time": "2019-05-27T17:39:42.893609Z",
     "start_time": "2019-05-27T17:39:42.831565Z"
    }
   },
   "outputs": [],
   "source": [
    "def plot(flagged):\n",
    "    fig, ax = plt.subplots(1,1, figsize=(15,6))\n",
    "    ax.scatter(data.data['DEC'], data.data['RA'])\n",
    "    ax.add_patch(patches.Polygon(vertices, closed=False, fill=True, color='r', alpha=0.2))\n",
    "    ax.scatter(data.data['DEC'][flagged], data.data['RA'][flagged], color='k')"
   ]
  },
  {
   "cell_type": "markdown",
   "metadata": {
    "heading_collapsed": true
   },
   "source": [
    "## Other stuff"
   ]
  },
  {
   "cell_type": "code",
   "execution_count": 33,
   "metadata": {
    "ExecuteTime": {
     "end_time": "2019-05-13T16:31:36.712587Z",
     "start_time": "2019-05-13T16:31:10.434027Z"
    },
    "hidden": true
   },
   "outputs": [],
   "source": [
    "shapely_points = np.apply_along_axis(Point, 1, points.T)"
   ]
  },
  {
   "cell_type": "code",
   "execution_count": 21,
   "metadata": {
    "ExecuteTime": {
     "end_time": "2019-05-13T16:26:43.322974Z",
     "start_time": "2019-05-13T16:26:43.306963Z"
    },
    "hidden": true
   },
   "outputs": [],
   "source": [
    "def clip(subjectPolygon, clipPolygon):\n",
    "   def inside(p):\n",
    "      return(cp2[0]-cp1[0])*(p[1]-cp1[1]) > (cp2[1]-cp1[1])*(p[0]-cp1[0])\n",
    " \n",
    "   def computeIntersection():\n",
    "      dc = [ cp1[0] - cp2[0], cp1[1] - cp2[1] ]\n",
    "      dp = [ s[0] - e[0], s[1] - e[1] ]\n",
    "      n1 = cp1[0] * cp2[1] - cp1[1] * cp2[0]\n",
    "      n2 = s[0] * e[1] - s[1] * e[0] \n",
    "      n3 = 1.0 / (dc[0] * dp[1] - dc[1] * dp[0])\n",
    "      return [(n1*dp[0] - n2*dc[0]) * n3, (n1*dp[1] - n2*dc[1]) * n3]\n",
    " \n",
    "   outputList = subjectPolygon\n",
    "   cp1 = clipPolygon[-1]\n",
    " \n",
    "   for clipVertex in clipPolygon:\n",
    "      cp2 = clipVertex\n",
    "      inputList = outputList\n",
    "      outputList = []\n",
    "      s = inputList[-1]\n",
    " \n",
    "      for subjectVertex in inputList:\n",
    "         e = subjectVertex\n",
    "         if inside(e):\n",
    "            if not inside(s):\n",
    "               outputList.append(computeIntersection())\n",
    "            outputList.append(e)\n",
    "         elif inside(s):\n",
    "            outputList.append(computeIntersection())\n",
    "         s = e\n",
    "      cp1 = cp2\n",
    "   return(outputList)\n",
    " "
   ]
  },
  {
   "cell_type": "code",
   "execution_count": null,
   "metadata": {
    "hidden": true
   },
   "outputs": [],
   "source": []
  },
  {
   "cell_type": "code",
   "execution_count": null,
   "metadata": {
    "hidden": true
   },
   "outputs": [],
   "source": []
  },
  {
   "cell_type": "markdown",
   "metadata": {},
   "source": [
    "## GEOS via Shapely (21.8s)"
   ]
  },
  {
   "cell_type": "code",
   "execution_count": 671,
   "metadata": {
    "ExecuteTime": {
     "end_time": "2019-05-25T05:42:36.618991Z",
     "start_time": "2019-05-25T05:42:36.611987Z"
    }
   },
   "outputs": [],
   "source": [
    "# Option 1:  Shapely\n",
    "# https://automating-gis-processes.github.io/CSC18/lessons/L4/point-in-polygon.html\n",
    "#import shapely.speedups\n",
    "#shapely.speedups.enable()\n",
    "from shapely.geometry import Point\n",
    "from shapely.geometry.polygon import Polygon\n",
    "polygon = Polygon(vertices)"
   ]
  },
  {
   "cell_type": "code",
   "execution_count": 672,
   "metadata": {
    "ExecuteTime": {
     "end_time": "2019-05-25T05:42:48.428388Z",
     "start_time": "2019-05-25T05:42:40.020409Z"
    }
   },
   "outputs": [],
   "source": [
    "shapely_points = [Point(points[:,i]) for i in range(points.shape[1])]"
   ]
  },
  {
   "cell_type": "code",
   "execution_count": 676,
   "metadata": {
    "ExecuteTime": {
     "end_time": "2019-05-25T05:43:40.414100Z",
     "start_time": "2019-05-25T05:43:28.880902Z"
    }
   },
   "outputs": [],
   "source": [
    "@jit(parallel=True)\n",
    "def to_points(points):\n",
    "    shapely_points = np.empty(points.shape[0], dtype=Point)\n",
    "    for i in range(points.shape[0]):\n",
    "        shapely_points[i] = Point(points[i])\n",
    "    return shapely_points\n",
    "_ = to_points(points.T)"
   ]
  },
  {
   "cell_type": "code",
   "execution_count": 677,
   "metadata": {
    "ExecuteTime": {
     "end_time": "2019-05-25T05:43:54.026773Z",
     "start_time": "2019-05-25T05:43:42.006234Z"
    }
   },
   "outputs": [],
   "source": [
    "shapely_points = to_points(points.T)"
   ]
  },
  {
   "cell_type": "code",
   "execution_count": 678,
   "metadata": {
    "ExecuteTime": {
     "end_time": "2019-05-25T05:44:12.986249Z",
     "start_time": "2019-05-25T05:43:56.062220Z"
    }
   },
   "outputs": [],
   "source": [
    "flags = [polygon.contains(pt) for pt in shapely_points]"
   ]
  },
  {
   "cell_type": "code",
   "execution_count": 679,
   "metadata": {
    "ExecuteTime": {
     "end_time": "2019-05-25T05:44:36.789164Z",
     "start_time": "2019-05-25T05:44:17.503458Z"
    }
   },
   "outputs": [],
   "source": [
    "@jit(parallel=True)\n",
    "def to_flags(points):\n",
    "    flags = np.zeros(points.shape[0], dtype=np.bool_)\n",
    "    for i in range(points.shape[0]):\n",
    "        flags[i] = polygon.contains(points[i])\n",
    "    return flags\n",
    "_ = to_flags(shapely_points)"
   ]
  },
  {
   "cell_type": "code",
   "execution_count": 680,
   "metadata": {
    "ExecuteTime": {
     "end_time": "2019-05-25T05:44:50.338810Z",
     "start_time": "2019-05-25T05:44:38.383301Z"
    }
   },
   "outputs": [],
   "source": [
    "flags = to_flags(shapely_points)"
   ]
  },
  {
   "cell_type": "code",
   "execution_count": 655,
   "metadata": {
    "ExecuteTime": {
     "end_time": "2019-05-25T05:40:53.917447Z",
     "start_time": "2019-05-25T05:40:24.808762Z"
    }
   },
   "outputs": [],
   "source": [
    "flags = to_flags(to_points(points.T))"
   ]
  },
  {
   "cell_type": "code",
   "execution_count": 685,
   "metadata": {
    "ExecuteTime": {
     "end_time": "2019-05-25T05:48:53.447774Z",
     "start_time": "2019-05-25T05:45:46.875865Z"
    }
   },
   "outputs": [
    {
     "name": "stdout",
     "output_type": "stream",
     "text": [
      "21.8 s ± 1.34 s per loop (mean ± std. dev. of 7 runs, 1 loop each)\n"
     ]
    }
   ],
   "source": [
    "%%timeit\n",
    "polygon = Polygon(vertices)\n",
    "shapely_points = to_points(points.T)\n",
    "flags = to_flags(shapely_points)"
   ]
  },
  {
   "cell_type": "code",
   "execution_count": 684,
   "metadata": {
    "ExecuteTime": {
     "end_time": "2019-05-25T05:45:41.156800Z",
     "start_time": "2019-05-25T05:45:41.148797Z"
    }
   },
   "outputs": [
    {
     "name": "stdout",
     "output_type": "stream",
     "text": [
      "[False  True  True ... False False False]\n",
      "(633,866)  225,925\n"
     ]
    }
   ],
   "source": [
    "print(flags)\n",
    "print(\"({:,})  {:,}\".format(flags.shape[0], flags.sum()))"
   ]
  },
  {
   "cell_type": "code",
   "execution_count": 656,
   "metadata": {
    "ExecuteTime": {
     "end_time": "2019-05-25T05:41:19.925415Z",
     "start_time": "2019-05-25T05:40:53.971486Z"
    }
   },
   "outputs": [
    {
     "data": {
      "image/png": "[encoded data removed]",
      "text/plain": [
       "<Figure size 1080x432 with 1 Axes>"
      ]
     },
     "metadata": {
      "needs_background": "light"
     },
     "output_type": "display_data"
    }
   ],
   "source": [
    "plot(flags)"
   ]
  },
  {
   "cell_type": "markdown",
   "metadata": {},
   "source": [
    "### Performance"
   ]
  },
  {
   "cell_type": "code",
   "execution_count": null,
   "metadata": {},
   "outputs": [],
   "source": [
    "%%timeit -o\n",
    "polygon = Polygon(vertices)\n",
    "shapely_points = to_points(points.T)\n",
    "flags = to_flags(shapely_points)"
   ]
  },
  {
   "cell_type": "code",
   "execution_count": null,
   "metadata": {},
   "outputs": [],
   "source": [
    "performances['Shapely (GEOS)'] = _"
   ]
  },
  {
   "cell_type": "markdown",
   "metadata": {
    "heading_collapsed": true
   },
   "source": [
    "## Matplotlib Path (0.16s)"
   ]
  },
  {
   "cell_type": "code",
   "execution_count": 319,
   "metadata": {
    "ExecuteTime": {
     "end_time": "2019-05-24T16:45:07.184257Z",
     "start_time": "2019-05-24T16:45:07.172252Z"
    },
    "hidden": true
   },
   "outputs": [],
   "source": [
    "# Option 2:  Matplotlib\n",
    "from matplotlib import path\n",
    "import matplotlib.pyplot as plt\n",
    "polygon = path.Path(vertices)"
   ]
  },
  {
   "cell_type": "code",
   "execution_count": 378,
   "metadata": {
    "ExecuteTime": {
     "end_time": "2019-05-24T17:25:42.814240Z",
     "start_time": "2019-05-24T17:25:29.541552Z"
    },
    "hidden": true
   },
   "outputs": [
    {
     "name": "stdout",
     "output_type": "stream",
     "text": [
      "164 ms ± 7.32 ms per loop (mean ± std. dev. of 7 runs, 10 loops each)\n"
     ]
    }
   ],
   "source": [
    "%%timeit\n",
    "polygon = path.Path(vertices)\n",
    "flags = polygon.contains_points(points.T)"
   ]
  },
  {
   "cell_type": "code",
   "execution_count": 321,
   "metadata": {
    "ExecuteTime": {
     "end_time": "2019-05-24T16:45:37.905097Z",
     "start_time": "2019-05-24T16:45:37.890077Z"
    },
    "hidden": true
   },
   "outputs": [
    {
     "name": "stdout",
     "output_type": "stream",
     "text": [
      "[0. 1. 1. ... 0. 0. 0.]\n",
      "(633,866)  225,925.0\n"
     ]
    }
   ],
   "source": [
    "print(flags)\n",
    "print(\"({:,})  {:,}\".format(flags.shape[0], flags.sum()))"
   ]
  },
  {
   "cell_type": "markdown",
   "metadata": {
    "heading_collapsed": true
   },
   "source": [
    "## Ray Tracing (best: 0.156s)"
   ]
  },
  {
   "cell_type": "markdown",
   "metadata": {
    "heading_collapsed": true,
    "hidden": true
   },
   "source": [
    "### Ray Tracing Python (60s)"
   ]
  },
  {
   "cell_type": "code",
   "execution_count": 686,
   "metadata": {
    "ExecuteTime": {
     "end_time": "2019-05-25T05:52:08.314827Z",
     "start_time": "2019-05-25T05:52:08.301817Z"
    },
    "hidden": true
   },
   "outputs": [],
   "source": [
    "# Option 3:  Ray Tracing\n",
    "def ray_tracing(x, y, poly):\n",
    "    n = len(poly)\n",
    "    inside = False\n",
    "    xints = 0.0\n",
    "    p1x, p1y = poly[0]\n",
    "    p2x, p2y = [0.0, 0.0]\n",
    "    for i in range(n+1):\n",
    "        p2x, p2y = poly[i % n]\n",
    "        if y > min(p1y, p2y):\n",
    "            if y <= max(p1y, p2y):\n",
    "                if x <= max(p1x, p2x):\n",
    "                    if p1y != p2y:\n",
    "                        xints = (y-p1y)*(p2x-p1x)/(p2y-p1y)+p1x\n",
    "                    if p1x == p2x or x <= xints:\n",
    "                        inside = not inside\n",
    "        p1x, p1y = p2x, p2y\n",
    "    return inside"
   ]
  },
  {
   "cell_type": "code",
   "execution_count": 309,
   "metadata": {
    "ExecuteTime": {
     "end_time": "2019-05-24T16:36:12.856375Z",
     "start_time": "2019-05-24T16:35:31.895746Z"
    },
    "hidden": true
   },
   "outputs": [
    {
     "name": "stdout",
     "output_type": "stream",
     "text": [
      "Wall time: 41 s\n"
     ]
    }
   ],
   "source": [
    "%%time\n",
    "flags = np.zeros(len(points.T))\n",
    "for i, point in enumerate(points.T):\n",
    "    flags[i] = ray_tracing(*point, vertices)"
   ]
  },
  {
   "cell_type": "code",
   "execution_count": 687,
   "metadata": {
    "ExecuteTime": {
     "end_time": "2019-05-25T06:00:01.880815Z",
     "start_time": "2019-05-25T05:52:09.656780Z"
    },
    "hidden": true
   },
   "outputs": [
    {
     "name": "stdout",
     "output_type": "stream",
     "text": [
      "60 s ± 2.95 s per loop (mean ± std. dev. of 7 runs, 1 loop each)\n"
     ]
    }
   ],
   "source": [
    "%%timeit\n",
    "flags = np.zeros(len(points.T))\n",
    "for i, point in enumerate(points.T):\n",
    "    flags[i] = ray_tracing(*point, vertices)"
   ]
  },
  {
   "cell_type": "markdown",
   "metadata": {
    "heading_collapsed": true,
    "hidden": true
   },
   "source": [
    "### Numba Accelerated (1.5s)"
   ]
  },
  {
   "cell_type": "code",
   "execution_count": 313,
   "metadata": {
    "ExecuteTime": {
     "end_time": "2019-05-24T16:43:46.834040Z",
     "start_time": "2019-05-24T16:43:46.822032Z"
    },
    "hidden": true
   },
   "outputs": [],
   "source": [
    "# Option 3:  Numba Ray Tracing\n",
    "@jit(nopython=True, parallel=True)\n",
    "def ray_tracing(x, y, poly):\n",
    "    n = len(poly)\n",
    "    inside = False\n",
    "    xints = 0.0\n",
    "    p1x, p1y = poly[0]\n",
    "    p2x, p2y = [0.0, 0.0]\n",
    "    for i in range(n+1):\n",
    "        p2x, p2y = poly[i % n]\n",
    "        if y > min(p1y, p2y):\n",
    "            if y <= max(p1y, p2y):\n",
    "                if x <= max(p1x, p2x):\n",
    "                    if p1y != p2y:\n",
    "                        xints = (y-p1y)*(p2x-p1x)/(p2y-p1y)+p1x\n",
    "                    if p1x == p2x or x <= xints:\n",
    "                        inside = not inside\n",
    "        p1x, p1y = p2x, p2y\n",
    "    return inside"
   ]
  },
  {
   "cell_type": "code",
   "execution_count": 314,
   "metadata": {
    "ExecuteTime": {
     "end_time": "2019-05-24T16:43:50.683776Z",
     "start_time": "2019-05-24T16:43:48.796438Z"
    },
    "hidden": true
   },
   "outputs": [
    {
     "name": "stdout",
     "output_type": "stream",
     "text": [
      "[0. 1. 1. ... 0. 0. 0.]\n",
      "(633,866)  225,925.0\n"
     ]
    }
   ],
   "source": [
    "flags = np.zeros(len(points.T))\n",
    "for i, point in enumerate(points.T):\n",
    "    flags[i] = ray_tracing(*point, vertices)\n",
    "print(flags)\n",
    "print(\"({:,})  {:,}\".format(flags.shape[0], flags.sum()))"
   ]
  },
  {
   "cell_type": "code",
   "execution_count": 315,
   "metadata": {
    "ExecuteTime": {
     "end_time": "2019-05-24T16:44:22.056204Z",
     "start_time": "2019-05-24T16:44:09.764335Z"
    },
    "hidden": true
   },
   "outputs": [
    {
     "name": "stdout",
     "output_type": "stream",
     "text": [
      "1.53 s ± 32.4 ms per loop (mean ± std. dev. of 7 runs, 1 loop each)\n"
     ]
    }
   ],
   "source": [
    "%%timeit \n",
    "flags = np.zeros(len(points.T))\n",
    "for i, point in enumerate(points.T):\n",
    "    flags[i] = ray_tracing(*point, vertices)"
   ]
  },
  {
   "cell_type": "markdown",
   "metadata": {
    "heading_collapsed": true,
    "hidden": true
   },
   "source": [
    "### Numba Envelope Accelerated (0.20s)"
   ]
  },
  {
   "cell_type": "code",
   "execution_count": 316,
   "metadata": {
    "ExecuteTime": {
     "end_time": "2019-05-24T16:44:43.567473Z",
     "start_time": "2019-05-24T16:44:42.951028Z"
    },
    "hidden": true
   },
   "outputs": [
    {
     "name": "stdout",
     "output_type": "stream",
     "text": [
      "[0. 1. 1. ... 0. 0. 0.]\n",
      "(633,866)  225,925.0\n"
     ]
    }
   ],
   "source": [
    "@jit(nopython=True, parallel=True)\n",
    "def get_ray_flags(x, y, vertices):\n",
    "    flags = np.zeros(len(x))\n",
    "    for i in range(len(x)):\n",
    "        flags[i] = ray_tracing(x[i], y[i], vertices)\n",
    "    return flags\n",
    "flags = get_ray_flags(*points, vertices)\n",
    "print(flags)\n",
    "print(\"({:,})  {:,}\".format(flags.shape[0], flags.sum()))"
   ]
  },
  {
   "cell_type": "code",
   "execution_count": 318,
   "metadata": {
    "ExecuteTime": {
     "end_time": "2019-05-24T16:44:54.205033Z",
     "start_time": "2019-05-24T16:44:52.452781Z"
    },
    "hidden": true
   },
   "outputs": [
    {
     "name": "stdout",
     "output_type": "stream",
     "text": [
      "216 ms ± 4.7 ms per loop (mean ± std. dev. of 7 runs, 1 loop each)\n"
     ]
    }
   ],
   "source": [
    "%%timeit\n",
    "flags = get_ray_flags(*points, vertices)"
   ]
  },
  {
   "cell_type": "markdown",
   "metadata": {
    "heading_collapsed": true,
    "hidden": true
   },
   "source": [
    "### Numba Envelope Accelerated with Empty Bool Array (0.172s)"
   ]
  },
  {
   "cell_type": "code",
   "execution_count": 322,
   "metadata": {
    "ExecuteTime": {
     "end_time": "2019-05-24T16:46:10.651049Z",
     "start_time": "2019-05-24T16:46:10.646044Z"
    },
    "hidden": true
   },
   "outputs": [],
   "source": [
    "@jit(nopython=True, parallel=True)\n",
    "def get_ray_flags(x, y, vertices):\n",
    "    flags = np.empty(len(x), dtype=np.bool_)\n",
    "    for i in range(len(x)):\n",
    "        flags[i] = ray_tracing(x[i], y[i], vertices)\n",
    "    return flags"
   ]
  },
  {
   "cell_type": "code",
   "execution_count": 325,
   "metadata": {
    "ExecuteTime": {
     "end_time": "2019-05-24T16:46:49.060345Z",
     "start_time": "2019-05-24T16:46:36.356317Z"
    },
    "hidden": true
   },
   "outputs": [
    {
     "name": "stdout",
     "output_type": "stream",
     "text": [
      "[False  True  True ... False False False]\n",
      "(633,866)  225,925\n"
     ]
    },
    {
     "data": {
      "image/png": "[encoded data removed]",
      "text/plain": [
       "<Figure size 1080x432 with 1 Axes>"
      ]
     },
     "metadata": {
      "needs_background": "light"
     },
     "output_type": "display_data"
    }
   ],
   "source": [
    "flags = get_ray_flags(*points, vertices)\n",
    "print(flags)\n",
    "print(\"({:,})  {:,}\".format(flags.shape[0], flags.sum()))\n",
    "plot(flags)"
   ]
  },
  {
   "cell_type": "code",
   "execution_count": 326,
   "metadata": {
    "ExecuteTime": {
     "end_time": "2019-05-24T16:46:52.192571Z",
     "start_time": "2019-05-24T16:46:50.772563Z"
    },
    "hidden": true
   },
   "outputs": [
    {
     "name": "stdout",
     "output_type": "stream",
     "text": [
      "172 ms ± 2.6 ms per loop (mean ± std. dev. of 7 runs, 1 loop each)\n"
     ]
    }
   ],
   "source": [
    "%%timeit\n",
    "flags = get_ray_flags(*points, vertices)"
   ]
  },
  {
   "cell_type": "markdown",
   "metadata": {},
   "source": [
    "## Even-Odd Rule (Best: 0.038s)"
   ]
  },
  {
   "cell_type": "markdown",
   "metadata": {},
   "source": [
    "\"The Method\n",
    "\n",
    "I run a semi-infinite ray horizontally (increasing x, fixed y) out from the test point, and count how many edges it crosses. At each crossing, the ray switches between inside and outside. This is called the **Jordan curve theorem**.\n",
    "\n",
    "The case of the ray going through a vertex is handled correctly via a careful selection of inequalities. Don't mess with this code unless you're familiar with the idea of **Simulation of Simplicity**. This pretends to shift the ray infinitesimally down so that it either clearly intersects, or clearly doesn't touch. Since this is merely a conceptual, infinitesimal, shift, it never creates an intersection that didn't exist before, and never destroys an intersection that clearly existed before.\n",
    "\n",
    "The ray is tested against each edge thus:\n",
    "\n",
    "    Is the point in the half-plane to the left of the extended edge? and\n",
    "    Is the point's Y coordinate within the edge's Y-range? \n",
    "\n",
    "Handling endpoints here is tricky.\""
   ]
  },
  {
   "cell_type": "markdown",
   "metadata": {
    "heading_collapsed": true
   },
   "source": [
    "### Python Function (52s)"
   ]
  },
  {
   "cell_type": "code",
   "execution_count": 692,
   "metadata": {
    "ExecuteTime": {
     "end_time": "2019-05-25T06:04:35.265478Z",
     "start_time": "2019-05-25T06:04:35.253467Z"
    },
    "hidden": true
   },
   "outputs": [],
   "source": [
    "# Option 4:  Even-odd Rule\n",
    "def isPointInPath(x, y, poly):\n",
    "    \"\"\"\n",
    "    x, y -- x and y coordinates of point\n",
    "    poly -- a list of tuples [(x, y), (x, y), ...]\n",
    "    https://wrf.ecse.rpi.edu/Research/Short_Notes/pnpoly.html\n",
    "    \"\"\"\n",
    "    num = len(poly)\n",
    "    i = 0\n",
    "    j = num - 1\n",
    "    c = False\n",
    "    for i in range(num):\n",
    "        if ((poly[i][1] > y) != (poly[j][1] > y)) and \\\n",
    "                (x < poly[i][0] + (poly[j][0] - poly[i][0]) * (y - poly[i][1]) /\n",
    "                                (poly[j][1] - poly[i][1])):\n",
    "            c = not c\n",
    "        j = i\n",
    "    return c"
   ]
  },
  {
   "cell_type": "code",
   "execution_count": 693,
   "metadata": {
    "ExecuteTime": {
     "end_time": "2019-05-25T06:06:24.090731Z",
     "start_time": "2019-05-25T06:04:36.290208Z"
    },
    "hidden": true
   },
   "outputs": [],
   "source": [
    "flags = np.zeros(len(points.T))\n",
    "for i, point in enumerate(points.T):\n",
    "    flags[i] = isPointInPath(*point, vertices)"
   ]
  },
  {
   "cell_type": "code",
   "execution_count": 694,
   "metadata": {
    "ExecuteTime": {
     "end_time": "2019-05-25T06:16:30.973647Z",
     "start_time": "2019-05-25T06:06:24.144770Z"
    },
    "hidden": true
   },
   "outputs": [
    {
     "name": "stdout",
     "output_type": "stream",
     "text": [
      "1min 15s ± 5.89 s per loop (mean ± std. dev. of 7 runs, 1 loop each)\n"
     ]
    }
   ],
   "source": [
    "%%timeit\n",
    "flags = np.zeros(len(points.T))\n",
    "for i, point in enumerate(points.T):\n",
    "    flags[i] = isPointInPath(*point, vertices)"
   ]
  },
  {
   "cell_type": "markdown",
   "metadata": {
    "ExecuteTime": {
     "end_time": "2019-05-13T17:42:16.133499Z",
     "start_time": "2019-05-13T17:42:16.025422Z"
    },
    "heading_collapsed": true
   },
   "source": [
    "### Numba Accelerated (1.4s)"
   ]
  },
  {
   "cell_type": "code",
   "execution_count": 327,
   "metadata": {
    "ExecuteTime": {
     "end_time": "2019-05-24T16:47:15.579390Z",
     "start_time": "2019-05-24T16:47:15.151089Z"
    },
    "hidden": true
   },
   "outputs": [],
   "source": [
    "@jit(nopython=True, parallel=True)\n",
    "def isPointInPath(x, y, poly):\n",
    "    \"\"\"\n",
    "    x, y -- x and y coordinates of point\n",
    "    poly -- a list of tuples [(x, y), (x, y), ...]\n",
    "    -------------------------------------------------\n",
    "    PNPOLY - Point Inclusion in Polygon Test\n",
    "    W. Randolph Franklin (WRF) \n",
    "    source:  https://wrf.ecse.rpi.edu/Research/Short_Notes/pnpoly.html\n",
    "    \"\"\"\n",
    "    num = len(poly)  # Number of vertices\n",
    "    i = 0            # First Vertex\n",
    "    j = num - 1      # Previous Vertex\n",
    "    c = False\n",
    "    # Loop over vertices\n",
    "    for i in range(num):\n",
    "        # if (a) and (b)\n",
    "        # a) ((vertex[1][y] > pt[y]) != (vertex[0][y] > pt[y]))\n",
    "        # a) XOR(), false if either vertex is higher than point\n",
    "        # b) x < (vertex[1][x] + (y - vertex[1][y])*(vertex[0][x]-vertex[1][x])/(vertex[0][y]-vertex[1][y]))\n",
    "        #                                   slope = (vertex[1][y]-vertex[0][y])/ (vertex[1][x]-vertex[0][x])\n",
    "        #                                         =-(vertex[0][y]-vertex[1][y])/-(vertex[0][x]-vertex[1][x])\n",
    "        #                                         = (vertex[0][y]-vertex[1][y])/ (vertex[0][x]-vertex[1][x])\n",
    "        # b) x < (vertex[1][x] + (y - vertex[1][y])/slope)\n",
    "        # b) \n",
    "        if ((poly[i][1] > y) != (poly[j][1] > y)) and \\\n",
    "                (x < poly[i][0] + (poly[j][0] - poly[i][0]) * (y - poly[i][1]) /\n",
    "                                (poly[j][1] - poly[i][1])):\n",
    "            c = not c\n",
    "        j = i\n",
    "    return c\n",
    "flags = isPointInPath(*point, vertices)"
   ]
  },
  {
   "cell_type": "code",
   "execution_count": 278,
   "metadata": {
    "ExecuteTime": {
     "end_time": "2019-05-24T16:26:35.963766Z",
     "start_time": "2019-05-24T16:26:24.660396Z"
    },
    "hidden": true
   },
   "outputs": [
    {
     "name": "stdout",
     "output_type": "stream",
     "text": [
      "1.4 s ± 31.1 ms per loop (mean ± std. dev. of 7 runs, 1 loop each)\n"
     ]
    }
   ],
   "source": [
    "%%timeit\n",
    "flags = np.zeros(len(points.T))\n",
    "for i, point in enumerate(points.T):\n",
    "    flags[i] = isPointInPath(*point, vertices)"
   ]
  },
  {
   "cell_type": "code",
   "execution_count": 328,
   "metadata": {
    "ExecuteTime": {
     "end_time": "2019-05-24T16:47:20.861144Z",
     "start_time": "2019-05-24T16:47:19.364081Z"
    },
    "hidden": true
   },
   "outputs": [
    {
     "name": "stdout",
     "output_type": "stream",
     "text": [
      "[0. 1. 1. ... 0. 0. 0.]\n",
      "(633,866)  225,925.0\n"
     ]
    }
   ],
   "source": [
    "flags = np.zeros(len(points.T))\n",
    "for i, point in enumerate(points.T):\n",
    "    flags[i] = isPointInPath(*point, vertices)\n",
    "print(flags)\n",
    "print(\"({:,})  {:,}\".format(flags.shape[0], flags.sum()))"
   ]
  },
  {
   "cell_type": "markdown",
   "metadata": {
    "heading_collapsed": true
   },
   "source": [
    "### Numba Envelope Accelerated (0.100s)"
   ]
  },
  {
   "cell_type": "code",
   "execution_count": 300,
   "metadata": {
    "ExecuteTime": {
     "end_time": "2019-05-24T16:32:46.241085Z",
     "start_time": "2019-05-24T16:32:45.764752Z"
    },
    "hidden": true
   },
   "outputs": [
    {
     "name": "stdout",
     "output_type": "stream",
     "text": [
      "[0. 1. 1. ... 0. 0. 0.]\n",
      "(633,866)  225,925.0\n"
     ]
    }
   ],
   "source": [
    "@jit(nopython=True, parallel=True)\n",
    "def get_even_odd_flags(x, y, vertices):\n",
    "    flags = np.zeros(len(x))\n",
    "    for i in range(len(x)):\n",
    "        flags[i] = isPointInPath(x[i], y[i], vertices)\n",
    "    return flags\n",
    "flags = get_even_odd_flags(*points, vertices)\n",
    "print(flags)\n",
    "print(\"({:,})  {:,}\".format(flags.shape[0], flags.sum()))"
   ]
  },
  {
   "cell_type": "code",
   "execution_count": 302,
   "metadata": {
    "ExecuteTime": {
     "end_time": "2019-05-24T16:33:42.858390Z",
     "start_time": "2019-05-24T16:33:02.885954Z"
    },
    "hidden": true
   },
   "outputs": [
    {
     "name": "stdout",
     "output_type": "stream",
     "text": [
      "99.9 ms ± 483 µs per loop (mean ± std. dev. of 20 runs, 20 loops each)\n"
     ]
    }
   ],
   "source": [
    "%%timeit -n20 -r20\n",
    "flags = get_even_odd_flags(*points, vertices)"
   ]
  },
  {
   "cell_type": "markdown",
   "metadata": {
    "heading_collapsed": true
   },
   "source": [
    "### Numba Envelope Accelerated with Empty Bool Array (0.062s)"
   ]
  },
  {
   "cell_type": "code",
   "execution_count": 293,
   "metadata": {
    "ExecuteTime": {
     "end_time": "2019-05-24T16:30:51.595152Z",
     "start_time": "2019-05-24T16:30:51.222889Z"
    },
    "hidden": true
   },
   "outputs": [],
   "source": [
    "@jit(nopython=True, parallel=True, nogil=True, fastmath=True)\n",
    "def isPointInPath(x, y, poly):\n",
    "    \"\"\"\n",
    "    x, y -- x and y coordinates of point\n",
    "    poly -- a list of tuples [(x, y), (x, y), ...]\n",
    "    -------------------------------------------------\n",
    "    PNPOLY - Point Inclusion in Polygon Test\n",
    "    W. Randolph Franklin (WRF) \n",
    "    source:  https://wrf.ecse.rpi.edu/Research/Short_Notes/pnpoly.html\n",
    "    \"\"\"\n",
    "    num = len(poly)  # Number of vertices\n",
    "    i = 0            # First Vertex\n",
    "    j = num - 1      # Previous Vertex\n",
    "    c = False\n",
    "    # Loop over vertices\n",
    "    for i in range(num):\n",
    "        # if (a) and (b)\n",
    "        # a) ((vertex[1][y] > pt[y]) != (vertex[0][y] > pt[y]))\n",
    "        # a) XOR(), false if either vertex is higher than point\n",
    "        # b) x < (vertex[1][x] + (y - vertex[1][y])*(vertex[0][x]-vertex[1][x])/(vertex[0][y]-vertex[1][y]))\n",
    "        #                                   slope = (vertex[1][y]-vertex[0][y])/ (vertex[1][x]-vertex[0][x])\n",
    "        #                                         =-(vertex[0][y]-vertex[1][y])/-(vertex[0][x]-vertex[1][x])\n",
    "        #                                         = (vertex[0][y]-vertex[1][y])/ (vertex[0][x]-vertex[1][x])\n",
    "        # b) x < (vertex[1][x] + (y - vertex[1][y])/slope)\n",
    "        # b) \n",
    "        if ((poly[i][1] > y) != (poly[j][1] > y)) and \\\n",
    "                (x < poly[i][0] + (poly[j][0] - poly[i][0]) * (y - poly[i][1]) /\n",
    "                                (poly[j][1] - poly[i][1])):\n",
    "            c = not c\n",
    "        j = i\n",
    "    return c\n",
    "flags = isPointInPath(*point, vertices)"
   ]
  },
  {
   "cell_type": "code",
   "execution_count": 294,
   "metadata": {
    "ExecuteTime": {
     "end_time": "2019-05-24T16:30:52.456783Z",
     "start_time": "2019-05-24T16:30:52.034468Z"
    },
    "hidden": true
   },
   "outputs": [
    {
     "name": "stdout",
     "output_type": "stream",
     "text": [
      "[False  True  True ... False False False]\n",
      "(633,866)  225,925\n"
     ]
    }
   ],
   "source": [
    "@jit(nopython=True, parallel=True, nogil=True, fastmath=True)\n",
    "def get_even_odd_flags(x, y, vertices):\n",
    "    flags = np.empty(len(x), dtype=np.bool_)\n",
    "    for i in range(len(x)):\n",
    "        flags[i] = isPointInPath(x[i], y[i], vertices)\n",
    "    return flags\n",
    "flags = get_even_odd_flags(*points, vertices)\n",
    "print(flags)\n",
    "print(\"({:,})  {:,}\".format(flags.shape[0], flags.sum()))"
   ]
  },
  {
   "cell_type": "code",
   "execution_count": 298,
   "metadata": {
    "ExecuteTime": {
     "end_time": "2019-05-24T16:32:12.571138Z",
     "start_time": "2019-05-24T16:31:47.939555Z"
    },
    "hidden": true
   },
   "outputs": [
    {
     "name": "stdout",
     "output_type": "stream",
     "text": [
      "61.6 ms ± 954 µs per loop (mean ± std. dev. of 20 runs, 20 loops each)\n"
     ]
    }
   ],
   "source": [
    "%%timeit -n20 -r20\n",
    "flags = get_even_odd_flags(*points, vertices)"
   ]
  },
  {
   "cell_type": "code",
   "execution_count": 314,
   "metadata": {
    "ExecuteTime": {
     "end_time": "2019-05-14T12:05:58.965755Z",
     "start_time": "2019-05-14T12:05:44.005131Z"
    },
    "hidden": true
   },
   "outputs": [
    {
     "data": {
      "image/png": "[encoded data removed]",
      "text/plain": [
       "<Figure size 1080x432 with 1 Axes>"
      ]
     },
     "metadata": {
      "needs_background": "light"
     },
     "output_type": "display_data"
    }
   ],
   "source": [
    "flags = get_even_odd_flags(*points, vertices)\n",
    "plot(flags)"
   ]
  },
  {
   "cell_type": "markdown",
   "metadata": {
    "heading_collapsed": true
   },
   "source": [
    "### Explicit first Loop integer (0.051s)"
   ]
  },
  {
   "cell_type": "code",
   "execution_count": 333,
   "metadata": {
    "ExecuteTime": {
     "end_time": "2019-05-24T16:49:08.892455Z",
     "start_time": "2019-05-24T16:49:08.453144Z"
    },
    "hidden": true
   },
   "outputs": [],
   "source": [
    "@jit(nopython=True, parallel=True)\n",
    "def isPointInPath(x, y, poly):\n",
    "    \"\"\"\n",
    "    x, y -- x and y coordinates of point\n",
    "    poly -- a list of tuples [(x, y), (x, y), ...]\n",
    "    -------------------------------------------------\n",
    "    PNPOLY - Point Inclusion in Polygon Test\n",
    "    W. Randolph Franklin (WRF) \n",
    "    source:  https://wrf.ecse.rpi.edu/Research/Short_Notes/pnpoly.html\n",
    "    \"\"\"\n",
    "    num = poly.shape[0]  # Number of vertices\n",
    "    i = 0            # First Vertex\n",
    "    j = num - 1      # Previous Vertex\n",
    "    # Explicit first lop\n",
    "    c = ((poly[i][1] > y) != (poly[j][1] > y)) and \\\n",
    "                (x < poly[i][0] + (poly[j][0] - poly[i][0]) * (y - poly[i][1]) /\n",
    "                                (poly[j][1] - poly[i][1]))\n",
    "    # Loop over vertices\n",
    "    for i in range(1, num):\n",
    "        j = i-1\n",
    "        # if (a) and (b)\n",
    "        # a) ((vertex[1][y] > pt[y]) != (vertex[0][y] > pt[y]))\n",
    "        # a) XOR(), false if either vertex is higher than point\n",
    "        # b) x < (vertex[1][x] + (y - vertex[1][y])*(vertex[0][x]-vertex[1][x])/(vertex[0][y]-vertex[1][y]))\n",
    "        #                                   slope = (vertex[1][y]-vertex[0][y])/ (vertex[1][x]-vertex[0][x])\n",
    "        #                                         =-(vertex[0][y]-vertex[1][y])/-(vertex[0][x]-vertex[1][x])\n",
    "        #                                         = (vertex[0][y]-vertex[1][y])/ (vertex[0][x]-vertex[1][x])\n",
    "        # b) x < (vertex[1][x] + (y - vertex[1][y])/slope)\n",
    "        # b) \n",
    "        if ((poly[i][1] > y) != (poly[j][1] > y)) and \\\n",
    "                (x < poly[i][0] + (poly[j][0] - poly[i][0]) * (y - poly[i][1]) /\n",
    "                                (poly[j][1] - poly[i][1])):\n",
    "            c += 1\n",
    "    return c%2\n",
    "flags = isPointInPath(*point, vertices)"
   ]
  },
  {
   "cell_type": "code",
   "execution_count": 334,
   "metadata": {
    "ExecuteTime": {
     "end_time": "2019-05-24T16:49:10.568663Z",
     "start_time": "2019-05-24T16:49:10.284444Z"
    },
    "hidden": true
   },
   "outputs": [
    {
     "name": "stdout",
     "output_type": "stream",
     "text": [
      "[False  True  True ... False False False]\n",
      "(633,866)  225,925\n"
     ]
    }
   ],
   "source": [
    "@jit(nopython=True, parallel=True, nogil=True, fastmath=True)\n",
    "def get_even_odd_flags(x, y, vertices):\n",
    "    flags = np.empty(x.shape[0], dtype=np.bool_)\n",
    "    for i in range(x.shape[0]):\n",
    "        flags[i] = isPointInPath(x[i], y[i], vertices)\n",
    "    return flags\n",
    "flags = get_even_odd_flags(*points, vertices)\n",
    "print(flags)\n",
    "print(\"({:,})  {:,}\".format(flags.shape[0], flags.sum()))"
   ]
  },
  {
   "cell_type": "code",
   "execution_count": 335,
   "metadata": {
    "ExecuteTime": {
     "end_time": "2019-05-24T16:49:41.295483Z",
     "start_time": "2019-05-24T16:49:20.772897Z"
    },
    "hidden": true,
    "scrolled": true
   },
   "outputs": [
    {
     "name": "stdout",
     "output_type": "stream",
     "text": [
      "51.3 ms ± 705 µs per loop (mean ± std. dev. of 20 runs, 20 loops each)\n"
     ]
    }
   ],
   "source": [
    "%%timeit -n20 -r20\n",
    "flags = get_even_odd_flags(*points, vertices)"
   ]
  },
  {
   "cell_type": "code",
   "execution_count": 336,
   "metadata": {
    "ExecuteTime": {
     "end_time": "2019-05-24T16:51:19.261446Z",
     "start_time": "2019-05-24T16:49:56.396099Z"
    },
    "hidden": true
   },
   "outputs": [
    {
     "name": "stdout",
     "output_type": "stream",
     "text": [
      "51.8 ms ± 1.43 ms per loop (mean ± std. dev. of 40 runs, 40 loops each)\n"
     ]
    }
   ],
   "source": [
    "%%timeit -n40 -r40\n",
    "flags = get_even_odd_flags(*points, vertices)"
   ]
  },
  {
   "cell_type": "markdown",
   "metadata": {
    "heading_collapsed": true
   },
   "source": [
    "### Explicit first Loop bool (0.047s)"
   ]
  },
  {
   "cell_type": "code",
   "execution_count": 289,
   "metadata": {
    "ExecuteTime": {
     "end_time": "2019-05-24T16:29:48.394124Z",
     "start_time": "2019-05-24T16:29:47.973599Z"
    },
    "hidden": true
   },
   "outputs": [],
   "source": [
    "@jit(nopython=True, parallel=True, nogil=True, fastmath=True)\n",
    "def isPointInPath(x, y, poly):\n",
    "    \"\"\"\n",
    "    x, y -- x and y coordinates of point\n",
    "    poly -- a list of tuples [(x, y), (x, y), ...]\n",
    "    -------------------------------------------------\n",
    "    PNPOLY - Point Inclusion in Polygon Test\n",
    "    W. Randolph Franklin (WRF) \n",
    "    source:  https://wrf.ecse.rpi.edu/Research/Short_Notes/pnpoly.html\n",
    "    adapted by RCCG (github.com/the-rccg)\n",
    "    \"\"\"\n",
    "    num = poly.shape[0]  # Number of vertices\n",
    "    i = 0            # First Vertex\n",
    "    j = num - 1      # Previous Vertex\n",
    "    # Explicit first lop\n",
    "    c = ((poly[i][1] > y) != (poly[j][1] > y)) and \\\n",
    "                (x < poly[i][0] + (poly[j][0] - poly[i][0]) * (y - poly[i][1]) /\n",
    "                                (poly[j][1] - poly[i][1]))\n",
    "    # Loop over vertices\n",
    "    for i in range(1, num):\n",
    "        j = i-1\n",
    "        # if (a) and (b)\n",
    "        # a) ((vertex[1][y] > pt[y]) != (vertex[0][y] > pt[y]))\n",
    "        # a) XOR(), false if either vertex is higher than point\n",
    "        # b) x < (vertex[1][x] + (y - vertex[1][y])*(vertex[0][x]-vertex[1][x])/(vertex[0][y]-vertex[1][y]))\n",
    "        #                                   slope = (vertex[1][y]-vertex[0][y])/ (vertex[1][x]-vertex[0][x])\n",
    "        #                                         =-(vertex[0][y]-vertex[1][y])/-(vertex[0][x]-vertex[1][x])\n",
    "        #                                         = (vertex[0][y]-vertex[1][y])/ (vertex[0][x]-vertex[1][x])\n",
    "        # b) x < (vertex[1][x] + (y - vertex[1][y])/slope)\n",
    "        # b) \n",
    "        if ((poly[i][1] > y) != (poly[j][1] > y)) and \\\n",
    "                (x < poly[i][0] + (poly[j][0] - poly[i][0]) * (y - poly[i][1]) /\n",
    "                                (poly[j][1] - poly[i][1])):\n",
    "            c = not c\n",
    "    return c\n",
    "flags = isPointInPath(*point, vertices)"
   ]
  },
  {
   "cell_type": "code",
   "execution_count": 290,
   "metadata": {
    "ExecuteTime": {
     "end_time": "2019-05-24T16:29:54.780173Z",
     "start_time": "2019-05-24T16:29:54.516985Z"
    },
    "hidden": true
   },
   "outputs": [
    {
     "name": "stdout",
     "output_type": "stream",
     "text": [
      "[False  True  True ... False False False]\n",
      "(633,866)  225,925\n"
     ]
    }
   ],
   "source": [
    "@jit(nopython=True, parallel=True, nogil=True, fastmath=True)\n",
    "def get_even_odd_flags(x, y, vertices):\n",
    "    flags = np.empty(x.shape[0], dtype=np.bool_)\n",
    "    for i in range(x.shape[0]):\n",
    "        flags[i] = isPointInPath(x[i], y[i], vertices)\n",
    "    return flags\n",
    "flags = get_even_odd_flags(*points, vertices)\n",
    "print(flags)\n",
    "print(\"({:,})  {:,}\".format(flags.shape[0], flags.sum()))"
   ]
  },
  {
   "cell_type": "code",
   "execution_count": 291,
   "metadata": {
    "ExecuteTime": {
     "end_time": "2019-05-24T16:30:25.463284Z",
     "start_time": "2019-05-24T16:30:06.652613Z"
    },
    "hidden": true
   },
   "outputs": [
    {
     "name": "stdout",
     "output_type": "stream",
     "text": [
      "47 ms ± 1.28 ms per loop (mean ± std. dev. of 20 runs, 20 loops each)\n"
     ]
    }
   ],
   "source": [
    "%%timeit -n20 -r20\n",
    "flags = get_even_odd_flags(*points, vertices)"
   ]
  },
  {
   "cell_type": "code",
   "execution_count": 83,
   "metadata": {
    "ExecuteTime": {
     "end_time": "2019-05-24T09:55:44.499983Z",
     "start_time": "2019-05-24T09:55:31.832353Z"
    },
    "hidden": true
   },
   "outputs": [
    {
     "data": {
      "image/png": "[encoded data removed]",
      "text/plain": [
       "<Figure size 1080x432 with 1 Axes>"
      ]
     },
     "metadata": {
      "needs_background": "light"
     },
     "output_type": "display_data"
    }
   ],
   "source": [
    "flags = get_even_odd_flags(*points, vertices)\n",
    "plot(flags)"
   ]
  },
  {
   "cell_type": "markdown",
   "metadata": {
    "heading_collapsed": true
   },
   "source": [
    "### Explicit First Loop Bool Vectorized (0.038s)"
   ]
  },
  {
   "cell_type": "code",
   "execution_count": 374,
   "metadata": {
    "ExecuteTime": {
     "end_time": "2019-05-24T17:19:16.503409Z",
     "start_time": "2019-05-24T17:19:15.077574Z"
    },
    "hidden": true
   },
   "outputs": [
    {
     "name": "stdout",
     "output_type": "stream",
     "text": [
      "[False  True  True ... False False False]\n",
      "(633,866)  225,925\n"
     ]
    }
   ],
   "source": [
    "@jit(nopython=True, parallel=True)\n",
    "def vec_point_in_polygon(x, y, poly):\n",
    "    num = poly.shape[0]  # Number of vertices\n",
    "    i = 0                # First Vertex\n",
    "    j = num - 1          # Previous Vertex\n",
    "    # Explicit first lop\n",
    "    c = np.logical_and(\n",
    "        np.logical_xor((poly[i][1] > y), (poly[j][1] > y)),\n",
    "        (x < poly[i][0] + (poly[j][0]-poly[i][0]) * (y-poly[i][1]) / (poly[j][1]-poly[i][1]))\n",
    "    )\n",
    "    for i in range(1, num):\n",
    "        j = i-1\n",
    "        c = np.logical_xor(\n",
    "            c,\n",
    "            np.logical_and(\n",
    "                np.logical_xor((poly[i][1] > y), (poly[j][1] > y)),\n",
    "                (x < poly[i][0] + (poly[j][0]-poly[i][0]) * (y-poly[i][1]) / (poly[j][1]-poly[i][1]))\n",
    "            )\n",
    "        )\n",
    "    return c\n",
    "c = vec_point_in_polygon(*points, poly)\n",
    "print(c)\n",
    "print(\"({:,})  {:,}\".format(c.shape[0], c.sum()))"
   ]
  },
  {
   "cell_type": "code",
   "execution_count": 349,
   "metadata": {
    "ExecuteTime": {
     "end_time": "2019-05-24T16:56:30.621952Z",
     "start_time": "2019-05-24T16:56:15.219487Z"
    },
    "hidden": true
   },
   "outputs": [
    {
     "name": "stdout",
     "output_type": "stream",
     "text": [
      "38.5 ms ± 1.27 ms per loop (mean ± std. dev. of 20 runs, 20 loops each)\n"
     ]
    }
   ],
   "source": [
    "%%timeit -n20 -r20\n",
    "flags = vec_point_in_polygon(*points, poly)"
   ]
  },
  {
   "cell_type": "code",
   "execution_count": 350,
   "metadata": {
    "ExecuteTime": {
     "end_time": "2019-05-24T16:57:36.068487Z",
     "start_time": "2019-05-24T16:56:34.838949Z"
    },
    "hidden": true
   },
   "outputs": [
    {
     "name": "stdout",
     "output_type": "stream",
     "text": [
      "38.3 ms ± 556 µs per loop (mean ± std. dev. of 40 runs, 40 loops each)\n"
     ]
    }
   ],
   "source": [
    "%%timeit -n40 -r40\n",
    "flags = vec_point_in_polygon(*points, poly)"
   ]
  },
  {
   "cell_type": "markdown",
   "metadata": {
    "heading_collapsed": true
   },
   "source": [
    "###  WRONG Explicit first Loop integer vectorized (0.046s)"
   ]
  },
  {
   "cell_type": "code",
   "execution_count": 352,
   "metadata": {
    "ExecuteTime": {
     "end_time": "2019-05-24T16:58:02.893058Z",
     "start_time": "2019-05-24T16:58:01.214867Z"
    },
    "hidden": true
   },
   "outputs": [
    {
     "name": "stdout",
     "output_type": "stream",
     "text": [
      "[0 1 1 ... 0 0 0]\n",
      "(633,866)  225,960\n"
     ]
    }
   ],
   "source": [
    "@jit(nopython=True, parallel=True)\n",
    "def vec_point_in_polygon(x, y, poly):\n",
    "    num = poly.shape[0]  # Number of vertices\n",
    "    i = 0                # First Vertex\n",
    "    j = num - 1          # Previous Vertex\n",
    "    # Explicit first lop\n",
    "    c = np.logical_and(\n",
    "        np.logical_xor((poly[i][1] > y), (poly[j][1] > y)),\n",
    "        (x < poly[i][0] + (poly[j][0]-poly[i][0]) * (y-poly[i][1]) / (poly[j][1]-poly[i][1]))\n",
    "    )\n",
    "    for i in range(1, num):\n",
    "        j = i-1\n",
    "        c += np.logical_and(\n",
    "                np.logical_xor((poly[i][1] > y), (poly[j][1] > y)),\n",
    "                (x < poly[i][0] + (poly[j][0]-poly[i][0]) * (y-poly[i][1]) / (poly[j][1]-poly[i][1]))\n",
    "            )\n",
    "        \n",
    "    return c%2\n",
    "c = vec_point_in_polygon(*points, vertices)\n",
    "print(c)\n",
    "print(\"({:,})  {:,}\".format(c.shape[0], c.sum()))"
   ]
  },
  {
   "cell_type": "code",
   "execution_count": 344,
   "metadata": {
    "ExecuteTime": {
     "end_time": "2019-05-24T16:55:09.808492Z",
     "start_time": "2019-05-24T16:54:50.547806Z"
    },
    "hidden": true
   },
   "outputs": [
    {
     "name": "stdout",
     "output_type": "stream",
     "text": [
      "48.1 ms ± 1.36 ms per loop (mean ± std. dev. of 20 runs, 20 loops each)\n"
     ]
    }
   ],
   "source": [
    "%%timeit -n20 -r20\n",
    "flags = vec_point_in_polygon(*points, poly)"
   ]
  },
  {
   "cell_type": "code",
   "execution_count": 341,
   "metadata": {
    "ExecuteTime": {
     "end_time": "2019-05-24T16:53:42.545693Z",
     "start_time": "2019-05-24T16:53:23.660261Z"
    },
    "hidden": true
   },
   "outputs": [
    {
     "name": "stdout",
     "output_type": "stream",
     "text": [
      "47.2 ms ± 1.36 ms per loop (mean ± std. dev. of 20 runs, 20 loops each)\n"
     ]
    }
   ],
   "source": [
    "%%timeit -n20 -r20\n",
    "flags = vec_point_in_polygon(x, y, poly)"
   ]
  },
  {
   "cell_type": "code",
   "execution_count": null,
   "metadata": {
    "hidden": true
   },
   "outputs": [],
   "source": []
  },
  {
   "cell_type": "code",
   "execution_count": 254,
   "metadata": {
    "ExecuteTime": {
     "end_time": "2019-05-24T16:15:52.041607Z",
     "start_time": "2019-05-24T16:15:33.363317Z"
    },
    "hidden": true
   },
   "outputs": [
    {
     "name": "stdout",
     "output_type": "stream",
     "text": [
      "46.6 ms ± 2.15 ms per loop (mean ± std. dev. of 20 runs, 20 loops each)\n"
     ]
    }
   ],
   "source": [
    "%%timeit -n20 -r20\n",
    "flags = vec_point_in_polygon(x, y, poly)"
   ]
  },
  {
   "cell_type": "code",
   "execution_count": 259,
   "metadata": {
    "ExecuteTime": {
     "end_time": "2019-05-24T16:19:19.084393Z",
     "start_time": "2019-05-24T16:18:37.379741Z"
    },
    "hidden": true
   },
   "outputs": [
    {
     "name": "stdout",
     "output_type": "stream",
     "text": [
      "46.3 ms ± 716 µs per loop (mean ± std. dev. of 30 runs, 30 loops each)\n"
     ]
    }
   ],
   "source": [
    "%%timeit -n30 -r30\n",
    "flags = vec_point_in_polygon(x, y, poly)"
   ]
  },
  {
   "cell_type": "code",
   "execution_count": 203,
   "metadata": {
    "ExecuteTime": {
     "end_time": "2019-05-24T13:21:17.173790Z",
     "start_time": "2019-05-24T13:21:02.321714Z"
    },
    "hidden": true
   },
   "outputs": [
    {
     "data": {
      "image/png": "[encoded data removed]",
      "text/plain": [
       "<Figure size 1080x432 with 1 Axes>"
      ]
     },
     "metadata": {
      "needs_background": "light"
     },
     "output_type": "display_data"
    }
   ],
   "source": [
    "plot(flags)"
   ]
  },
  {
   "cell_type": "markdown",
   "metadata": {
    "heading_collapsed": true
   },
   "source": [
    "### Theoretical Limitations"
   ]
  },
  {
   "cell_type": "code",
   "execution_count": null,
   "metadata": {
    "hidden": true
   },
   "outputs": [],
   "source": [
    "if_operations_per_point = ((1)+1+(1))+1+(1+1+(1)+1+(1)+1+(1))"
   ]
  },
  {
   "cell_type": "code",
   "execution_count": null,
   "metadata": {
    "hidden": true
   },
   "outputs": [],
   "source": [
    "    # Loop over vertices\n",
    "    for i in range(1, num):\n",
    "        j = i-1\n",
    "        # if (a) and (b)\n",
    "        # a) ((vertex[1][y] > pt[y]) != (vertex[0][y] > pt[y]))\n",
    "        # a) XOR(), false if either vertex is higher than point\n",
    "        # b) x < (vertex[1][x] + (y - vertex[1][y])*(vertex[0][x]-vertex[1][x])/(vertex[0][y]-vertex[1][y]))\n",
    "        #                                   slope = (vertex[1][y]-vertex[0][y])/ (vertex[1][x]-vertex[0][x])\n",
    "        #                                         =-(vertex[0][y]-vertex[1][y])/-(vertex[0][x]-vertex[1][x])\n",
    "        #                                         = (vertex[0][y]-vertex[1][y])/ (vertex[0][x]-vertex[1][x])\n",
    "        # b) x < (vertex[1][x] + (y - vertex[1][y])/slope)\n",
    "        # b) \n",
    "        if ((poly[i][1] > y) != (poly[j][1] > y)) and \\\n",
    "                (x < poly[i][0] + (poly[j][0] - poly[i][0]) * (y - poly[i][1]) /\n",
    "                                (poly[j][1] - poly[i][1])):\n",
    "            c += 1\n"
   ]
  },
  {
   "cell_type": "markdown",
   "metadata": {
    "ExecuteTime": {
     "end_time": "2019-05-14T08:54:10.143324Z",
     "start_time": "2019-05-14T08:54:10.140326Z"
    },
    "heading_collapsed": true
   },
   "source": [
    "## Even-Odd Rule for Arrays "
   ]
  },
  {
   "cell_type": "markdown",
   "metadata": {
    "ExecuteTime": {
     "end_time": "2019-05-15T05:55:59.091502Z",
     "start_time": "2019-05-15T05:55:59.087502Z"
    },
    "heading_collapsed": true,
    "hidden": true
   },
   "source": [
    "### Simple NumPy Array Computation (0.598s)"
   ]
  },
  {
   "cell_type": "code",
   "execution_count": 357,
   "metadata": {
    "ExecuteTime": {
     "end_time": "2019-05-24T17:01:18.905620Z",
     "start_time": "2019-05-24T17:01:18.280666Z"
    },
    "hidden": true
   },
   "outputs": [
    {
     "name": "stdout",
     "output_type": "stream",
     "text": [
      "[False  True  True ... False False False]\n",
      "(633,866)  225,925\n"
     ]
    }
   ],
   "source": [
    "#@jit(nopython=True, parallel=True)\n",
    "def is_point_in_path(n, x, y, poly):\n",
    "    \"\"\"\n",
    "    x, y -- x and y coordinates of point\n",
    "    poly -- a list of tuples [(x, y), (x, y), ...]\n",
    "    -------------------------------------------------\n",
    "    PNPOLY - Point Inclusion in Polygon Test\n",
    "    W. Randolph Franklin (WRF) \n",
    "    source:  https://wrf.ecse.rpi.edu/Research/Short_Notes/pnpoly.html\n",
    "    \"\"\"\n",
    "    num = len(poly)  # Number of vertices\n",
    "    i = 0            # First Vertex\n",
    "    j = num - 1      # Previous Vertex\n",
    "    c = np.zeros(n, dtype=np.bool_)\n",
    "    # Loop over vertices\n",
    "    for i in range(num):\n",
    "        # if (a) and (b)\n",
    "        # a) ((vertex[1][y] > pt[y]) != (vertex[0][y] > pt[y]))\n",
    "        # a) XOR(), false if either vertex is higher than point\n",
    "        # b) x < (vertex[1][x] + (y - vertex[1][y])*(vertex[0][x]-vertex[1][x])/(vertex[0][y]-vertex[1][y]))\n",
    "        #                                   slope = (vertex[1][y]-vertex[0][y])/ (vertex[1][x]-vertex[0][x])\n",
    "        #                                         =-(vertex[0][y]-vertex[1][y])/-(vertex[0][x]-vertex[1][x])\n",
    "        #                                         = (vertex[0][y]-vertex[1][y])/ (vertex[0][x]-vertex[1][x])\n",
    "        # b) x < (vertex[1][x] + (y - vertex[1][y])/slope)\n",
    "        # b) \n",
    "        mask = np.logical_and(\n",
    "                np.not_equal(poly[i][1]>y, poly[j][1] > y),\n",
    "                (x < poly[i][0] + (poly[j][0] - poly[i][0]) * (y - poly[i][1]) /\n",
    "                                (poly[j][1] - poly[i][1]))\n",
    "        )\n",
    "        np.invert(c, out=c, where=mask)\n",
    "\n",
    "        j = i\n",
    "    return c\n",
    "flags = is_point_in_path(len(points[0]), *points, vertices)\n",
    "print(flags)\n",
    "print(\"({:,})  {:,}\".format(flags.shape[0], flags.sum()))"
   ]
  },
  {
   "cell_type": "code",
   "execution_count": 358,
   "metadata": {
    "ExecuteTime": {
     "end_time": "2019-05-24T17:01:33.843237Z",
     "start_time": "2019-05-24T17:01:20.606830Z"
    },
    "hidden": true
   },
   "outputs": [
    {
     "data": {
      "image/png": "[encoded data removed]",
      "text/plain": [
       "<Figure size 1080x432 with 1 Axes>"
      ]
     },
     "metadata": {
      "needs_background": "light"
     },
     "output_type": "display_data"
    }
   ],
   "source": [
    "flags = is_point_in_path(len(points[0]), *points, vertices)\n",
    "plot(flags)"
   ]
  },
  {
   "cell_type": "code",
   "execution_count": 333,
   "metadata": {
    "ExecuteTime": {
     "end_time": "2019-05-15T05:55:38.610369Z",
     "start_time": "2019-05-15T05:55:33.473711Z"
    },
    "hidden": true
   },
   "outputs": [
    {
     "name": "stdout",
     "output_type": "stream",
     "text": [
      "640 ms ± 26.8 ms per loop (mean ± std. dev. of 7 runs, 1 loop each)\n"
     ]
    }
   ],
   "source": [
    "%%timeit\n",
    "flags = is_point_in_path(len(points[0]), *points, vertices)"
   ]
  },
  {
   "cell_type": "code",
   "execution_count": 359,
   "metadata": {
    "ExecuteTime": {
     "end_time": "2019-05-24T17:05:37.362283Z",
     "start_time": "2019-05-24T17:01:38.244365Z"
    },
    "hidden": true
   },
   "outputs": [
    {
     "name": "stdout",
     "output_type": "stream",
     "text": [
      "598 ms ± 76.9 ms per loop (mean ± std. dev. of 20 runs, 20 loops each)\n"
     ]
    }
   ],
   "source": [
    "%%timeit -r20 -n20\n",
    "flags = is_point_in_path(len(points[0]), *points, vertices)"
   ]
  },
  {
   "cell_type": "markdown",
   "metadata": {
    "heading_collapsed": true,
    "hidden": true
   },
   "source": [
    "### Numba NumPy Array (0.082s)"
   ]
  },
  {
   "cell_type": "code",
   "execution_count": 361,
   "metadata": {
    "ExecuteTime": {
     "end_time": "2019-05-24T17:06:13.593590Z",
     "start_time": "2019-05-24T17:06:12.156569Z"
    },
    "hidden": true
   },
   "outputs": [
    {
     "name": "stdout",
     "output_type": "stream",
     "text": [
      "[False  True  True ... False False False]\n",
      "(633,866)  225,925\n"
     ]
    }
   ],
   "source": [
    "@jit(nopython=True, parallel=True)\n",
    "def is_point_in_path(x, y, poly):\n",
    "    \"\"\"\n",
    "    x, y -- x and y coordinates of point\n",
    "    poly -- a list of tuples [(x, y), (x, y), ...]\n",
    "    -------------------------------------------------\n",
    "    PNPOLY - Point Inclusion in Polygon Test\n",
    "    W. Randolph Franklin (WRF) \n",
    "    source:  https://wrf.ecse.rpi.edu/Research/Short_Notes/pnpoly.html\n",
    "    \"\"\"\n",
    "    num = len(poly)  # Number of vertices\n",
    "    i = 0            # First Vertex\n",
    "    j = num - 1      # Previous Vertex\n",
    "    c = np.zeros(len(x), dtype=np.bool_)\n",
    "    # Loop over vertices\n",
    "    for i in range(num):\n",
    "        # if (a) and (b)\n",
    "        # a) ((vertex[1][y] > pt[y]) != (vertex[0][y] > pt[y]))\n",
    "        # a) XOR(), false if either vertex is higher than point\n",
    "        # b) x < (vertex[1][x] + (y - vertex[1][y])*(vertex[0][x]-vertex[1][x])/(vertex[0][y]-vertex[1][y]))\n",
    "        #                                   slope = (vertex[1][y]-vertex[0][y])/ (vertex[1][x]-vertex[0][x])\n",
    "        #                                         =-(vertex[0][y]-vertex[1][y])/-(vertex[0][x]-vertex[1][x])\n",
    "        #                                         = (vertex[0][y]-vertex[1][y])/ (vertex[0][x]-vertex[1][x])\n",
    "        # b) x < (vertex[1][x] + (y - vertex[1][y])/slope)\n",
    "        # b) \n",
    "        mask = np.logical_and(\n",
    "                np.not_equal(poly[i][1]>y, poly[j][1] > y),\n",
    "                (x < poly[i][0] + (poly[j][0] - poly[i][0]) * (y - poly[i][1]) /\n",
    "                                (poly[j][1] - poly[i][1]))\n",
    "        )\n",
    "        c[mask] = ~c[mask] #np.invert(c, out=c, where=mask)\n",
    "\n",
    "        j = i\n",
    "    return c\n",
    "flags = is_point_in_path(*points, vertices)\n",
    "print(flags)\n",
    "print(\"({:,})  {:,}\".format(flags.shape[0], flags.sum()))"
   ]
  },
  {
   "cell_type": "code",
   "execution_count": 362,
   "metadata": {
    "ExecuteTime": {
     "end_time": "2019-05-24T17:06:33.992597Z",
     "start_time": "2019-05-24T17:06:27.292329Z"
    },
    "hidden": true
   },
   "outputs": [
    {
     "name": "stdout",
     "output_type": "stream",
     "text": [
      "82.4 ms ± 2.39 ms per loop (mean ± std. dev. of 7 runs, 10 loops each)\n"
     ]
    }
   ],
   "source": [
    "%%timeit\n",
    "flags = is_point_in_path(*points, vertices)"
   ]
  },
  {
   "cell_type": "markdown",
   "metadata": {
    "heading_collapsed": true,
    "hidden": true
   },
   "source": [
    "###  NumpyArray Numba (NoPython, Parallel, Fastmath: 0.077s)"
   ]
  },
  {
   "cell_type": "code",
   "execution_count": 363,
   "metadata": {
    "ExecuteTime": {
     "end_time": "2019-05-24T17:08:06.129077Z",
     "start_time": "2019-05-24T17:08:04.533944Z"
    },
    "hidden": true
   },
   "outputs": [
    {
     "name": "stdout",
     "output_type": "stream",
     "text": [
      "[False  True  True ... False False False]\n",
      "(633,866)  225,925\n"
     ]
    }
   ],
   "source": [
    "@jit(nopython=True, parallel=True, fastmath=True)\n",
    "def is_point_in_path(x, y, poly):\n",
    "    \"\"\"\n",
    "    x, y -- x and y coordinates of point\n",
    "    poly -- a list of tuples [(x, y), (x, y), ...]\n",
    "    -------------------------------------------------\n",
    "    PNPOLY - Point Inclusion in Polygon Test\n",
    "    W. Randolph Franklin (WRF) \n",
    "    source:  https://wrf.ecse.rpi.edu/Research/Short_Notes/pnpoly.html\n",
    "    \"\"\"\n",
    "    num = len(poly)  # Number of vertices\n",
    "    i = 0            # First Vertex\n",
    "    j = num - 1      # Previous Vertex\n",
    "    c = np.zeros(len(x), dtype=np.bool_)\n",
    "    # Loop over vertices\n",
    "    for i in range(num):\n",
    "        # if (a) and (b)\n",
    "        # a) ((vertex[1][y] > pt[y]) != (vertex[0][y] > pt[y]))\n",
    "        # a) XOR(), false if either vertex is higher than point\n",
    "        # b) x < (vertex[1][x] + (y - vertex[1][y])*(vertex[0][x]-vertex[1][x])/(vertex[0][y]-vertex[1][y]))\n",
    "        #                                   slope = (vertex[1][y]-vertex[0][y])/ (vertex[1][x]-vertex[0][x])\n",
    "        #                                         =-(vertex[0][y]-vertex[1][y])/-(vertex[0][x]-vertex[1][x])\n",
    "        #                                         = (vertex[0][y]-vertex[1][y])/ (vertex[0][x]-vertex[1][x])\n",
    "        # b) x < (vertex[1][x] + (y - vertex[1][y])/slope)\n",
    "        # b) \n",
    "        mask = np.logical_and(\n",
    "            np.not_equal(\n",
    "                poly[i][1]>y, \n",
    "                poly[j][1] > y\n",
    "            ),\n",
    "            (x < poly[i][0] + (poly[j][0] - poly[i][0]) * (y - poly[i][1]) / (poly[j][1] - poly[i][1]))\n",
    "        )\n",
    "        c[mask] = ~c[mask] #np.invert(c, out=c, where=mask)\n",
    "\n",
    "        j = i\n",
    "    return c\n",
    "flags = is_point_in_path(*points, vertices)\n",
    "print(flags)\n",
    "print(\"({:,})  {:,}\".format(flags.shape[0], flags.sum()))"
   ]
  },
  {
   "cell_type": "code",
   "execution_count": 364,
   "metadata": {
    "ExecuteTime": {
     "end_time": "2019-05-24T17:08:16.561491Z",
     "start_time": "2019-05-24T17:08:10.213982Z"
    },
    "hidden": true
   },
   "outputs": [
    {
     "name": "stdout",
     "output_type": "stream",
     "text": [
      "77.9 ms ± 2.23 ms per loop (mean ± std. dev. of 7 runs, 10 loops each)\n"
     ]
    }
   ],
   "source": [
    "%%timeit\n",
    "flags = is_point_in_path(*points, vertices)"
   ]
  },
  {
   "cell_type": "code",
   "execution_count": 366,
   "metadata": {
    "ExecuteTime": {
     "end_time": "2019-05-24T17:09:03.809090Z",
     "start_time": "2019-05-24T17:08:33.109254Z"
    },
    "hidden": true
   },
   "outputs": [
    {
     "name": "stdout",
     "output_type": "stream",
     "text": [
      "76.7 ms ± 1.02 ms per loop (mean ± std. dev. of 20 runs, 20 loops each)\n"
     ]
    }
   ],
   "source": [
    "%%timeit -r20 -n20\n",
    "flags = is_point_in_path(*points, vertices)"
   ]
  },
  {
   "cell_type": "markdown",
   "metadata": {
    "hidden": true
   },
   "source": [
    "### More Array Computation (0.656s)"
   ]
  },
  {
   "cell_type": "markdown",
   "metadata": {
    "heading_collapsed": true,
    "hidden": true
   },
   "source": [
    "#### WRONG Using expand_dims (0.67s)"
   ]
  },
  {
   "cell_type": "code",
   "execution_count": 367,
   "metadata": {
    "ExecuteTime": {
     "end_time": "2019-05-24T17:09:30.091281Z",
     "start_time": "2019-05-24T17:09:29.271697Z"
    },
    "hidden": true
   },
   "outputs": [
    {
     "name": "stdout",
     "output_type": "stream",
     "text": [
      "[0 1 0 ... 0 0 0]\n",
      "(633,866)  62,810\n"
     ]
    }
   ],
   "source": [
    "def is_point_in_path(x, y, poly):\n",
    "    \"\"\"\n",
    "    x, y -- x and y coordinates of point\n",
    "    poly -- a list of tuples [(x, y), (x, y), ...]\n",
    "    -------------------------------------------------\n",
    "    PNPOLY - Point Inclusion in Polygon Test\n",
    "    W. Randolph Franklin (WRF) \n",
    "    source:  https://wrf.ecse.rpi.edu/Research/Short_Notes/pnpoly.html\n",
    "    \"\"\"\n",
    "    num = len(poly)  # Number of vertices\n",
    "    i = poly            # First Vertex\n",
    "    j = np.roll(poly, 1)  # Previous Vertex\n",
    "    i = np.expand_dims(np.transpose(i),2)\n",
    "    j = np.expand_dims(np.transpose(j),2)\n",
    "    c = np.zeros(len(x), dtype=np.bool_)\n",
    "    # Loop over vertices\n",
    "    # if (a) and (b)\n",
    "    # a) ((vertex[1][y] > pt[y]) != (vertex[0][y] > pt[y]))\n",
    "    # a) XOR(), false if either vertex is higher than point\n",
    "    # b) x < (vertex[1][x] + (y - vertex[1][y])*(vertex[0][x]-vertex[1][x])/(vertex[0][y]-vertex[1][y]))\n",
    "    #                                   slope = (vertex[1][y]-vertex[0][y])/ (vertex[1][x]-vertex[0][x])\n",
    "    #                                         =-(vertex[0][y]-vertex[1][y])/-(vertex[0][x]-vertex[1][x])\n",
    "    #                                         = (vertex[0][y]-vertex[1][y])/ (vertex[0][x]-vertex[1][x])\n",
    "    # b) x < (vertex[1][x] + (y - vertex[1][y])/slope)\n",
    "    # b) \n",
    "    mask = np.logical_and(\n",
    "        np.not_equal(\n",
    "            np.greater(i[1], y), \n",
    "            np.greater(j[1], y)\n",
    "        ),\n",
    "        np.less(\n",
    "            x, \n",
    "            i[0] + (j[0] - i[0]) * (y - i[1]) / (j[1] - i[1])\n",
    "        )\n",
    "    )\n",
    "    c = np.sum(mask, axis=0) % 2\n",
    "    #c = np.logical_xor.reduce(mask)\n",
    "    #c[mask] = ~c[mask] #np.invert(c, out=c, where=mask)\n",
    "\n",
    "    return c\n",
    "\n",
    "flags = is_point_in_path(*points, np.array(vertices))\n",
    "print(flags)\n",
    "print(\"({:,})  {:,}\".format(flags.shape[0], flags.sum()))"
   ]
  },
  {
   "cell_type": "code",
   "execution_count": 368,
   "metadata": {
    "ExecuteTime": {
     "end_time": "2019-05-24T17:09:37.074257Z",
     "start_time": "2019-05-24T17:09:32.140737Z"
    },
    "hidden": true
   },
   "outputs": [
    {
     "name": "stdout",
     "output_type": "stream",
     "text": [
      "612 ms ± 8.93 ms per loop (mean ± std. dev. of 7 runs, 1 loop each)\n"
     ]
    }
   ],
   "source": [
    "%%timeit\n",
    "flags = is_point_in_path(*points, np.array(vertices))"
   ]
  },
  {
   "cell_type": "markdown",
   "metadata": {
    "heading_collapsed": true,
    "hidden": true
   },
   "source": [
    "#### Using newaxis (0.656s)"
   ]
  },
  {
   "cell_type": "code",
   "execution_count": 369,
   "metadata": {
    "ExecuteTime": {
     "end_time": "2019-05-24T17:09:55.556101Z",
     "start_time": "2019-05-24T17:09:54.828397Z"
    },
    "hidden": true
   },
   "outputs": [
    {
     "name": "stdout",
     "output_type": "stream",
     "text": [
      "[False  True  True ... False False False]\n",
      "(633,866)  225,925\n"
     ]
    }
   ],
   "source": [
    "#@jit(nopython=True, parallel=True, fastmath=True)\n",
    "def is_point_in_path(x, y, poly):\n",
    "    \"\"\"\n",
    "    x, y -- x and y coordinates of point\n",
    "    poly -- a list of tuples [(x, y), (x, y), ...]\n",
    "    -------------------------------------------------\n",
    "    PNPOLY - Point Inclusion in Polygon Test\n",
    "    W. Randolph Franklin (WRF) \n",
    "    source:  https://wrf.ecse.rpi.edu/Research/Short_Notes/pnpoly.html\n",
    "    \"\"\"\n",
    "    num = len(poly)  # Number of vertices\n",
    "    i = poly            # First Vertex\n",
    "    j = np.roll(poly, 1, 0)  # Previous Vertex\n",
    "    c = np.zeros(len(x), dtype=np.bool_)\n",
    "    mask = np.logical_and(\n",
    "        np.not_equal(\n",
    "            np.greater(i[:,1,np.newaxis], y), \n",
    "            np.greater(j[:,1,np.newaxis], y)\n",
    "        ),\n",
    "        np.less(\n",
    "            x, \n",
    "            i[:,0,np.newaxis] + (j[:,0,np.newaxis] - i[:,0,np.newaxis]) * (y - i[:,1,np.newaxis]) /\n",
    "                            (j[:,1,np.newaxis] - i[:,1,np.newaxis]))\n",
    "    )\n",
    "    c = np.logical_xor.reduce(mask)\n",
    "    #c[mask] = ~c[mask] #np.invert(c, out=c, where=mask)\n",
    "\n",
    "    return c\n",
    "flags = is_point_in_path(*points, np.array(vertices))\n",
    "print(flags)\n",
    "print(\"({:,})  {:,}\".format(flags.shape[0], flags.sum()))"
   ]
  },
  {
   "cell_type": "code",
   "execution_count": 371,
   "metadata": {
    "ExecuteTime": {
     "end_time": "2019-05-24T17:14:37.775189Z",
     "start_time": "2019-05-24T17:10:15.406895Z"
    },
    "hidden": true
   },
   "outputs": [
    {
     "name": "stdout",
     "output_type": "stream",
     "text": [
      "656 ms ± 79.5 ms per loop (mean ± std. dev. of 20 runs, 20 loops each)\n"
     ]
    }
   ],
   "source": [
    "%%timeit -r20 -n20\n",
    "flags = is_point_in_path(*points, np.array(vertices))"
   ]
  },
  {
   "cell_type": "code",
   "execution_count": 20,
   "metadata": {
    "ExecuteTime": {
     "end_time": "2019-05-24T09:39:42.592794Z",
     "start_time": "2019-05-24T09:39:29.639608Z"
    },
    "hidden": true,
    "scrolled": false
   },
   "outputs": [
    {
     "data": {
      "image/png": "[encoded data removed]",
      "text/plain": [
       "<Figure size 1080x432 with 1 Axes>"
      ]
     },
     "metadata": {
      "needs_background": "light"
     },
     "output_type": "display_data"
    }
   ],
   "source": [
    "plot(flags)"
   ]
  },
  {
   "cell_type": "markdown",
   "metadata": {
    "heading_collapsed": true,
    "hidden": true
   },
   "source": [
    "#### WRONG Using Numba and Expand_dims (0.18s)"
   ]
  },
  {
   "cell_type": "code",
   "execution_count": 372,
   "metadata": {
    "ExecuteTime": {
     "end_time": "2019-05-24T17:16:38.991605Z",
     "start_time": "2019-05-24T17:16:36.999190Z"
    },
    "hidden": true
   },
   "outputs": [
    {
     "name": "stdout",
     "output_type": "stream",
     "text": [
      "[0 1 0 ... 0 0 0]\n",
      "(633,866)  62,810\n"
     ]
    }
   ],
   "source": [
    "@jit(nopython=True, fastmath=True)\n",
    "def is_point_in_path(x, y, poly):\n",
    "    \"\"\"\n",
    "    x, y -- x and y coordinates of point\n",
    "    poly -- a list of tuples [(x, y), (x, y), ...]\n",
    "    -------------------------------------------------\n",
    "    PNPOLY - Point Inclusion in Polygon Test\n",
    "    W. Randolph Franklin (WRF) \n",
    "    source:  https://wrf.ecse.rpi.edu/Research/Short_Notes/pnpoly.html\n",
    "    \"\"\"\n",
    "    num = len(poly)  # Number of vertices\n",
    "    i = poly            # First Vertex\n",
    "    j = np.roll(poly, 1)  # Previous Vertex\n",
    "    i = np.expand_dims(np.transpose(i),2)\n",
    "    j = np.expand_dims(np.transpose(j),2)\n",
    "    #c = np.zeros(len(x), dtype=np.bool_)\n",
    "    #print(i.shape)\n",
    "    #print(j.shape)\n",
    "    #print(x.shape, y.shape)\n",
    "    x = np.expand_dims(x,0)\n",
    "    y = np.expand_dims(y,0)\n",
    "    #print(x.shape, y.shape)\n",
    "    \n",
    "    #print(np.logical_and(\n",
    "    #    np.not_equal(\n",
    "    #        np.greater(i[1], y), \n",
    "    #        np.greater(j[1], y)\n",
    "    #    ),\n",
    "    #    np.less(\n",
    "    #        x, \n",
    "    #        i[0] + (j[0] - i[0]) * (y - i[1]) / (j[1] - i[1])\n",
    "    #    )\n",
    "    #).shape)\n",
    "    #print(np.not_equal(\n",
    "    #        np.greater(i[1], y), \n",
    "    #        np.greater(j[1], y)\n",
    "    #    ).shape)\n",
    "    #print(np.less(\n",
    "    #        x, \n",
    "    #        i[0] + (j[0] - i[0]) * (y - i[1]) / (j[1] - i[1])\n",
    "    #    ).shape)\n",
    "    #print(np.greater(i[1], y).shape)\n",
    "    #print((i[0] + (j[0] - i[0]) * (y - i[1]) / (j[1] - i[1])).shape)\n",
    "    # Loop over vertices\n",
    "    # if (a) and (b)\n",
    "    # a) ((vertex[1][y] > pt[y]) != (vertex[0][y] > pt[y]))\n",
    "    # a) XOR(), false if either vertex is higher than point\n",
    "    # b) x < (vertex[1][x] + (y - vertex[1][y])*(vertex[0][x]-vertex[1][x])/(vertex[0][y]-vertex[1][y]))\n",
    "    #                                   slope = (vertex[1][y]-vertex[0][y])/ (vertex[1][x]-vertex[0][x])\n",
    "    #                                         =-(vertex[0][y]-vertex[1][y])/-(vertex[0][x]-vertex[1][x])\n",
    "    #                                         = (vertex[0][y]-vertex[1][y])/ (vertex[0][x]-vertex[1][x])\n",
    "    # b) x < (vertex[1][x] + (y - vertex[1][y])/slope)\n",
    "    # b) \n",
    "    mask = np.logical_and(\n",
    "        np.not_equal(\n",
    "            np.greater(i[1], y), \n",
    "            np.greater(j[1], y)\n",
    "        ),\n",
    "        np.less(\n",
    "            x, \n",
    "            i[0] + (j[0] - i[0]) * (y - i[1]) / (j[1] - i[1])\n",
    "        )\n",
    "    )\n",
    "    c = np.sum(mask, axis=0) % 2\n",
    "    #c = np.logical_xor.reduce(mask)\n",
    "    #c[mask] = ~c[mask] #np.invert(c, out=c, where=mask)\n",
    "\n",
    "    return c\n",
    "\n",
    "flags = is_point_in_path(*points, np.array(vertices))\n",
    "print(flags)\n",
    "print(\"({:,})  {:,}\".format(flags.shape[0], flags.sum()))"
   ]
  },
  {
   "cell_type": "code",
   "execution_count": 605,
   "metadata": {
    "ExecuteTime": {
     "end_time": "2019-05-15T07:39:21.392051Z",
     "start_time": "2019-05-15T07:39:19.951026Z"
    },
    "hidden": true
   },
   "outputs": [
    {
     "name": "stdout",
     "output_type": "stream",
     "text": [
      "175 ms ± 13 ms per loop (mean ± std. dev. of 7 runs, 1 loop each)\n"
     ]
    }
   ],
   "source": [
    "%%timeit\n",
    "flags = is_point_in_path(*points, np.array(vertices))"
   ]
  },
  {
   "cell_type": "markdown",
   "metadata": {
    "hidden": true
   },
   "source": [
    "NOTE: Parallel fails due to broadcasting problem"
   ]
  },
  {
   "cell_type": "markdown",
   "metadata": {
    "heading_collapsed": true,
    "hidden": true
   },
   "source": [
    "#### WRONG Explicit logical xor reduction (0.14ms)"
   ]
  },
  {
   "cell_type": "code",
   "execution_count": 373,
   "metadata": {
    "ExecuteTime": {
     "end_time": "2019-05-24T17:16:56.035718Z",
     "start_time": "2019-05-24T17:16:55.046015Z"
    },
    "hidden": true
   },
   "outputs": [
    {
     "name": "stdout",
     "output_type": "stream",
     "text": [
      "[False  True False ... False False False]\n",
      "(633,866)  62,810\n"
     ]
    }
   ],
   "source": [
    "@jit(nopython=True, fastmath=True)\n",
    "def red(mask):\n",
    "    \"\"\" 140ms \"\"\"\n",
    "    c = np.zeros(len(x), dtype=np.bool_)\n",
    "    for idx in range(num):\n",
    "        c = np.logical_xor(mask[idx], c)\n",
    "    return c\n",
    "\n",
    "#@jit(nopython=True, fastmath=True)\n",
    "#def red(mask):\n",
    "#    \"\"\" 200ms \"\"\"\n",
    "#    return np.sum(mask, axis=0) % 2\n",
    "\n",
    "\n",
    "@jit(nopython=True, fastmath=True)\n",
    "def is_point_in_path(x, y, poly):\n",
    "    \"\"\"\n",
    "    x, y -- x and y coordinates of point\n",
    "    poly -- a list of tuples [(x, y), (x, y), ...]\n",
    "    -------------------------------------------------\n",
    "    PNPOLY - Point Inclusion in Polygon Test\n",
    "    W. Randolph Franklin (WRF) \n",
    "    source:  https://wrf.ecse.rpi.edu/Research/Short_Notes/pnpoly.html\n",
    "    \"\"\"\n",
    "    num = len(poly)  # Number of vertices\n",
    "    i = poly            # First Vertex\n",
    "    j = np.roll(poly, 1)  # Previous Vertex\n",
    "    i = np.expand_dims(np.transpose(i),2)\n",
    "    j = np.expand_dims(np.transpose(j),2)\n",
    "    # Loop over vertices\n",
    "    # if (a) and (b)\n",
    "    # a) ((vertex[1][y] > pt[y]) != (vertex[0][y] > pt[y]))\n",
    "    # a) XOR(), false if either vertex is higher than point\n",
    "    # b) x < (vertex[1][x] + (y - vertex[1][y])*(vertex[0][x]-vertex[1][x])/(vertex[0][y]-vertex[1][y]))\n",
    "    #                                   slope = (vertex[1][y]-vertex[0][y])/ (vertex[1][x]-vertex[0][x])\n",
    "    #                                         =-(vertex[0][y]-vertex[1][y])/-(vertex[0][x]-vertex[1][x])\n",
    "    #                                         = (vertex[0][y]-vertex[1][y])/ (vertex[0][x]-vertex[1][x])\n",
    "    # b) x < (vertex[1][x] + (y - vertex[1][y])/slope)\n",
    "    # b) \n",
    "    mask = np.logical_and(\n",
    "        np.not_equal(\n",
    "            np.greater(i[1], y), \n",
    "            np.greater(j[1], y)\n",
    "        ),\n",
    "        np.less(\n",
    "            x, \n",
    "            i[0] + (j[0] - i[0]) * (y - i[1]) / (j[1] - i[1])\n",
    "        )\n",
    "    )\n",
    "\n",
    "    return red(mask)\n",
    "\n",
    "flags = is_point_in_path(*points, np.array(vertices))\n",
    "print(flags)\n",
    "print(\"({:,})  {:,}\".format(flags.shape[0], flags.sum()))"
   ]
  },
  {
   "cell_type": "code",
   "execution_count": 640,
   "metadata": {
    "ExecuteTime": {
     "end_time": "2019-05-15T07:54:01.496289Z",
     "start_time": "2019-05-15T07:53:49.993138Z"
    },
    "hidden": true
   },
   "outputs": [
    {
     "name": "stdout",
     "output_type": "stream",
     "text": [
      "141 ms ± 1.89 ms per loop (mean ± std. dev. of 7 runs, 10 loops each)\n"
     ]
    }
   ],
   "source": [
    "%%timeit\n",
    "is_point_in_path(*points, np.array(vertices))"
   ]
  },
  {
   "cell_type": "markdown",
   "metadata": {
    "heading_collapsed": true,
    "hidden": true
   },
   "source": [
    "#### Logical Reduce Operations WIP"
   ]
  },
  {
   "cell_type": "code",
   "execution_count": 669,
   "metadata": {
    "ExecuteTime": {
     "end_time": "2019-05-15T13:20:11.789578Z",
     "start_time": "2019-05-15T13:20:10.956985Z"
    },
    "hidden": true
   },
   "outputs": [],
   "source": [
    "poly = vertices\n",
    "x, y = points\n",
    "\n",
    "num = len(poly)  # Number of vertices\n",
    "i = poly            # First Vertex\n",
    "j = np.roll(poly, 1)  # Previous Vertex\n",
    "i = np.expand_dims(np.transpose(i),2)\n",
    "j = np.expand_dims(np.transpose(j),2)\n",
    "c = np.zeros(len(x), dtype=np.bool_)\n",
    "# Loop over vertices\n",
    "# if (a) and (b)\n",
    "# a) ((vertex[1][y] > pt[y]) != (vertex[0][y] > pt[y]))\n",
    "# a) XOR(), false if either vertex is higher than point\n",
    "# b) x < (vertex[1][x] + (y - vertex[1][y])*(vertex[0][x]-vertex[1][x])/(vertex[0][y]-vertex[1][y]))\n",
    "#                                   slope = (vertex[1][y]-vertex[0][y])/ (vertex[1][x]-vertex[0][x])\n",
    "#                                         =-(vertex[0][y]-vertex[1][y])/-(vertex[0][x]-vertex[1][x])\n",
    "#                                         = (vertex[0][y]-vertex[1][y])/ (vertex[0][x]-vertex[1][x])\n",
    "# b) x < (vertex[1][x] + (y - vertex[1][y])/slope)\n",
    "# b) \n",
    "mask = np.logical_and(\n",
    "    np.not_equal(\n",
    "        np.greater(i[1], y), \n",
    "        np.greater(j[1], y)\n",
    "    ),\n",
    "    np.less(\n",
    "        x, \n",
    "        i[0] + (j[0] - i[0]) * (y - i[1]) / (j[1] - i[1])\n",
    "    )\n",
    ")\n",
    "c = np.sum(mask, axis=0) % 2\n",
    "#c = np.logical_xor.reduce(mask)\n",
    "#c[mask] = ~c[mask] #np.invert(c, out=c, where=mask)\n"
   ]
  },
  {
   "cell_type": "code",
   "execution_count": 556,
   "metadata": {
    "ExecuteTime": {
     "end_time": "2019-05-15T07:21:44.642691Z",
     "start_time": "2019-05-15T07:21:42.645273Z"
    },
    "hidden": true
   },
   "outputs": [
    {
     "name": "stdout",
     "output_type": "stream",
     "text": [
      "23.5 ms ± 1.15 ms per loop (mean ± std. dev. of 7 runs, 10 loops each)\n"
     ]
    }
   ],
   "source": [
    "%%timeit\n",
    "np.logical_xor.reduce(mask)"
   ]
  },
  {
   "cell_type": "code",
   "execution_count": 555,
   "metadata": {
    "ExecuteTime": {
     "end_time": "2019-05-15T07:21:37.880889Z",
     "start_time": "2019-05-15T07:21:34.533512Z"
    },
    "hidden": true
   },
   "outputs": [
    {
     "name": "stdout",
     "output_type": "stream",
     "text": [
      "41 ms ± 3.85 ms per loop (mean ± std. dev. of 7 runs, 10 loops each)\n"
     ]
    }
   ],
   "source": [
    "%%timeit\n",
    "np.sum(mask, axis=0) % 2"
   ]
  },
  {
   "cell_type": "code",
   "execution_count": null,
   "metadata": {
    "hidden": true
   },
   "outputs": [],
   "source": []
  },
  {
   "cell_type": "code",
   "execution_count": 544,
   "metadata": {
    "ExecuteTime": {
     "end_time": "2019-05-15T07:17:58.855617Z",
     "start_time": "2019-05-15T07:17:58.816609Z"
    },
    "hidden": true
   },
   "outputs": [
    {
     "data": {
      "text/plain": [
       "array([[ True,  True,  True, ...,  True,  True,  True],\n",
       "       [ True,  True,  True, ...,  True,  True,  True],\n",
       "       [ True,  True,  True, ...,  True,  True,  True],\n",
       "       ...,\n",
       "       [False,  True,  True, ...,  True,  True,  True],\n",
       "       [ True,  True,  True, ...,  True,  True,  True],\n",
       "       [ True,  True,  True, ...,  True,  True,  True]])"
      ]
     },
     "execution_count": 544,
     "metadata": {},
     "output_type": "execute_result"
    }
   ],
   "source": [
    " np.greater(np.expand_dims(np.array(vertices).T[1], 1), points[1])"
   ]
  },
  {
   "cell_type": "markdown",
   "metadata": {},
   "source": [
    "# Winding Number Algorithm"
   ]
  },
  {
   "cell_type": "markdown",
   "metadata": {
    "heading_collapsed": true
   },
   "source": [
    "## Simple Python"
   ]
  },
  {
   "cell_type": "code",
   "execution_count": 1017,
   "metadata": {
    "ExecuteTime": {
     "end_time": "2019-05-27T12:02:00.429808Z",
     "start_time": "2019-05-27T12:02:00.142604Z"
    },
    "hidden": true
   },
   "outputs": [],
   "source": [
    "#!/usr/bin/env python\n",
    "#\n",
    "# routine for performing the \"point in polygon\" inclusion test\n",
    "\n",
    "# Copyright 2001, softSurfer (www.softsurfer.com)\n",
    "# This code may be freely used and modified for any purpose\n",
    "# providing that this copyright notice is included with it.\n",
    "# SoftSurfer makes no warranty for this code, and cannot be held\n",
    "# liable for any real or imagined damage resulting from its use.\n",
    "# Users of this code must verify correctness for their application.\n",
    "\n",
    "# translated to Python by Maciej Kalisiak <mac@dgp.toronto.edu>\n",
    "\n",
    "#   a Point is represented as a tuple: (x,y)\n",
    "\n",
    "#===================================================================\n",
    "\n",
    "# is_left(): tests if a point is Left|On|Right of an infinite line.\n",
    "\n",
    "#   Input: three points P0, P1, and P2\n",
    "#   Return: >0 for P2 left of the line through P0 and P1\n",
    "#           =0 for P2 on the line\n",
    "#           <0 for P2 right of the line\n",
    "#   See: the January 2001 Algorithm \"Area of 2D and 3D Triangles and Polygons\"\n",
    "\n",
    "def is_left(P0, P1, P2):\n",
    "    return (P1[0] - P0[0]) * (P2[1] - P0[1]) - (P2[0] - P0[0]) * (P1[1] - P0[1])\n",
    "\n",
    "#===================================================================\n",
    "\n",
    "# cn_PnPoly(): crossing number test for a point in a polygon\n",
    "#     Input:  P = a point,\n",
    "#             V[] = vertex points of a polygon\n",
    "#     Return: 0 = outside, 1 = inside\n",
    "# This code is patterned after [Franklin, 2000]\n",
    "\n",
    "def cn_PnPoly(P, V):\n",
    "    cn = 0    # the crossing number counter\n",
    "\n",
    "    # repeat the first vertex at end\n",
    "    V = tuple(V[:])+(V[0],)\n",
    "\n",
    "    # loop through all edges of the polygon\n",
    "    for i in range(len(V)-1):   # edge from V[i] to V[i+1]\n",
    "        if ((V[i][1] <= P[1] and V[i+1][1] > P[1])   # an upward crossing\n",
    "            or (V[i][1] > P[1] and V[i+1][1] <= P[1])):  # a downward crossing\n",
    "            # compute the actual edge-ray intersect x-coordinate\n",
    "            vt = (P[1] - V[i][1]) / float(V[i+1][1] - V[i][1])\n",
    "            if P[0] < V[i][0] + vt * (V[i+1][0] - V[i][0]): # P[0] < intersect\n",
    "                cn += 1  # a valid crossing of y=P[1] right of P[0]\n",
    "\n",
    "    return cn % 2   # 0 if even (out), and 1 if odd (in)\n",
    "\n",
    "#===================================================================\n",
    "\n",
    "# wn_PnPoly(): winding number test for a point in a polygon\n",
    "#     Input:  P = a point,\n",
    "#             V[] = vertex points of a polygon\n",
    "#     Return: wn = the winding number (=0 only if P is outside V[])\n",
    "\n",
    "def wn_PnPoly(P, V):\n",
    "    wn = 0   # the winding number counter\n",
    "\n",
    "    # repeat the first vertex at end\n",
    "    V = tuple(V[:]) + (V[0],)\n",
    "\n",
    "    # loop through all edges of the polygon\n",
    "    for i in range(len(V)-1):     # edge from V[i] to V[i+1]\n",
    "        if V[i][1] <= P[1]:        # start y <= P[1]\n",
    "            if V[i+1][1] > P[1]:     # an upward crossing\n",
    "                if is_left(V[i], V[i+1], P) > 0: # P left of edge\n",
    "                    wn += 1           # have a valid up intersect\n",
    "        else:                      # start y > P[1] (no test needed)\n",
    "            if V[i+1][1] <= P[1]:    # a downward crossing\n",
    "                if is_left(V[i], V[i+1], P) < 0: # P right of edge\n",
    "                    wn -= 1           # have a valid down intersect\n",
    "    return wn\n"
   ]
  },
  {
   "cell_type": "code",
   "execution_count": 1030,
   "metadata": {
    "ExecuteTime": {
     "end_time": "2019-05-27T12:05:29.511515Z",
     "start_time": "2019-05-27T12:04:54.253369Z"
    },
    "hidden": true
   },
   "outputs": [],
   "source": [
    "flags = np.zeros(points.shape[1], dtype=np.bool_)\n",
    "for i in range(points.shape[1]):\n",
    "    flags[i] = wn_PnPoly(points[:,i], vertices)"
   ]
  },
  {
   "cell_type": "code",
   "execution_count": 1031,
   "metadata": {
    "ExecuteTime": {
     "end_time": "2019-05-27T12:05:55.671108Z",
     "start_time": "2019-05-27T12:05:29.557547Z"
    },
    "hidden": true
   },
   "outputs": [
    {
     "data": {
      "image/png": "[encoded data removed]",
      "text/plain": [
       "<Figure size 1080x432 with 1 Axes>"
      ]
     },
     "metadata": {
      "needs_background": "light"
     },
     "output_type": "display_data"
    }
   ],
   "source": [
    "plot(flags)"
   ]
  },
  {
   "cell_type": "markdown",
   "metadata": {
    "heading_collapsed": true
   },
   "source": [
    "## Numba"
   ]
  },
  {
   "cell_type": "code",
   "execution_count": 1091,
   "metadata": {
    "ExecuteTime": {
     "end_time": "2019-05-27T16:33:03.838720Z",
     "start_time": "2019-05-27T16:33:03.800687Z"
    },
    "hidden": true
   },
   "outputs": [],
   "source": [
    "#!/usr/bin/env python\n",
    "#\n",
    "# routine for performing the \"point in polygon\" inclusion test\n",
    "\n",
    "# Copyright 2001, softSurfer (www.softsurfer.com)\n",
    "# This code may be freely used and modified for any purpose\n",
    "# providing that this copyright notice is included with it.\n",
    "# SoftSurfer makes no warranty for this code, and cannot be held\n",
    "# liable for any real or imagined damage resulting from its use.\n",
    "# Users of this code must verify correctness for their application.\n",
    "\n",
    "# translated to Python by Maciej Kalisiak <mac@dgp.toronto.edu>\n",
    "\n",
    "#   a Point is represented as a tuple: (x,y)\n",
    "\n",
    "#===================================================================\n",
    "\n",
    "# is_left(): tests if a point is Left|On|Right of an infinite line.\n",
    "\n",
    "#   Input: three points P0, P1, and P2\n",
    "#   Return: >0 for P2 left of the line through P0 and P1\n",
    "#           =0 for P2 on the line\n",
    "#           <0 for P2 right of the line\n",
    "#   See: the January 2001 Algorithm \"Area of 2D and 3D Triangles and Polygons\"\n",
    "\n",
    "@jit(nopython=True, parallel=True, nogil=True, fastmath=True)\n",
    "def is_left(P0, P1, P2):\n",
    "    return (P1[0] - P0[0]) * (P2[1] - P0[1]) - (P2[0] - P0[0]) * (P1[1] - P0[1])\n",
    "\n",
    "#===================================================================\n",
    "\n",
    "# cn_PnPoly(): crossing number test for a point in a polygon\n",
    "#     Input:  P = a point,\n",
    "#             V[] = vertex points of a polygon\n",
    "#     Return: 0 = outside, 1 = inside\n",
    "# This code is patterned after [Franklin, 2000]\n",
    "\n",
    "@jit(nopython=True, parallel=True)\n",
    "def cn_PnPoly(P, V):\n",
    "    cn = 0    # the crossing number counter\n",
    "\n",
    "    # repeat the first vertex at end\n",
    "    V = tuple(V[:])+(V[0],)\n",
    "\n",
    "    # loop through all edges of the polygon\n",
    "    for i in range(len(V)-1):   # edge from V[i] to V[i+1]\n",
    "        if ((V[i][1] <= P[1] and V[i+1][1] > P[1])   # an upward crossing\n",
    "            or (V[i][1] > P[1] and V[i+1][1] <= P[1])):  # a downward crossing\n",
    "            # compute the actual edge-ray intersect x-coordinate\n",
    "            vt = (P[1] - V[i][1]) / float(V[i+1][1] - V[i][1])\n",
    "            if P[0] < V[i][0] + vt * (V[i+1][0] - V[i][0]): # P[0] < intersect\n",
    "                cn += 1  # a valid crossing of y=P[1] right of P[0]\n",
    "\n",
    "    return cn % 2   # 0 if even (out), and 1 if odd (in)\n",
    "\n",
    "#===================================================================\n",
    "\n",
    "# wn_PnPoly(): winding number test for a point in a polygon\n",
    "#     Input:  P = a point,\n",
    "#             V[] = vertex points of a polygon\n",
    "#     Return: wn = the winding number (=0 only if P is outside V[])\n",
    "@jit(nopython=True, parallel=True, nogil=True, fastmath=True)\n",
    "def wn_PnPoly(P, V):\n",
    "    wn = 0   # the winding number counter\n",
    "\n",
    "    # repeat the first vertex at end\n",
    "    #V = np.concatenate(V[:],V[0], axis=1)\n",
    "\n",
    "    # loop through all edges of the polygon\n",
    "    for i in range(V.shape[0]-1):     # edge from V[i] to V[i+1]\n",
    "        if V[i][1] <= P[1]:           # start y <= P[1]\n",
    "            if V[i+1][1] > P[1]:      # an upward crossing\n",
    "                if is_left(V[i], V[i+1], P) > 0:  # P left of edge\n",
    "                    wn += 1           # have a valid up intersect\n",
    "        else:                         # start y > P[1] (no test needed)\n",
    "            if V[i+1][1] <= P[1]:     # a downward crossing\n",
    "                if is_left(V[i], V[i+1], P) < 0:  # P right of edge\n",
    "                    wn -= 1           # have a valid down intersect\n",
    "    # repeat the first vertex at end\n",
    "    if V[-1][1] <= P[1]:          # start y <= P[1]\n",
    "        if V[0][1] > P[1]:        # an upward crossing\n",
    "            if is_left(V[-1], V[0], P) > 0:  # P left of edge\n",
    "                wn += 1           # have a valid up intersect\n",
    "    else:                         # start y > P[1] (no test needed)\n",
    "        if V[0][1] <= P[1]:       # a downward crossing\n",
    "            if is_left(V[-1], V[0], P) < 0:  # P right of edge\n",
    "                wn -= 1           # have a valid down intersect\n",
    "    \n",
    "    return wn\n"
   ]
  },
  {
   "cell_type": "code",
   "execution_count": 1092,
   "metadata": {
    "ExecuteTime": {
     "end_time": "2019-05-27T16:33:06.469586Z",
     "start_time": "2019-05-27T16:33:04.891463Z"
    },
    "hidden": true
   },
   "outputs": [],
   "source": [
    "@jit(nopython=True, parallel=True, nogil=True)\n",
    "def get_winding_flags(points, vertices):\n",
    "    flags = np.zeros(points.shape[1], dtype=np.bool_)\n",
    "    for i in range(points.shape[1]):\n",
    "        flags[i] = wn_PnPoly(points[:,i], vertices)\n",
    "    return flags\n",
    "flags = get_winding_flags(points, vertices)"
   ]
  },
  {
   "cell_type": "code",
   "execution_count": 1093,
   "metadata": {
    "ExecuteTime": {
     "end_time": "2019-05-27T16:33:16.023374Z",
     "start_time": "2019-05-27T16:33:07.259147Z"
    },
    "hidden": true
   },
   "outputs": [
    {
     "name": "stdout",
     "output_type": "stream",
     "text": [
      "107 ms ± 2.11 ms per loop (mean ± std. dev. of 7 runs, 10 loops each)\n"
     ]
    }
   ],
   "source": [
    "%%timeit\n",
    "flags = get_winding_flags(points, vertices)"
   ]
  },
  {
   "cell_type": "code",
   "execution_count": 1094,
   "metadata": {
    "ExecuteTime": {
     "end_time": "2019-05-27T16:33:18.262987Z",
     "start_time": "2019-05-27T16:33:16.076413Z"
    },
    "hidden": true
   },
   "outputs": [
    {
     "data": {
      "text/plain": [
       "225925"
      ]
     },
     "execution_count": 1094,
     "metadata": {},
     "output_type": "execute_result"
    }
   ],
   "source": [
    "sum(flags)"
   ]
  },
  {
   "cell_type": "code",
   "execution_count": 1086,
   "metadata": {
    "ExecuteTime": {
     "end_time": "2019-05-27T12:18:29.436145Z",
     "start_time": "2019-05-27T12:18:12.149863Z"
    },
    "hidden": true
   },
   "outputs": [
    {
     "data": {
      "image/png": "[encoded data removed]",
      "text/plain": [
       "<Figure size 1080x432 with 1 Axes>"
      ]
     },
     "metadata": {
      "needs_background": "light"
     },
     "output_type": "display_data"
    }
   ],
   "source": [
    "plot(flags)"
   ]
  },
  {
   "cell_type": "markdown",
   "metadata": {
    "heading_collapsed": true
   },
   "source": [
    "## Envelope Looped Numba w/ bool pre-alloc (0.1s)"
   ]
  },
  {
   "cell_type": "code",
   "execution_count": 1097,
   "metadata": {
    "ExecuteTime": {
     "end_time": "2019-05-27T16:36:23.616549Z",
     "start_time": "2019-05-27T16:36:21.894327Z"
    },
    "hidden": true
   },
   "outputs": [],
   "source": [
    "#!/usr/bin/env python\n",
    "#\n",
    "# routine for performing the \"point in polygon\" inclusion test\n",
    "\n",
    "# Copyright 2001, softSurfer (www.softsurfer.com)\n",
    "# This code may be freely used and modified for any purpose\n",
    "# providing that this copyright notice is included with it.\n",
    "# SoftSurfer makes no warranty for this code, and cannot be held\n",
    "# liable for any real or imagined damage resulting from its use.\n",
    "# Users of this code must verify correctness for their application.\n",
    "\n",
    "# translated to Python by Maciej Kalisiak <mac@dgp.toronto.edu>\n",
    "\n",
    "#   a Point is represented as a tuple: (x,y)\n",
    "\n",
    "#===================================================================\n",
    "\n",
    "# is_left(): tests if a point is Left|On|Right of an infinite line.\n",
    "\n",
    "#   Input: three points P0, P1, and P2\n",
    "#   Return: >0 for P2 left of the line through P0 and P1\n",
    "#           =0 for P2 on the line\n",
    "#           <0 for P2 right of the line\n",
    "#   See: the January 2001 Algorithm \"Area of 2D and 3D Triangles and Polygons\"\n",
    "\n",
    "@jit(nopython=True, parallel=True, nogil=True, fastmath=True)\n",
    "def is_left(P0, P1, P2):\n",
    "    return (P1[0] - P0[0]) * (P2[1] - P0[1]) - (P2[0] - P0[0]) * (P1[1] - P0[1])\n",
    "\n",
    "#===================================================================\n",
    "\n",
    "# cn_PnPoly(): crossing number test for a point in a polygon\n",
    "#     Input:  P = a point,\n",
    "#             V[] = vertex points of a polygon\n",
    "#     Return: 0 = outside, 1 = inside\n",
    "# This code is patterned after [Franklin, 2000]\n",
    "\n",
    "@jit(nopython=True, parallel=True)\n",
    "def cn_PnPoly(P, V):\n",
    "    cn = 0    # the crossing number counter\n",
    "\n",
    "    # repeat the first vertex at end\n",
    "    #V = tuple(V[:])+(V[0],)\n",
    "\n",
    "    # loop through all edges of the polygon\n",
    "    for i in range(len(V)-1):   # edge from V[i] to V[i+1]\n",
    "        if ((V[i][1] <= P[1] and V[i+1][1] > P[1])   # an upward crossing\n",
    "            or (V[i][1] > P[1] and V[i+1][1] <= P[1])):  # a downward crossing\n",
    "            # compute the actual edge-ray intersect x-coordinate\n",
    "            vt = (P[1] - V[i][1]) / float(V[i+1][1] - V[i][1])\n",
    "            if P[0] < V[i][0] + vt * (V[i+1][0] - V[i][0]): # P[0] < intersect\n",
    "                cn += 1  # a valid crossing of y=P[1] right of P[0]\n",
    "\n",
    "    if ((V[-1][1] <= P[1] and V[0][1] > P[1])   # an upward crossing\n",
    "        or (V[-1][1] > P[1] and V[0][1] <= P[1])):  # a downward crossing\n",
    "        # compute the actual edge-ray intersect x-coordinate\n",
    "        vt = (P[1] - V[-1][1]) / float(V[0][1] - V[-1][1])\n",
    "        if P[0] < V[-1][0] + vt * (V[0][0] - V[-1][0]): # P[0] < intersect\n",
    "            cn += 1  # a valid crossing of y=P[1] right of P[0]\n",
    "                \n",
    "    return cn % 2   # 0 if even (out), and 1 if odd (in)\n",
    "\n",
    "#===================================================================\n",
    "\n",
    "# wn_PnPoly(): winding number test for a point in a polygon\n",
    "#     Input:  P = a point,\n",
    "#             V[] = vertex points of a polygon\n",
    "#     Return: wn = the winding number (=0 only if P is outside V[])\n",
    "@jit(nopython=True, parallel=True, nogil=True, fastmath=True)\n",
    "def wn_PnPoly(P, V):\n",
    "    wn = 0   # the winding number counter\n",
    "\n",
    "    # repeat the first vertex at end\n",
    "    #V = np.concatenate(V[:],V[0], axis=1)\n",
    "\n",
    "    # loop through all edges of the polygon\n",
    "    for i in range(V.shape[0]-1):     # edge from V[i] to V[i+1]\n",
    "        if V[i][1] <= P[1]:           # start y <= P[1]\n",
    "            if (V[i+1][1] > P[1]) and (is_left(V[i], V[i+1], P) > 0):  # P left of edge\n",
    "                wn += 1           # have a valid up intersect\n",
    "        else:                         # start y > P[1] (no test needed)\n",
    "            if (V[i+1][1] <= P[1]) and (is_left(V[i], V[i+1], P) < 0):  # P right of edge\n",
    "                wn -= 1           # have a valid down intersect\n",
    "    # repeat the first vertex at end\n",
    "    if V[-1][1] <= P[1]:          # start y <= P[1]\n",
    "        if V[0][1] > P[1]:        # an upward crossing\n",
    "            if is_left(V[-1], V[0], P) > 0:  # P left of edge\n",
    "                wn += 1           # have a valid up intersect\n",
    "    else:                         # start y > P[1] (no test needed)\n",
    "        if V[0][1] <= P[1]:       # a downward crossing\n",
    "            if is_left(V[-1], V[0], P) < 0:  # P right of edge\n",
    "                wn -= 1           # have a valid down intersect\n",
    "    \n",
    "    return wn\n",
    "\n",
    "\n",
    "\n",
    "@jit(nopython=True, parallel=True, nogil=True)\n",
    "def get_winding_flags(points, vertices):\n",
    "    flags = np.zeros(points.shape[1], dtype=np.bool_)\n",
    "    for i in range(points.shape[1]):\n",
    "        flags[i] = wn_PnPoly(points[:,i], vertices)\n",
    "    return flags\n",
    "flags = get_winding_flags(points, vertices)"
   ]
  },
  {
   "cell_type": "code",
   "execution_count": 1098,
   "metadata": {
    "ExecuteTime": {
     "end_time": "2019-05-27T16:36:32.464841Z",
     "start_time": "2019-05-27T16:36:23.666586Z"
    },
    "hidden": true
   },
   "outputs": [
    {
     "name": "stdout",
     "output_type": "stream",
     "text": [
      "108 ms ± 1.35 ms per loop (mean ± std. dev. of 7 runs, 10 loops each)\n"
     ]
    }
   ],
   "source": [
    "%%timeit\n",
    "flags = get_winding_flags(points, vertices)"
   ]
  },
  {
   "cell_type": "markdown",
   "metadata": {
    "heading_collapsed": true
   },
   "source": [
    "## Vectorize (0.434s)"
   ]
  },
  {
   "cell_type": "code",
   "execution_count": 31,
   "metadata": {
    "ExecuteTime": {
     "end_time": "2019-05-27T17:47:32.618097Z",
     "start_time": "2019-05-27T17:47:29.862140Z"
    },
    "hidden": true
   },
   "outputs": [
    {
     "data": {
      "text/plain": [
       "225925.0"
      ]
     },
     "execution_count": 31,
     "metadata": {},
     "output_type": "execute_result"
    }
   ],
   "source": [
    "@jit(nopython=True, parallel=True, nogil=True, fastmath=True)\n",
    "def is_left(P0, P1, P2):\n",
    "    return (P1[0] - P0[0]) * (P2[1,:] - P0[1]) - (P2[0,:] - P0[0]) * (P1[1] - P0[1])\n",
    "\n",
    "@jit(nopython=True, parallel=True, nogil=True, fastmath=True)\n",
    "def wn_PnPoly(points, V):\n",
    "    wn = np.zeros(points.shape[1])   # the winding number counter\n",
    "\n",
    "    # repeat the first vertex at end\n",
    "    #V = np.concatenate(V[:],V[0], axis=1)\n",
    "\n",
    "    # loop through all edges of the polygon\n",
    "    for i in range(V.shape[0]-1):     # edge from V[i] to V[i+1]\n",
    "        wn[np.logical_and(\n",
    "            V[i][1] <= points[1,:], \n",
    "            np.logical_and(\n",
    "                (V[i+1][1] > points[1,:]),\n",
    "                (is_left(V[i], V[i+1], points) > 0)\n",
    "            )\n",
    "        )] += 1\n",
    "        wn[np.logical_and(\n",
    "            V[i][1] > points[1,:],\n",
    "            np.logical_and(\n",
    "                (V[i+1][1] <= points[1,:]),\n",
    "                (is_left(V[i], V[i+1], points) < 0)\n",
    "            )\n",
    "        )] -= 1\n",
    "    # repeat the first vertex at end\n",
    "    #if V[-1][1] <= points[1,:]:          # start y <= P[1]\n",
    "    #    if V[0][1] > points[1,:]:        # an upward crossing\n",
    "    #        if is_left(V[-1], V[0], points) > 0:  # P left of edge\n",
    "    #            wn += 1           # have a valid up intersect\n",
    "    #else:                         # start y > P[1] (no test needed)\n",
    "    #    if V[0][1] <= points[1,:]:       # a downward crossing\n",
    "    #        if is_left(V[-1], V[0], points) < 0:  # P right of edge\n",
    "    #            wn -= 1           # have a valid down intersect\n",
    "    \n",
    "    return wn\n",
    "vertices = np.array(vertices)\n",
    "flags = wn_PnPoly(points, vertices)\n",
    "sum(flags)"
   ]
  },
  {
   "cell_type": "code",
   "execution_count": 32,
   "metadata": {
    "ExecuteTime": {
     "end_time": "2019-05-27T17:47:36.319727Z",
     "start_time": "2019-05-27T17:47:32.666130Z"
    },
    "hidden": true
   },
   "outputs": [
    {
     "name": "stdout",
     "output_type": "stream",
     "text": [
      "443 ms ± 20.3 ms per loop (mean ± std. dev. of 7 runs, 1 loop each)\n"
     ]
    }
   ],
   "source": [
    "%%timeit\n",
    "flags = wn_PnPoly(points, vertices)"
   ]
  },
  {
   "cell_type": "markdown",
   "metadata": {
    "heading_collapsed": true
   },
   "source": [
    "## Vectorize with int pre-alloc and reduction (0.523s)"
   ]
  },
  {
   "cell_type": "code",
   "execution_count": 68,
   "metadata": {
    "ExecuteTime": {
     "end_time": "2019-05-27T18:01:00.351876Z",
     "start_time": "2019-05-27T18:00:55.142175Z"
    },
    "hidden": true
   },
   "outputs": [
    {
     "data": {
      "text/plain": [
       "225925"
      ]
     },
     "execution_count": 68,
     "metadata": {},
     "output_type": "execute_result"
    }
   ],
   "source": [
    "@jit(nopython=True, parallel=True, nogil=True, fastmath=True)\n",
    "def is_left(P0, P1, P2):\n",
    "    return (P1[0] - P0[0]) * (P2[1,:] - P0[1]) - (P2[0,:] - P0[0]) * (P1[1] - P0[1])\n",
    "\n",
    "@jit(nopython=True, parallel=True, nogil=True, fastmath=True)\n",
    "def wn_PnPoly(points, V):\n",
    "    wn = np.zeros((vertices.shape[0]+1, points.shape[1]), dtype=np.int_)   # the winding number counter\n",
    "\n",
    "    # loop through all edges of the polygon\n",
    "    for i in range(V.shape[0]-1):\n",
    "        wn[i,:] += np.logical_and(\n",
    "            (V[i][1] <= points[1,:]),\n",
    "            np.logical_and(\n",
    "                (V[i+1][1] > points[1,:]),\n",
    "                (is_left(V[i], V[i+1], points) > 0)\n",
    "            )\n",
    "        )#] += 1\n",
    "        wn[i,:] -= np.logical_and(\n",
    "            (V[i][1] > points[1,:]),\n",
    "            np.logical_and(\n",
    "                (V[i+1][1] <= points[1,:]),\n",
    "                (is_left(V[i], V[i+1], points) < 0)\n",
    "            )\n",
    "        )#] -= 1\n",
    "\n",
    "    # repeat the first vertex at end\n",
    "    wn[i+1,:] += np.logical_and(\n",
    "        (V[-1][1] <= points[1,:]),\n",
    "        np.logical_and(\n",
    "            (V[0][1] > points[1,:]),\n",
    "            (is_left(V[-1], V[0], points) > 0)\n",
    "        )\n",
    "    )#] += 1\n",
    "    wn[i+1,:] -= np.logical_and(\n",
    "        (V[-1][1] > points[1,:]),\n",
    "        np.logical_and(\n",
    "            (V[0][1] <= points[1,:]),\n",
    "            (is_left(V[-1], V[0], points) < 0)\n",
    "        )\n",
    "    )\n",
    "        \n",
    "    return wn.sum(axis=0)\n",
    "vertices = np.array(vertices)\n",
    "flags = wn_PnPoly(points, vertices)\n",
    "sum(flags)"
   ]
  },
  {
   "cell_type": "code",
   "execution_count": 69,
   "metadata": {
    "ExecuteTime": {
     "end_time": "2019-05-27T18:01:04.699966Z",
     "start_time": "2019-05-27T18:01:00.407918Z"
    },
    "hidden": true
   },
   "outputs": [
    {
     "name": "stdout",
     "output_type": "stream",
     "text": [
      "523 ms ± 11.1 ms per loop (mean ± std. dev. of 7 runs, 1 loop each)\n"
     ]
    }
   ],
   "source": [
    "%%timeit\n",
    "flags = wn_PnPoly(points, vertices)"
   ]
  },
  {
   "cell_type": "code",
   "execution_count": null,
   "metadata": {
    "hidden": true
   },
   "outputs": [],
   "source": []
  },
  {
   "cell_type": "code",
   "execution_count": null,
   "metadata": {
    "hidden": true
   },
   "outputs": [],
   "source": []
  },
  {
   "cell_type": "code",
   "execution_count": null,
   "metadata": {
    "hidden": true
   },
   "outputs": [],
   "source": []
  },
  {
   "cell_type": "markdown",
   "metadata": {
    "heading_collapsed": true
   },
   "source": [
    "## WRONG Further Vectorizing (needs cross logical ops)"
   ]
  },
  {
   "cell_type": "code",
   "execution_count": 21,
   "metadata": {
    "ExecuteTime": {
     "end_time": "2019-05-27T17:42:12.955719Z",
     "start_time": "2019-05-27T17:42:12.920696Z"
    },
    "hidden": true
   },
   "outputs": [
    {
     "ename": "ValueError",
     "evalue": "operands could not be broadcast together with shapes (30,) (633866,) ",
     "output_type": "error",
     "traceback": [
      "\u001b[1;31m---------------------------------------------------------------------------\u001b[0m",
      "\u001b[1;31mValueError\u001b[0m                                Traceback (most recent call last)",
      "\u001b[1;32m<ipython-input-21-5fc79685971b>\u001b[0m in \u001b[0;36m<module>\u001b[1;34m\u001b[0m\n\u001b[0;32m     39\u001b[0m \u001b[0mpoints_T\u001b[0m \u001b[1;33m=\u001b[0m \u001b[0mpoints\u001b[0m\u001b[1;33m.\u001b[0m\u001b[0mT\u001b[0m\u001b[1;33m\u001b[0m\u001b[1;33m\u001b[0m\u001b[0m\n\u001b[0;32m     40\u001b[0m \u001b[0mvertices\u001b[0m \u001b[1;33m=\u001b[0m \u001b[0mnp\u001b[0m\u001b[1;33m.\u001b[0m\u001b[0marray\u001b[0m\u001b[1;33m(\u001b[0m\u001b[0mvertices\u001b[0m\u001b[1;33m)\u001b[0m\u001b[1;33m\u001b[0m\u001b[1;33m\u001b[0m\u001b[0m\n\u001b[1;32m---> 41\u001b[1;33m \u001b[0mflags\u001b[0m \u001b[1;33m=\u001b[0m \u001b[0mwn_PnPoly\u001b[0m\u001b[1;33m(\u001b[0m\u001b[0mpoints_T\u001b[0m\u001b[1;33m,\u001b[0m \u001b[0mvertices\u001b[0m\u001b[1;33m)\u001b[0m\u001b[1;33m\u001b[0m\u001b[1;33m\u001b[0m\u001b[0m\n\u001b[0m\u001b[0;32m     42\u001b[0m \u001b[0msum\u001b[0m\u001b[1;33m(\u001b[0m\u001b[0mflags\u001b[0m\u001b[1;33m)\u001b[0m\u001b[1;33m\u001b[0m\u001b[1;33m\u001b[0m\u001b[0m\n",
      "\u001b[1;32m<ipython-input-21-5fc79685971b>\u001b[0m in \u001b[0;36mwn_PnPoly\u001b[1;34m(points, V)\u001b[0m\n\u001b[0;32m     13\u001b[0m     \u001b[1;31m# loop through all edges of the polygon\u001b[0m\u001b[1;33m\u001b[0m\u001b[1;33m\u001b[0m\u001b[1;33m\u001b[0m\u001b[0m\n\u001b[0;32m     14\u001b[0m     wn += np.logical_and(\n\u001b[1;32m---> 15\u001b[1;33m         \u001b[0mV\u001b[0m\u001b[1;33m[\u001b[0m\u001b[1;33m:\u001b[0m\u001b[1;33m,\u001b[0m\u001b[1;36m1\u001b[0m\u001b[1;33m]\u001b[0m \u001b[1;33m<=\u001b[0m \u001b[0mpoints\u001b[0m\u001b[1;33m[\u001b[0m\u001b[1;33m:\u001b[0m\u001b[1;33m,\u001b[0m\u001b[1;36m1\u001b[0m\u001b[1;33m]\u001b[0m\u001b[1;33m,\u001b[0m\u001b[1;33m\u001b[0m\u001b[1;33m\u001b[0m\u001b[0m\n\u001b[0m\u001b[0;32m     16\u001b[0m         np.logical_and(\n\u001b[0;32m     17\u001b[0m             \u001b[1;33m(\u001b[0m\u001b[0mV2\u001b[0m\u001b[1;33m[\u001b[0m\u001b[1;33m:\u001b[0m\u001b[1;33m,\u001b[0m\u001b[1;36m1\u001b[0m\u001b[1;33m]\u001b[0m \u001b[1;33m>\u001b[0m \u001b[0mpoints\u001b[0m\u001b[1;33m[\u001b[0m\u001b[1;33m:\u001b[0m\u001b[1;33m,\u001b[0m\u001b[1;36m1\u001b[0m\u001b[1;33m]\u001b[0m\u001b[1;33m)\u001b[0m\u001b[1;33m,\u001b[0m\u001b[1;33m\u001b[0m\u001b[1;33m\u001b[0m\u001b[0m\n",
      "\u001b[1;31mValueError\u001b[0m: operands could not be broadcast together with shapes (30,) (633866,) "
     ]
    }
   ],
   "source": [
    "@jit(nopython=True, parallel=True, nogil=True, fastmath=True)\n",
    "def is_left(P0, P1, P2):\n",
    "    return (P1[:,0] - P0[:,0]) * (P2[:,1] - P0[:,1]) - (P2[:,0] - P0[:,0]) * (P1[:,1] - P0[:,1])\n",
    "\n",
    "#@jit(nopython=True, parallel=True, nogil=True, fastmath=True)\n",
    "def wn_PnPoly(points, V):\n",
    "    wn = np.zeros(points.shape[1], dtype=np.bool_)   # the winding number counter\n",
    "\n",
    "    # repeat the first vertex at end\n",
    "    #V = np.concatenate(V[:],V[0], axis=1)\n",
    "    V2 = np.roll(V, shift=1)\n",
    "\n",
    "    # loop through all edges of the polygon\n",
    "    wn += np.logical_and(\n",
    "        V[:,1] <= points[:,1], \n",
    "        np.logical_and(\n",
    "            (V2[:,1] > points[:,1]),\n",
    "            (is_left(V, V2, points) > 0)\n",
    "        )\n",
    "    ).sum()\n",
    "    wn -= np.logical_and(\n",
    "        V[:,1] > points[:,1],\n",
    "        np.logical_and(\n",
    "            (V2[:,1] <= points[1,:]),\n",
    "            (is_left(V, V2, points) < 0)\n",
    "        )\n",
    "    ).sum()\n",
    "    # repeat the first vertex at end\n",
    "    #if V[-1][1] <= points[1,:]:          # start y <= P[1]\n",
    "    #    if V[0][1] > points[1,:]:        # an upward crossing\n",
    "    #        if is_left(V[-1], V[0], points) > 0:  # P left of edge\n",
    "    #            wn += 1           # have a valid up intersect\n",
    "    #else:                         # start y > P[1] (no test needed)\n",
    "    #    if V[0][1] <= points[1,:]:       # a downward crossing\n",
    "    #        if is_left(V[-1], V[0], points) < 0:  # P right of edge\n",
    "    #            wn -= 1           # have a valid down intersect\n",
    "    \n",
    "    return wn\n",
    "points_T = points.T\n",
    "vertices = np.array(vertices)\n",
    "flags = wn_PnPoly(points_T, vertices)\n",
    "sum(flags)"
   ]
  },
  {
   "cell_type": "code",
   "execution_count": 17,
   "metadata": {
    "ExecuteTime": {
     "end_time": "2019-05-27T17:34:01.299081Z",
     "start_time": "2019-05-27T17:34:01.293077Z"
    },
    "hidden": true
   },
   "outputs": [
    {
     "data": {
      "text/plain": [
       "((633866, 2), (30, 2))"
      ]
     },
     "execution_count": 17,
     "metadata": {},
     "output_type": "execute_result"
    }
   ],
   "source": [
    "points_T.shape, vertices.shape"
   ]
  },
  {
   "cell_type": "code",
   "execution_count": null,
   "metadata": {
    "hidden": true
   },
   "outputs": [],
   "source": [
    "%%timeit\n",
    "flags = wn_PnPoly(points_T, vertices)"
   ]
  },
  {
   "cell_type": "code",
   "execution_count": null,
   "metadata": {
    "hidden": true
   },
   "outputs": [],
   "source": []
  },
  {
   "cell_type": "markdown",
   "metadata": {},
   "source": [
    "# Overview"
   ]
  },
  {
   "cell_type": "markdown",
   "metadata": {},
   "source": [
    "## Time Comparison"
   ]
  },
  {
   "cell_type": "code",
   "execution_count": 78,
   "metadata": {
    "ExecuteTime": {
     "end_time": "2019-05-28T07:28:50.517272Z",
     "start_time": "2019-05-28T07:28:50.490253Z"
    }
   },
   "outputs": [],
   "source": [
    "time_comparison = {\n",
    "    'Shapely (GEOS)': 23,\n",
    "    'Matplotlib Path': 0.16,\n",
    "    'Ray Tracing': 0.172,\n",
    "    'SoS Ray Tracing Iterated': 0.062,\n",
    "    'SoS Ray Tracing Vectorized': 0.038\n",
    "}"
   ]
  },
  {
   "cell_type": "code",
   "execution_count": 393,
   "metadata": {
    "ExecuteTime": {
     "end_time": "2019-05-24T18:17:35.877858Z",
     "start_time": "2019-05-24T18:17:34.117609Z"
    }
   },
   "outputs": [
    {
     "data": {
      "text/plain": [
       "Text(0, 0.5, 'Compute Time (seconds)')"
      ]
     },
     "execution_count": 393,
     "metadata": {},
     "output_type": "execute_result"
    },
    {
     "data": {
      "image/png": "[encoded data removed]",
      "text/plain": [
       "<Figure size 1080x720 with 1 Axes>"
      ]
     },
     "metadata": {
      "needs_background": "light"
     },
     "output_type": "display_data"
    }
   ],
   "source": [
    "fig, ax = plt.subplots(1,1,figsize=(15,10))\n",
    "ax.bar(time_comparison.keys(), time_comparison.values(), edgecolor='black', linewidth=0.7)\n",
    "ax.set_yscale('log')\n",
    "ax.set_ylabel('Compute Time (seconds)')"
   ]
  },
  {
   "cell_type": "code",
   "execution_count": 75,
   "metadata": {
    "ExecuteTime": {
     "end_time": "2019-05-28T07:28:32.951783Z",
     "start_time": "2019-05-28T07:28:32.943786Z"
    }
   },
   "outputs": [],
   "source": [
    "time_comparison = {\n",
    "    'Shapely (GEOS)': 23,\n",
    "    'Matplotlib Path': 0.16,\n",
    "    'Ray Tracing': {\n",
    "        'Pure Python': 60,\n",
    "        'Numba Looped': 1.5,\n",
    "        'Numba Envelope': 0.2,\n",
    "        'Numba Envelope w/ memory pre-allocation': 0.172\n",
    "    },\n",
    "    'SoS Ray Tracing': {\n",
    "        'Pure Python': 52,\n",
    "        'Numba Looped': 1.4,\n",
    "        'Numba Envelope': 0.1,\n",
    "        'Numba Envelope w/ memory pre-allocation': 0.062,\n",
    "        '+ Explicit first loop in bool': 0.047,\n",
    "        '+ Explicit first loop in bool vectorized': 0.038\n",
    "    }\n",
    "}"
   ]
  },
  {
   "cell_type": "code",
   "execution_count": 80,
   "metadata": {
    "ExecuteTime": {
     "end_time": "2019-05-28T07:29:07.295195Z",
     "start_time": "2019-05-28T07:29:07.279185Z"
    }
   },
   "outputs": [],
   "source": [
    "ray_tracing = {\n",
    "    'RT: Pure Python': 60,\n",
    "    'RT: Numba Looped': 1.5,\n",
    "    'RT: Numba Envelope': 0.216,\n",
    "    '+ memory pre-alloc.': 0.172\n",
    "}\n",
    "sos = {\n",
    "    'SoS RT: Pure Python': 52,\n",
    "    'SoS RT: Numba Looped': 1.4,\n",
    "    'SoS RT: Numba Envelope': 0.0999,\n",
    "    '+ mem. pre-alloc.': 0.0616,\n",
    "    '+ Explicit 1st loop (bool)': 0.047, \n",
    "    '+ Explicit 1st loop (bool) vectorized': 0.038,\n",
    "}\n",
    "time_comparison = {\n",
    "    'Shapely (GEOS)': 21.8,\n",
    "    'Matplotlib Path': 0.16,\n",
    "    **ray_tracing,\n",
    "    **sos\n",
    "}\n",
    "colors = [\n",
    "    # Orange, Purple \n",
    "    [0.90,0.40,0.00,0.75], [0.50,0.00,0.40,1.00],\n",
    "    # Greens\n",
    "    [0.00,0.25,0.00,1.00], [0.00,0.25,0.00,0.80], [0.00,0.25,0.00,0.60], [0.00,0.25,0.00,0.40],\n",
    "    # Blues\n",
    "    [0.00,0.00,0.30,0.90], [0.00,0.00,0.30,0.78], [0.00,0.00,0.30,0.66], [0.00,0.00,0.30,0.54], \n",
    "    [0.00,0.00,0.30,0.42], [0.00,0.00,0.30,0.30]\n",
    "]"
   ]
  },
  {
   "cell_type": "code",
   "execution_count": 81,
   "metadata": {
    "ExecuteTime": {
     "end_time": "2019-05-28T07:29:08.131790Z",
     "start_time": "2019-05-28T07:29:08.125786Z"
    }
   },
   "outputs": [],
   "source": [
    "stds = {\n",
    "    'Shapely (GEOS)': 1.34,\n",
    "    'Matplotlib Path': 0.00732,\n",
    "    'RT: Pure Python': 2.95,\n",
    "    'RT: Numba Looped': 0.0324,\n",
    "    'RT: Numba Envelope': 0.0047,\n",
    "    '+ memory pre-alloc.': 0.0026,\n",
    "    'SoS RT: Pure Python': 0,\n",
    "    'SoS RT: Numba Looped': 0.0311,\n",
    "    'SoS RT: Numba Envelope': 0.000483,\n",
    "    '+ mem. pre-alloc.': 0.000954,\n",
    "    '+ Explicit 1st loop (bool)': 0.00128,\n",
    "    '+ Explicit 1st loop (bool) vectorized': 0.000556\n",
    "}"
   ]
  },
  {
   "cell_type": "code",
   "execution_count": 82,
   "metadata": {
    "ExecuteTime": {
     "end_time": "2019-05-28T07:29:08.695190Z",
     "start_time": "2019-05-28T07:29:08.678179Z"
    }
   },
   "outputs": [
    {
     "ename": "IndexError",
     "evalue": "too many indices for array",
     "output_type": "error",
     "traceback": [
      "\u001b[1;31m---------------------------------------------------------------------------\u001b[0m",
      "\u001b[1;31mIndexError\u001b[0m                                Traceback (most recent call last)",
      "\u001b[1;32m<ipython-input-82-c56f79c3f43c>\u001b[0m in \u001b[0;36m<module>\u001b[1;34m\u001b[0m\n\u001b[1;32m----> 1\u001b[1;33m \u001b[0mtime_comparison_values\u001b[0m \u001b[1;33m=\u001b[0m \u001b[0mnp\u001b[0m\u001b[1;33m.\u001b[0m\u001b[0marray\u001b[0m\u001b[1;33m(\u001b[0m\u001b[0mtime_comparison\u001b[0m\u001b[1;33m.\u001b[0m\u001b[0mvalues\u001b[0m\u001b[1;33m(\u001b[0m\u001b[1;33m)\u001b[0m\u001b[1;33m)\u001b[0m\u001b[1;33m[\u001b[0m\u001b[1;36m1\u001b[0m\u001b[1;33m,\u001b[0m\u001b[1;33m:\u001b[0m\u001b[1;33m]\u001b[0m\u001b[1;33m\u001b[0m\u001b[1;33m\u001b[0m\u001b[0m\n\u001b[0m\u001b[0;32m      2\u001b[0m \u001b[0mprint\u001b[0m\u001b[1;33m(\u001b[0m\u001b[0mtime_comparison_values\u001b[0m\u001b[1;33m.\u001b[0m\u001b[0mshape\u001b[0m\u001b[1;33m)\u001b[0m\u001b[1;33m\u001b[0m\u001b[1;33m\u001b[0m\u001b[0m\n\u001b[0;32m      3\u001b[0m \u001b[0mtime_comparison_std\u001b[0m \u001b[1;33m=\u001b[0m \u001b[0mnp\u001b[0m\u001b[1;33m.\u001b[0m\u001b[0marray\u001b[0m\u001b[1;33m(\u001b[0m\u001b[0mtime_comparison\u001b[0m\u001b[1;33m.\u001b[0m\u001b[0mvalues\u001b[0m\u001b[1;33m(\u001b[0m\u001b[1;33m)\u001b[0m\u001b[1;33m)\u001b[0m\u001b[1;33m[\u001b[0m\u001b[1;36m2\u001b[0m\u001b[1;33m,\u001b[0m\u001b[1;33m:\u001b[0m\u001b[1;33m]\u001b[0m\u001b[1;33m\u001b[0m\u001b[1;33m\u001b[0m\u001b[0m\n\u001b[0;32m      4\u001b[0m \u001b[0mtime_comparison_keys\u001b[0m \u001b[1;33m=\u001b[0m \u001b[0mlist\u001b[0m\u001b[1;33m(\u001b[0m\u001b[0mtime_comparison\u001b[0m\u001b[1;33m.\u001b[0m\u001b[0mkeys\u001b[0m\u001b[1;33m(\u001b[0m\u001b[1;33m)\u001b[0m\u001b[1;33m)\u001b[0m\u001b[1;33m\u001b[0m\u001b[1;33m\u001b[0m\u001b[0m\n",
      "\u001b[1;31mIndexError\u001b[0m: too many indices for array"
     ]
    }
   ],
   "source": [
    "time_comparison_values = np.array(time_comparison.values())[1,:]\n",
    "print(time_comparison_values.shape)\n",
    "time_comparison_std = np.array(time_comparison.values())[2,:]\n",
    "time_comparison_keys = list(time_comparison.keys())\n"
   ]
  },
  {
   "cell_type": "code",
   "execution_count": 83,
   "metadata": {
    "ExecuteTime": {
     "end_time": "2019-05-28T07:29:18.363061Z",
     "start_time": "2019-05-28T07:29:11.711334Z"
    }
   },
   "outputs": [
    {
     "data": {
      "text/plain": [
       "Text(0.5, 1.0, 'Point-in-Polygon selection performance comparison')"
      ]
     },
     "execution_count": 83,
     "metadata": {},
     "output_type": "execute_result"
    },
    {
     "data": {
      "image/png": "[encoded data removed]",
      "text/plain": [
       "<Figure size 936x504 with 1 Axes>"
      ]
     },
     "metadata": {
      "needs_background": "light"
     },
     "output_type": "display_data"
    }
   ],
   "source": [
    "fig, ax = plt.subplots(1,1,figsize=(13,7))\n",
    "ax.bar(time_comparison.keys(), time_comparison.values(), yerr=stds.values(),\n",
    "       edgecolor='black', linewidth=0.8, color=colors)\n",
    "ax.set_yscale('log')\n",
    "ax.set_ylabel('Compute Time (seconds)')\n",
    "ax.xaxis.set_tick_params(rotation=70)\n",
    "\n",
    "# Reference of refresh rate\n",
    "ref = ax.axhline(1/25, label='25Hz', color='k', linestyle=\"--\", linewidth=0.7)\n",
    "\n",
    "# Legend\n",
    "import matplotlib.patches as mpatches\n",
    "orange_patch = mpatches.Patch(color=[0.90,0.40,0.00,0.80], label='Shapely (GEOS)')\n",
    "purple_patch = mpatches.Patch(color=[0.50,0.00,0.40,0.90], label='Matplotlib Path')\n",
    "green_patch  = mpatches.Patch(color=[0.00,0.25,0.00,0.80], label='Ray Tracing')\n",
    "blue_patch   = mpatches.Patch(color=[0.00,0.00,0.25,0.75], label='SoS Ray Tracing')\n",
    "ax.legend(handles=[orange_patch, purple_patch, green_patch, blue_patch, ref])\n",
    "\n",
    "# Value\n",
    "import matplotlib.patheffects as path_effects\n",
    "y = list(time_comparison.values())\n",
    "for i, v in enumerate(y):\n",
    "    label_text = ax.text(i, v*1.08, str(v)+\"s\", horizontalalignment='center', fontweight='demi')#, fontweight='bold', color=colors[i])\n",
    "    # Ensure readability with large errorbars\n",
    "    label_text.set_path_effects([\n",
    "        path_effects.Stroke(linewidth=1, foreground='white'),\n",
    "        path_effects.Normal()\n",
    "    ])\n",
    "\n",
    "# Title\n",
    "ax.set_title('Point-in-Polygon selection performance comparison', fontsize=14)\n",
    "#fig.tight_layout()"
   ]
  },
  {
   "cell_type": "code",
   "execution_count": 708,
   "metadata": {
    "ExecuteTime": {
     "end_time": "2019-05-25T07:02:00.715660Z",
     "start_time": "2019-05-25T07:02:00.706653Z"
    }
   },
   "outputs": [
    {
     "data": {
      "text/plain": [
       "4.2105263157894735"
      ]
     },
     "execution_count": 708,
     "metadata": {},
     "output_type": "execute_result"
    }
   ],
   "source": [
    "0.16/0.038"
   ]
  },
  {
   "cell_type": "markdown",
   "metadata": {},
   "source": [
    "## Throughput"
   ]
  },
  {
   "cell_type": "code",
   "execution_count": 70,
   "metadata": {
    "ExecuteTime": {
     "end_time": "2019-05-28T07:28:08.721560Z",
     "start_time": "2019-05-28T07:28:08.518416Z"
    }
   },
   "outputs": [],
   "source": [
    "reference_rate = 25\n",
    "reference_time = 1/reference_rate\n",
    "data_length = points.shape[1]"
   ]
  },
  {
   "cell_type": "code",
   "execution_count": 84,
   "metadata": {
    "ExecuteTime": {
     "end_time": "2019-05-28T07:29:24.802638Z",
     "start_time": "2019-05-28T07:29:24.797635Z"
    }
   },
   "outputs": [],
   "source": [
    "throughput = {\n",
    "    key: (data_length*reference_time)/time_comparison[key]\n",
    "    for key in time_comparison.keys()\n",
    "}"
   ]
  },
  {
   "cell_type": "code",
   "execution_count": 85,
   "metadata": {
    "ExecuteTime": {
     "end_time": "2019-05-28T07:29:27.181329Z",
     "start_time": "2019-05-28T07:29:26.481831Z"
    }
   },
   "outputs": [
    {
     "data": {
      "text/plain": [
       "Text(0.5, 1.0, 'Point-in-Polygon selection throughput\\n(computed points within 25Hz)')"
      ]
     },
     "execution_count": 85,
     "metadata": {},
     "output_type": "execute_result"
    },
    {
     "data": {
      "image/png": "[encoded data removed]",
      "text/plain": [
       "<Figure size 936x504 with 1 Axes>"
      ]
     },
     "metadata": {
      "needs_background": "light"
     },
     "output_type": "display_data"
    }
   ],
   "source": [
    "from matplotlib.ticker import StrMethodFormatter\n",
    "fig, ax = plt.subplots(1,1,figsize=(13,7))\n",
    "ax.bar(throughput.keys(), throughput.values(), #yerr=stds.values(),\n",
    "       edgecolor='black', linewidth=0.8, color=colors)\n",
    "#ax.set_yscale('log')\n",
    "ax.set_ylabel('Computed Points in Reference Time (points)')\n",
    "ax.xaxis.set_tick_params(rotation=70)\n",
    "ax.yaxis.set_major_formatter(StrMethodFormatter('{x:,.0f}'))\n",
    "\n",
    "\n",
    "# Legend\n",
    "import matplotlib.patches as mpatches\n",
    "orange_patch = mpatches.Patch(color=[0.90,0.40,0.00,0.80], label='Shapely (GEOS)')\n",
    "purple_patch = mpatches.Patch(color=[0.50,0.00,0.40,0.90], label='Matplotlib Path')\n",
    "green_patch  = mpatches.Patch(color=[0.00,0.25,0.00,0.70], label='Ray Tracing')\n",
    "blue_patch   = mpatches.Patch(color=[0.00,0.00,0.25,0.65], label='SoS Ray Tracing')\n",
    "ax.legend(handles=[orange_patch, purple_patch, green_patch, blue_patch])\n",
    "\n",
    "# Value\n",
    "import matplotlib.patheffects as path_effects\n",
    "y = list(throughput.values())\n",
    "for i, v in enumerate(y):\n",
    "    label_text = ax.text(i, v+7000, \"{:,.0f}\".format(v)+\"$\\,$pts\", horizontalalignment='center')#, fontweight='demi')#, fontweight='bold', color=colors[i])\n",
    "    # Ensure readability with large errorbars\n",
    "    label_text.set_path_effects([\n",
    "        path_effects.Stroke(linewidth=1, foreground='white'),\n",
    "        path_effects.Normal()\n",
    "    ])\n",
    "\n",
    "# Title\n",
    "ax.set_title('Point-in-Polygon selection throughput\\n(computed points within {}Hz)'.format(reference_rate), fontsize=14)\n",
    "#fig.tight_layout()"
   ]
  }
 ],
 "metadata": {
  "kernelspec": {
   "display_name": "Python 3",
   "language": "python",
   "name": "python3"
  },
  "language_info": {
   "codemirror_mode": {
    "name": "ipython",
    "version": 3
   },
   "file_extension": ".py",
   "mimetype": "text/x-python",
   "name": "python",
   "nbconvert_exporter": "python",
   "pygments_lexer": "ipython3",
   "version": "3.7.3"
  },
  "toc": {
   "base_numbering": 1,
   "nav_menu": {},
   "number_sections": true,
   "sideBar": true,
   "skip_h1_title": false,
   "title_cell": "Table of Contents",
   "title_sidebar": "Contents",
   "toc_cell": false,
   "toc_position": {},
   "toc_section_display": true,
   "toc_window_display": false
  },
  "varInspector": {
   "cols": {
    "lenName": 16,
    "lenType": 16,
    "lenVar": 40
   },
   "kernels_config": {
    "python": {
     "delete_cmd_postfix": "",
     "delete_cmd_prefix": "del ",
     "library": "var_list.py",
     "varRefreshCmd": "print(var_dic_list())"
    },
    "r": {
     "delete_cmd_postfix": ") ",
     "delete_cmd_prefix": "rm(",
     "library": "var_list.r",
     "varRefreshCmd": "cat(var_dic_list()) "
    }
   },
   "types_to_exclude": [
    "module",
    "function",
    "builtin_function_or_method",
    "instance",
    "_Feature"
   ],
   "window_display": false
  }
 },
 "nbformat": 4,
 "nbformat_minor": 2
}
