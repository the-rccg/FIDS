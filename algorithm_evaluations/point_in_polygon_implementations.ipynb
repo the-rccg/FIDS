{
 "cells": [
  {
   "cell_type": "markdown",
   "metadata": {
    "ExecuteTime": {
     "end_time": "2019-05-14T10:10:14.419126Z",
     "start_time": "2019-05-14T10:10:14.414125Z"
    }
   },
   "source": [
    "# Point in Polygon Tests"
   ]
  },
  {
   "cell_type": "markdown",
   "metadata": {
    "ExecuteTime": {
     "end_time": "2019-05-14T10:09:58.305682Z",
     "start_time": "2019-05-14T10:09:58.260649Z"
    }
   },
   "source": [
    "# Setup"
   ]
  },
  {
   "cell_type": "code",
   "execution_count": 1,
   "metadata": {
    "ExecuteTime": {
     "end_time": "2019-05-24T09:35:54.254235Z",
     "start_time": "2019-05-24T09:35:53.617767Z"
    }
   },
   "outputs": [],
   "source": [
    "import numpy as np\n",
    "import json\n",
    "from pprint import pprint\n",
    "from memory_profiler import profile"
   ]
  },
  {
   "cell_type": "code",
   "execution_count": 3,
   "metadata": {
    "ExecuteTime": {
     "end_time": "2019-05-24T09:36:40.763138Z",
     "start_time": "2019-05-24T09:36:38.836715Z"
    }
   },
   "outputs": [],
   "source": [
    "from astropy.io import fits\n",
    "data = fits.open('../../PHAT_BEAST/b22_stats_toothpick_v1.1.fits', memmap=True)[1]"
   ]
  },
  {
   "cell_type": "code",
   "execution_count": 4,
   "metadata": {
    "ExecuteTime": {
     "end_time": "2019-05-24T09:36:43.932502Z",
     "start_time": "2019-05-24T09:36:41.754792Z"
    }
   },
   "outputs": [],
   "source": [
    "from numba import jit"
   ]
  },
  {
   "cell_type": "code",
   "execution_count": 294,
   "metadata": {
    "ExecuteTime": {
     "end_time": "2019-05-14T11:58:15.006051Z",
     "start_time": "2019-05-14T11:58:14.995043Z"
    }
   },
   "outputs": [],
   "source": [
    "vertices = [(42.08966338773695, 11.63993711820775),\n",
    " (42.16591939189332, 11.791014549991507),\n",
    " (42.172697703373885, 11.792076979097095),\n",
    " (42.15775460760991, 11.86325972917151),\n",
    " (42.10768753417391, 11.954628632252101)]"
   ]
  },
  {
   "cell_type": "code",
   "execution_count": 5,
   "metadata": {
    "ExecuteTime": {
     "end_time": "2019-05-24T09:36:43.964508Z",
     "start_time": "2019-05-24T09:36:43.951498Z"
    }
   },
   "outputs": [],
   "source": [
    "vertices = [(42.098136277087654, 11.957815919568866),\n",
    " (42.09613359415022, 11.967377781519161),\n",
    " (42.08534991679477, 11.969290140940114),\n",
    " (42.085658021862066, 11.862197300065922),\n",
    " (42.08673638959761, 11.833511714215039),\n",
    " (42.08750665226586, 11.818637706736803),\n",
    " (42.09536333148197, 11.737893094712094),\n",
    " (42.100909222693346, 11.713457225283562),\n",
    " (42.10614700883742, 11.695395930488562),\n",
    " (42.105992956303766, 11.693271072277387),\n",
    " (42.10768753417391, 11.677334635693562),\n",
    " (42.112463162717034, 11.644399333420326),\n",
    " (42.114157740587174, 11.63993711820775),\n",
    " (42.119087421663956, 11.641212046103561),\n",
    " (42.12263062993789, 11.644399333420326),\n",
    " (42.12478736540898, 11.64758662073709),\n",
    " (42.12524952300992, 11.650773908053855),\n",
    " (42.124633312875325, 11.645461762525914),\n",
    " (42.12694410088007, 11.649711478948268),\n",
    " (42.13664941049996, 11.655023624476208),\n",
    " (42.140192618773895, 11.663523057320914),\n",
    " (42.141579091576745, 11.742142811134446),\n",
    " (42.1405007238412, 11.793139408202684),\n",
    " (42.1395764086393, 11.799513982836213),\n",
    " (42.1398845137066, 11.835636572426214),\n",
    " (42.13834398837011, 11.912131468028571),\n",
    " (42.13834398837011, 11.910006609817394),\n",
    " (42.13572509529807, 11.923818188190042),\n",
    " (42.12771436354831, 11.94931648672416),\n",
    " (42.12802246861561, 11.950378915829749)]"
   ]
  },
  {
   "cell_type": "code",
   "execution_count": 6,
   "metadata": {
    "ExecuteTime": {
     "end_time": "2019-05-24T09:36:49.722639Z",
     "start_time": "2019-05-24T09:36:45.861857Z"
    }
   },
   "outputs": [],
   "source": [
    "points = np.vstack([data.data['DEC'], data.data['RA']])"
   ]
  },
  {
   "cell_type": "code",
   "execution_count": 7,
   "metadata": {
    "ExecuteTime": {
     "end_time": "2019-05-24T09:36:49.766632Z",
     "start_time": "2019-05-24T09:36:49.751620Z"
    }
   },
   "outputs": [
    {
     "data": {
      "text/plain": [
       "array([[42.16295068, 11.94153659],\n",
       "       [42.1134434 , 11.68024732],\n",
       "       [42.11515299, 11.88223938],\n",
       "       ...,\n",
       "       [42.15991029, 11.69838903],\n",
       "       [42.15988112, 11.69978689],\n",
       "       [42.16066163, 11.69991191]])"
      ]
     },
     "execution_count": 7,
     "metadata": {},
     "output_type": "execute_result"
    }
   ],
   "source": [
    "points.T"
   ]
  },
  {
   "cell_type": "code",
   "execution_count": 280,
   "metadata": {
    "ExecuteTime": {
     "end_time": "2019-05-14T10:33:57.798485Z",
     "start_time": "2019-05-14T10:33:57.794482Z"
    }
   },
   "outputs": [],
   "source": [
    "vertices = np.array([[42.09, 11.94], [42.09, 11.90], [42.11, 11.90], [42.11, 11,95]])"
   ]
  },
  {
   "cell_type": "code",
   "execution_count": 12,
   "metadata": {
    "ExecuteTime": {
     "end_time": "2019-05-24T09:37:21.596252Z",
     "start_time": "2019-05-24T09:37:21.591248Z"
    }
   },
   "outputs": [],
   "source": [
    "vertices = np.array(vertices)"
   ]
  },
  {
   "cell_type": "code",
   "execution_count": 8,
   "metadata": {
    "ExecuteTime": {
     "end_time": "2019-05-24T09:36:58.090546Z",
     "start_time": "2019-05-24T09:36:54.815219Z"
    }
   },
   "outputs": [],
   "source": [
    "from matplotlib import pylab as plt"
   ]
  },
  {
   "cell_type": "code",
   "execution_count": 9,
   "metadata": {
    "ExecuteTime": {
     "end_time": "2019-05-24T09:36:58.112562Z",
     "start_time": "2019-05-24T09:36:58.109560Z"
    }
   },
   "outputs": [],
   "source": [
    "from matplotlib import patches"
   ]
  },
  {
   "cell_type": "code",
   "execution_count": 13,
   "metadata": {
    "ExecuteTime": {
     "end_time": "2019-05-24T09:37:36.942158Z",
     "start_time": "2019-05-24T09:37:24.336199Z"
    },
    "scrolled": false
   },
   "outputs": [
    {
     "data": {
      "text/plain": [
       "<matplotlib.patches.Polygon at 0xc103d7ed68>"
      ]
     },
     "execution_count": 13,
     "metadata": {},
     "output_type": "execute_result"
    },
    {
     "data": {
      "image/png": "[encoded data removed]",
      "text/plain": [
       "<Figure size 1080x432 with 1 Axes>"
      ]
     },
     "metadata": {
      "needs_background": "light"
     },
     "output_type": "display_data"
    }
   ],
   "source": [
    "fig, ax = plt.subplots(1,1, figsize=(15,6))\n",
    "ax.scatter(data.data['DEC'], data.data['RA'])\n",
    "ax.add_patch(patches.Polygon(np.array(vertices), closed=False, fill=True, color='r', alpha=0.5))"
   ]
  },
  {
   "cell_type": "code",
   "execution_count": 11,
   "metadata": {
    "ExecuteTime": {
     "end_time": "2019-05-24T09:37:10.319238Z",
     "start_time": "2019-05-24T09:37:10.311232Z"
    }
   },
   "outputs": [],
   "source": [
    "def plot(flagged):\n",
    "    fig, ax = plt.subplots(1,1, figsize=(15,6))\n",
    "    ax.scatter(data.data['DEC'], data.data['RA'])\n",
    "    ax.add_patch(patches.Polygon(vertices, closed=False, fill=True, color='r', alpha=0.2))\n",
    "    ax.scatter(data.data['DEC'][flagged], data.data['RA'][flagged], color='k')"
   ]
  },
  {
   "cell_type": "markdown",
   "metadata": {
    "heading_collapsed": true
   },
   "source": [
    "## Other stuff"
   ]
  },
  {
   "cell_type": "code",
   "execution_count": 33,
   "metadata": {
    "ExecuteTime": {
     "end_time": "2019-05-13T16:31:36.712587Z",
     "start_time": "2019-05-13T16:31:10.434027Z"
    },
    "hidden": true
   },
   "outputs": [],
   "source": [
    "shapely_points = np.apply_along_axis(Point, 1, points.T)"
   ]
  },
  {
   "cell_type": "code",
   "execution_count": 21,
   "metadata": {
    "ExecuteTime": {
     "end_time": "2019-05-13T16:26:43.322974Z",
     "start_time": "2019-05-13T16:26:43.306963Z"
    },
    "hidden": true
   },
   "outputs": [],
   "source": [
    "def clip(subjectPolygon, clipPolygon):\n",
    "   def inside(p):\n",
    "      return(cp2[0]-cp1[0])*(p[1]-cp1[1]) > (cp2[1]-cp1[1])*(p[0]-cp1[0])\n",
    " \n",
    "   def computeIntersection():\n",
    "      dc = [ cp1[0] - cp2[0], cp1[1] - cp2[1] ]\n",
    "      dp = [ s[0] - e[0], s[1] - e[1] ]\n",
    "      n1 = cp1[0] * cp2[1] - cp1[1] * cp2[0]\n",
    "      n2 = s[0] * e[1] - s[1] * e[0] \n",
    "      n3 = 1.0 / (dc[0] * dp[1] - dc[1] * dp[0])\n",
    "      return [(n1*dp[0] - n2*dc[0]) * n3, (n1*dp[1] - n2*dc[1]) * n3]\n",
    " \n",
    "   outputList = subjectPolygon\n",
    "   cp1 = clipPolygon[-1]\n",
    " \n",
    "   for clipVertex in clipPolygon:\n",
    "      cp2 = clipVertex\n",
    "      inputList = outputList\n",
    "      outputList = []\n",
    "      s = inputList[-1]\n",
    " \n",
    "      for subjectVertex in inputList:\n",
    "         e = subjectVertex\n",
    "         if inside(e):\n",
    "            if not inside(s):\n",
    "               outputList.append(computeIntersection())\n",
    "            outputList.append(e)\n",
    "         elif inside(s):\n",
    "            outputList.append(computeIntersection())\n",
    "         s = e\n",
    "      cp1 = cp2\n",
    "   return(outputList)\n",
    " "
   ]
  },
  {
   "cell_type": "code",
   "execution_count": null,
   "metadata": {
    "hidden": true
   },
   "outputs": [],
   "source": []
  },
  {
   "cell_type": "code",
   "execution_count": null,
   "metadata": {
    "hidden": true
   },
   "outputs": [],
   "source": []
  },
  {
   "cell_type": "markdown",
   "metadata": {},
   "source": [
    "## GEOS via Shapely (21.8s)"
   ]
  },
  {
   "cell_type": "code",
   "execution_count": 671,
   "metadata": {
    "ExecuteTime": {
     "end_time": "2019-05-25T05:42:36.618991Z",
     "start_time": "2019-05-25T05:42:36.611987Z"
    }
   },
   "outputs": [],
   "source": [
    "# Option 1:  Shapely\n",
    "# https://automating-gis-processes.github.io/CSC18/lessons/L4/point-in-polygon.html\n",
    "#import shapely.speedups\n",
    "#shapely.speedups.enable()\n",
    "from shapely.geometry import Point\n",
    "from shapely.geometry.polygon import Polygon\n",
    "polygon = Polygon(vertices)"
   ]
  },
  {
   "cell_type": "code",
   "execution_count": 672,
   "metadata": {
    "ExecuteTime": {
     "end_time": "2019-05-25T05:42:48.428388Z",
     "start_time": "2019-05-25T05:42:40.020409Z"
    }
   },
   "outputs": [],
   "source": [
    "shapely_points = [Point(points[:,i]) for i in range(points.shape[1])]"
   ]
  },
  {
   "cell_type": "code",
   "execution_count": 676,
   "metadata": {
    "ExecuteTime": {
     "end_time": "2019-05-25T05:43:40.414100Z",
     "start_time": "2019-05-25T05:43:28.880902Z"
    }
   },
   "outputs": [],
   "source": [
    "@jit(parallel=True)\n",
    "def to_points(points):\n",
    "    shapely_points = np.empty(points.shape[0], dtype=Point)\n",
    "    for i in range(points.shape[0]):\n",
    "        shapely_points[i] = Point(points[i])\n",
    "    return shapely_points\n",
    "_ = to_points(points.T)"
   ]
  },
  {
   "cell_type": "code",
   "execution_count": 677,
   "metadata": {
    "ExecuteTime": {
     "end_time": "2019-05-25T05:43:54.026773Z",
     "start_time": "2019-05-25T05:43:42.006234Z"
    }
   },
   "outputs": [],
   "source": [
    "shapely_points = to_points(points.T)"
   ]
  },
  {
   "cell_type": "code",
   "execution_count": 678,
   "metadata": {
    "ExecuteTime": {
     "end_time": "2019-05-25T05:44:12.986249Z",
     "start_time": "2019-05-25T05:43:56.062220Z"
    }
   },
   "outputs": [],
   "source": [
    "flags = [polygon.contains(pt) for pt in shapely_points]"
   ]
  },
  {
   "cell_type": "code",
   "execution_count": 679,
   "metadata": {
    "ExecuteTime": {
     "end_time": "2019-05-25T05:44:36.789164Z",
     "start_time": "2019-05-25T05:44:17.503458Z"
    }
   },
   "outputs": [],
   "source": [
    "@jit(parallel=True)\n",
    "def to_flags(points):\n",
    "    flags = np.zeros(points.shape[0], dtype=np.bool_)\n",
    "    for i in range(points.shape[0]):\n",
    "        flags[i] = polygon.contains(points[i])\n",
    "    return flags\n",
    "_ = to_flags(shapely_points)"
   ]
  },
  {
   "cell_type": "code",
   "execution_count": 680,
   "metadata": {
    "ExecuteTime": {
     "end_time": "2019-05-25T05:44:50.338810Z",
     "start_time": "2019-05-25T05:44:38.383301Z"
    }
   },
   "outputs": [],
   "source": [
    "flags = to_flags(shapely_points)"
   ]
  },
  {
   "cell_type": "code",
   "execution_count": 655,
   "metadata": {
    "ExecuteTime": {
     "end_time": "2019-05-25T05:40:53.917447Z",
     "start_time": "2019-05-25T05:40:24.808762Z"
    }
   },
   "outputs": [],
   "source": [
    "flags = to_flags(to_points(points.T))"
   ]
  },
  {
   "cell_type": "code",
   "execution_count": 685,
   "metadata": {
    "ExecuteTime": {
     "end_time": "2019-05-25T05:48:53.447774Z",
     "start_time": "2019-05-25T05:45:46.875865Z"
    }
   },
   "outputs": [
    {
     "name": "stdout",
     "output_type": "stream",
     "text": [
      "21.8 s ± 1.34 s per loop (mean ± std. dev. of 7 runs, 1 loop each)\n"
     ]
    }
   ],
   "source": [
    "%%timeit\n",
    "polygon = Polygon(vertices)\n",
    "shapely_points = to_points(points.T)\n",
    "flags = to_flags(shapely_points)"
   ]
  },
  {
   "cell_type": "code",
   "execution_count": 684,
   "metadata": {
    "ExecuteTime": {
     "end_time": "2019-05-25T05:45:41.156800Z",
     "start_time": "2019-05-25T05:45:41.148797Z"
    }
   },
   "outputs": [
    {
     "name": "stdout",
     "output_type": "stream",
     "text": [
      "[False  True  True ... False False False]\n",
      "(633,866)  225,925\n"
     ]
    }
   ],
   "source": [
    "print(flags)\n",
    "print(\"({:,})  {:,}\".format(flags.shape[0], flags.sum()))"
   ]
  },
  {
   "cell_type": "code",
   "execution_count": 656,
   "metadata": {
    "ExecuteTime": {
     "end_time": "2019-05-25T05:41:19.925415Z",
     "start_time": "2019-05-25T05:40:53.971486Z"
    }
   },
   "outputs": [
    {
     "data": {
      "image/png": "[encoded data removed]",
      "text/plain": [
       "<Figure size 1080x432 with 1 Axes>"
      ]
     },
     "metadata": {
      "needs_background": "light"
     },
     "output_type": "display_data"
    }
   ],
   "source": [
    "plot(flags)"
   ]
  },
  {
   "cell_type": "markdown",
   "metadata": {},
   "source": [
    "### Performance"
   ]
  },
  {
   "cell_type": "code",
   "execution_count": null,
   "metadata": {},
   "outputs": [],
   "source": [
    "%%timeit -o\n",
    "polygon = Polygon(vertices)\n",
    "shapely_points = to_points(points.T)\n",
    "flags = to_flags(shapely_points)"
   ]
  },
  {
   "cell_type": "code",
   "execution_count": null,
   "metadata": {},
   "outputs": [],
   "source": [
    "performances['Shapely (GEOS)'] = _"
   ]
  },
  {
   "cell_type": "markdown",
   "metadata": {
    "heading_collapsed": true
   },
   "source": [
    "## Matplotlib Path (0.16s)"
   ]
  },
  {
   "cell_type": "code",
   "execution_count": 319,
   "metadata": {
    "ExecuteTime": {
     "end_time": "2019-05-24T16:45:07.184257Z",
     "start_time": "2019-05-24T16:45:07.172252Z"
    },
    "hidden": true
   },
   "outputs": [],
   "source": [
    "# Option 2:  Matplotlib\n",
    "from matplotlib import path\n",
    "import matplotlib.pyplot as plt\n",
    "polygon = path.Path(vertices)"
   ]
  },
  {
   "cell_type": "code",
   "execution_count": 378,
   "metadata": {
    "ExecuteTime": {
     "end_time": "2019-05-24T17:25:42.814240Z",
     "start_time": "2019-05-24T17:25:29.541552Z"
    },
    "hidden": true
   },
   "outputs": [
    {
     "name": "stdout",
     "output_type": "stream",
     "text": [
      "164 ms ± 7.32 ms per loop (mean ± std. dev. of 7 runs, 10 loops each)\n"
     ]
    }
   ],
   "source": [
    "%%timeit\n",
    "polygon = path.Path(vertices)\n",
    "flags = polygon.contains_points(points.T)"
   ]
  },
  {
   "cell_type": "code",
   "execution_count": 321,
   "metadata": {
    "ExecuteTime": {
     "end_time": "2019-05-24T16:45:37.905097Z",
     "start_time": "2019-05-24T16:45:37.890077Z"
    },
    "hidden": true
   },
   "outputs": [
    {
     "name": "stdout",
     "output_type": "stream",
     "text": [
      "[0. 1. 1. ... 0. 0. 0.]\n",
      "(633,866)  225,925.0\n"
     ]
    }
   ],
   "source": [
    "print(flags)\n",
    "print(\"({:,})  {:,}\".format(flags.shape[0], flags.sum()))"
   ]
  },
  {
   "cell_type": "markdown",
   "metadata": {},
   "source": [
    "## Ray Tracing (best: 0.156s)"
   ]
  },
  {
   "cell_type": "markdown",
   "metadata": {},
   "source": [
    "### Ray Tracing Python (60s)"
   ]
  },
  {
   "cell_type": "code",
   "execution_count": 686,
   "metadata": {
    "ExecuteTime": {
     "end_time": "2019-05-25T05:52:08.314827Z",
     "start_time": "2019-05-25T05:52:08.301817Z"
    }
   },
   "outputs": [],
   "source": [
    "# Option 3:  Ray Tracing\n",
    "def ray_tracing(x, y, poly):\n",
    "    n = len(poly)\n",
    "    inside = False\n",
    "    xints = 0.0\n",
    "    p1x, p1y = poly[0]\n",
    "    p2x, p2y = [0.0, 0.0]\n",
    "    for i in range(n+1):\n",
    "        p2x, p2y = poly[i % n]\n",
    "        if y > min(p1y, p2y):\n",
    "            if y <= max(p1y, p2y):\n",
    "                if x <= max(p1x, p2x):\n",
    "                    if p1y != p2y:\n",
    "                        xints = (y-p1y)*(p2x-p1x)/(p2y-p1y)+p1x\n",
    "                    if p1x == p2x or x <= xints:\n",
    "                        inside = not inside\n",
    "        p1x, p1y = p2x, p2y\n",
    "    return inside"
   ]
  },
  {
   "cell_type": "code",
   "execution_count": 309,
   "metadata": {
    "ExecuteTime": {
     "end_time": "2019-05-24T16:36:12.856375Z",
     "start_time": "2019-05-24T16:35:31.895746Z"
    }
   },
   "outputs": [
    {
     "name": "stdout",
     "output_type": "stream",
     "text": [
      "Wall time: 41 s\n"
     ]
    }
   ],
   "source": [
    "%%time\n",
    "flags = np.zeros(len(points.T))\n",
    "for i, point in enumerate(points.T):\n",
    "    flags[i] = ray_tracing(*point, vertices)"
   ]
  },
  {
   "cell_type": "code",
   "execution_count": 687,
   "metadata": {
    "ExecuteTime": {
     "end_time": "2019-05-25T06:00:01.880815Z",
     "start_time": "2019-05-25T05:52:09.656780Z"
    }
   },
   "outputs": [
    {
     "name": "stdout",
     "output_type": "stream",
     "text": [
      "60 s ± 2.95 s per loop (mean ± std. dev. of 7 runs, 1 loop each)\n"
     ]
    }
   ],
   "source": [
    "%%timeit\n",
    "flags = np.zeros(len(points.T))\n",
    "for i, point in enumerate(points.T):\n",
    "    flags[i] = ray_tracing(*point, vertices)"
   ]
  },
  {
   "cell_type": "markdown",
   "metadata": {
    "heading_collapsed": true
   },
   "source": [
    "### Numba Accelerated (1.5s)"
   ]
  },
  {
   "cell_type": "code",
   "execution_count": 313,
   "metadata": {
    "ExecuteTime": {
     "end_time": "2019-05-24T16:43:46.834040Z",
     "start_time": "2019-05-24T16:43:46.822032Z"
    },
    "hidden": true
   },
   "outputs": [],
   "source": [
    "# Option 3:  Numba Ray Tracing\n",
    "@jit(nopython=True, parallel=True)\n",
    "def ray_tracing(x, y, poly):\n",
    "    n = len(poly)\n",
    "    inside = False\n",
    "    xints = 0.0\n",
    "    p1x, p1y = poly[0]\n",
    "    p2x, p2y = [0.0, 0.0]\n",
    "    for i in range(n+1):\n",
    "        p2x, p2y = poly[i % n]\n",
    "        if y > min(p1y, p2y):\n",
    "            if y <= max(p1y, p2y):\n",
    "                if x <= max(p1x, p2x):\n",
    "                    if p1y != p2y:\n",
    "                        xints = (y-p1y)*(p2x-p1x)/(p2y-p1y)+p1x\n",
    "                    if p1x == p2x or x <= xints:\n",
    "                        inside = not inside\n",
    "        p1x, p1y = p2x, p2y\n",
    "    return inside"
   ]
  },
  {
   "cell_type": "code",
   "execution_count": 314,
   "metadata": {
    "ExecuteTime": {
     "end_time": "2019-05-24T16:43:50.683776Z",
     "start_time": "2019-05-24T16:43:48.796438Z"
    },
    "hidden": true
   },
   "outputs": [
    {
     "name": "stdout",
     "output_type": "stream",
     "text": [
      "[0. 1. 1. ... 0. 0. 0.]\n",
      "(633,866)  225,925.0\n"
     ]
    }
   ],
   "source": [
    "flags = np.zeros(len(points.T))\n",
    "for i, point in enumerate(points.T):\n",
    "    flags[i] = ray_tracing(*point, vertices)\n",
    "print(flags)\n",
    "print(\"({:,})  {:,}\".format(flags.shape[0], flags.sum()))"
   ]
  },
  {
   "cell_type": "code",
   "execution_count": 315,
   "metadata": {
    "ExecuteTime": {
     "end_time": "2019-05-24T16:44:22.056204Z",
     "start_time": "2019-05-24T16:44:09.764335Z"
    },
    "hidden": true
   },
   "outputs": [
    {
     "name": "stdout",
     "output_type": "stream",
     "text": [
      "1.53 s ± 32.4 ms per loop (mean ± std. dev. of 7 runs, 1 loop each)\n"
     ]
    }
   ],
   "source": [
    "%%timeit \n",
    "flags = np.zeros(len(points.T))\n",
    "for i, point in enumerate(points.T):\n",
    "    flags[i] = ray_tracing(*point, vertices)"
   ]
  },
  {
   "cell_type": "markdown",
   "metadata": {
    "heading_collapsed": true
   },
   "source": [
    "### Numba Envelope Accelerated (0.20s)"
   ]
  },
  {
   "cell_type": "code",
   "execution_count": 316,
   "metadata": {
    "ExecuteTime": {
     "end_time": "2019-05-24T16:44:43.567473Z",
     "start_time": "2019-05-24T16:44:42.951028Z"
    },
    "hidden": true
   },
   "outputs": [
    {
     "name": "stdout",
     "output_type": "stream",
     "text": [
      "[0. 1. 1. ... 0. 0. 0.]\n",
      "(633,866)  225,925.0\n"
     ]
    }
   ],
   "source": [
    "@jit(nopython=True, parallel=True)\n",
    "def get_ray_flags(x, y, vertices):\n",
    "    flags = np.zeros(len(x))\n",
    "    for i in range(len(x)):\n",
    "        flags[i] = ray_tracing(x[i], y[i], vertices)\n",
    "    return flags\n",
    "flags = get_ray_flags(*points, vertices)\n",
    "print(flags)\n",
    "print(\"({:,})  {:,}\".format(flags.shape[0], flags.sum()))"
   ]
  },
  {
   "cell_type": "code",
   "execution_count": 318,
   "metadata": {
    "ExecuteTime": {
     "end_time": "2019-05-24T16:44:54.205033Z",
     "start_time": "2019-05-24T16:44:52.452781Z"
    },
    "hidden": true
   },
   "outputs": [
    {
     "name": "stdout",
     "output_type": "stream",
     "text": [
      "216 ms ± 4.7 ms per loop (mean ± std. dev. of 7 runs, 1 loop each)\n"
     ]
    }
   ],
   "source": [
    "%%timeit\n",
    "flags = get_ray_flags(*points, vertices)"
   ]
  },
  {
   "cell_type": "markdown",
   "metadata": {
    "heading_collapsed": true
   },
   "source": [
    "### Numba Envelope Accelerated with Empty Bool Array (0.172s)"
   ]
  },
  {
   "cell_type": "code",
   "execution_count": 322,
   "metadata": {
    "ExecuteTime": {
     "end_time": "2019-05-24T16:46:10.651049Z",
     "start_time": "2019-05-24T16:46:10.646044Z"
    },
    "hidden": true
   },
   "outputs": [],
   "source": [
    "@jit(nopython=True, parallel=True)\n",
    "def get_ray_flags(x, y, vertices):\n",
    "    flags = np.empty(len(x), dtype=np.bool_)\n",
    "    for i in range(len(x)):\n",
    "        flags[i] = ray_tracing(x[i], y[i], vertices)\n",
    "    return flags"
   ]
  },
  {
   "cell_type": "code",
   "execution_count": 325,
   "metadata": {
    "ExecuteTime": {
     "end_time": "2019-05-24T16:46:49.060345Z",
     "start_time": "2019-05-24T16:46:36.356317Z"
    },
    "hidden": true
   },
   "outputs": [
    {
     "name": "stdout",
     "output_type": "stream",
     "text": [
      "[False  True  True ... False False False]\n",
      "(633,866)  225,925\n"
     ]
    },
    {
     "data": {
      "image/png": "[encoded data removed]",
      "text/plain": [
       "<Figure size 1080x432 with 1 Axes>"
      ]
     },
     "metadata": {
      "needs_background": "light"
     },
     "output_type": "display_data"
    }
   ],
   "source": [
    "flags = get_ray_flags(*points, vertices)\n",
    "print(flags)\n",
    "print(\"({:,})  {:,}\".format(flags.shape[0], flags.sum()))\n",
    "plot(flags)"
   ]
  },
  {
   "cell_type": "code",
   "execution_count": 326,
   "metadata": {
    "ExecuteTime": {
     "end_time": "2019-05-24T16:46:52.192571Z",
     "start_time": "2019-05-24T16:46:50.772563Z"
    },
    "hidden": true
   },
   "outputs": [
    {
     "name": "stdout",
     "output_type": "stream",
     "text": [
      "172 ms ± 2.6 ms per loop (mean ± std. dev. of 7 runs, 1 loop each)\n"
     ]
    }
   ],
   "source": [
    "%%timeit\n",
    "flags = get_ray_flags(*points, vertices)"
   ]
  },
  {
   "cell_type": "markdown",
   "metadata": {},
   "source": [
    "## Even-Odd Rule (Best: 0.038s)"
   ]
  },
  {
   "cell_type": "markdown",
   "metadata": {},
   "source": [
    "\"The Method\n",
    "\n",
    "I run a semi-infinite ray horizontally (increasing x, fixed y) out from the test point, and count how many edges it crosses. At each crossing, the ray switches between inside and outside. This is called the **Jordan curve theorem**.\n",
    "\n",
    "The case of the ray going through a vertex is handled correctly via a careful selection of inequalities. Don't mess with this code unless you're familiar with the idea of **Simulation of Simplicity**. This pretends to shift the ray infinitesimally down so that it either clearly intersects, or clearly doesn't touch. Since this is merely a conceptual, infinitesimal, shift, it never creates an intersection that didn't exist before, and never destroys an intersection that clearly existed before.\n",
    "\n",
    "The ray is tested against each edge thus:\n",
    "\n",
    "    Is the point in the half-plane to the left of the extended edge? and\n",
    "    Is the point's Y coordinate within the edge's Y-range? \n",
    "\n",
    "Handling endpoints here is tricky.\""
   ]
  },
  {
   "cell_type": "markdown",
   "metadata": {},
   "source": [
    "### Python Function (52s)"
   ]
  },
  {
   "cell_type": "code",
   "execution_count": 692,
   "metadata": {
    "ExecuteTime": {
     "end_time": "2019-05-25T06:04:35.265478Z",
     "start_time": "2019-05-25T06:04:35.253467Z"
    }
   },
   "outputs": [],
   "source": [
    "# Option 4:  Even-odd Rule\n",
    "def isPointInPath(x, y, poly):\n",
    "    \"\"\"\n",
    "    x, y -- x and y coordinates of point\n",
    "    poly -- a list of tuples [(x, y), (x, y), ...]\n",
    "    https://wrf.ecse.rpi.edu/Research/Short_Notes/pnpoly.html\n",
    "    \"\"\"\n",
    "    num = len(poly)\n",
    "    i = 0\n",
    "    j = num - 1\n",
    "    c = False\n",
    "    for i in range(num):\n",
    "        if ((poly[i][1] > y) != (poly[j][1] > y)) and \\\n",
    "                (x < poly[i][0] + (poly[j][0] - poly[i][0]) * (y - poly[i][1]) /\n",
    "                                (poly[j][1] - poly[i][1])):\n",
    "            c = not c\n",
    "        j = i\n",
    "    return c"
   ]
  },
  {
   "cell_type": "code",
   "execution_count": 693,
   "metadata": {
    "ExecuteTime": {
     "end_time": "2019-05-25T06:06:24.090731Z",
     "start_time": "2019-05-25T06:04:36.290208Z"
    }
   },
   "outputs": [],
   "source": [
    "flags = np.zeros(len(points.T))\n",
    "for i, point in enumerate(points.T):\n",
    "    flags[i] = isPointInPath(*point, vertices)"
   ]
  },
  {
   "cell_type": "code",
   "execution_count": 694,
   "metadata": {
    "ExecuteTime": {
     "end_time": "2019-05-25T06:16:30.973647Z",
     "start_time": "2019-05-25T06:06:24.144770Z"
    }
   },
   "outputs": [
    {
     "name": "stdout",
     "output_type": "stream",
     "text": [
      "1min 15s ± 5.89 s per loop (mean ± std. dev. of 7 runs, 1 loop each)\n"
     ]
    }
   ],
   "source": [
    "%%timeit\n",
    "flags = np.zeros(len(points.T))\n",
    "for i, point in enumerate(points.T):\n",
    "    flags[i] = isPointInPath(*point, vertices)"
   ]
  },
  {
   "cell_type": "markdown",
   "metadata": {
    "ExecuteTime": {
     "end_time": "2019-05-13T17:42:16.133499Z",
     "start_time": "2019-05-13T17:42:16.025422Z"
    },
    "heading_collapsed": true
   },
   "source": [
    "### Numba Accelerated (1.4s)"
   ]
  },
  {
   "cell_type": "code",
   "execution_count": 327,
   "metadata": {
    "ExecuteTime": {
     "end_time": "2019-05-24T16:47:15.579390Z",
     "start_time": "2019-05-24T16:47:15.151089Z"
    },
    "hidden": true
   },
   "outputs": [],
   "source": [
    "@jit(nopython=True, parallel=True)\n",
    "def isPointInPath(x, y, poly):\n",
    "    \"\"\"\n",
    "    x, y -- x and y coordinates of point\n",
    "    poly -- a list of tuples [(x, y), (x, y), ...]\n",
    "    -------------------------------------------------\n",
    "    PNPOLY - Point Inclusion in Polygon Test\n",
    "    W. Randolph Franklin (WRF) \n",
    "    source:  https://wrf.ecse.rpi.edu/Research/Short_Notes/pnpoly.html\n",
    "    \"\"\"\n",
    "    num = len(poly)  # Number of vertices\n",
    "    i = 0            # First Vertex\n",
    "    j = num - 1      # Previous Vertex\n",
    "    c = False\n",
    "    # Loop over vertices\n",
    "    for i in range(num):\n",
    "        # if (a) and (b)\n",
    "        # a) ((vertex[1][y] > pt[y]) != (vertex[0][y] > pt[y]))\n",
    "        # a) XOR(), false if either vertex is higher than point\n",
    "        # b) x < (vertex[1][x] + (y - vertex[1][y])*(vertex[0][x]-vertex[1][x])/(vertex[0][y]-vertex[1][y]))\n",
    "        #                                   slope = (vertex[1][y]-vertex[0][y])/ (vertex[1][x]-vertex[0][x])\n",
    "        #                                         =-(vertex[0][y]-vertex[1][y])/-(vertex[0][x]-vertex[1][x])\n",
    "        #                                         = (vertex[0][y]-vertex[1][y])/ (vertex[0][x]-vertex[1][x])\n",
    "        # b) x < (vertex[1][x] + (y - vertex[1][y])/slope)\n",
    "        # b) \n",
    "        if ((poly[i][1] > y) != (poly[j][1] > y)) and \\\n",
    "                (x < poly[i][0] + (poly[j][0] - poly[i][0]) * (y - poly[i][1]) /\n",
    "                                (poly[j][1] - poly[i][1])):\n",
    "            c = not c\n",
    "        j = i\n",
    "    return c\n",
    "flags = isPointInPath(*point, vertices)"
   ]
  },
  {
   "cell_type": "code",
   "execution_count": 278,
   "metadata": {
    "ExecuteTime": {
     "end_time": "2019-05-24T16:26:35.963766Z",
     "start_time": "2019-05-24T16:26:24.660396Z"
    },
    "hidden": true
   },
   "outputs": [
    {
     "name": "stdout",
     "output_type": "stream",
     "text": [
      "1.4 s ± 31.1 ms per loop (mean ± std. dev. of 7 runs, 1 loop each)\n"
     ]
    }
   ],
   "source": [
    "%%timeit\n",
    "flags = np.zeros(len(points.T))\n",
    "for i, point in enumerate(points.T):\n",
    "    flags[i] = isPointInPath(*point, vertices)"
   ]
  },
  {
   "cell_type": "code",
   "execution_count": 328,
   "metadata": {
    "ExecuteTime": {
     "end_time": "2019-05-24T16:47:20.861144Z",
     "start_time": "2019-05-24T16:47:19.364081Z"
    },
    "hidden": true
   },
   "outputs": [
    {
     "name": "stdout",
     "output_type": "stream",
     "text": [
      "[0. 1. 1. ... 0. 0. 0.]\n",
      "(633,866)  225,925.0\n"
     ]
    }
   ],
   "source": [
    "flags = np.zeros(len(points.T))\n",
    "for i, point in enumerate(points.T):\n",
    "    flags[i] = isPointInPath(*point, vertices)\n",
    "print(flags)\n",
    "print(\"({:,})  {:,}\".format(flags.shape[0], flags.sum()))"
   ]
  },
  {
   "cell_type": "markdown",
   "metadata": {
    "heading_collapsed": true
   },
   "source": [
    "### Numba Envelope Accelerated (0.100s)"
   ]
  },
  {
   "cell_type": "code",
   "execution_count": 300,
   "metadata": {
    "ExecuteTime": {
     "end_time": "2019-05-24T16:32:46.241085Z",
     "start_time": "2019-05-24T16:32:45.764752Z"
    },
    "hidden": true
   },
   "outputs": [
    {
     "name": "stdout",
     "output_type": "stream",
     "text": [
      "[0. 1. 1. ... 0. 0. 0.]\n",
      "(633,866)  225,925.0\n"
     ]
    }
   ],
   "source": [
    "@jit(nopython=True, parallel=True)\n",
    "def get_even_odd_flags(x, y, vertices):\n",
    "    flags = np.zeros(len(x))\n",
    "    for i in range(len(x)):\n",
    "        flags[i] = isPointInPath(x[i], y[i], vertices)\n",
    "    return flags\n",
    "flags = get_even_odd_flags(*points, vertices)\n",
    "print(flags)\n",
    "print(\"({:,})  {:,}\".format(flags.shape[0], flags.sum()))"
   ]
  },
  {
   "cell_type": "code",
   "execution_count": 302,
   "metadata": {
    "ExecuteTime": {
     "end_time": "2019-05-24T16:33:42.858390Z",
     "start_time": "2019-05-24T16:33:02.885954Z"
    },
    "hidden": true
   },
   "outputs": [
    {
     "name": "stdout",
     "output_type": "stream",
     "text": [
      "99.9 ms ± 483 µs per loop (mean ± std. dev. of 20 runs, 20 loops each)\n"
     ]
    }
   ],
   "source": [
    "%%timeit -n20 -r20\n",
    "flags = get_even_odd_flags(*points, vertices)"
   ]
  },
  {
   "cell_type": "markdown",
   "metadata": {
    "heading_collapsed": true
   },
   "source": [
    "### Numba Envelope Accelerated with Empty Bool Array (0.062s)"
   ]
  },
  {
   "cell_type": "code",
   "execution_count": 293,
   "metadata": {
    "ExecuteTime": {
     "end_time": "2019-05-24T16:30:51.595152Z",
     "start_time": "2019-05-24T16:30:51.222889Z"
    },
    "hidden": true
   },
   "outputs": [],
   "source": [
    "@jit(nopython=True, parallel=True, nogil=True, fastmath=True)\n",
    "def isPointInPath(x, y, poly):\n",
    "    \"\"\"\n",
    "    x, y -- x and y coordinates of point\n",
    "    poly -- a list of tuples [(x, y), (x, y), ...]\n",
    "    -------------------------------------------------\n",
    "    PNPOLY - Point Inclusion in Polygon Test\n",
    "    W. Randolph Franklin (WRF) \n",
    "    source:  https://wrf.ecse.rpi.edu/Research/Short_Notes/pnpoly.html\n",
    "    \"\"\"\n",
    "    num = len(poly)  # Number of vertices\n",
    "    i = 0            # First Vertex\n",
    "    j = num - 1      # Previous Vertex\n",
    "    c = False\n",
    "    # Loop over vertices\n",
    "    for i in range(num):\n",
    "        # if (a) and (b)\n",
    "        # a) ((vertex[1][y] > pt[y]) != (vertex[0][y] > pt[y]))\n",
    "        # a) XOR(), false if either vertex is higher than point\n",
    "        # b) x < (vertex[1][x] + (y - vertex[1][y])*(vertex[0][x]-vertex[1][x])/(vertex[0][y]-vertex[1][y]))\n",
    "        #                                   slope = (vertex[1][y]-vertex[0][y])/ (vertex[1][x]-vertex[0][x])\n",
    "        #                                         =-(vertex[0][y]-vertex[1][y])/-(vertex[0][x]-vertex[1][x])\n",
    "        #                                         = (vertex[0][y]-vertex[1][y])/ (vertex[0][x]-vertex[1][x])\n",
    "        # b) x < (vertex[1][x] + (y - vertex[1][y])/slope)\n",
    "        # b) \n",
    "        if ((poly[i][1] > y) != (poly[j][1] > y)) and \\\n",
    "                (x < poly[i][0] + (poly[j][0] - poly[i][0]) * (y - poly[i][1]) /\n",
    "                                (poly[j][1] - poly[i][1])):\n",
    "            c = not c\n",
    "        j = i\n",
    "    return c\n",
    "flags = isPointInPath(*point, vertices)"
   ]
  },
  {
   "cell_type": "code",
   "execution_count": 294,
   "metadata": {
    "ExecuteTime": {
     "end_time": "2019-05-24T16:30:52.456783Z",
     "start_time": "2019-05-24T16:30:52.034468Z"
    },
    "hidden": true
   },
   "outputs": [
    {
     "name": "stdout",
     "output_type": "stream",
     "text": [
      "[False  True  True ... False False False]\n",
      "(633,866)  225,925\n"
     ]
    }
   ],
   "source": [
    "@jit(nopython=True, parallel=True, nogil=True, fastmath=True)\n",
    "def get_even_odd_flags(x, y, vertices):\n",
    "    flags = np.empty(len(x), dtype=np.bool_)\n",
    "    for i in range(len(x)):\n",
    "        flags[i] = isPointInPath(x[i], y[i], vertices)\n",
    "    return flags\n",
    "flags = get_even_odd_flags(*points, vertices)\n",
    "print(flags)\n",
    "print(\"({:,})  {:,}\".format(flags.shape[0], flags.sum()))"
   ]
  },
  {
   "cell_type": "code",
   "execution_count": 298,
   "metadata": {
    "ExecuteTime": {
     "end_time": "2019-05-24T16:32:12.571138Z",
     "start_time": "2019-05-24T16:31:47.939555Z"
    },
    "hidden": true
   },
   "outputs": [
    {
     "name": "stdout",
     "output_type": "stream",
     "text": [
      "61.6 ms ± 954 µs per loop (mean ± std. dev. of 20 runs, 20 loops each)\n"
     ]
    }
   ],
   "source": [
    "%%timeit -n20 -r20\n",
    "flags = get_even_odd_flags(*points, vertices)"
   ]
  },
  {
   "cell_type": "code",
   "execution_count": 314,
   "metadata": {
    "ExecuteTime": {
     "end_time": "2019-05-14T12:05:58.965755Z",
     "start_time": "2019-05-14T12:05:44.005131Z"
    },
    "hidden": true
   },
   "outputs": [
    {
     "data": {
      "image/png": "[encoded data removed]",
      "text/plain": [
       "<Figure size 1080x432 with 1 Axes>"
      ]
     },
     "metadata": {
      "needs_background": "light"
     },
     "output_type": "display_data"
    }
   ],
   "source": [
    "flags = get_even_odd_flags(*points, vertices)\n",
    "plot(flags)"
   ]
  },
  {
   "cell_type": "markdown",
   "metadata": {
    "heading_collapsed": true
   },
   "source": [
    "### Explicit first Loop integer (0.051s)"
   ]
  },
  {
   "cell_type": "code",
   "execution_count": 333,
   "metadata": {
    "ExecuteTime": {
     "end_time": "2019-05-24T16:49:08.892455Z",
     "start_time": "2019-05-24T16:49:08.453144Z"
    },
    "hidden": true
   },
   "outputs": [],
   "source": [
    "@jit(nopython=True, parallel=True)\n",
    "def isPointInPath(x, y, poly):\n",
    "    \"\"\"\n",
    "    x, y -- x and y coordinates of point\n",
    "    poly -- a list of tuples [(x, y), (x, y), ...]\n",
    "    -------------------------------------------------\n",
    "    PNPOLY - Point Inclusion in Polygon Test\n",
    "    W. Randolph Franklin (WRF) \n",
    "    source:  https://wrf.ecse.rpi.edu/Research/Short_Notes/pnpoly.html\n",
    "    \"\"\"\n",
    "    num = poly.shape[0]  # Number of vertices\n",
    "    i = 0            # First Vertex\n",
    "    j = num - 1      # Previous Vertex\n",
    "    # Explicit first lop\n",
    "    c = ((poly[i][1] > y) != (poly[j][1] > y)) and \\\n",
    "                (x < poly[i][0] + (poly[j][0] - poly[i][0]) * (y - poly[i][1]) /\n",
    "                                (poly[j][1] - poly[i][1]))\n",
    "    # Loop over vertices\n",
    "    for i in range(1, num):\n",
    "        j = i-1\n",
    "        # if (a) and (b)\n",
    "        # a) ((vertex[1][y] > pt[y]) != (vertex[0][y] > pt[y]))\n",
    "        # a) XOR(), false if either vertex is higher than point\n",
    "        # b) x < (vertex[1][x] + (y - vertex[1][y])*(vertex[0][x]-vertex[1][x])/(vertex[0][y]-vertex[1][y]))\n",
    "        #                                   slope = (vertex[1][y]-vertex[0][y])/ (vertex[1][x]-vertex[0][x])\n",
    "        #                                         =-(vertex[0][y]-vertex[1][y])/-(vertex[0][x]-vertex[1][x])\n",
    "        #                                         = (vertex[0][y]-vertex[1][y])/ (vertex[0][x]-vertex[1][x])\n",
    "        # b) x < (vertex[1][x] + (y - vertex[1][y])/slope)\n",
    "        # b) \n",
    "        if ((poly[i][1] > y) != (poly[j][1] > y)) and \\\n",
    "                (x < poly[i][0] + (poly[j][0] - poly[i][0]) * (y - poly[i][1]) /\n",
    "                                (poly[j][1] - poly[i][1])):\n",
    "            c += 1\n",
    "    return c%2\n",
    "flags = isPointInPath(*point, vertices)"
   ]
  },
  {
   "cell_type": "code",
   "execution_count": 334,
   "metadata": {
    "ExecuteTime": {
     "end_time": "2019-05-24T16:49:10.568663Z",
     "start_time": "2019-05-24T16:49:10.284444Z"
    },
    "hidden": true
   },
   "outputs": [
    {
     "name": "stdout",
     "output_type": "stream",
     "text": [
      "[False  True  True ... False False False]\n",
      "(633,866)  225,925\n"
     ]
    }
   ],
   "source": [
    "@jit(nopython=True, parallel=True, nogil=True, fastmath=True)\n",
    "def get_even_odd_flags(x, y, vertices):\n",
    "    flags = np.empty(x.shape[0], dtype=np.bool_)\n",
    "    for i in range(x.shape[0]):\n",
    "        flags[i] = isPointInPath(x[i], y[i], vertices)\n",
    "    return flags\n",
    "flags = get_even_odd_flags(*points, vertices)\n",
    "print(flags)\n",
    "print(\"({:,})  {:,}\".format(flags.shape[0], flags.sum()))"
   ]
  },
  {
   "cell_type": "code",
   "execution_count": 335,
   "metadata": {
    "ExecuteTime": {
     "end_time": "2019-05-24T16:49:41.295483Z",
     "start_time": "2019-05-24T16:49:20.772897Z"
    },
    "hidden": true,
    "scrolled": true
   },
   "outputs": [
    {
     "name": "stdout",
     "output_type": "stream",
     "text": [
      "51.3 ms ± 705 µs per loop (mean ± std. dev. of 20 runs, 20 loops each)\n"
     ]
    }
   ],
   "source": [
    "%%timeit -n20 -r20\n",
    "flags = get_even_odd_flags(*points, vertices)"
   ]
  },
  {
   "cell_type": "code",
   "execution_count": 336,
   "metadata": {
    "ExecuteTime": {
     "end_time": "2019-05-24T16:51:19.261446Z",
     "start_time": "2019-05-24T16:49:56.396099Z"
    },
    "hidden": true
   },
   "outputs": [
    {
     "name": "stdout",
     "output_type": "stream",
     "text": [
      "51.8 ms ± 1.43 ms per loop (mean ± std. dev. of 40 runs, 40 loops each)\n"
     ]
    }
   ],
   "source": [
    "%%timeit -n40 -r40\n",
    "flags = get_even_odd_flags(*points, vertices)"
   ]
  },
  {
   "cell_type": "markdown",
   "metadata": {
    "heading_collapsed": true
   },
   "source": [
    "### Explicit first Loop bool (0.047s)"
   ]
  },
  {
   "cell_type": "code",
   "execution_count": 289,
   "metadata": {
    "ExecuteTime": {
     "end_time": "2019-05-24T16:29:48.394124Z",
     "start_time": "2019-05-24T16:29:47.973599Z"
    },
    "hidden": true
   },
   "outputs": [],
   "source": [
    "@jit(nopython=True, parallel=True, nogil=True, fastmath=True)\n",
    "def isPointInPath(x, y, poly):\n",
    "    \"\"\"\n",
    "    x, y -- x and y coordinates of point\n",
    "    poly -- a list of tuples [(x, y), (x, y), ...]\n",
    "    -------------------------------------------------\n",
    "    PNPOLY - Point Inclusion in Polygon Test\n",
    "    W. Randolph Franklin (WRF) \n",
    "    source:  https://wrf.ecse.rpi.edu/Research/Short_Notes/pnpoly.html\n",
    "    \"\"\"\n",
    "    num = poly.shape[0]  # Number of vertices\n",
    "    i = 0            # First Vertex\n",
    "    j = num - 1      # Previous Vertex\n",
    "    # Explicit first lop\n",
    "    c = ((poly[i][1] > y) != (poly[j][1] > y)) and \\\n",
    "                (x < poly[i][0] + (poly[j][0] - poly[i][0]) * (y - poly[i][1]) /\n",
    "                                (poly[j][1] - poly[i][1]))\n",
    "    # Loop over vertices\n",
    "    for i in range(1, num):\n",
    "        j = i-1\n",
    "        # if (a) and (b)\n",
    "        # a) ((vertex[1][y] > pt[y]) != (vertex[0][y] > pt[y]))\n",
    "        # a) XOR(), false if either vertex is higher than point\n",
    "        # b) x < (vertex[1][x] + (y - vertex[1][y])*(vertex[0][x]-vertex[1][x])/(vertex[0][y]-vertex[1][y]))\n",
    "        #                                   slope = (vertex[1][y]-vertex[0][y])/ (vertex[1][x]-vertex[0][x])\n",
    "        #                                         =-(vertex[0][y]-vertex[1][y])/-(vertex[0][x]-vertex[1][x])\n",
    "        #                                         = (vertex[0][y]-vertex[1][y])/ (vertex[0][x]-vertex[1][x])\n",
    "        # b) x < (vertex[1][x] + (y - vertex[1][y])/slope)\n",
    "        # b) \n",
    "        if ((poly[i][1] > y) != (poly[j][1] > y)) and \\\n",
    "                (x < poly[i][0] + (poly[j][0] - poly[i][0]) * (y - poly[i][1]) /\n",
    "                                (poly[j][1] - poly[i][1])):\n",
    "            c = not c\n",
    "    return c\n",
    "flags = isPointInPath(*point, vertices)"
   ]
  },
  {
   "cell_type": "code",
   "execution_count": 290,
   "metadata": {
    "ExecuteTime": {
     "end_time": "2019-05-24T16:29:54.780173Z",
     "start_time": "2019-05-24T16:29:54.516985Z"
    },
    "hidden": true
   },
   "outputs": [
    {
     "name": "stdout",
     "output_type": "stream",
     "text": [
      "[False  True  True ... False False False]\n",
      "(633,866)  225,925\n"
     ]
    }
   ],
   "source": [
    "@jit(nopython=True, parallel=True, nogil=True, fastmath=True)\n",
    "def get_even_odd_flags(x, y, vertices):\n",
    "    flags = np.empty(x.shape[0], dtype=np.bool_)\n",
    "    for i in range(x.shape[0]):\n",
    "        flags[i] = isPointInPath(x[i], y[i], vertices)\n",
    "    return flags\n",
    "flags = get_even_odd_flags(*points, vertices)\n",
    "print(flags)\n",
    "print(\"({:,})  {:,}\".format(flags.shape[0], flags.sum()))"
   ]
  },
  {
   "cell_type": "code",
   "execution_count": 291,
   "metadata": {
    "ExecuteTime": {
     "end_time": "2019-05-24T16:30:25.463284Z",
     "start_time": "2019-05-24T16:30:06.652613Z"
    },
    "hidden": true
   },
   "outputs": [
    {
     "name": "stdout",
     "output_type": "stream",
     "text": [
      "47 ms ± 1.28 ms per loop (mean ± std. dev. of 20 runs, 20 loops each)\n"
     ]
    }
   ],
   "source": [
    "%%timeit -n20 -r20\n",
    "flags = get_even_odd_flags(*points, vertices)"
   ]
  },
  {
   "cell_type": "code",
   "execution_count": 83,
   "metadata": {
    "ExecuteTime": {
     "end_time": "2019-05-24T09:55:44.499983Z",
     "start_time": "2019-05-24T09:55:31.832353Z"
    },
    "hidden": true
   },
   "outputs": [
    {
     "data": {
      "image/png": "[encoded data removed]",
      "text/plain": [
       "<Figure size 1080x432 with 1 Axes>"
      ]
     },
     "metadata": {
      "needs_background": "light"
     },
     "output_type": "display_data"
    }
   ],
   "source": [
    "flags = get_even_odd_flags(*points, vertices)\n",
    "plot(flags)"
   ]
  },
  {
   "cell_type": "markdown",
   "metadata": {
    "heading_collapsed": true
   },
   "source": [
    "### Explicit First Loop Bool Vectorized (0.038s)"
   ]
  },
  {
   "cell_type": "code",
   "execution_count": 374,
   "metadata": {
    "ExecuteTime": {
     "end_time": "2019-05-24T17:19:16.503409Z",
     "start_time": "2019-05-24T17:19:15.077574Z"
    },
    "hidden": true
   },
   "outputs": [
    {
     "name": "stdout",
     "output_type": "stream",
     "text": [
      "[False  True  True ... False False False]\n",
      "(633,866)  225,925\n"
     ]
    }
   ],
   "source": [
    "@jit(nopython=True, parallel=True)\n",
    "def vec_point_in_polygon(x, y, poly):\n",
    "    num = poly.shape[0]  # Number of vertices\n",
    "    i = 0                # First Vertex\n",
    "    j = num - 1          # Previous Vertex\n",
    "    # Explicit first lop\n",
    "    c = np.logical_and(\n",
    "        np.logical_xor((poly[i][1] > y), (poly[j][1] > y)),\n",
    "        (x < poly[i][0] + (poly[j][0]-poly[i][0]) * (y-poly[i][1]) / (poly[j][1]-poly[i][1]))\n",
    "    )\n",
    "    for i in range(1, num):\n",
    "        j = i-1\n",
    "        c = np.logical_xor(\n",
    "            c,\n",
    "            np.logical_and(\n",
    "                np.logical_xor((poly[i][1] > y), (poly[j][1] > y)),\n",
    "                (x < poly[i][0] + (poly[j][0]-poly[i][0]) * (y-poly[i][1]) / (poly[j][1]-poly[i][1]))\n",
    "            )\n",
    "        )\n",
    "    return c\n",
    "c = vec_point_in_polygon(*points, poly)\n",
    "print(c)\n",
    "print(\"({:,})  {:,}\".format(c.shape[0], c.sum()))"
   ]
  },
  {
   "cell_type": "code",
   "execution_count": 349,
   "metadata": {
    "ExecuteTime": {
     "end_time": "2019-05-24T16:56:30.621952Z",
     "start_time": "2019-05-24T16:56:15.219487Z"
    },
    "hidden": true
   },
   "outputs": [
    {
     "name": "stdout",
     "output_type": "stream",
     "text": [
      "38.5 ms ± 1.27 ms per loop (mean ± std. dev. of 20 runs, 20 loops each)\n"
     ]
    }
   ],
   "source": [
    "%%timeit -n20 -r20\n",
    "flags = vec_point_in_polygon(*points, poly)"
   ]
  },
  {
   "cell_type": "code",
   "execution_count": 350,
   "metadata": {
    "ExecuteTime": {
     "end_time": "2019-05-24T16:57:36.068487Z",
     "start_time": "2019-05-24T16:56:34.838949Z"
    },
    "hidden": true
   },
   "outputs": [
    {
     "name": "stdout",
     "output_type": "stream",
     "text": [
      "38.3 ms ± 556 µs per loop (mean ± std. dev. of 40 runs, 40 loops each)\n"
     ]
    }
   ],
   "source": [
    "%%timeit -n40 -r40\n",
    "flags = vec_point_in_polygon(*points, poly)"
   ]
  },
  {
   "cell_type": "markdown",
   "metadata": {
    "heading_collapsed": true
   },
   "source": [
    "###  WRONG Explicit first Loop integer vectorized (0.046s)"
   ]
  },
  {
   "cell_type": "code",
   "execution_count": 352,
   "metadata": {
    "ExecuteTime": {
     "end_time": "2019-05-24T16:58:02.893058Z",
     "start_time": "2019-05-24T16:58:01.214867Z"
    },
    "hidden": true
   },
   "outputs": [
    {
     "name": "stdout",
     "output_type": "stream",
     "text": [
      "[0 1 1 ... 0 0 0]\n",
      "(633,866)  225,960\n"
     ]
    }
   ],
   "source": [
    "@jit(nopython=True, parallel=True)\n",
    "def vec_point_in_polygon(x, y, poly):\n",
    "    num = poly.shape[0]  # Number of vertices\n",
    "    i = 0                # First Vertex\n",
    "    j = num - 1          # Previous Vertex\n",
    "    # Explicit first lop\n",
    "    c = np.logical_and(\n",
    "        np.logical_xor((poly[i][1] > y), (poly[j][1] > y)),\n",
    "        (x < poly[i][0] + (poly[j][0]-poly[i][0]) * (y-poly[i][1]) / (poly[j][1]-poly[i][1]))\n",
    "    )\n",
    "    for i in range(1, num):\n",
    "        j = i-1\n",
    "        c += np.logical_and(\n",
    "                np.logical_xor((poly[i][1] > y), (poly[j][1] > y)),\n",
    "                (x < poly[i][0] + (poly[j][0]-poly[i][0]) * (y-poly[i][1]) / (poly[j][1]-poly[i][1]))\n",
    "            )\n",
    "        \n",
    "    return c%2\n",
    "c = vec_point_in_polygon(*points, vertices)\n",
    "print(c)\n",
    "print(\"({:,})  {:,}\".format(c.shape[0], c.sum()))"
   ]
  },
  {
   "cell_type": "code",
   "execution_count": 344,
   "metadata": {
    "ExecuteTime": {
     "end_time": "2019-05-24T16:55:09.808492Z",
     "start_time": "2019-05-24T16:54:50.547806Z"
    },
    "hidden": true
   },
   "outputs": [
    {
     "name": "stdout",
     "output_type": "stream",
     "text": [
      "48.1 ms ± 1.36 ms per loop (mean ± std. dev. of 20 runs, 20 loops each)\n"
     ]
    }
   ],
   "source": [
    "%%timeit -n20 -r20\n",
    "flags = vec_point_in_polygon(*points, poly)"
   ]
  },
  {
   "cell_type": "code",
   "execution_count": 341,
   "metadata": {
    "ExecuteTime": {
     "end_time": "2019-05-24T16:53:42.545693Z",
     "start_time": "2019-05-24T16:53:23.660261Z"
    },
    "hidden": true
   },
   "outputs": [
    {
     "name": "stdout",
     "output_type": "stream",
     "text": [
      "47.2 ms ± 1.36 ms per loop (mean ± std. dev. of 20 runs, 20 loops each)\n"
     ]
    }
   ],
   "source": [
    "%%timeit -n20 -r20\n",
    "flags = vec_point_in_polygon(x, y, poly)"
   ]
  },
  {
   "cell_type": "code",
   "execution_count": null,
   "metadata": {
    "hidden": true
   },
   "outputs": [],
   "source": []
  },
  {
   "cell_type": "code",
   "execution_count": 254,
   "metadata": {
    "ExecuteTime": {
     "end_time": "2019-05-24T16:15:52.041607Z",
     "start_time": "2019-05-24T16:15:33.363317Z"
    },
    "hidden": true
   },
   "outputs": [
    {
     "name": "stdout",
     "output_type": "stream",
     "text": [
      "46.6 ms ± 2.15 ms per loop (mean ± std. dev. of 20 runs, 20 loops each)\n"
     ]
    }
   ],
   "source": [
    "%%timeit -n20 -r20\n",
    "flags = vec_point_in_polygon(x, y, poly)"
   ]
  },
  {
   "cell_type": "code",
   "execution_count": 259,
   "metadata": {
    "ExecuteTime": {
     "end_time": "2019-05-24T16:19:19.084393Z",
     "start_time": "2019-05-24T16:18:37.379741Z"
    },
    "hidden": true
   },
   "outputs": [
    {
     "name": "stdout",
     "output_type": "stream",
     "text": [
      "46.3 ms ± 716 µs per loop (mean ± std. dev. of 30 runs, 30 loops each)\n"
     ]
    }
   ],
   "source": [
    "%%timeit -n30 -r30\n",
    "flags = vec_point_in_polygon(x, y, poly)"
   ]
  },
  {
   "cell_type": "code",
   "execution_count": 203,
   "metadata": {
    "ExecuteTime": {
     "end_time": "2019-05-24T13:21:17.173790Z",
     "start_time": "2019-05-24T13:21:02.321714Z"
    },
    "hidden": true
   },
   "outputs": [
    {
     "data": {
      "image/png": "[encoded data removed]",
      "text/plain": [
       "<Figure size 1080x432 with 1 Axes>"
      ]
     },
     "metadata": {
      "needs_background": "light"
     },
     "output_type": "display_data"
    }
   ],
   "source": [
    "plot(flags)"
   ]
  },
  {
   "cell_type": "markdown",
   "metadata": {
    "heading_collapsed": true
   },
   "source": [
    "### Theoretical Limitations"
   ]
  },
  {
   "cell_type": "code",
   "execution_count": null,
   "metadata": {
    "hidden": true
   },
   "outputs": [],
   "source": [
    "if_operations_per_point = ((1)+1+(1))+1+(1+1+(1)+1+(1)+1+(1))"
   ]
  },
  {
   "cell_type": "code",
   "execution_count": null,
   "metadata": {
    "hidden": true
   },
   "outputs": [],
   "source": [
    "    # Loop over vertices\n",
    "    for i in range(1, num):\n",
    "        j = i-1\n",
    "        # if (a) and (b)\n",
    "        # a) ((vertex[1][y] > pt[y]) != (vertex[0][y] > pt[y]))\n",
    "        # a) XOR(), false if either vertex is higher than point\n",
    "        # b) x < (vertex[1][x] + (y - vertex[1][y])*(vertex[0][x]-vertex[1][x])/(vertex[0][y]-vertex[1][y]))\n",
    "        #                                   slope = (vertex[1][y]-vertex[0][y])/ (vertex[1][x]-vertex[0][x])\n",
    "        #                                         =-(vertex[0][y]-vertex[1][y])/-(vertex[0][x]-vertex[1][x])\n",
    "        #                                         = (vertex[0][y]-vertex[1][y])/ (vertex[0][x]-vertex[1][x])\n",
    "        # b) x < (vertex[1][x] + (y - vertex[1][y])/slope)\n",
    "        # b) \n",
    "        if ((poly[i][1] > y) != (poly[j][1] > y)) and \\\n",
    "                (x < poly[i][0] + (poly[j][0] - poly[i][0]) * (y - poly[i][1]) /\n",
    "                                (poly[j][1] - poly[i][1])):\n",
    "            c += 1\n"
   ]
  },
  {
   "cell_type": "markdown",
   "metadata": {
    "ExecuteTime": {
     "end_time": "2019-05-14T08:54:10.143324Z",
     "start_time": "2019-05-14T08:54:10.140326Z"
    },
    "heading_collapsed": true
   },
   "source": [
    "## Even-Odd Rule for Arrays "
   ]
  },
  {
   "cell_type": "markdown",
   "metadata": {
    "ExecuteTime": {
     "end_time": "2019-05-15T05:55:59.091502Z",
     "start_time": "2019-05-15T05:55:59.087502Z"
    },
    "heading_collapsed": true,
    "hidden": true
   },
   "source": [
    "### Simple NumPy Array Computation (0.598s)"
   ]
  },
  {
   "cell_type": "code",
   "execution_count": 357,
   "metadata": {
    "ExecuteTime": {
     "end_time": "2019-05-24T17:01:18.905620Z",
     "start_time": "2019-05-24T17:01:18.280666Z"
    },
    "hidden": true
   },
   "outputs": [
    {
     "name": "stdout",
     "output_type": "stream",
     "text": [
      "[False  True  True ... False False False]\n",
      "(633,866)  225,925\n"
     ]
    }
   ],
   "source": [
    "#@jit(nopython=True, parallel=True)\n",
    "def is_point_in_path(n, x, y, poly):\n",
    "    \"\"\"\n",
    "    x, y -- x and y coordinates of point\n",
    "    poly -- a list of tuples [(x, y), (x, y), ...]\n",
    "    -------------------------------------------------\n",
    "    PNPOLY - Point Inclusion in Polygon Test\n",
    "    W. Randolph Franklin (WRF) \n",
    "    source:  https://wrf.ecse.rpi.edu/Research/Short_Notes/pnpoly.html\n",
    "    \"\"\"\n",
    "    num = len(poly)  # Number of vertices\n",
    "    i = 0            # First Vertex\n",
    "    j = num - 1      # Previous Vertex\n",
    "    c = np.zeros(n, dtype=np.bool_)\n",
    "    # Loop over vertices\n",
    "    for i in range(num):\n",
    "        # if (a) and (b)\n",
    "        # a) ((vertex[1][y] > pt[y]) != (vertex[0][y] > pt[y]))\n",
    "        # a) XOR(), false if either vertex is higher than point\n",
    "        # b) x < (vertex[1][x] + (y - vertex[1][y])*(vertex[0][x]-vertex[1][x])/(vertex[0][y]-vertex[1][y]))\n",
    "        #                                   slope = (vertex[1][y]-vertex[0][y])/ (vertex[1][x]-vertex[0][x])\n",
    "        #                                         =-(vertex[0][y]-vertex[1][y])/-(vertex[0][x]-vertex[1][x])\n",
    "        #                                         = (vertex[0][y]-vertex[1][y])/ (vertex[0][x]-vertex[1][x])\n",
    "        # b) x < (vertex[1][x] + (y - vertex[1][y])/slope)\n",
    "        # b) \n",
    "        mask = np.logical_and(\n",
    "                np.not_equal(poly[i][1]>y, poly[j][1] > y),\n",
    "                (x < poly[i][0] + (poly[j][0] - poly[i][0]) * (y - poly[i][1]) /\n",
    "                                (poly[j][1] - poly[i][1]))\n",
    "        )\n",
    "        np.invert(c, out=c, where=mask)\n",
    "\n",
    "        j = i\n",
    "    return c\n",
    "flags = is_point_in_path(len(points[0]), *points, vertices)\n",
    "print(flags)\n",
    "print(\"({:,})  {:,}\".format(flags.shape[0], flags.sum()))"
   ]
  },
  {
   "cell_type": "code",
   "execution_count": 358,
   "metadata": {
    "ExecuteTime": {
     "end_time": "2019-05-24T17:01:33.843237Z",
     "start_time": "2019-05-24T17:01:20.606830Z"
    },
    "hidden": true
   },
   "outputs": [
    {
     "data": {
      "image/png": "[encoded data removed]",
      "text/plain": [
       "<Figure size 1080x432 with 1 Axes>"
      ]
     },
     "metadata": {
      "needs_background": "light"
     },
     "output_type": "display_data"
    }
   ],
   "source": [
    "flags = is_point_in_path(len(points[0]), *points, vertices)\n",
    "plot(flags)"
   ]
  },
  {
   "cell_type": "code",
   "execution_count": 333,
   "metadata": {
    "ExecuteTime": {
     "end_time": "2019-05-15T05:55:38.610369Z",
     "start_time": "2019-05-15T05:55:33.473711Z"
    },
    "hidden": true
   },
   "outputs": [
    {
     "name": "stdout",
     "output_type": "stream",
     "text": [
      "640 ms ± 26.8 ms per loop (mean ± std. dev. of 7 runs, 1 loop each)\n"
     ]
    }
   ],
   "source": [
    "%%timeit\n",
    "flags = is_point_in_path(len(points[0]), *points, vertices)"
   ]
  },
  {
   "cell_type": "code",
   "execution_count": 359,
   "metadata": {
    "ExecuteTime": {
     "end_time": "2019-05-24T17:05:37.362283Z",
     "start_time": "2019-05-24T17:01:38.244365Z"
    },
    "hidden": true
   },
   "outputs": [
    {
     "name": "stdout",
     "output_type": "stream",
     "text": [
      "598 ms ± 76.9 ms per loop (mean ± std. dev. of 20 runs, 20 loops each)\n"
     ]
    }
   ],
   "source": [
    "%%timeit -r20 -n20\n",
    "flags = is_point_in_path(len(points[0]), *points, vertices)"
   ]
  },
  {
   "cell_type": "markdown",
   "metadata": {
    "heading_collapsed": true,
    "hidden": true
   },
   "source": [
    "### Numba NumPy Array (0.082s)"
   ]
  },
  {
   "cell_type": "code",
   "execution_count": 361,
   "metadata": {
    "ExecuteTime": {
     "end_time": "2019-05-24T17:06:13.593590Z",
     "start_time": "2019-05-24T17:06:12.156569Z"
    },
    "hidden": true
   },
   "outputs": [
    {
     "name": "stdout",
     "output_type": "stream",
     "text": [
      "[False  True  True ... False False False]\n",
      "(633,866)  225,925\n"
     ]
    }
   ],
   "source": [
    "@jit(nopython=True, parallel=True)\n",
    "def is_point_in_path(x, y, poly):\n",
    "    \"\"\"\n",
    "    x, y -- x and y coordinates of point\n",
    "    poly -- a list of tuples [(x, y), (x, y), ...]\n",
    "    -------------------------------------------------\n",
    "    PNPOLY - Point Inclusion in Polygon Test\n",
    "    W. Randolph Franklin (WRF) \n",
    "    source:  https://wrf.ecse.rpi.edu/Research/Short_Notes/pnpoly.html\n",
    "    \"\"\"\n",
    "    num = len(poly)  # Number of vertices\n",
    "    i = 0            # First Vertex\n",
    "    j = num - 1      # Previous Vertex\n",
    "    c = np.zeros(len(x), dtype=np.bool_)\n",
    "    # Loop over vertices\n",
    "    for i in range(num):\n",
    "        # if (a) and (b)\n",
    "        # a) ((vertex[1][y] > pt[y]) != (vertex[0][y] > pt[y]))\n",
    "        # a) XOR(), false if either vertex is higher than point\n",
    "        # b) x < (vertex[1][x] + (y - vertex[1][y])*(vertex[0][x]-vertex[1][x])/(vertex[0][y]-vertex[1][y]))\n",
    "        #                                   slope = (vertex[1][y]-vertex[0][y])/ (vertex[1][x]-vertex[0][x])\n",
    "        #                                         =-(vertex[0][y]-vertex[1][y])/-(vertex[0][x]-vertex[1][x])\n",
    "        #                                         = (vertex[0][y]-vertex[1][y])/ (vertex[0][x]-vertex[1][x])\n",
    "        # b) x < (vertex[1][x] + (y - vertex[1][y])/slope)\n",
    "        # b) \n",
    "        mask = np.logical_and(\n",
    "                np.not_equal(poly[i][1]>y, poly[j][1] > y),\n",
    "                (x < poly[i][0] + (poly[j][0] - poly[i][0]) * (y - poly[i][1]) /\n",
    "                                (poly[j][1] - poly[i][1]))\n",
    "        )\n",
    "        c[mask] = ~c[mask] #np.invert(c, out=c, where=mask)\n",
    "\n",
    "        j = i\n",
    "    return c\n",
    "flags = is_point_in_path(*points, vertices)\n",
    "print(flags)\n",
    "print(\"({:,})  {:,}\".format(flags.shape[0], flags.sum()))"
   ]
  },
  {
   "cell_type": "code",
   "execution_count": 362,
   "metadata": {
    "ExecuteTime": {
     "end_time": "2019-05-24T17:06:33.992597Z",
     "start_time": "2019-05-24T17:06:27.292329Z"
    },
    "hidden": true
   },
   "outputs": [
    {
     "name": "stdout",
     "output_type": "stream",
     "text": [
      "82.4 ms ± 2.39 ms per loop (mean ± std. dev. of 7 runs, 10 loops each)\n"
     ]
    }
   ],
   "source": [
    "%%timeit\n",
    "flags = is_point_in_path(*points, vertices)"
   ]
  },
  {
   "cell_type": "markdown",
   "metadata": {
    "heading_collapsed": true,
    "hidden": true
   },
   "source": [
    "###  NumpyArray Numba (NoPython, Parallel, Fastmath: 0.077s)"
   ]
  },
  {
   "cell_type": "code",
   "execution_count": 363,
   "metadata": {
    "ExecuteTime": {
     "end_time": "2019-05-24T17:08:06.129077Z",
     "start_time": "2019-05-24T17:08:04.533944Z"
    },
    "hidden": true
   },
   "outputs": [
    {
     "name": "stdout",
     "output_type": "stream",
     "text": [
      "[False  True  True ... False False False]\n",
      "(633,866)  225,925\n"
     ]
    }
   ],
   "source": [
    "@jit(nopython=True, parallel=True, fastmath=True)\n",
    "def is_point_in_path(x, y, poly):\n",
    "    \"\"\"\n",
    "    x, y -- x and y coordinates of point\n",
    "    poly -- a list of tuples [(x, y), (x, y), ...]\n",
    "    -------------------------------------------------\n",
    "    PNPOLY - Point Inclusion in Polygon Test\n",
    "    W. Randolph Franklin (WRF) \n",
    "    source:  https://wrf.ecse.rpi.edu/Research/Short_Notes/pnpoly.html\n",
    "    \"\"\"\n",
    "    num = len(poly)  # Number of vertices\n",
    "    i = 0            # First Vertex\n",
    "    j = num - 1      # Previous Vertex\n",
    "    c = np.zeros(len(x), dtype=np.bool_)\n",
    "    # Loop over vertices\n",
    "    for i in range(num):\n",
    "        # if (a) and (b)\n",
    "        # a) ((vertex[1][y] > pt[y]) != (vertex[0][y] > pt[y]))\n",
    "        # a) XOR(), false if either vertex is higher than point\n",
    "        # b) x < (vertex[1][x] + (y - vertex[1][y])*(vertex[0][x]-vertex[1][x])/(vertex[0][y]-vertex[1][y]))\n",
    "        #                                   slope = (vertex[1][y]-vertex[0][y])/ (vertex[1][x]-vertex[0][x])\n",
    "        #                                         =-(vertex[0][y]-vertex[1][y])/-(vertex[0][x]-vertex[1][x])\n",
    "        #                                         = (vertex[0][y]-vertex[1][y])/ (vertex[0][x]-vertex[1][x])\n",
    "        # b) x < (vertex[1][x] + (y - vertex[1][y])/slope)\n",
    "        # b) \n",
    "        mask = np.logical_and(\n",
    "            np.not_equal(\n",
    "                poly[i][1]>y, \n",
    "                poly[j][1] > y\n",
    "            ),\n",
    "            (x < poly[i][0] + (poly[j][0] - poly[i][0]) * (y - poly[i][1]) / (poly[j][1] - poly[i][1]))\n",
    "        )\n",
    "        c[mask] = ~c[mask] #np.invert(c, out=c, where=mask)\n",
    "\n",
    "        j = i\n",
    "    return c\n",
    "flags = is_point_in_path(*points, vertices)\n",
    "print(flags)\n",
    "print(\"({:,})  {:,}\".format(flags.shape[0], flags.sum()))"
   ]
  },
  {
   "cell_type": "code",
   "execution_count": 364,
   "metadata": {
    "ExecuteTime": {
     "end_time": "2019-05-24T17:08:16.561491Z",
     "start_time": "2019-05-24T17:08:10.213982Z"
    },
    "hidden": true
   },
   "outputs": [
    {
     "name": "stdout",
     "output_type": "stream",
     "text": [
      "77.9 ms ± 2.23 ms per loop (mean ± std. dev. of 7 runs, 10 loops each)\n"
     ]
    }
   ],
   "source": [
    "%%timeit\n",
    "flags = is_point_in_path(*points, vertices)"
   ]
  },
  {
   "cell_type": "code",
   "execution_count": 366,
   "metadata": {
    "ExecuteTime": {
     "end_time": "2019-05-24T17:09:03.809090Z",
     "start_time": "2019-05-24T17:08:33.109254Z"
    },
    "hidden": true
   },
   "outputs": [
    {
     "name": "stdout",
     "output_type": "stream",
     "text": [
      "76.7 ms ± 1.02 ms per loop (mean ± std. dev. of 20 runs, 20 loops each)\n"
     ]
    }
   ],
   "source": [
    "%%timeit -r20 -n20\n",
    "flags = is_point_in_path(*points, vertices)"
   ]
  },
  {
   "cell_type": "markdown",
   "metadata": {
    "heading_collapsed": true,
    "hidden": true
   },
   "source": [
    "### More Array Computation (0.656s)"
   ]
  },
  {
   "cell_type": "markdown",
   "metadata": {
    "heading_collapsed": true,
    "hidden": true
   },
   "source": [
    "#### WRONG Using expand_dims (0.67s)"
   ]
  },
  {
   "cell_type": "code",
   "execution_count": 367,
   "metadata": {
    "ExecuteTime": {
     "end_time": "2019-05-24T17:09:30.091281Z",
     "start_time": "2019-05-24T17:09:29.271697Z"
    },
    "hidden": true
   },
   "outputs": [
    {
     "name": "stdout",
     "output_type": "stream",
     "text": [
      "[0 1 0 ... 0 0 0]\n",
      "(633,866)  62,810\n"
     ]
    }
   ],
   "source": [
    "def is_point_in_path(x, y, poly):\n",
    "    \"\"\"\n",
    "    x, y -- x and y coordinates of point\n",
    "    poly -- a list of tuples [(x, y), (x, y), ...]\n",
    "    -------------------------------------------------\n",
    "    PNPOLY - Point Inclusion in Polygon Test\n",
    "    W. Randolph Franklin (WRF) \n",
    "    source:  https://wrf.ecse.rpi.edu/Research/Short_Notes/pnpoly.html\n",
    "    \"\"\"\n",
    "    num = len(poly)  # Number of vertices\n",
    "    i = poly            # First Vertex\n",
    "    j = np.roll(poly, 1)  # Previous Vertex\n",
    "    i = np.expand_dims(np.transpose(i),2)\n",
    "    j = np.expand_dims(np.transpose(j),2)\n",
    "    c = np.zeros(len(x), dtype=np.bool_)\n",
    "    # Loop over vertices\n",
    "    # if (a) and (b)\n",
    "    # a) ((vertex[1][y] > pt[y]) != (vertex[0][y] > pt[y]))\n",
    "    # a) XOR(), false if either vertex is higher than point\n",
    "    # b) x < (vertex[1][x] + (y - vertex[1][y])*(vertex[0][x]-vertex[1][x])/(vertex[0][y]-vertex[1][y]))\n",
    "    #                                   slope = (vertex[1][y]-vertex[0][y])/ (vertex[1][x]-vertex[0][x])\n",
    "    #                                         =-(vertex[0][y]-vertex[1][y])/-(vertex[0][x]-vertex[1][x])\n",
    "    #                                         = (vertex[0][y]-vertex[1][y])/ (vertex[0][x]-vertex[1][x])\n",
    "    # b) x < (vertex[1][x] + (y - vertex[1][y])/slope)\n",
    "    # b) \n",
    "    mask = np.logical_and(\n",
    "        np.not_equal(\n",
    "            np.greater(i[1], y), \n",
    "            np.greater(j[1], y)\n",
    "        ),\n",
    "        np.less(\n",
    "            x, \n",
    "            i[0] + (j[0] - i[0]) * (y - i[1]) / (j[1] - i[1])\n",
    "        )\n",
    "    )\n",
    "    c = np.sum(mask, axis=0) % 2\n",
    "    #c = np.logical_xor.reduce(mask)\n",
    "    #c[mask] = ~c[mask] #np.invert(c, out=c, where=mask)\n",
    "\n",
    "    return c\n",
    "\n",
    "flags = is_point_in_path(*points, np.array(vertices))\n",
    "print(flags)\n",
    "print(\"({:,})  {:,}\".format(flags.shape[0], flags.sum()))"
   ]
  },
  {
   "cell_type": "code",
   "execution_count": 368,
   "metadata": {
    "ExecuteTime": {
     "end_time": "2019-05-24T17:09:37.074257Z",
     "start_time": "2019-05-24T17:09:32.140737Z"
    },
    "hidden": true
   },
   "outputs": [
    {
     "name": "stdout",
     "output_type": "stream",
     "text": [
      "612 ms ± 8.93 ms per loop (mean ± std. dev. of 7 runs, 1 loop each)\n"
     ]
    }
   ],
   "source": [
    "%%timeit\n",
    "flags = is_point_in_path(*points, np.array(vertices))"
   ]
  },
  {
   "cell_type": "markdown",
   "metadata": {
    "heading_collapsed": true,
    "hidden": true
   },
   "source": [
    "#### Using newaxis (0.656s)"
   ]
  },
  {
   "cell_type": "code",
   "execution_count": 369,
   "metadata": {
    "ExecuteTime": {
     "end_time": "2019-05-24T17:09:55.556101Z",
     "start_time": "2019-05-24T17:09:54.828397Z"
    },
    "hidden": true
   },
   "outputs": [
    {
     "name": "stdout",
     "output_type": "stream",
     "text": [
      "[False  True  True ... False False False]\n",
      "(633,866)  225,925\n"
     ]
    }
   ],
   "source": [
    "#@jit(nopython=True, parallel=True, fastmath=True)\n",
    "def is_point_in_path(x, y, poly):\n",
    "    \"\"\"\n",
    "    x, y -- x and y coordinates of point\n",
    "    poly -- a list of tuples [(x, y), (x, y), ...]\n",
    "    -------------------------------------------------\n",
    "    PNPOLY - Point Inclusion in Polygon Test\n",
    "    W. Randolph Franklin (WRF) \n",
    "    source:  https://wrf.ecse.rpi.edu/Research/Short_Notes/pnpoly.html\n",
    "    \"\"\"\n",
    "    num = len(poly)  # Number of vertices\n",
    "    i = poly            # First Vertex\n",
    "    j = np.roll(poly, 1, 0)  # Previous Vertex\n",
    "    c = np.zeros(len(x), dtype=np.bool_)\n",
    "    mask = np.logical_and(\n",
    "        np.not_equal(\n",
    "            np.greater(i[:,1,np.newaxis], y), \n",
    "            np.greater(j[:,1,np.newaxis], y)\n",
    "        ),\n",
    "        np.less(\n",
    "            x, \n",
    "            i[:,0,np.newaxis] + (j[:,0,np.newaxis] - i[:,0,np.newaxis]) * (y - i[:,1,np.newaxis]) /\n",
    "                            (j[:,1,np.newaxis] - i[:,1,np.newaxis]))\n",
    "    )\n",
    "    c = np.logical_xor.reduce(mask)\n",
    "    #c[mask] = ~c[mask] #np.invert(c, out=c, where=mask)\n",
    "\n",
    "    return c\n",
    "flags = is_point_in_path(*points, np.array(vertices))\n",
    "print(flags)\n",
    "print(\"({:,})  {:,}\".format(flags.shape[0], flags.sum()))"
   ]
  },
  {
   "cell_type": "code",
   "execution_count": 371,
   "metadata": {
    "ExecuteTime": {
     "end_time": "2019-05-24T17:14:37.775189Z",
     "start_time": "2019-05-24T17:10:15.406895Z"
    },
    "hidden": true
   },
   "outputs": [
    {
     "name": "stdout",
     "output_type": "stream",
     "text": [
      "656 ms ± 79.5 ms per loop (mean ± std. dev. of 20 runs, 20 loops each)\n"
     ]
    }
   ],
   "source": [
    "%%timeit -r20 -n20\n",
    "flags = is_point_in_path(*points, np.array(vertices))"
   ]
  },
  {
   "cell_type": "code",
   "execution_count": 20,
   "metadata": {
    "ExecuteTime": {
     "end_time": "2019-05-24T09:39:42.592794Z",
     "start_time": "2019-05-24T09:39:29.639608Z"
    },
    "hidden": true,
    "scrolled": false
   },
   "outputs": [
    {
     "data": {
      "image/png": "[encoded data removed]",
      "text/plain": [
       "<Figure size 1080x432 with 1 Axes>"
      ]
     },
     "metadata": {
      "needs_background": "light"
     },
     "output_type": "display_data"
    }
   ],
   "source": [
    "plot(flags)"
   ]
  },
  {
   "cell_type": "markdown",
   "metadata": {
    "heading_collapsed": true,
    "hidden": true
   },
   "source": [
    "#### WRONG Using Numba and Expand_dims (0.18s)"
   ]
  },
  {
   "cell_type": "code",
   "execution_count": 372,
   "metadata": {
    "ExecuteTime": {
     "end_time": "2019-05-24T17:16:38.991605Z",
     "start_time": "2019-05-24T17:16:36.999190Z"
    },
    "hidden": true
   },
   "outputs": [
    {
     "name": "stdout",
     "output_type": "stream",
     "text": [
      "[0 1 0 ... 0 0 0]\n",
      "(633,866)  62,810\n"
     ]
    }
   ],
   "source": [
    "@jit(nopython=True, fastmath=True)\n",
    "def is_point_in_path(x, y, poly):\n",
    "    \"\"\"\n",
    "    x, y -- x and y coordinates of point\n",
    "    poly -- a list of tuples [(x, y), (x, y), ...]\n",
    "    -------------------------------------------------\n",
    "    PNPOLY - Point Inclusion in Polygon Test\n",
    "    W. Randolph Franklin (WRF) \n",
    "    source:  https://wrf.ecse.rpi.edu/Research/Short_Notes/pnpoly.html\n",
    "    \"\"\"\n",
    "    num = len(poly)  # Number of vertices\n",
    "    i = poly            # First Vertex\n",
    "    j = np.roll(poly, 1)  # Previous Vertex\n",
    "    i = np.expand_dims(np.transpose(i),2)\n",
    "    j = np.expand_dims(np.transpose(j),2)\n",
    "    #c = np.zeros(len(x), dtype=np.bool_)\n",
    "    #print(i.shape)\n",
    "    #print(j.shape)\n",
    "    #print(x.shape, y.shape)\n",
    "    x = np.expand_dims(x,0)\n",
    "    y = np.expand_dims(y,0)\n",
    "    #print(x.shape, y.shape)\n",
    "    \n",
    "    #print(np.logical_and(\n",
    "    #    np.not_equal(\n",
    "    #        np.greater(i[1], y), \n",
    "    #        np.greater(j[1], y)\n",
    "    #    ),\n",
    "    #    np.less(\n",
    "    #        x, \n",
    "    #        i[0] + (j[0] - i[0]) * (y - i[1]) / (j[1] - i[1])\n",
    "    #    )\n",
    "    #).shape)\n",
    "    #print(np.not_equal(\n",
    "    #        np.greater(i[1], y), \n",
    "    #        np.greater(j[1], y)\n",
    "    #    ).shape)\n",
    "    #print(np.less(\n",
    "    #        x, \n",
    "    #        i[0] + (j[0] - i[0]) * (y - i[1]) / (j[1] - i[1])\n",
    "    #    ).shape)\n",
    "    #print(np.greater(i[1], y).shape)\n",
    "    #print((i[0] + (j[0] - i[0]) * (y - i[1]) / (j[1] - i[1])).shape)\n",
    "    # Loop over vertices\n",
    "    # if (a) and (b)\n",
    "    # a) ((vertex[1][y] > pt[y]) != (vertex[0][y] > pt[y]))\n",
    "    # a) XOR(), false if either vertex is higher than point\n",
    "    # b) x < (vertex[1][x] + (y - vertex[1][y])*(vertex[0][x]-vertex[1][x])/(vertex[0][y]-vertex[1][y]))\n",
    "    #                                   slope = (vertex[1][y]-vertex[0][y])/ (vertex[1][x]-vertex[0][x])\n",
    "    #                                         =-(vertex[0][y]-vertex[1][y])/-(vertex[0][x]-vertex[1][x])\n",
    "    #                                         = (vertex[0][y]-vertex[1][y])/ (vertex[0][x]-vertex[1][x])\n",
    "    # b) x < (vertex[1][x] + (y - vertex[1][y])/slope)\n",
    "    # b) \n",
    "    mask = np.logical_and(\n",
    "        np.not_equal(\n",
    "            np.greater(i[1], y), \n",
    "            np.greater(j[1], y)\n",
    "        ),\n",
    "        np.less(\n",
    "            x, \n",
    "            i[0] + (j[0] - i[0]) * (y - i[1]) / (j[1] - i[1])\n",
    "        )\n",
    "    )\n",
    "    c = np.sum(mask, axis=0) % 2\n",
    "    #c = np.logical_xor.reduce(mask)\n",
    "    #c[mask] = ~c[mask] #np.invert(c, out=c, where=mask)\n",
    "\n",
    "    return c\n",
    "\n",
    "flags = is_point_in_path(*points, np.array(vertices))\n",
    "print(flags)\n",
    "print(\"({:,})  {:,}\".format(flags.shape[0], flags.sum()))"
   ]
  },
  {
   "cell_type": "code",
   "execution_count": 605,
   "metadata": {
    "ExecuteTime": {
     "end_time": "2019-05-15T07:39:21.392051Z",
     "start_time": "2019-05-15T07:39:19.951026Z"
    },
    "hidden": true
   },
   "outputs": [
    {
     "name": "stdout",
     "output_type": "stream",
     "text": [
      "175 ms ± 13 ms per loop (mean ± std. dev. of 7 runs, 1 loop each)\n"
     ]
    }
   ],
   "source": [
    "%%timeit\n",
    "flags = is_point_in_path(*points, np.array(vertices))"
   ]
  },
  {
   "cell_type": "markdown",
   "metadata": {
    "hidden": true
   },
   "source": [
    "NOTE: Parallel fails due to broadcasting problem"
   ]
  },
  {
   "cell_type": "markdown",
   "metadata": {
    "heading_collapsed": true,
    "hidden": true
   },
   "source": [
    "#### WRONG Explicit logical xor reduction (0.14ms)"
   ]
  },
  {
   "cell_type": "code",
   "execution_count": 373,
   "metadata": {
    "ExecuteTime": {
     "end_time": "2019-05-24T17:16:56.035718Z",
     "start_time": "2019-05-24T17:16:55.046015Z"
    },
    "hidden": true
   },
   "outputs": [
    {
     "name": "stdout",
     "output_type": "stream",
     "text": [
      "[False  True False ... False False False]\n",
      "(633,866)  62,810\n"
     ]
    }
   ],
   "source": [
    "@jit(nopython=True, fastmath=True)\n",
    "def red(mask):\n",
    "    \"\"\" 140ms \"\"\"\n",
    "    c = np.zeros(len(x), dtype=np.bool_)\n",
    "    for idx in range(num):\n",
    "        c = np.logical_xor(mask[idx], c)\n",
    "    return c\n",
    "\n",
    "#@jit(nopython=True, fastmath=True)\n",
    "#def red(mask):\n",
    "#    \"\"\" 200ms \"\"\"\n",
    "#    return np.sum(mask, axis=0) % 2\n",
    "\n",
    "\n",
    "@jit(nopython=True, fastmath=True)\n",
    "def is_point_in_path(x, y, poly):\n",
    "    \"\"\"\n",
    "    x, y -- x and y coordinates of point\n",
    "    poly -- a list of tuples [(x, y), (x, y), ...]\n",
    "    -------------------------------------------------\n",
    "    PNPOLY - Point Inclusion in Polygon Test\n",
    "    W. Randolph Franklin (WRF) \n",
    "    source:  https://wrf.ecse.rpi.edu/Research/Short_Notes/pnpoly.html\n",
    "    \"\"\"\n",
    "    num = len(poly)  # Number of vertices\n",
    "    i = poly            # First Vertex\n",
    "    j = np.roll(poly, 1)  # Previous Vertex\n",
    "    i = np.expand_dims(np.transpose(i),2)\n",
    "    j = np.expand_dims(np.transpose(j),2)\n",
    "    # Loop over vertices\n",
    "    # if (a) and (b)\n",
    "    # a) ((vertex[1][y] > pt[y]) != (vertex[0][y] > pt[y]))\n",
    "    # a) XOR(), false if either vertex is higher than point\n",
    "    # b) x < (vertex[1][x] + (y - vertex[1][y])*(vertex[0][x]-vertex[1][x])/(vertex[0][y]-vertex[1][y]))\n",
    "    #                                   slope = (vertex[1][y]-vertex[0][y])/ (vertex[1][x]-vertex[0][x])\n",
    "    #                                         =-(vertex[0][y]-vertex[1][y])/-(vertex[0][x]-vertex[1][x])\n",
    "    #                                         = (vertex[0][y]-vertex[1][y])/ (vertex[0][x]-vertex[1][x])\n",
    "    # b) x < (vertex[1][x] + (y - vertex[1][y])/slope)\n",
    "    # b) \n",
    "    mask = np.logical_and(\n",
    "        np.not_equal(\n",
    "            np.greater(i[1], y), \n",
    "            np.greater(j[1], y)\n",
    "        ),\n",
    "        np.less(\n",
    "            x, \n",
    "            i[0] + (j[0] - i[0]) * (y - i[1]) / (j[1] - i[1])\n",
    "        )\n",
    "    )\n",
    "\n",
    "    return red(mask)\n",
    "\n",
    "flags = is_point_in_path(*points, np.array(vertices))\n",
    "print(flags)\n",
    "print(\"({:,})  {:,}\".format(flags.shape[0], flags.sum()))"
   ]
  },
  {
   "cell_type": "code",
   "execution_count": 640,
   "metadata": {
    "ExecuteTime": {
     "end_time": "2019-05-15T07:54:01.496289Z",
     "start_time": "2019-05-15T07:53:49.993138Z"
    },
    "hidden": true
   },
   "outputs": [
    {
     "name": "stdout",
     "output_type": "stream",
     "text": [
      "141 ms ± 1.89 ms per loop (mean ± std. dev. of 7 runs, 10 loops each)\n"
     ]
    }
   ],
   "source": [
    "%%timeit\n",
    "is_point_in_path(*points, np.array(vertices))"
   ]
  },
  {
   "cell_type": "markdown",
   "metadata": {
    "heading_collapsed": true,
    "hidden": true
   },
   "source": [
    "#### Logical Reduce Operations WIP"
   ]
  },
  {
   "cell_type": "code",
   "execution_count": 669,
   "metadata": {
    "ExecuteTime": {
     "end_time": "2019-05-15T13:20:11.789578Z",
     "start_time": "2019-05-15T13:20:10.956985Z"
    },
    "hidden": true
   },
   "outputs": [],
   "source": [
    "poly = vertices\n",
    "x, y = points\n",
    "\n",
    "num = len(poly)  # Number of vertices\n",
    "i = poly            # First Vertex\n",
    "j = np.roll(poly, 1)  # Previous Vertex\n",
    "i = np.expand_dims(np.transpose(i),2)\n",
    "j = np.expand_dims(np.transpose(j),2)\n",
    "c = np.zeros(len(x), dtype=np.bool_)\n",
    "# Loop over vertices\n",
    "# if (a) and (b)\n",
    "# a) ((vertex[1][y] > pt[y]) != (vertex[0][y] > pt[y]))\n",
    "# a) XOR(), false if either vertex is higher than point\n",
    "# b) x < (vertex[1][x] + (y - vertex[1][y])*(vertex[0][x]-vertex[1][x])/(vertex[0][y]-vertex[1][y]))\n",
    "#                                   slope = (vertex[1][y]-vertex[0][y])/ (vertex[1][x]-vertex[0][x])\n",
    "#                                         =-(vertex[0][y]-vertex[1][y])/-(vertex[0][x]-vertex[1][x])\n",
    "#                                         = (vertex[0][y]-vertex[1][y])/ (vertex[0][x]-vertex[1][x])\n",
    "# b) x < (vertex[1][x] + (y - vertex[1][y])/slope)\n",
    "# b) \n",
    "mask = np.logical_and(\n",
    "    np.not_equal(\n",
    "        np.greater(i[1], y), \n",
    "        np.greater(j[1], y)\n",
    "    ),\n",
    "    np.less(\n",
    "        x, \n",
    "        i[0] + (j[0] - i[0]) * (y - i[1]) / (j[1] - i[1])\n",
    "    )\n",
    ")\n",
    "c = np.sum(mask, axis=0) % 2\n",
    "#c = np.logical_xor.reduce(mask)\n",
    "#c[mask] = ~c[mask] #np.invert(c, out=c, where=mask)\n"
   ]
  },
  {
   "cell_type": "code",
   "execution_count": 556,
   "metadata": {
    "ExecuteTime": {
     "end_time": "2019-05-15T07:21:44.642691Z",
     "start_time": "2019-05-15T07:21:42.645273Z"
    },
    "hidden": true
   },
   "outputs": [
    {
     "name": "stdout",
     "output_type": "stream",
     "text": [
      "23.5 ms ± 1.15 ms per loop (mean ± std. dev. of 7 runs, 10 loops each)\n"
     ]
    }
   ],
   "source": [
    "%%timeit\n",
    "np.logical_xor.reduce(mask)"
   ]
  },
  {
   "cell_type": "code",
   "execution_count": 555,
   "metadata": {
    "ExecuteTime": {
     "end_time": "2019-05-15T07:21:37.880889Z",
     "start_time": "2019-05-15T07:21:34.533512Z"
    },
    "hidden": true
   },
   "outputs": [
    {
     "name": "stdout",
     "output_type": "stream",
     "text": [
      "41 ms ± 3.85 ms per loop (mean ± std. dev. of 7 runs, 10 loops each)\n"
     ]
    }
   ],
   "source": [
    "%%timeit\n",
    "np.sum(mask, axis=0) % 2"
   ]
  },
  {
   "cell_type": "code",
   "execution_count": null,
   "metadata": {
    "hidden": true
   },
   "outputs": [],
   "source": []
  },
  {
   "cell_type": "code",
   "execution_count": 544,
   "metadata": {
    "ExecuteTime": {
     "end_time": "2019-05-15T07:17:58.855617Z",
     "start_time": "2019-05-15T07:17:58.816609Z"
    },
    "hidden": true
   },
   "outputs": [
    {
     "data": {
      "text/plain": [
       "array([[ True,  True,  True, ...,  True,  True,  True],\n",
       "       [ True,  True,  True, ...,  True,  True,  True],\n",
       "       [ True,  True,  True, ...,  True,  True,  True],\n",
       "       ...,\n",
       "       [False,  True,  True, ...,  True,  True,  True],\n",
       "       [ True,  True,  True, ...,  True,  True,  True],\n",
       "       [ True,  True,  True, ...,  True,  True,  True]])"
      ]
     },
     "execution_count": 544,
     "metadata": {},
     "output_type": "execute_result"
    }
   ],
   "source": [
    " np.greater(np.expand_dims(np.array(vertices).T[1], 1), points[1])"
   ]
  },
  {
   "cell_type": "markdown",
   "metadata": {},
   "source": [
    "# Overview"
   ]
  },
  {
   "cell_type": "markdown",
   "metadata": {},
   "source": [
    "## Time Comparison"
   ]
  },
  {
   "cell_type": "code",
   "execution_count": 382,
   "metadata": {
    "ExecuteTime": {
     "end_time": "2019-05-24T18:14:04.159928Z",
     "start_time": "2019-05-24T18:14:04.151921Z"
    }
   },
   "outputs": [],
   "source": [
    "time_comparison = {\n",
    "    'Shapely (GEOS)': 23,\n",
    "    'Matplotlib Path': 0.16,\n",
    "    'Ray Tracing': 0.172,\n",
    "    'SoS Ray Tracing Iterated': 0.062,\n",
    "    'SoS Ray Tracing Vectorized': 0.038\n",
    "}"
   ]
  },
  {
   "cell_type": "code",
   "execution_count": 393,
   "metadata": {
    "ExecuteTime": {
     "end_time": "2019-05-24T18:17:35.877858Z",
     "start_time": "2019-05-24T18:17:34.117609Z"
    }
   },
   "outputs": [
    {
     "data": {
      "text/plain": [
       "Text(0, 0.5, 'Compute Time (seconds)')"
      ]
     },
     "execution_count": 393,
     "metadata": {},
     "output_type": "execute_result"
    },
    {
     "data": {
      "image/png": "[encoded data removed]",
      "text/plain": [
       "<Figure size 1080x720 with 1 Axes>"
      ]
     },
     "metadata": {
      "needs_background": "light"
     },
     "output_type": "display_data"
    }
   ],
   "source": [
    "fig, ax = plt.subplots(1,1,figsize=(15,10))\n",
    "ax.bar(time_comparison.keys(), time_comparison.values(), edgecolor='black', linewidth=0.7)\n",
    "ax.set_yscale('log')\n",
    "ax.set_ylabel('Compute Time (seconds)')"
   ]
  },
  {
   "cell_type": "code",
   "execution_count": 394,
   "metadata": {
    "ExecuteTime": {
     "end_time": "2019-05-24T18:19:02.086131Z",
     "start_time": "2019-05-24T18:19:02.076118Z"
    }
   },
   "outputs": [],
   "source": [
    "time_comparison = {\n",
    "    'Shapely (GEOS)': 23,\n",
    "    'Matplotlib Path': 0.16,\n",
    "    'Ray Tracing': {\n",
    "        'Pure Python': 60,\n",
    "        'Numba Looped': 1.5,\n",
    "        'Numba Envelope': 0.2,\n",
    "        'Numba Envelope w/ memory pre-allocation': 0.172\n",
    "    },\n",
    "    'SoS Ray Tracing': {\n",
    "        'Pure Python': 52,\n",
    "        'Numba Looped': 1.4,\n",
    "        'Numba Envelope': 0.1,\n",
    "        'Numba Envelope w/ memory pre-allocation': 0.062,\n",
    "        '+ Explicit first loop in bool': 0.047,\n",
    "        '+ Explicit first loop in bool vectorized': 0.038\n",
    "    }\n",
    "}"
   ]
  },
  {
   "cell_type": "code",
   "execution_count": 698,
   "metadata": {
    "ExecuteTime": {
     "end_time": "2019-05-25T06:39:18.603218Z",
     "start_time": "2019-05-25T06:39:18.589210Z"
    }
   },
   "outputs": [],
   "source": [
    "ray_tracing = {\n",
    "    'RT: Pure Python': 60,\n",
    "    'RT: Numba Looped': 1.5,\n",
    "    'RT: Numba Envelope': 0.216,\n",
    "    '+ memory pre-alloc.': 0.172\n",
    "}\n",
    "sos = {\n",
    "    'SoS RT: Pure Python': 52,\n",
    "    'SoS RT: Numba Looped': 1.4,\n",
    "    'SoS RT: Numba Envelope': 0.0999,\n",
    "    '+ mem. pre-alloc.': 0.0616,\n",
    "    '+ Explicit 1st loop (bool)': 0.047, \n",
    "    '+ Explicit 1st loop (bool) vectorized': 0.038,\n",
    "}\n",
    "time_comparison = {\n",
    "    'Shapely (GEOS)': 21.8,\n",
    "    'Matplotlib Path': 0.16,\n",
    "    **ray_tracing,\n",
    "    **sos\n",
    "}\n",
    "colors = [\n",
    "    # Orange, Purple \n",
    "    [0.90,0.40,0.00,0.75], [0.50,0.00,0.40,1.00],\n",
    "    # Greens\n",
    "    [0.00,0.25,0.00,1.00], [0.00,0.25,0.00,0.80], [0.00,0.25,0.00,0.60], [0.00,0.25,0.00,0.40],\n",
    "    # Blues\n",
    "    [0.00,0.00,0.30,0.90], [0.00,0.00,0.30,0.78], [0.00,0.00,0.30,0.66], [0.00,0.00,0.30,0.54], \n",
    "    [0.00,0.00,0.30,0.42], [0.00,0.00,0.30,0.30]\n",
    "]"
   ]
  },
  {
   "cell_type": "code",
   "execution_count": 700,
   "metadata": {
    "ExecuteTime": {
     "end_time": "2019-05-25T06:39:30.083377Z",
     "start_time": "2019-05-25T06:39:30.076374Z"
    }
   },
   "outputs": [],
   "source": [
    "stds = {\n",
    "    'Shapely (GEOS)': 1.34,\n",
    "    'Matplotlib Path': 0.00732,\n",
    "    'RT: Pure Python': 2.95,\n",
    "    'RT: Numba Looped': 0.0324,\n",
    "    'RT: Numba Envelope': 0.0047,\n",
    "    '+ memory pre-alloc.': 0.0026,\n",
    "    'SoS RT: Pure Python': 0,\n",
    "    'SoS RT: Numba Looped': 0.0311,\n",
    "    'SoS RT: Numba Envelope': 0.000483,\n",
    "    '+ mem. pre-alloc.': 0.000954,\n",
    "    '+ Explicit 1st loop (bool)': 0.00128,\n",
    "    '+ Explicit 1st loop (bool) vectorized': 0.000556\n",
    "}"
   ]
  },
  {
   "cell_type": "code",
   "execution_count": null,
   "metadata": {
    "ExecuteTime": {
     "end_time": "2019-05-25T06:00:17.543322Z",
     "start_time": "2019-05-25T05:58:22.121Z"
    }
   },
   "outputs": [],
   "source": [
    "time_comparison_values = np.array(time_comparison.values())[1,:]\n",
    "print(time_comparison_values.shape)\n",
    "time_comparison_std = np.array(time_comparison.values())[2,:]\n",
    "time_comparison_keys = list(time_comparison.keys())\n"
   ]
  },
  {
   "cell_type": "code",
   "execution_count": 717,
   "metadata": {
    "ExecuteTime": {
     "end_time": "2019-05-25T09:38:49.279425Z",
     "start_time": "2019-05-25T09:38:48.388793Z"
    }
   },
   "outputs": [
    {
     "data": {
      "text/plain": [
       "Text(0.5, 1.0, 'Point-in-Polygon selection performance comparison')"
      ]
     },
     "execution_count": 717,
     "metadata": {},
     "output_type": "execute_result"
    },
    {
     "data": {
      "image/png": "[encoded data removed]",
      "text/plain": [
       "<Figure size 936x504 with 1 Axes>"
      ]
     },
     "metadata": {
      "needs_background": "light"
     },
     "output_type": "display_data"
    }
   ],
   "source": [
    "fig, ax = plt.subplots(1,1,figsize=(13,7))\n",
    "ax.bar(time_comparison.keys(), time_comparison.values(), yerr=stds.values(),\n",
    "       edgecolor='black', linewidth=0.8, color=colors)\n",
    "ax.set_yscale('log')\n",
    "ax.set_ylabel('Compute Time (seconds)')\n",
    "ax.xaxis.set_tick_params(rotation=70)\n",
    "\n",
    "# Reference of refresh rate\n",
    "ref = ax.axhline(1/25, label='25Hz', color='k', linestyle=\"--\", linewidth=0.7)\n",
    "\n",
    "# Legend\n",
    "import matplotlib.patches as mpatches\n",
    "orange_patch = mpatches.Patch(color=[0.90,0.40,0.00,0.80], label='Shapely (GEOS)')\n",
    "purple_patch = mpatches.Patch(color=[0.50,0.00,0.40,0.90], label='Matplotlib Path')\n",
    "green_patch  = mpatches.Patch(color=[0.00,0.25,0.00,0.80], label='Ray Tracing')\n",
    "blue_patch   = mpatches.Patch(color=[0.00,0.00,0.25,0.75], label='SoS Ray Tracing')\n",
    "ax.legend(handles=[orange_patch, purple_patch, green_patch, blue_patch, ref])\n",
    "\n",
    "# Value\n",
    "import matplotlib.patheffects as path_effects\n",
    "y = list(time_comparison.values())\n",
    "for i, v in enumerate(y):\n",
    "    label_text = ax.text(i, v*1.08, str(v)+\"s\", horizontalalignment='center', fontweight='demi')#, fontweight='bold', color=colors[i])\n",
    "    # Ensure readability with large errorbars\n",
    "    label_text.set_path_effects([\n",
    "        path_effects.Stroke(linewidth=1, foreground='white'),\n",
    "        path_effects.Normal()\n",
    "    ])\n",
    "\n",
    "# Title\n",
    "ax.set_title('Point-in-Polygon selection performance comparison', fontsize=14)\n",
    "#fig.tight_layout()"
   ]
  },
  {
   "cell_type": "code",
   "execution_count": 708,
   "metadata": {
    "ExecuteTime": {
     "end_time": "2019-05-25T07:02:00.715660Z",
     "start_time": "2019-05-25T07:02:00.706653Z"
    }
   },
   "outputs": [
    {
     "data": {
      "text/plain": [
       "4.2105263157894735"
      ]
     },
     "execution_count": 708,
     "metadata": {},
     "output_type": "execute_result"
    }
   ],
   "source": [
    "0.16/0.038"
   ]
  },
  {
   "cell_type": "markdown",
   "metadata": {},
   "source": [
    "## Throughput"
   ]
  },
  {
   "cell_type": "code",
   "execution_count": 721,
   "metadata": {
    "ExecuteTime": {
     "end_time": "2019-05-25T09:41:03.883182Z",
     "start_time": "2019-05-25T09:41:03.879179Z"
    }
   },
   "outputs": [],
   "source": [
    "reference_rate = 30\n",
    "reference_time = 1/reference_rate\n",
    "data_length = points.shape[1]"
   ]
  },
  {
   "cell_type": "code",
   "execution_count": 728,
   "metadata": {
    "ExecuteTime": {
     "end_time": "2019-05-25T09:44:06.705583Z",
     "start_time": "2019-05-25T09:44:06.700588Z"
    }
   },
   "outputs": [],
   "source": [
    "throughput = {\n",
    "    key: (data_length*reference_time)/time_comparison[key]\n",
    "    for key in time_comparison.keys()\n",
    "}"
   ]
  },
  {
   "cell_type": "code",
   "execution_count": 755,
   "metadata": {
    "ExecuteTime": {
     "end_time": "2019-05-25T09:56:06.270206Z",
     "start_time": "2019-05-25T09:56:05.595113Z"
    }
   },
   "outputs": [
    {
     "data": {
      "text/plain": [
       "Text(0.5, 1.0, 'Point-in-Polygon selection throughput\\n(computed points within 30Hz)')"
      ]
     },
     "execution_count": 755,
     "metadata": {},
     "output_type": "execute_result"
    },
    {
     "data": {
      "image/png": "[encoded data removed]",
      "text/plain": [
       "<Figure size 936x504 with 1 Axes>"
      ]
     },
     "metadata": {
      "needs_background": "light"
     },
     "output_type": "display_data"
    }
   ],
   "source": [
    "from matplotlib.ticker import StrMethodFormatter\n",
    "fig, ax = plt.subplots(1,1,figsize=(13,7))\n",
    "ax.bar(throughput.keys(), throughput.values(), #yerr=stds.values(),\n",
    "       edgecolor='black', linewidth=0.8, color=colors)\n",
    "#ax.set_yscale('log')\n",
    "ax.set_ylabel('Computed Points in Reference Time (points)')\n",
    "ax.xaxis.set_tick_params(rotation=70)\n",
    "ax.yaxis.set_major_formatter(StrMethodFormatter('{x:,.0f}'))\n",
    "\n",
    "\n",
    "# Legend\n",
    "import matplotlib.patches as mpatches\n",
    "orange_patch = mpatches.Patch(color=[0.90,0.40,0.00,0.80], label='Shapely (GEOS)')\n",
    "purple_patch = mpatches.Patch(color=[0.50,0.00,0.40,0.90], label='Matplotlib Path')\n",
    "green_patch  = mpatches.Patch(color=[0.00,0.25,0.00,0.70], label='Ray Tracing')\n",
    "blue_patch   = mpatches.Patch(color=[0.00,0.00,0.25,0.65], label='SoS Ray Tracing')\n",
    "ax.legend(handles=[orange_patch, purple_patch, green_patch, blue_patch])\n",
    "\n",
    "# Value\n",
    "import matplotlib.patheffects as path_effects\n",
    "y = list(throughput.values())\n",
    "for i, v in enumerate(y):\n",
    "    label_text = ax.text(i, v+7000, \"{:,.0f}\".format(v)+\"$\\,$pts\", horizontalalignment='center')#, fontweight='demi')#, fontweight='bold', color=colors[i])\n",
    "    # Ensure readability with large errorbars\n",
    "    label_text.set_path_effects([\n",
    "        path_effects.Stroke(linewidth=1, foreground='white'),\n",
    "        path_effects.Normal()\n",
    "    ])\n",
    "\n",
    "# Title\n",
    "ax.set_title('Point-in-Polygon selection throughput\\n(computed points within {}Hz)'.format(reference_rate), fontsize=14)\n",
    "#fig.tight_layout()"
   ]
  },
  {
   "cell_type": "code",
   "execution_count": 756,
   "metadata": {
    "ExecuteTime": {
     "end_time": "2019-05-25T11:55:28.135929Z",
     "start_time": "2019-05-25T11:55:27.882750Z"
    }
   },
   "outputs": [
    {
     "data": {
      "text/plain": [
       "array([42.08534992, 11.63993712])"
      ]
     },
     "execution_count": 756,
     "metadata": {},
     "output_type": "execute_result"
    }
   ],
   "source": [
    "vertices.min(0)"
   ]
  },
  {
   "cell_type": "code",
   "execution_count": 758,
   "metadata": {
    "ExecuteTime": {
     "end_time": "2019-05-25T12:20:49.588952Z",
     "start_time": "2019-05-25T12:20:49.579946Z"
    }
   },
   "outputs": [
    {
     "data": {
      "text/plain": [
       "'ab'"
      ]
     },
     "execution_count": 758,
     "metadata": {},
     "output_type": "execute_result"
    }
   ],
   "source": [
    "\"a\" + \"b\""
   ]
  },
  {
   "cell_type": "code",
   "execution_count": null,
   "metadata": {},
   "outputs": [],
   "source": []
  },
  {
   "cell_type": "code",
   "execution_count": null,
   "metadata": {},
   "outputs": [],
   "source": []
  },
  {
   "cell_type": "code",
   "execution_count": 767,
   "metadata": {
    "ExecuteTime": {
     "end_time": "2019-05-26T06:05:27.005296Z",
     "start_time": "2019-05-26T06:05:26.914232Z"
    }
   },
   "outputs": [
    {
     "data": {
      "text/plain": [
       "[[42.13236576, 11.90331655],\n",
       " [42.11873477, 11.85733264],\n",
       " [42.13716759, 11.77498936],\n",
       " [42.15838856, 11.72045031]]"
      ]
     },
     "execution_count": 767,
     "metadata": {},
     "output_type": "execute_result"
    }
   ],
   "source": [
    "import ast\n",
    "ast.literal_eval(\"[[42.13236576 11.90331655]\\n [42.11873477 11.85733264]\\n [42.13716759 11.77498936]\\n [42.15838856 11.72045031]]\".replace(\" \", \",\"))"
   ]
  },
  {
   "cell_type": "code",
   "execution_count": 774,
   "metadata": {
    "ExecuteTime": {
     "end_time": "2019-05-26T09:53:52.096277Z",
     "start_time": "2019-05-26T09:53:52.087271Z"
    }
   },
   "outputs": [
    {
     "data": {
      "text/plain": [
       "8.0"
      ]
     },
     "execution_count": 774,
     "metadata": {},
     "output_type": "execute_result"
    }
   ],
   "source": [
    "np.ones((1, 1024), dtype=np.double).nbytes/1024"
   ]
  },
  {
   "cell_type": "code",
   "execution_count": 785,
   "metadata": {
    "ExecuteTime": {
     "end_time": "2019-05-26T14:10:19.260598Z",
     "start_time": "2019-05-26T14:10:19.256595Z"
    }
   },
   "outputs": [],
   "source": [
    "import tempfile"
   ]
  },
  {
   "cell_type": "code",
   "execution_count": 916,
   "metadata": {
    "ExecuteTime": {
     "end_time": "2019-05-26T14:19:34.801645Z",
     "start_time": "2019-05-26T14:19:27.709099Z"
    }
   },
   "outputs": [
    {
     "name": "stdout",
     "output_type": "stream",
     "text": [
      "\n"
     ]
    }
   ],
   "source": [
    "tf = tempfile.TemporaryFile(mode='w+t', encoding='utf-8')\n",
    "pd.DataFrame(points.T).to_csv(tf, encoding='utf-8', index=False)\n",
    "print(tf.read(10))"
   ]
  },
  {
   "cell_type": "code",
   "execution_count": 917,
   "metadata": {
    "ExecuteTime": {
     "end_time": "2019-05-26T14:19:34.889711Z",
     "start_time": "2019-05-26T14:19:34.877699Z"
    }
   },
   "outputs": [
    {
     "data": {
      "text/plain": [
       "0"
      ]
     },
     "execution_count": 917,
     "metadata": {},
     "output_type": "execute_result"
    }
   ],
   "source": [
    "tf.seek(0)"
   ]
  },
  {
   "cell_type": "code",
   "execution_count": 990,
   "metadata": {
    "ExecuteTime": {
     "end_time": "2019-05-26T14:23:34.680688Z",
     "start_time": "2019-05-26T14:23:34.512589Z"
    },
    "scrolled": true
   },
   "outputs": [
    {
     "data": {
      "text/plain": [
       "9534173"
      ]
     },
     "execution_count": 990,
     "metadata": {},
     "output_type": "execute_result"
    }
   ],
   "source": [
    "getsizeof(tf.read(100000000))"
   ]
  },
  {
   "cell_type": "code",
   "execution_count": 996,
   "metadata": {
    "ExecuteTime": {
     "end_time": "2019-05-26T14:29:03.135309Z",
     "start_time": "2019-05-26T14:29:03.109292Z"
    }
   },
   "outputs": [
    {
     "data": {
      "text/html": [
       "<div>\n",
       "<style scoped>\n",
       "    .dataframe tbody tr th:only-of-type {\n",
       "        vertical-align: middle;\n",
       "    }\n",
       "\n",
       "    .dataframe tbody tr th {\n",
       "        vertical-align: top;\n",
       "    }\n",
       "\n",
       "    .dataframe thead th {\n",
       "        text-align: right;\n",
       "    }\n",
       "</style>\n",
       "<table border=\"1\" class=\"dataframe\">\n",
       "  <thead>\n",
       "    <tr style=\"text-align: right;\">\n",
       "      <th></th>\n",
       "      <th>0</th>\n",
       "      <th>1</th>\n",
       "    </tr>\n",
       "  </thead>\n",
       "  <tbody>\n",
       "    <tr>\n",
       "      <th>0</th>\n",
       "      <td>42.162951</td>\n",
       "      <td>11.941537</td>\n",
       "    </tr>\n",
       "    <tr>\n",
       "      <th>1</th>\n",
       "      <td>42.113443</td>\n",
       "      <td>11.680247</td>\n",
       "    </tr>\n",
       "    <tr>\n",
       "      <th>2</th>\n",
       "      <td>42.115153</td>\n",
       "      <td>11.882239</td>\n",
       "    </tr>\n",
       "    <tr>\n",
       "      <th>3</th>\n",
       "      <td>42.180174</td>\n",
       "      <td>11.675622</td>\n",
       "    </tr>\n",
       "    <tr>\n",
       "      <th>4</th>\n",
       "      <td>42.183232</td>\n",
       "      <td>11.889462</td>\n",
       "    </tr>\n",
       "    <tr>\n",
       "      <th>5</th>\n",
       "      <td>42.113141</td>\n",
       "      <td>11.913323</td>\n",
       "    </tr>\n",
       "    <tr>\n",
       "      <th>6</th>\n",
       "      <td>42.180077</td>\n",
       "      <td>11.902654</td>\n",
       "    </tr>\n",
       "    <tr>\n",
       "      <th>7</th>\n",
       "      <td>42.174189</td>\n",
       "      <td>11.913566</td>\n",
       "    </tr>\n",
       "    <tr>\n",
       "      <th>8</th>\n",
       "      <td>42.109306</td>\n",
       "      <td>11.912748</td>\n",
       "    </tr>\n",
       "    <tr>\n",
       "      <th>9</th>\n",
       "      <td>42.129936</td>\n",
       "      <td>11.877962</td>\n",
       "    </tr>\n",
       "  </tbody>\n",
       "</table>\n",
       "</div>"
      ],
      "text/plain": [
       "           0          1\n",
       "0  42.162951  11.941537\n",
       "1  42.113443  11.680247\n",
       "2  42.115153  11.882239\n",
       "3  42.180174  11.675622\n",
       "4  42.183232  11.889462\n",
       "5  42.113141  11.913323\n",
       "6  42.180077  11.902654\n",
       "7  42.174189  11.913566\n",
       "8  42.109306  11.912748\n",
       "9  42.129936  11.877962"
      ]
     },
     "execution_count": 996,
     "metadata": {},
     "output_type": "execute_result"
    }
   ],
   "source": [
    "pd.DataFrame(points.T)[:10]"
   ]
  },
  {
   "cell_type": "code",
   "execution_count": 998,
   "metadata": {
    "ExecuteTime": {
     "end_time": "2019-05-26T14:48:31.494273Z",
     "start_time": "2019-05-26T14:48:30.781768Z"
    }
   },
   "outputs": [
    {
     "ename": "ValueError",
     "evalue": "I/O operation on closed file.",
     "output_type": "error",
     "traceback": [
      "\u001b[1;31m---------------------------------------------------------------------------\u001b[0m",
      "\u001b[1;31mValueError\u001b[0m                                Traceback (most recent call last)",
      "\u001b[1;32m<ipython-input-998-34c9fb6aabdf>\u001b[0m in \u001b[0;36m<module>\u001b[1;34m\u001b[0m\n\u001b[1;32m----> 1\u001b[1;33m \u001b[0mtf\u001b[0m\u001b[1;33m.\u001b[0m\u001b[0mread\u001b[0m\u001b[1;33m(\u001b[0m\u001b[1;36m1\u001b[0m\u001b[1;33m)\u001b[0m\u001b[1;33m\u001b[0m\u001b[1;33m\u001b[0m\u001b[0m\n\u001b[0m",
      "\u001b[1;32mC:\\ProgramData\\Anaconda3\\lib\\tempfile.py\u001b[0m in \u001b[0;36mfunc_wrapper\u001b[1;34m(*args, **kwargs)\u001b[0m\n\u001b[0;32m    479\u001b[0m             \u001b[1;33m@\u001b[0m\u001b[0m_functools\u001b[0m\u001b[1;33m.\u001b[0m\u001b[0mwraps\u001b[0m\u001b[1;33m(\u001b[0m\u001b[0mfunc\u001b[0m\u001b[1;33m)\u001b[0m\u001b[1;33m\u001b[0m\u001b[1;33m\u001b[0m\u001b[0m\n\u001b[0;32m    480\u001b[0m             \u001b[1;32mdef\u001b[0m \u001b[0mfunc_wrapper\u001b[0m\u001b[1;33m(\u001b[0m\u001b[1;33m*\u001b[0m\u001b[0margs\u001b[0m\u001b[1;33m,\u001b[0m \u001b[1;33m**\u001b[0m\u001b[0mkwargs\u001b[0m\u001b[1;33m)\u001b[0m\u001b[1;33m:\u001b[0m\u001b[1;33m\u001b[0m\u001b[1;33m\u001b[0m\u001b[0m\n\u001b[1;32m--> 481\u001b[1;33m                 \u001b[1;32mreturn\u001b[0m \u001b[0mfunc\u001b[0m\u001b[1;33m(\u001b[0m\u001b[1;33m*\u001b[0m\u001b[0margs\u001b[0m\u001b[1;33m,\u001b[0m \u001b[1;33m**\u001b[0m\u001b[0mkwargs\u001b[0m\u001b[1;33m)\u001b[0m\u001b[1;33m\u001b[0m\u001b[1;33m\u001b[0m\u001b[0m\n\u001b[0m\u001b[0;32m    482\u001b[0m             \u001b[1;31m# Avoid closing the file as long as the wrapper is alive,\u001b[0m\u001b[1;33m\u001b[0m\u001b[1;33m\u001b[0m\u001b[1;33m\u001b[0m\u001b[0m\n\u001b[0;32m    483\u001b[0m             \u001b[1;31m# see issue #18879.\u001b[0m\u001b[1;33m\u001b[0m\u001b[1;33m\u001b[0m\u001b[1;33m\u001b[0m\u001b[0m\n",
      "\u001b[1;31mValueError\u001b[0m: I/O operation on closed file."
     ]
    }
   ],
   "source": [
    "tf.read(1)"
   ]
  },
  {
   "cell_type": "code",
   "execution_count": 930,
   "metadata": {
    "ExecuteTime": {
     "end_time": "2019-05-26T14:22:23.271942Z",
     "start_time": "2019-05-26T14:22:23.254927Z"
    }
   },
   "outputs": [
    {
     "ename": "AttributeError",
     "evalue": "'_io.TextIOWrapper' object has no attribute 'location'",
     "output_type": "error",
     "traceback": [
      "\u001b[1;31m---------------------------------------------------------------------------\u001b[0m",
      "\u001b[1;31mAttributeError\u001b[0m                            Traceback (most recent call last)",
      "\u001b[1;32m<ipython-input-930-fcde40dc0304>\u001b[0m in \u001b[0;36m<module>\u001b[1;34m\u001b[0m\n\u001b[1;32m----> 1\u001b[1;33m \u001b[0mtf\u001b[0m\u001b[1;33m.\u001b[0m\u001b[0mlocation\u001b[0m\u001b[1;33m\u001b[0m\u001b[1;33m\u001b[0m\u001b[0m\n\u001b[0m",
      "\u001b[1;32mC:\\ProgramData\\Anaconda3\\lib\\tempfile.py\u001b[0m in \u001b[0;36m__getattr__\u001b[1;34m(self, name)\u001b[0m\n\u001b[0;32m    474\u001b[0m         \u001b[1;31m# (i.e. methods are cached, closed and friends are not)\u001b[0m\u001b[1;33m\u001b[0m\u001b[1;33m\u001b[0m\u001b[1;33m\u001b[0m\u001b[0m\n\u001b[0;32m    475\u001b[0m         \u001b[0mfile\u001b[0m \u001b[1;33m=\u001b[0m \u001b[0mself\u001b[0m\u001b[1;33m.\u001b[0m\u001b[0m__dict__\u001b[0m\u001b[1;33m[\u001b[0m\u001b[1;34m'file'\u001b[0m\u001b[1;33m]\u001b[0m\u001b[1;33m\u001b[0m\u001b[1;33m\u001b[0m\u001b[0m\n\u001b[1;32m--> 476\u001b[1;33m         \u001b[0ma\u001b[0m \u001b[1;33m=\u001b[0m \u001b[0mgetattr\u001b[0m\u001b[1;33m(\u001b[0m\u001b[0mfile\u001b[0m\u001b[1;33m,\u001b[0m \u001b[0mname\u001b[0m\u001b[1;33m)\u001b[0m\u001b[1;33m\u001b[0m\u001b[1;33m\u001b[0m\u001b[0m\n\u001b[0m\u001b[0;32m    477\u001b[0m         \u001b[1;32mif\u001b[0m \u001b[0mhasattr\u001b[0m\u001b[1;33m(\u001b[0m\u001b[0ma\u001b[0m\u001b[1;33m,\u001b[0m \u001b[1;34m'__call__'\u001b[0m\u001b[1;33m)\u001b[0m\u001b[1;33m:\u001b[0m\u001b[1;33m\u001b[0m\u001b[1;33m\u001b[0m\u001b[0m\n\u001b[0;32m    478\u001b[0m             \u001b[0mfunc\u001b[0m \u001b[1;33m=\u001b[0m \u001b[0ma\u001b[0m\u001b[1;33m\u001b[0m\u001b[1;33m\u001b[0m\u001b[0m\n",
      "\u001b[1;31mAttributeError\u001b[0m: '_io.TextIOWrapper' object has no attribute 'location'"
     ]
    }
   ],
   "source": [
    "tf.location"
   ]
  },
  {
   "cell_type": "code",
   "execution_count": 915,
   "metadata": {
    "ExecuteTime": {
     "end_time": "2019-05-26T14:19:16.664250Z",
     "start_time": "2019-05-26T14:19:16.628224Z"
    }
   },
   "outputs": [
    {
     "data": {
      "text/html": [
       "<div>\n",
       "<style scoped>\n",
       "    .dataframe tbody tr th:only-of-type {\n",
       "        vertical-align: middle;\n",
       "    }\n",
       "\n",
       "    .dataframe tbody tr th {\n",
       "        vertical-align: top;\n",
       "    }\n",
       "\n",
       "    .dataframe thead th {\n",
       "        text-align: right;\n",
       "    }\n",
       "</style>\n",
       "<table border=\"1\" class=\"dataframe\">\n",
       "  <thead>\n",
       "    <tr style=\"text-align: right;\">\n",
       "      <th></th>\n",
       "      <th>0</th>\n",
       "      <th>1</th>\n",
       "    </tr>\n",
       "  </thead>\n",
       "  <tbody>\n",
       "    <tr>\n",
       "      <th>0</th>\n",
       "      <td>42.162951</td>\n",
       "      <td>11.941537</td>\n",
       "    </tr>\n",
       "    <tr>\n",
       "      <th>1</th>\n",
       "      <td>42.113443</td>\n",
       "      <td>11.680247</td>\n",
       "    </tr>\n",
       "    <tr>\n",
       "      <th>2</th>\n",
       "      <td>42.115153</td>\n",
       "      <td>11.882239</td>\n",
       "    </tr>\n",
       "    <tr>\n",
       "      <th>3</th>\n",
       "      <td>42.180174</td>\n",
       "      <td>11.675622</td>\n",
       "    </tr>\n",
       "    <tr>\n",
       "      <th>4</th>\n",
       "      <td>42.183232</td>\n",
       "      <td>11.889462</td>\n",
       "    </tr>\n",
       "  </tbody>\n",
       "</table>\n",
       "</div>"
      ],
      "text/plain": [
       "           0          1\n",
       "0  42.162951  11.941537\n",
       "1  42.113443  11.680247\n",
       "2  42.115153  11.882239\n",
       "3  42.180174  11.675622\n",
       "4  42.183232  11.889462"
      ]
     },
     "execution_count": 915,
     "metadata": {},
     "output_type": "execute_result"
    }
   ],
   "source": [
    "pd.DataFrame(points.T).head()"
   ]
  },
  {
   "cell_type": "code",
   "execution_count": 1000,
   "metadata": {
    "ExecuteTime": {
     "end_time": "2019-05-27T04:45:23.286877Z",
     "start_time": "2019-05-27T04:45:19.012841Z"
    }
   },
   "outputs": [
    {
     "data": {
      "text/plain": [
       "dtype('<U100')"
      ]
     },
     "execution_count": 1000,
     "metadata": {},
     "output_type": "execute_result"
    }
   ],
   "source": [
    "data.data['name'].dtype"
   ]
  },
  {
   "cell_type": "code",
   "execution_count": 1012,
   "metadata": {
    "ExecuteTime": {
     "end_time": "2019-05-27T04:58:36.542104Z",
     "start_time": "2019-05-27T04:58:33.817169Z"
    },
    "scrolled": true
   },
   "outputs": [
    {
     "data": {
      "text/plain": [
       "dtype('bool')"
      ]
     },
     "execution_count": 1012,
     "metadata": {},
     "output_type": "execute_result"
    }
   ],
   "source": [
    "data.data['inside_chipgap'].dtype"
   ]
  },
  {
   "cell_type": "code",
   "execution_count": 1013,
   "metadata": {
    "ExecuteTime": {
     "end_time": "2019-05-27T04:58:51.853987Z",
     "start_time": "2019-05-27T04:58:51.845999Z"
    }
   },
   "outputs": [
    {
     "data": {
      "text/plain": [
       "dtype('>i8')"
      ]
     },
     "execution_count": 1013,
     "metadata": {},
     "output_type": "execute_result"
    }
   ],
   "source": [
    "data.data['field'].dtype"
   ]
  },
  {
   "cell_type": "code",
   "execution_count": 1016,
   "metadata": {
    "ExecuteTime": {
     "end_time": "2019-05-27T04:59:28.620117Z",
     "start_time": "2019-05-27T04:59:28.610108Z"
    }
   },
   "outputs": [
    {
     "data": {
      "text/plain": [
       "dtype('>f8')"
      ]
     },
     "execution_count": 1016,
     "metadata": {},
     "output_type": "execute_result"
    }
   ],
   "source": [
    "data.data['Pmax'].dtype"
   ]
  },
  {
   "cell_type": "code",
   "execution_count": 1005,
   "metadata": {
    "ExecuteTime": {
     "end_time": "2019-05-27T04:46:46.087726Z",
     "start_time": "2019-05-27T04:46:46.046694Z"
    },
    "scrolled": true
   },
   "outputs": [
    {
     "name": "stdout",
     "output_type": "stream",
     "text": [
      "{'Av_Best': '<f8',\n",
      " 'Av_Exp': '<f8',\n",
      " 'Av_p16': '<f8',\n",
      " 'Av_p50': '<f8',\n",
      " 'Av_p84': '<f8',\n",
      " 'DEC': '<f8',\n",
      " 'HST_ACS_WFC_F475W': '<f8',\n",
      " 'HST_ACS_WFC_F814W': '<f8',\n",
      " 'HST_WFC3_F110W': '<f8',\n",
      " 'HST_WFC3_F160W': '<f8',\n",
      " 'HST_WFC3_F275W': '<f8',\n",
      " 'HST_WFC3_F336W': '<f8',\n",
      " 'M_act_Best': '<f8',\n",
      " 'M_act_Exp': '<f8',\n",
      " 'M_act_p16': '<f8',\n",
      " 'M_act_p50': '<f8',\n",
      " 'M_act_p84': '<f8',\n",
      " 'M_ini_Best': '<f8',\n",
      " 'M_ini_Exp': '<f8',\n",
      " 'M_ini_p16': '<f8',\n",
      " 'M_ini_p50': '<f8',\n",
      " 'M_ini_p84': '<f8',\n",
      " 'Name': '|S100',\n",
      " 'Pmax': '<f8',\n",
      " 'Pmax_indx': '<i8',\n",
      " 'RA': '<f8',\n",
      " 'Rv_A_Best': '<f8',\n",
      " 'Rv_A_Exp': '<f8',\n",
      " 'Rv_A_p16': '<f8',\n",
      " 'Rv_A_p50': '<f8',\n",
      " 'Rv_A_p84': '<f8',\n",
      " 'Rv_Best': '<f8',\n",
      " 'Rv_Exp': '<f8',\n",
      " 'Rv_p16': '<f8',\n",
      " 'Rv_p50': '<f8',\n",
      " 'Rv_p84': '<f8',\n",
      " 'Z_Best': '<f8',\n",
      " 'Z_Exp': '<f8',\n",
      " 'Z_p16': '<f8',\n",
      " 'Z_p50': '<f8',\n",
      " 'Z_p84': '<f8',\n",
      " 'chi2min': '<f8',\n",
      " 'chi2min_indx': '<i8',\n",
      " 'f_A_Best': '<f8',\n",
      " 'f_A_Exp': '<f8',\n",
      " 'f_A_p16': '<f8',\n",
      " 'f_A_p50': '<f8',\n",
      " 'f_A_p84': '<f8',\n",
      " 'field': '<i8',\n",
      " 'inside_brick': '|i1',\n",
      " 'inside_chipgap': '|i1',\n",
      " 'logA_Best': '<f8',\n",
      " 'logA_Exp': '<f8',\n",
      " 'logA_p16': '<f8',\n",
      " 'logA_p50': '<f8',\n",
      " 'logA_p84': '<f8',\n",
      " 'logF_QION_nd_Best': '<f8',\n",
      " 'logF_QION_nd_Exp': '<f8',\n",
      " 'logF_QION_nd_p16': '<f8',\n",
      " 'logF_QION_nd_p50': '<f8',\n",
      " 'logF_QION_nd_p84': '<f8',\n",
      " 'logF_QION_wd_Best': '<f8',\n",
      " 'logF_QION_wd_Exp': '<f8',\n",
      " 'logF_QION_wd_p16': '<f8',\n",
      " 'logF_QION_wd_p50': '<f8',\n",
      " 'logF_QION_wd_p84': '<f8',\n",
      " 'logF_UV_6_13e_nd_Best': '<f8',\n",
      " 'logF_UV_6_13e_nd_Exp': '<f8',\n",
      " 'logF_UV_6_13e_nd_p16': '<f8',\n",
      " 'logF_UV_6_13e_nd_p50': '<f8',\n",
      " 'logF_UV_6_13e_nd_p84': '<f8',\n",
      " 'logF_UV_6_13e_wd_Best': '<f8',\n",
      " 'logF_UV_6_13e_wd_Exp': '<f8',\n",
      " 'logF_UV_6_13e_wd_p16': '<f8',\n",
      " 'logF_UV_6_13e_wd_p50': '<f8',\n",
      " 'logF_UV_6_13e_wd_p84': '<f8',\n",
      " 'logGALEX_FUV_nd_Best': '<f8',\n",
      " 'logGALEX_FUV_nd_Exp': '<f8',\n",
      " 'logGALEX_FUV_nd_p16': '<f8',\n",
      " 'logGALEX_FUV_nd_p50': '<f8',\n",
      " 'logGALEX_FUV_nd_p84': '<f8',\n",
      " 'logGALEX_FUV_wd_Best': '<f8',\n",
      " 'logGALEX_FUV_wd_Exp': '<f8',\n",
      " 'logGALEX_FUV_wd_p16': '<f8',\n",
      " 'logGALEX_FUV_wd_p50': '<f8',\n",
      " 'logGALEX_FUV_wd_p84': '<f8',\n",
      " 'logGALEX_NUV_nd_Best': '<f8',\n",
      " 'logGALEX_NUV_nd_Exp': '<f8',\n",
      " 'logGALEX_NUV_nd_p16': '<f8',\n",
      " 'logGALEX_NUV_nd_p50': '<f8',\n",
      " 'logGALEX_NUV_nd_p84': '<f8',\n",
      " 'logGALEX_NUV_wd_Best': '<f8',\n",
      " 'logGALEX_NUV_wd_Exp': '<f8',\n",
      " 'logGALEX_NUV_wd_p16': '<f8',\n",
      " 'logGALEX_NUV_wd_p50': '<f8',\n",
      " 'logGALEX_NUV_wd_p84': '<f8',\n",
      " 'logHST_ACS_WFC_F475W_nd_Best': '<f8',\n",
      " 'logHST_ACS_WFC_F475W_nd_Exp': '<f8',\n",
      " 'logHST_ACS_WFC_F475W_nd_p16': '<f8',\n",
      " 'logHST_ACS_WFC_F475W_nd_p50': '<f8',\n",
      " 'logHST_ACS_WFC_F475W_nd_p84': '<f8',\n",
      " 'logHST_ACS_WFC_F475W_wd_Best': '<f8',\n",
      " 'logHST_ACS_WFC_F475W_wd_Exp': '<f8',\n",
      " 'logHST_ACS_WFC_F475W_wd_p16': '<f8',\n",
      " 'logHST_ACS_WFC_F475W_wd_p50': '<f8',\n",
      " 'logHST_ACS_WFC_F475W_wd_p84': '<f8',\n",
      " 'logHST_ACS_WFC_F814W_nd_Best': '<f8',\n",
      " 'logHST_ACS_WFC_F814W_nd_Exp': '<f8',\n",
      " 'logHST_ACS_WFC_F814W_nd_p16': '<f8',\n",
      " 'logHST_ACS_WFC_F814W_nd_p50': '<f8',\n",
      " 'logHST_ACS_WFC_F814W_nd_p84': '<f8',\n",
      " 'logHST_ACS_WFC_F814W_wd_Best': '<f8',\n",
      " 'logHST_ACS_WFC_F814W_wd_Exp': '<f8',\n",
      " 'logHST_ACS_WFC_F814W_wd_p16': '<f8',\n",
      " 'logHST_ACS_WFC_F814W_wd_p50': '<f8',\n",
      " 'logHST_ACS_WFC_F814W_wd_p84': '<f8',\n",
      " 'logHST_WFC3_F110W_nd_Best': '<f8',\n",
      " 'logHST_WFC3_F110W_nd_Exp': '<f8',\n",
      " 'logHST_WFC3_F110W_nd_p16': '<f8',\n",
      " 'logHST_WFC3_F110W_nd_p50': '<f8',\n",
      " 'logHST_WFC3_F110W_nd_p84': '<f8',\n",
      " 'logHST_WFC3_F110W_wd_Best': '<f8',\n",
      " 'logHST_WFC3_F110W_wd_Exp': '<f8',\n",
      " 'logHST_WFC3_F110W_wd_p16': '<f8',\n",
      " 'logHST_WFC3_F110W_wd_p50': '<f8',\n",
      " 'logHST_WFC3_F110W_wd_p84': '<f8',\n",
      " 'logHST_WFC3_F160W_nd_Best': '<f8',\n",
      " 'logHST_WFC3_F160W_nd_Exp': '<f8',\n",
      " 'logHST_WFC3_F160W_nd_p16': '<f8',\n",
      " 'logHST_WFC3_F160W_nd_p50': '<f8',\n",
      " 'logHST_WFC3_F160W_nd_p84': '<f8',\n",
      " 'logHST_WFC3_F160W_wd_Best': '<f8',\n",
      " 'logHST_WFC3_F160W_wd_Exp': '<f8',\n",
      " 'logHST_WFC3_F160W_wd_p16': '<f8',\n",
      " 'logHST_WFC3_F160W_wd_p50': '<f8',\n",
      " 'logHST_WFC3_F160W_wd_p84': '<f8',\n",
      " 'logHST_WFC3_F275W_nd_Best': '<f8',\n",
      " 'logHST_WFC3_F275W_nd_Exp': '<f8',\n",
      " 'logHST_WFC3_F275W_nd_p16': '<f8',\n",
      " 'logHST_WFC3_F275W_nd_p50': '<f8',\n",
      " 'logHST_WFC3_F275W_nd_p84': '<f8',\n",
      " 'logHST_WFC3_F275W_wd_Best': '<f8',\n",
      " 'logHST_WFC3_F275W_wd_Exp': '<f8',\n",
      " 'logHST_WFC3_F275W_wd_p16': '<f8',\n",
      " 'logHST_WFC3_F275W_wd_p50': '<f8',\n",
      " 'logHST_WFC3_F275W_wd_p84': '<f8',\n",
      " 'logHST_WFC3_F336W_nd_Best': '<f8',\n",
      " 'logHST_WFC3_F336W_nd_Exp': '<f8',\n",
      " 'logHST_WFC3_F336W_nd_p16': '<f8',\n",
      " 'logHST_WFC3_F336W_nd_p50': '<f8',\n",
      " 'logHST_WFC3_F336W_nd_p84': '<f8',\n",
      " 'logHST_WFC3_F336W_wd_Best': '<f8',\n",
      " 'logHST_WFC3_F336W_wd_Exp': '<f8',\n",
      " 'logHST_WFC3_F336W_wd_p16': '<f8',\n",
      " 'logHST_WFC3_F336W_wd_p50': '<f8',\n",
      " 'logHST_WFC3_F336W_wd_p84': '<f8',\n",
      " 'logL_Best': '<f8',\n",
      " 'logL_Exp': '<f8',\n",
      " 'logL_p16': '<f8',\n",
      " 'logL_p50': '<f8',\n",
      " 'logL_p84': '<f8',\n",
      " 'logT_Best': '<f8',\n",
      " 'logT_Exp': '<f8',\n",
      " 'logT_p16': '<f8',\n",
      " 'logT_p50': '<f8',\n",
      " 'logT_p84': '<f8',\n",
      " 'logg_Best': '<f8',\n",
      " 'logg_Exp': '<f8',\n",
      " 'logg_p16': '<f8',\n",
      " 'logg_p50': '<f8',\n",
      " 'logg_p84': '<f8',\n",
      " 'mbol_Best': '<f8',\n",
      " 'mbol_Exp': '<f8',\n",
      " 'mbol_p16': '<f8',\n",
      " 'mbol_p50': '<f8',\n",
      " 'mbol_p84': '<f8',\n",
      " 'radius_Best': '<f8',\n",
      " 'radius_Exp': '<f8',\n",
      " 'radius_p16': '<f8',\n",
      " 'radius_p50': '<f8',\n",
      " 'radius_p84': '<f8',\n",
      " 'specgrid_indx': '<i8'}\n"
     ]
    }
   ],
   "source": [
    "pprint(dict(data.columns.dtype.descr))"
   ]
  },
  {
   "cell_type": "code",
   "execution_count": 1007,
   "metadata": {
    "ExecuteTime": {
     "end_time": "2019-05-27T04:47:55.501054Z",
     "start_time": "2019-05-27T04:47:55.444016Z"
    }
   },
   "outputs": [
    {
     "data": {
      "text/plain": [
       "mappingproxy({'M_act_Exp': (dtype('float64'), 0),\n",
       "              'Pmax': (dtype('float64'), 8),\n",
       "              'logHST_WFC3_F160W_nd_p50': (dtype('float64'), 16),\n",
       "              'mbol_Best': (dtype('float64'), 24),\n",
       "              'logHST_WFC3_F160W_nd_p16': (dtype('float64'), 32),\n",
       "              'Rv_p84': (dtype('float64'), 40),\n",
       "              'logF_QION_wd_p84': (dtype('float64'), 48),\n",
       "              'logGALEX_NUV_wd_p50': (dtype('float64'), 56),\n",
       "              'logL_p84': (dtype('float64'), 64),\n",
       "              'logHST_WFC3_F110W_wd_p84': (dtype('float64'), 72),\n",
       "              'logHST_WFC3_F110W_nd_Best': (dtype('float64'), 80),\n",
       "              'logF_UV_6_13e_wd_p50': (dtype('float64'), 88),\n",
       "              'logGALEX_FUV_nd_p50': (dtype('float64'), 96),\n",
       "              'M_ini_Best': (dtype('float64'), 104),\n",
       "              'logF_QION_wd_p16': (dtype('float64'), 112),\n",
       "              'logF_UV_6_13e_nd_p50': (dtype('float64'), 120),\n",
       "              'RA': (dtype('float64'), 128),\n",
       "              'M_act_p16': (dtype('float64'), 136),\n",
       "              'logL_p16': (dtype('float64'), 144),\n",
       "              'f_A_Best': (dtype('float64'), 152),\n",
       "              'logGALEX_NUV_wd_Exp': (dtype('float64'), 160),\n",
       "              'Av_Best': (dtype('float64'), 168),\n",
       "              'HST_WFC3_F275W': (dtype('float64'), 176),\n",
       "              'logT_p16': (dtype('float64'), 184),\n",
       "              'Rv_A_Exp': (dtype('float64'), 192),\n",
       "              'radius_p50': (dtype('float64'), 200),\n",
       "              'mbol_p16': (dtype('float64'), 208),\n",
       "              'logF_QION_nd_p50': (dtype('float64'), 216),\n",
       "              'logF_QION_wd_Best': (dtype('float64'), 224),\n",
       "              'logHST_WFC3_F110W_wd_p16': (dtype('float64'), 232),\n",
       "              'logHST_WFC3_F110W_nd_p16': (dtype('float64'), 240),\n",
       "              'logHST_ACS_WFC_F814W_wd_p84': (dtype('float64'), 248),\n",
       "              'logHST_WFC3_F275W_wd_p50': (dtype('float64'), 256),\n",
       "              'logA_Exp': (dtype('float64'), 264),\n",
       "              'M_act_p84': (dtype('float64'), 272),\n",
       "              'logHST_ACS_WFC_F475W_wd_p50': (dtype('float64'), 280),\n",
       "              'logHST_ACS_WFC_F814W_wd_Best': (dtype('float64'), 288),\n",
       "              'M_act_Best': (dtype('float64'), 296),\n",
       "              'Rv_Exp': (dtype('float64'), 304),\n",
       "              'logF_QION_nd_Exp': (dtype('float64'), 312),\n",
       "              'Rv_A_p50': (dtype('float64'), 320),\n",
       "              'logg_p84': (dtype('float64'), 328),\n",
       "              'logHST_WFC3_F110W_nd_Exp': (dtype('float64'), 336),\n",
       "              'Z_Best': (dtype('float64'), 344),\n",
       "              'logT_Exp': (dtype('float64'), 352),\n",
       "              'HST_WFC3_F336W': (dtype('float64'), 360),\n",
       "              'logHST_ACS_WFC_F814W_wd_p16': (dtype('float64'), 368),\n",
       "              'logGALEX_NUV_nd_p16': (dtype('float64'), 376),\n",
       "              'logGALEX_FUV_nd_Best': (dtype('float64'), 384),\n",
       "              'logGALEX_FUV_wd_p16': (dtype('float64'), 392),\n",
       "              'Av_Exp': (dtype('float64'), 400),\n",
       "              'logHST_WFC3_F336W_wd_p84': (dtype('float64'), 408),\n",
       "              'logHST_WFC3_F110W_nd_p84': (dtype('float64'), 416),\n",
       "              'Av_p50': (dtype('float64'), 424),\n",
       "              'DEC': (dtype('float64'), 432),\n",
       "              'logF_UV_6_13e_nd_Best': (dtype('float64'), 440),\n",
       "              'f_A_p50': (dtype('float64'), 448),\n",
       "              'HST_WFC3_F110W': (dtype('float64'), 456),\n",
       "              'logGALEX_FUV_wd_p84': (dtype('float64'), 464),\n",
       "              'logHST_ACS_WFC_F814W_nd_Exp': (dtype('float64'), 472),\n",
       "              'logGALEX_NUV_nd_Best': (dtype('float64'), 480),\n",
       "              'logHST_ACS_WFC_F475W_nd_p50': (dtype('float64'), 488),\n",
       "              'logHST_WFC3_F275W_nd_p50': (dtype('float64'), 496),\n",
       "              'inside_brick': (dtype('int8'), 504),\n",
       "              'Z_Exp': (dtype('float64'), 505),\n",
       "              'logHST_ACS_WFC_F475W_nd_Exp': (dtype('float64'), 513),\n",
       "              'logg_Exp': (dtype('float64'), 521),\n",
       "              'logF_UV_6_13e_nd_Exp': (dtype('float64'), 529),\n",
       "              'logL_p50': (dtype('float64'), 537),\n",
       "              'M_ini_p84': (dtype('float64'), 545),\n",
       "              'logGALEX_NUV_wd_p84': (dtype('float64'), 553),\n",
       "              'logF_QION_wd_Exp': (dtype('float64'), 561),\n",
       "              'logHST_WFC3_F336W_wd_p16': (dtype('float64'), 569),\n",
       "              'logHST_WFC3_F160W_wd_p84': (dtype('float64'), 577),\n",
       "              'logGALEX_NUV_nd_p84': (dtype('float64'), 585),\n",
       "              'logF_UV_6_13e_wd_Best': (dtype('float64'), 593),\n",
       "              'logHST_ACS_WFC_F814W_wd_Exp': (dtype('float64'), 601),\n",
       "              'logF_QION_wd_p50': (dtype('float64'), 609),\n",
       "              'Rv_p50': (dtype('float64'), 617),\n",
       "              'logHST_ACS_WFC_F814W_nd_Best': (dtype('float64'), 625),\n",
       "              'logHST_WFC3_F336W_nd_p84': (dtype('float64'), 633),\n",
       "              'M_ini_p16': (dtype('float64'), 641),\n",
       "              'mbol_p84': (dtype('float64'), 649),\n",
       "              'logHST_ACS_WFC_F814W_nd_p16': (dtype('float64'), 657),\n",
       "              'logHST_WFC3_F336W_nd_p16': (dtype('float64'), 665),\n",
       "              'logHST_WFC3_F275W_wd_Exp': (dtype('float64'), 673),\n",
       "              'logHST_WFC3_F336W_wd_Exp': (dtype('float64'), 681),\n",
       "              'inside_chipgap': (dtype('int8'), 689),\n",
       "              'Z_p50': (dtype('float64'), 690),\n",
       "              'logGALEX_FUV_nd_Exp': (dtype('float64'), 698),\n",
       "              'logHST_WFC3_F336W_nd_Best': (dtype('float64'), 706),\n",
       "              'HST_WFC3_F160W': (dtype('float64'), 714),\n",
       "              'logA_Best': (dtype('float64'), 722),\n",
       "              'logGALEX_NUV_wd_p16': (dtype('float64'), 730),\n",
       "              'logT_Best': (dtype('float64'), 738),\n",
       "              'logHST_ACS_WFC_F814W_nd_p84': (dtype('float64'), 746),\n",
       "              'logF_UV_6_13e_wd_Exp': (dtype('float64'), 754),\n",
       "              'M_act_p50': (dtype('float64'), 762),\n",
       "              'f_A_Exp': (dtype('float64'), 770),\n",
       "              'logGALEX_NUV_nd_Exp': (dtype('float64'), 778),\n",
       "              'radius_Best': (dtype('float64'), 786),\n",
       "              'logHST_WFC3_F160W_wd_Exp': (dtype('float64'), 794),\n",
       "              'logF_UV_6_13e_nd_p16': (dtype('float64'), 802),\n",
       "              'logHST_WFC3_F160W_wd_p16': (dtype('float64'), 810),\n",
       "              'logHST_WFC3_F110W_nd_p50': (dtype('float64'), 818),\n",
       "              'logHST_WFC3_F110W_wd_p50': (dtype('float64'), 826),\n",
       "              'logT_p50': (dtype('float64'), 834),\n",
       "              'Av_p84': (dtype('float64'), 842),\n",
       "              'radius_p16': (dtype('float64'), 850),\n",
       "              'Rv_Best': (dtype('float64'), 858),\n",
       "              'HST_ACS_WFC_F814W': (dtype('float64'), 866),\n",
       "              'logGALEX_FUV_nd_p84': (dtype('float64'), 874),\n",
       "              'logF_QION_nd_p16': (dtype('float64'), 882),\n",
       "              'logHST_ACS_WFC_F475W_nd_p84': (dtype('float64'), 890),\n",
       "              'logF_UV_6_13e_nd_p84': (dtype('float64'), 898),\n",
       "              'chi2min_indx': (dtype('int64'), 906),\n",
       "              'logHST_WFC3_F275W_wd_p16': (dtype('float64'), 914),\n",
       "              'logHST_WFC3_F160W_wd_Best': (dtype('float64'), 922),\n",
       "              'logHST_WFC3_F160W_nd_p84': (dtype('float64'), 930),\n",
       "              'M_ini_Exp': (dtype('float64'), 938),\n",
       "              'logHST_WFC3_F275W_wd_p84': (dtype('float64'), 946),\n",
       "              'logA_p84': (dtype('float64'), 954),\n",
       "              'radius_Exp': (dtype('float64'), 962),\n",
       "              'logHST_WFC3_F160W_nd_Exp': (dtype('float64'), 970),\n",
       "              'logF_QION_nd_p84': (dtype('float64'), 978),\n",
       "              'logGALEX_FUV_nd_p16': (dtype('float64'), 986),\n",
       "              'logF_QION_nd_Best': (dtype('float64'), 994),\n",
       "              'logHST_WFC3_F275W_wd_Best': (dtype('float64'), 1002),\n",
       "              'specgrid_indx': (dtype('int64'), 1010),\n",
       "              'logHST_ACS_WFC_F475W_wd_p16': (dtype('float64'), 1018),\n",
       "              'Rv_A_p16': (dtype('float64'), 1026),\n",
       "              'chi2min': (dtype('float64'), 1034),\n",
       "              'logL_Best': (dtype('float64'), 1042),\n",
       "              'logT_p84': (dtype('float64'), 1050),\n",
       "              'logA_p50': (dtype('float64'), 1058),\n",
       "              'logHST_ACS_WFC_F475W_nd_p16': (dtype('float64'), 1066),\n",
       "              'logGALEX_FUV_wd_p50': (dtype('float64'), 1074),\n",
       "              'logF_UV_6_13e_wd_p16': (dtype('float64'), 1082),\n",
       "              'Av_p16': (dtype('float64'), 1090),\n",
       "              'Z_p16': (dtype('float64'), 1098),\n",
       "              'Rv_A_p84': (dtype('float64'), 1106),\n",
       "              'logHST_ACS_WFC_F814W_wd_p50': (dtype('float64'), 1114),\n",
       "              'logGALEX_FUV_wd_Exp': (dtype('float64'), 1122),\n",
       "              'logHST_WFC3_F336W_nd_p50': (dtype('float64'), 1130),\n",
       "              'logHST_WFC3_F336W_wd_p50': (dtype('float64'), 1138),\n",
       "              'logHST_ACS_WFC_F475W_wd_p84': (dtype('float64'), 1146),\n",
       "              'f_A_p16': (dtype('float64'), 1154),\n",
       "              'field': (dtype('int64'), 1162),\n",
       "              'logHST_ACS_WFC_F475W_wd_Exp': (dtype('float64'), 1170),\n",
       "              'logGALEX_FUV_wd_Best': (dtype('float64'), 1178),\n",
       "              'logGALEX_NUV_nd_p50': (dtype('float64'), 1186),\n",
       "              'HST_ACS_WFC_F475W': (dtype('float64'), 1194),\n",
       "              'mbol_p50': (dtype('float64'), 1202),\n",
       "              'logA_p16': (dtype('float64'), 1210),\n",
       "              'logHST_WFC3_F275W_nd_p16': (dtype('float64'), 1218),\n",
       "              'radius_p84': (dtype('float64'), 1226),\n",
       "              'logHST_ACS_WFC_F814W_nd_p50': (dtype('float64'), 1234),\n",
       "              'f_A_p84': (dtype('float64'), 1242),\n",
       "              'Name': (dtype('S100'), 1250),\n",
       "              'logHST_WFC3_F275W_nd_Best': (dtype('float64'), 1350),\n",
       "              'logHST_WFC3_F275W_nd_p84': (dtype('float64'), 1358),\n",
       "              'logGALEX_NUV_wd_Best': (dtype('float64'), 1366),\n",
       "              'logg_p50': (dtype('float64'), 1374),\n",
       "              'logHST_WFC3_F110W_wd_Exp': (dtype('float64'), 1382),\n",
       "              'logHST_ACS_WFC_F475W_wd_Best': (dtype('float64'), 1390),\n",
       "              'Rv_p16': (dtype('float64'), 1398),\n",
       "              'logg_Best': (dtype('float64'), 1406),\n",
       "              'logHST_WFC3_F275W_nd_Exp': (dtype('float64'), 1414),\n",
       "              'logF_UV_6_13e_wd_p84': (dtype('float64'), 1422),\n",
       "              'logHST_WFC3_F336W_wd_Best': (dtype('float64'), 1430),\n",
       "              'Z_p84': (dtype('float64'), 1438),\n",
       "              'logHST_WFC3_F110W_wd_Best': (dtype('float64'), 1446),\n",
       "              'logL_Exp': (dtype('float64'), 1454),\n",
       "              'logHST_ACS_WFC_F475W_nd_Best': (dtype('float64'), 1462),\n",
       "              'Pmax_indx': (dtype('int64'), 1470),\n",
       "              'logHST_WFC3_F336W_nd_Exp': (dtype('float64'), 1478),\n",
       "              'M_ini_p50': (dtype('float64'), 1486),\n",
       "              'logHST_WFC3_F160W_wd_p50': (dtype('float64'), 1494),\n",
       "              'mbol_Exp': (dtype('float64'), 1502),\n",
       "              'logHST_WFC3_F160W_nd_Best': (dtype('float64'), 1510),\n",
       "              'Rv_A_Best': (dtype('float64'), 1518),\n",
       "              'logg_p16': (dtype('float64'), 1526)})"
      ]
     },
     "execution_count": 1007,
     "metadata": {},
     "output_type": "execute_result"
    }
   ],
   "source": [
    "data.data.columns.dtype.fields"
   ]
  },
  {
   "cell_type": "code",
   "execution_count": 1009,
   "metadata": {
    "ExecuteTime": {
     "end_time": "2019-05-27T04:48:51.124584Z",
     "start_time": "2019-05-27T04:48:51.098566Z"
    }
   },
   "outputs": [
    {
     "name": "stdout",
     "output_type": "stream",
     "text": [
      "{'Av_Best': '>f8',\n",
      " 'Av_Exp': '>f8',\n",
      " 'Av_p16': '>f8',\n",
      " 'Av_p50': '>f8',\n",
      " 'Av_p84': '>f8',\n",
      " 'DEC': '>f8',\n",
      " 'HST_ACS_WFC_F475W': '>f8',\n",
      " 'HST_ACS_WFC_F814W': '>f8',\n",
      " 'HST_WFC3_F110W': '>f8',\n",
      " 'HST_WFC3_F160W': '>f8',\n",
      " 'HST_WFC3_F275W': '>f8',\n",
      " 'HST_WFC3_F336W': '>f8',\n",
      " 'M_act_Best': '>f8',\n",
      " 'M_act_Exp': '>f8',\n",
      " 'M_act_p16': '>f8',\n",
      " 'M_act_p50': '>f8',\n",
      " 'M_act_p84': '>f8',\n",
      " 'M_ini_Best': '>f8',\n",
      " 'M_ini_Exp': '>f8',\n",
      " 'M_ini_p16': '>f8',\n",
      " 'M_ini_p50': '>f8',\n",
      " 'M_ini_p84': '>f8',\n",
      " 'Name': '|S100',\n",
      " 'Pmax': '>f8',\n",
      " 'Pmax_indx': '>i8',\n",
      " 'RA': '>f8',\n",
      " 'Rv_A_Best': '>f8',\n",
      " 'Rv_A_Exp': '>f8',\n",
      " 'Rv_A_p16': '>f8',\n",
      " 'Rv_A_p50': '>f8',\n",
      " 'Rv_A_p84': '>f8',\n",
      " 'Rv_Best': '>f8',\n",
      " 'Rv_Exp': '>f8',\n",
      " 'Rv_p16': '>f8',\n",
      " 'Rv_p50': '>f8',\n",
      " 'Rv_p84': '>f8',\n",
      " 'Z_Best': '>f8',\n",
      " 'Z_Exp': '>f8',\n",
      " 'Z_p16': '>f8',\n",
      " 'Z_p50': '>f8',\n",
      " 'Z_p84': '>f8',\n",
      " 'chi2min': '>f8',\n",
      " 'chi2min_indx': '>i8',\n",
      " 'f_A_Best': '>f8',\n",
      " 'f_A_Exp': '>f8',\n",
      " 'f_A_p16': '>f8',\n",
      " 'f_A_p50': '>f8',\n",
      " 'f_A_p84': '>f8',\n",
      " 'field': '>i8',\n",
      " 'inside_brick': '|i1',\n",
      " 'inside_chipgap': '|i1',\n",
      " 'logA_Best': '>f8',\n",
      " 'logA_Exp': '>f8',\n",
      " 'logA_p16': '>f8',\n",
      " 'logA_p50': '>f8',\n",
      " 'logA_p84': '>f8',\n",
      " 'logF_QION_nd_Best': '>f8',\n",
      " 'logF_QION_nd_Exp': '>f8',\n",
      " 'logF_QION_nd_p16': '>f8',\n",
      " 'logF_QION_nd_p50': '>f8',\n",
      " 'logF_QION_nd_p84': '>f8',\n",
      " 'logF_QION_wd_Best': '>f8',\n",
      " 'logF_QION_wd_Exp': '>f8',\n",
      " 'logF_QION_wd_p16': '>f8',\n",
      " 'logF_QION_wd_p50': '>f8',\n",
      " 'logF_QION_wd_p84': '>f8',\n",
      " 'logF_UV_6_13e_nd_Best': '>f8',\n",
      " 'logF_UV_6_13e_nd_Exp': '>f8',\n",
      " 'logF_UV_6_13e_nd_p16': '>f8',\n",
      " 'logF_UV_6_13e_nd_p50': '>f8',\n",
      " 'logF_UV_6_13e_nd_p84': '>f8',\n",
      " 'logF_UV_6_13e_wd_Best': '>f8',\n",
      " 'logF_UV_6_13e_wd_Exp': '>f8',\n",
      " 'logF_UV_6_13e_wd_p16': '>f8',\n",
      " 'logF_UV_6_13e_wd_p50': '>f8',\n",
      " 'logF_UV_6_13e_wd_p84': '>f8',\n",
      " 'logGALEX_FUV_nd_Best': '>f8',\n",
      " 'logGALEX_FUV_nd_Exp': '>f8',\n",
      " 'logGALEX_FUV_nd_p16': '>f8',\n",
      " 'logGALEX_FUV_nd_p50': '>f8',\n",
      " 'logGALEX_FUV_nd_p84': '>f8',\n",
      " 'logGALEX_FUV_wd_Best': '>f8',\n",
      " 'logGALEX_FUV_wd_Exp': '>f8',\n",
      " 'logGALEX_FUV_wd_p16': '>f8',\n",
      " 'logGALEX_FUV_wd_p50': '>f8',\n",
      " 'logGALEX_FUV_wd_p84': '>f8',\n",
      " 'logGALEX_NUV_nd_Best': '>f8',\n",
      " 'logGALEX_NUV_nd_Exp': '>f8',\n",
      " 'logGALEX_NUV_nd_p16': '>f8',\n",
      " 'logGALEX_NUV_nd_p50': '>f8',\n",
      " 'logGALEX_NUV_nd_p84': '>f8',\n",
      " 'logGALEX_NUV_wd_Best': '>f8',\n",
      " 'logGALEX_NUV_wd_Exp': '>f8',\n",
      " 'logGALEX_NUV_wd_p16': '>f8',\n",
      " 'logGALEX_NUV_wd_p50': '>f8',\n",
      " 'logGALEX_NUV_wd_p84': '>f8',\n",
      " 'logHST_ACS_WFC_F475W_nd_Best': '>f8',\n",
      " 'logHST_ACS_WFC_F475W_nd_Exp': '>f8',\n",
      " 'logHST_ACS_WFC_F475W_nd_p16': '>f8',\n",
      " 'logHST_ACS_WFC_F475W_nd_p50': '>f8',\n",
      " 'logHST_ACS_WFC_F475W_nd_p84': '>f8',\n",
      " 'logHST_ACS_WFC_F475W_wd_Best': '>f8',\n",
      " 'logHST_ACS_WFC_F475W_wd_Exp': '>f8',\n",
      " 'logHST_ACS_WFC_F475W_wd_p16': '>f8',\n",
      " 'logHST_ACS_WFC_F475W_wd_p50': '>f8',\n",
      " 'logHST_ACS_WFC_F475W_wd_p84': '>f8',\n",
      " 'logHST_ACS_WFC_F814W_nd_Best': '>f8',\n",
      " 'logHST_ACS_WFC_F814W_nd_Exp': '>f8',\n",
      " 'logHST_ACS_WFC_F814W_nd_p16': '>f8',\n",
      " 'logHST_ACS_WFC_F814W_nd_p50': '>f8',\n",
      " 'logHST_ACS_WFC_F814W_nd_p84': '>f8',\n",
      " 'logHST_ACS_WFC_F814W_wd_Best': '>f8',\n",
      " 'logHST_ACS_WFC_F814W_wd_Exp': '>f8',\n",
      " 'logHST_ACS_WFC_F814W_wd_p16': '>f8',\n",
      " 'logHST_ACS_WFC_F814W_wd_p50': '>f8',\n",
      " 'logHST_ACS_WFC_F814W_wd_p84': '>f8',\n",
      " 'logHST_WFC3_F110W_nd_Best': '>f8',\n",
      " 'logHST_WFC3_F110W_nd_Exp': '>f8',\n",
      " 'logHST_WFC3_F110W_nd_p16': '>f8',\n",
      " 'logHST_WFC3_F110W_nd_p50': '>f8',\n",
      " 'logHST_WFC3_F110W_nd_p84': '>f8',\n",
      " 'logHST_WFC3_F110W_wd_Best': '>f8',\n",
      " 'logHST_WFC3_F110W_wd_Exp': '>f8',\n",
      " 'logHST_WFC3_F110W_wd_p16': '>f8',\n",
      " 'logHST_WFC3_F110W_wd_p50': '>f8',\n",
      " 'logHST_WFC3_F110W_wd_p84': '>f8',\n",
      " 'logHST_WFC3_F160W_nd_Best': '>f8',\n",
      " 'logHST_WFC3_F160W_nd_Exp': '>f8',\n",
      " 'logHST_WFC3_F160W_nd_p16': '>f8',\n",
      " 'logHST_WFC3_F160W_nd_p50': '>f8',\n",
      " 'logHST_WFC3_F160W_nd_p84': '>f8',\n",
      " 'logHST_WFC3_F160W_wd_Best': '>f8',\n",
      " 'logHST_WFC3_F160W_wd_Exp': '>f8',\n",
      " 'logHST_WFC3_F160W_wd_p16': '>f8',\n",
      " 'logHST_WFC3_F160W_wd_p50': '>f8',\n",
      " 'logHST_WFC3_F160W_wd_p84': '>f8',\n",
      " 'logHST_WFC3_F275W_nd_Best': '>f8',\n",
      " 'logHST_WFC3_F275W_nd_Exp': '>f8',\n",
      " 'logHST_WFC3_F275W_nd_p16': '>f8',\n",
      " 'logHST_WFC3_F275W_nd_p50': '>f8',\n",
      " 'logHST_WFC3_F275W_nd_p84': '>f8',\n",
      " 'logHST_WFC3_F275W_wd_Best': '>f8',\n",
      " 'logHST_WFC3_F275W_wd_Exp': '>f8',\n",
      " 'logHST_WFC3_F275W_wd_p16': '>f8',\n",
      " 'logHST_WFC3_F275W_wd_p50': '>f8',\n",
      " 'logHST_WFC3_F275W_wd_p84': '>f8',\n",
      " 'logHST_WFC3_F336W_nd_Best': '>f8',\n",
      " 'logHST_WFC3_F336W_nd_Exp': '>f8',\n",
      " 'logHST_WFC3_F336W_nd_p16': '>f8',\n",
      " 'logHST_WFC3_F336W_nd_p50': '>f8',\n",
      " 'logHST_WFC3_F336W_nd_p84': '>f8',\n",
      " 'logHST_WFC3_F336W_wd_Best': '>f8',\n",
      " 'logHST_WFC3_F336W_wd_Exp': '>f8',\n",
      " 'logHST_WFC3_F336W_wd_p16': '>f8',\n",
      " 'logHST_WFC3_F336W_wd_p50': '>f8',\n",
      " 'logHST_WFC3_F336W_wd_p84': '>f8',\n",
      " 'logL_Best': '>f8',\n",
      " 'logL_Exp': '>f8',\n",
      " 'logL_p16': '>f8',\n",
      " 'logL_p50': '>f8',\n",
      " 'logL_p84': '>f8',\n",
      " 'logT_Best': '>f8',\n",
      " 'logT_Exp': '>f8',\n",
      " 'logT_p16': '>f8',\n",
      " 'logT_p50': '>f8',\n",
      " 'logT_p84': '>f8',\n",
      " 'logg_Best': '>f8',\n",
      " 'logg_Exp': '>f8',\n",
      " 'logg_p16': '>f8',\n",
      " 'logg_p50': '>f8',\n",
      " 'logg_p84': '>f8',\n",
      " 'mbol_Best': '>f8',\n",
      " 'mbol_Exp': '>f8',\n",
      " 'mbol_p16': '>f8',\n",
      " 'mbol_p50': '>f8',\n",
      " 'mbol_p84': '>f8',\n",
      " 'radius_Best': '>f8',\n",
      " 'radius_Exp': '>f8',\n",
      " 'radius_p16': '>f8',\n",
      " 'radius_p50': '>f8',\n",
      " 'radius_p84': '>f8',\n",
      " 'specgrid_indx': '>i8'}\n"
     ]
    }
   ],
   "source": [
    "pprint(dict(data.data.dtype.descr))"
   ]
  },
  {
   "cell_type": "code",
   "execution_count": 1010,
   "metadata": {
    "ExecuteTime": {
     "end_time": "2019-05-27T04:50:40.085662Z",
     "start_time": "2019-05-27T04:50:40.023615Z"
    }
   },
   "outputs": [
    {
     "data": {
      "text/plain": [
       "XTENSION= 'BINTABLE'           / binary table extension                         \n",
       "BITPIX  =                    8 / array data type                                \n",
       "NAXIS   =                    2 / number of array dimensions                     \n",
       "NAXIS1  =                 1534 / length of dimension 1                          \n",
       "NAXIS2  =               633866 / length of dimension 2                          \n",
       "PCOUNT  =                    0 / number of group parameters                     \n",
       "GCOUNT  =                    1 / number of groups                               \n",
       "TFIELDS =                  182 / number of table fields                         \n",
       "TTYPE1  = 'M_act_Exp'                                                           \n",
       "TFORM1  = 'D       '                                                            \n",
       "TTYPE2  = 'Pmax    '                                                            \n",
       "TFORM2  = 'D       '                                                            \n",
       "TTYPE3  = 'logHST_WFC3_F160W_nd_p50'                                            \n",
       "TFORM3  = 'D       '                                                            \n",
       "TTYPE4  = 'mbol_Best'                                                           \n",
       "TFORM4  = 'D       '                                                            \n",
       "TTYPE5  = 'logHST_WFC3_F160W_nd_p16'                                            \n",
       "TFORM5  = 'D       '                                                            \n",
       "TTYPE6  = 'Rv_p84  '                                                            \n",
       "TFORM6  = 'D       '                                                            \n",
       "TTYPE7  = 'logF_QION_wd_p84'                                                    \n",
       "TFORM7  = 'D       '                                                            \n",
       "TTYPE8  = 'logGALEX_NUV_wd_p50'                                                 \n",
       "TFORM8  = 'D       '                                                            \n",
       "TTYPE9  = 'logL_p84'                                                            \n",
       "TFORM9  = 'D       '                                                            \n",
       "TTYPE10 = 'logHST_WFC3_F110W_wd_p84'                                            \n",
       "TFORM10 = 'D       '                                                            \n",
       "TTYPE11 = 'logHST_WFC3_F110W_nd_Best'                                           \n",
       "TFORM11 = 'D       '                                                            \n",
       "TTYPE12 = 'logF_UV_6_13e_wd_p50'                                                \n",
       "TFORM12 = 'D       '                                                            \n",
       "TTYPE13 = 'logGALEX_FUV_nd_p50'                                                 \n",
       "TFORM13 = 'D       '                                                            \n",
       "TTYPE14 = 'M_ini_Best'                                                          \n",
       "TFORM14 = 'D       '                                                            \n",
       "TTYPE15 = 'logF_QION_wd_p16'                                                    \n",
       "TFORM15 = 'D       '                                                            \n",
       "TTYPE16 = 'logF_UV_6_13e_nd_p50'                                                \n",
       "TFORM16 = 'D       '                                                            \n",
       "TTYPE17 = 'RA      '                                                            \n",
       "TFORM17 = 'D       '                                                            \n",
       "TTYPE18 = 'M_act_p16'                                                           \n",
       "TFORM18 = 'D       '                                                            \n",
       "TTYPE19 = 'logL_p16'                                                            \n",
       "TFORM19 = 'D       '                                                            \n",
       "TTYPE20 = 'f_A_Best'                                                            \n",
       "TFORM20 = 'D       '                                                            \n",
       "TTYPE21 = 'logGALEX_NUV_wd_Exp'                                                 \n",
       "TFORM21 = 'D       '                                                            \n",
       "TTYPE22 = 'Av_Best '                                                            \n",
       "TFORM22 = 'D       '                                                            \n",
       "TTYPE23 = 'HST_WFC3_F275W'                                                      \n",
       "TFORM23 = 'D       '                                                            \n",
       "TTYPE24 = 'logT_p16'                                                            \n",
       "TFORM24 = 'D       '                                                            \n",
       "TTYPE25 = 'Rv_A_Exp'                                                            \n",
       "TFORM25 = 'D       '                                                            \n",
       "TTYPE26 = 'radius_p50'                                                          \n",
       "TFORM26 = 'D       '                                                            \n",
       "TTYPE27 = 'mbol_p16'                                                            \n",
       "TFORM27 = 'D       '                                                            \n",
       "TTYPE28 = 'logF_QION_nd_p50'                                                    \n",
       "TFORM28 = 'D       '                                                            \n",
       "TTYPE29 = 'logF_QION_wd_Best'                                                   \n",
       "TFORM29 = 'D       '                                                            \n",
       "TTYPE30 = 'logHST_WFC3_F110W_wd_p16'                                            \n",
       "TFORM30 = 'D       '                                                            \n",
       "TTYPE31 = 'logHST_WFC3_F110W_nd_p16'                                            \n",
       "TFORM31 = 'D       '                                                            \n",
       "TTYPE32 = 'logHST_ACS_WFC_F814W_wd_p84'                                         \n",
       "TFORM32 = 'D       '                                                            \n",
       "TTYPE33 = 'logHST_WFC3_F275W_wd_p50'                                            \n",
       "TFORM33 = 'D       '                                                            \n",
       "TTYPE34 = 'logA_Exp'                                                            \n",
       "TFORM34 = 'D       '                                                            \n",
       "TTYPE35 = 'M_act_p84'                                                           \n",
       "TFORM35 = 'D       '                                                            \n",
       "TTYPE36 = 'logHST_ACS_WFC_F475W_wd_p50'                                         \n",
       "TFORM36 = 'D       '                                                            \n",
       "TTYPE37 = 'logHST_ACS_WFC_F814W_wd_Best'                                        \n",
       "TFORM37 = 'D       '                                                            \n",
       "TTYPE38 = 'M_act_Best'                                                          \n",
       "TFORM38 = 'D       '                                                            \n",
       "TTYPE39 = 'Rv_Exp  '                                                            \n",
       "TFORM39 = 'D       '                                                            \n",
       "TTYPE40 = 'logF_QION_nd_Exp'                                                    \n",
       "TFORM40 = 'D       '                                                            \n",
       "TTYPE41 = 'Rv_A_p50'                                                            \n",
       "TFORM41 = 'D       '                                                            \n",
       "TTYPE42 = 'logg_p84'                                                            \n",
       "TFORM42 = 'D       '                                                            \n",
       "TTYPE43 = 'logHST_WFC3_F110W_nd_Exp'                                            \n",
       "TFORM43 = 'D       '                                                            \n",
       "TTYPE44 = 'Z_Best  '                                                            \n",
       "TFORM44 = 'D       '                                                            \n",
       "TTYPE45 = 'logT_Exp'                                                            \n",
       "TFORM45 = 'D       '                                                            \n",
       "TTYPE46 = 'HST_WFC3_F336W'                                                      \n",
       "TFORM46 = 'D       '                                                            \n",
       "TTYPE47 = 'logHST_ACS_WFC_F814W_wd_p16'                                         \n",
       "TFORM47 = 'D       '                                                            \n",
       "TTYPE48 = 'logGALEX_NUV_nd_p16'                                                 \n",
       "TFORM48 = 'D       '                                                            \n",
       "TTYPE49 = 'logGALEX_FUV_nd_Best'                                                \n",
       "TFORM49 = 'D       '                                                            \n",
       "TTYPE50 = 'logGALEX_FUV_wd_p16'                                                 \n",
       "TFORM50 = 'D       '                                                            \n",
       "TTYPE51 = 'Av_Exp  '                                                            \n",
       "TFORM51 = 'D       '                                                            \n",
       "TTYPE52 = 'logHST_WFC3_F336W_wd_p84'                                            \n",
       "TFORM52 = 'D       '                                                            \n",
       "TTYPE53 = 'logHST_WFC3_F110W_nd_p84'                                            \n",
       "TFORM53 = 'D       '                                                            \n",
       "TTYPE54 = 'Av_p50  '                                                            \n",
       "TFORM54 = 'D       '                                                            \n",
       "TTYPE55 = 'DEC     '                                                            \n",
       "TFORM55 = 'D       '                                                            \n",
       "TTYPE56 = 'logF_UV_6_13e_nd_Best'                                               \n",
       "TFORM56 = 'D       '                                                            \n",
       "TTYPE57 = 'f_A_p50 '                                                            \n",
       "TFORM57 = 'D       '                                                            \n",
       "TTYPE58 = 'HST_WFC3_F110W'                                                      \n",
       "TFORM58 = 'D       '                                                            \n",
       "TTYPE59 = 'logGALEX_FUV_wd_p84'                                                 \n",
       "TFORM59 = 'D       '                                                            \n",
       "TTYPE60 = 'logHST_ACS_WFC_F814W_nd_Exp'                                         \n",
       "TFORM60 = 'D       '                                                            \n",
       "TTYPE61 = 'logGALEX_NUV_nd_Best'                                                \n",
       "TFORM61 = 'D       '                                                            \n",
       "TTYPE62 = 'logHST_ACS_WFC_F475W_nd_p50'                                         \n",
       "TFORM62 = 'D       '                                                            \n",
       "TTYPE63 = 'logHST_WFC3_F275W_nd_p50'                                            \n",
       "TFORM63 = 'D       '                                                            \n",
       "TTYPE64 = 'inside_brick'                                                        \n",
       "TFORM64 = 'L       '                                                            \n",
       "TTYPE65 = 'Z_Exp   '                                                            \n",
       "TFORM65 = 'D       '                                                            \n",
       "TTYPE66 = 'logHST_ACS_WFC_F475W_nd_Exp'                                         \n",
       "TFORM66 = 'D       '                                                            \n",
       "TTYPE67 = 'logg_Exp'                                                            \n",
       "TFORM67 = 'D       '                                                            \n",
       "TTYPE68 = 'logF_UV_6_13e_nd_Exp'                                                \n",
       "TFORM68 = 'D       '                                                            \n",
       "TTYPE69 = 'logL_p50'                                                            \n",
       "TFORM69 = 'D       '                                                            \n",
       "TTYPE70 = 'M_ini_p84'                                                           \n",
       "TFORM70 = 'D       '                                                            \n",
       "TTYPE71 = 'logGALEX_NUV_wd_p84'                                                 \n",
       "TFORM71 = 'D       '                                                            \n",
       "TTYPE72 = 'logF_QION_wd_Exp'                                                    \n",
       "TFORM72 = 'D       '                                                            \n",
       "TTYPE73 = 'logHST_WFC3_F336W_wd_p16'                                            \n",
       "TFORM73 = 'D       '                                                            \n",
       "TTYPE74 = 'logHST_WFC3_F160W_wd_p84'                                            \n",
       "TFORM74 = 'D       '                                                            \n",
       "TTYPE75 = 'logGALEX_NUV_nd_p84'                                                 \n",
       "TFORM75 = 'D       '                                                            \n",
       "TTYPE76 = 'logF_UV_6_13e_wd_Best'                                               \n",
       "TFORM76 = 'D       '                                                            \n",
       "TTYPE77 = 'logHST_ACS_WFC_F814W_wd_Exp'                                         \n",
       "TFORM77 = 'D       '                                                            \n",
       "TTYPE78 = 'logF_QION_wd_p50'                                                    \n",
       "TFORM78 = 'D       '                                                            \n",
       "TTYPE79 = 'Rv_p50  '                                                            \n",
       "TFORM79 = 'D       '                                                            \n",
       "TTYPE80 = 'logHST_ACS_WFC_F814W_nd_Best'                                        \n",
       "TFORM80 = 'D       '                                                            \n",
       "TTYPE81 = 'logHST_WFC3_F336W_nd_p84'                                            \n",
       "TFORM81 = 'D       '                                                            \n",
       "TTYPE82 = 'M_ini_p16'                                                           \n",
       "TFORM82 = 'D       '                                                            \n",
       "TTYPE83 = 'mbol_p84'                                                            \n",
       "TFORM83 = 'D       '                                                            \n",
       "TTYPE84 = 'logHST_ACS_WFC_F814W_nd_p16'                                         \n",
       "TFORM84 = 'D       '                                                            \n",
       "TTYPE85 = 'logHST_WFC3_F336W_nd_p16'                                            \n",
       "TFORM85 = 'D       '                                                            \n",
       "TTYPE86 = 'logHST_WFC3_F275W_wd_Exp'                                            \n",
       "TFORM86 = 'D       '                                                            \n",
       "TTYPE87 = 'logHST_WFC3_F336W_wd_Exp'                                            \n",
       "TFORM87 = 'D       '                                                            \n",
       "TTYPE88 = 'inside_chipgap'                                                      \n",
       "TFORM88 = 'L       '                                                            \n",
       "TTYPE89 = 'Z_p50   '                                                            \n",
       "TFORM89 = 'D       '                                                            \n",
       "TTYPE90 = 'logGALEX_FUV_nd_Exp'                                                 \n",
       "TFORM90 = 'D       '                                                            \n",
       "TTYPE91 = 'logHST_WFC3_F336W_nd_Best'                                           \n",
       "TFORM91 = 'D       '                                                            \n",
       "TTYPE92 = 'HST_WFC3_F160W'                                                      \n",
       "TFORM92 = 'D       '                                                            \n",
       "TTYPE93 = 'logA_Best'                                                           \n",
       "TFORM93 = 'D       '                                                            \n",
       "TTYPE94 = 'logGALEX_NUV_wd_p16'                                                 \n",
       "TFORM94 = 'D       '                                                            \n",
       "TTYPE95 = 'logT_Best'                                                           \n",
       "TFORM95 = 'D       '                                                            \n",
       "TTYPE96 = 'logHST_ACS_WFC_F814W_nd_p84'                                         \n",
       "TFORM96 = 'D       '                                                            \n",
       "TTYPE97 = 'logF_UV_6_13e_wd_Exp'                                                \n",
       "TFORM97 = 'D       '                                                            \n",
       "TTYPE98 = 'M_act_p50'                                                           \n",
       "TFORM98 = 'D       '                                                            \n",
       "TTYPE99 = 'f_A_Exp '                                                            \n",
       "TFORM99 = 'D       '                                                            \n",
       "TTYPE100= 'logGALEX_NUV_nd_Exp'                                                 \n",
       "TFORM100= 'D       '                                                            \n",
       "TTYPE101= 'radius_Best'                                                         \n",
       "TFORM101= 'D       '                                                            \n",
       "TTYPE102= 'logHST_WFC3_F160W_wd_Exp'                                            \n",
       "TFORM102= 'D       '                                                            \n",
       "TTYPE103= 'logF_UV_6_13e_nd_p16'                                                \n",
       "TFORM103= 'D       '                                                            \n",
       "TTYPE104= 'logHST_WFC3_F160W_wd_p16'                                            \n",
       "TFORM104= 'D       '                                                            \n",
       "TTYPE105= 'logHST_WFC3_F110W_nd_p50'                                            \n",
       "TFORM105= 'D       '                                                            \n",
       "TTYPE106= 'logHST_WFC3_F110W_wd_p50'                                            \n",
       "TFORM106= 'D       '                                                            \n",
       "TTYPE107= 'logT_p50'                                                            \n",
       "TFORM107= 'D       '                                                            \n",
       "TTYPE108= 'Av_p84  '                                                            \n",
       "TFORM108= 'D       '                                                            \n",
       "TTYPE109= 'radius_p16'                                                          \n",
       "TFORM109= 'D       '                                                            \n",
       "TTYPE110= 'Rv_Best '                                                            \n",
       "TFORM110= 'D       '                                                            \n",
       "TTYPE111= 'HST_ACS_WFC_F814W'                                                   \n",
       "TFORM111= 'D       '                                                            \n",
       "TTYPE112= 'logGALEX_FUV_nd_p84'                                                 \n",
       "TFORM112= 'D       '                                                            \n",
       "TTYPE113= 'logF_QION_nd_p16'                                                    \n",
       "TFORM113= 'D       '                                                            \n",
       "TTYPE114= 'logHST_ACS_WFC_F475W_nd_p84'                                         \n",
       "TFORM114= 'D       '                                                            \n",
       "TTYPE115= 'logF_UV_6_13e_nd_p84'                                                \n",
       "TFORM115= 'D       '                                                            \n",
       "TTYPE116= 'chi2min_indx'                                                        \n",
       "TFORM116= 'K       '                                                            \n",
       "TTYPE117= 'logHST_WFC3_F275W_wd_p16'                                            \n",
       "TFORM117= 'D       '                                                            \n",
       "TTYPE118= 'logHST_WFC3_F160W_wd_Best'                                           \n",
       "TFORM118= 'D       '                                                            \n",
       "TTYPE119= 'logHST_WFC3_F160W_nd_p84'                                            \n",
       "TFORM119= 'D       '                                                            \n",
       "TTYPE120= 'M_ini_Exp'                                                           \n",
       "TFORM120= 'D       '                                                            \n",
       "TTYPE121= 'logHST_WFC3_F275W_wd_p84'                                            \n",
       "TFORM121= 'D       '                                                            \n",
       "TTYPE122= 'logA_p84'                                                            \n",
       "TFORM122= 'D       '                                                            \n",
       "TTYPE123= 'radius_Exp'                                                          \n",
       "TFORM123= 'D       '                                                            \n",
       "TTYPE124= 'logHST_WFC3_F160W_nd_Exp'                                            \n",
       "TFORM124= 'D       '                                                            \n",
       "TTYPE125= 'logF_QION_nd_p84'                                                    \n",
       "TFORM125= 'D       '                                                            \n",
       "TTYPE126= 'logGALEX_FUV_nd_p16'                                                 \n",
       "TFORM126= 'D       '                                                            \n",
       "TTYPE127= 'logF_QION_nd_Best'                                                   \n",
       "TFORM127= 'D       '                                                            \n",
       "TTYPE128= 'logHST_WFC3_F275W_wd_Best'                                           \n",
       "TFORM128= 'D       '                                                            \n",
       "TTYPE129= 'specgrid_indx'                                                       \n",
       "TFORM129= 'K       '                                                            \n",
       "TTYPE130= 'logHST_ACS_WFC_F475W_wd_p16'                                         \n",
       "TFORM130= 'D       '                                                            \n",
       "TTYPE131= 'Rv_A_p16'                                                            \n",
       "TFORM131= 'D       '                                                            \n",
       "TTYPE132= 'chi2min '                                                            \n",
       "TFORM132= 'D       '                                                            \n",
       "TTYPE133= 'logL_Best'                                                           \n",
       "TFORM133= 'D       '                                                            \n",
       "TTYPE134= 'logT_p84'                                                            \n",
       "TFORM134= 'D       '                                                            \n",
       "TTYPE135= 'logA_p50'                                                            \n",
       "TFORM135= 'D       '                                                            \n",
       "TTYPE136= 'logHST_ACS_WFC_F475W_nd_p16'                                         \n",
       "TFORM136= 'D       '                                                            \n",
       "TTYPE137= 'logGALEX_FUV_wd_p50'                                                 \n",
       "TFORM137= 'D       '                                                            \n",
       "TTYPE138= 'logF_UV_6_13e_wd_p16'                                                \n",
       "TFORM138= 'D       '                                                            \n",
       "TTYPE139= 'Av_p16  '                                                            \n",
       "TFORM139= 'D       '                                                            \n",
       "TTYPE140= 'Z_p16   '                                                            \n",
       "TFORM140= 'D       '                                                            \n",
       "TTYPE141= 'Rv_A_p84'                                                            \n",
       "TFORM141= 'D       '                                                            \n",
       "TTYPE142= 'logHST_ACS_WFC_F814W_wd_p50'                                         \n",
       "TFORM142= 'D       '                                                            \n",
       "TTYPE143= 'logGALEX_FUV_wd_Exp'                                                 \n",
       "TFORM143= 'D       '                                                            \n",
       "TTYPE144= 'logHST_WFC3_F336W_nd_p50'                                            \n",
       "TFORM144= 'D       '                                                            \n",
       "TTYPE145= 'logHST_WFC3_F336W_wd_p50'                                            \n",
       "TFORM145= 'D       '                                                            \n",
       "TTYPE146= 'logHST_ACS_WFC_F475W_wd_p84'                                         \n",
       "TFORM146= 'D       '                                                            \n",
       "TTYPE147= 'f_A_p16 '                                                            \n",
       "TFORM147= 'D       '                                                            \n",
       "TTYPE148= 'field   '                                                            \n",
       "TFORM148= 'K       '                                                            \n",
       "TTYPE149= 'logHST_ACS_WFC_F475W_wd_Exp'                                         \n",
       "TFORM149= 'D       '                                                            \n",
       "TTYPE150= 'logGALEX_FUV_wd_Best'                                                \n",
       "TFORM150= 'D       '                                                            \n",
       "TTYPE151= 'logGALEX_NUV_nd_p50'                                                 \n",
       "TFORM151= 'D       '                                                            \n",
       "TTYPE152= 'HST_ACS_WFC_F475W'                                                   \n",
       "TFORM152= 'D       '                                                            \n",
       "TTYPE153= 'mbol_p50'                                                            \n",
       "TFORM153= 'D       '                                                            \n",
       "TTYPE154= 'logA_p16'                                                            \n",
       "TFORM154= 'D       '                                                            \n",
       "TTYPE155= 'logHST_WFC3_F275W_nd_p16'                                            \n",
       "TFORM155= 'D       '                                                            \n",
       "TTYPE156= 'radius_p84'                                                          \n",
       "TFORM156= 'D       '                                                            \n",
       "TTYPE157= 'logHST_ACS_WFC_F814W_nd_p50'                                         \n",
       "TFORM157= 'D       '                                                            \n",
       "TTYPE158= 'f_A_p84 '                                                            \n",
       "TFORM158= 'D       '                                                            \n",
       "TTYPE159= 'Name    '                                                            \n",
       "TFORM159= '100A    '                                                            \n",
       "TTYPE160= 'logHST_WFC3_F275W_nd_Best'                                           \n",
       "TFORM160= 'D       '                                                            \n",
       "TTYPE161= 'logHST_WFC3_F275W_nd_p84'                                            \n",
       "TFORM161= 'D       '                                                            \n",
       "TTYPE162= 'logGALEX_NUV_wd_Best'                                                \n",
       "TFORM162= 'D       '                                                            \n",
       "TTYPE163= 'logg_p50'                                                            \n",
       "TFORM163= 'D       '                                                            \n",
       "TTYPE164= 'logHST_WFC3_F110W_wd_Exp'                                            \n",
       "TFORM164= 'D       '                                                            \n",
       "TTYPE165= 'logHST_ACS_WFC_F475W_wd_Best'                                        \n",
       "TFORM165= 'D       '                                                            \n",
       "TTYPE166= 'Rv_p16  '                                                            \n",
       "TFORM166= 'D       '                                                            \n",
       "TTYPE167= 'logg_Best'                                                           \n",
       "TFORM167= 'D       '                                                            \n",
       "TTYPE168= 'logHST_WFC3_F275W_nd_Exp'                                            \n",
       "TFORM168= 'D       '                                                            \n",
       "TTYPE169= 'logF_UV_6_13e_wd_p84'                                                \n",
       "TFORM169= 'D       '                                                            \n",
       "TTYPE170= 'logHST_WFC3_F336W_wd_Best'                                           \n",
       "TFORM170= 'D       '                                                            \n",
       "TTYPE171= 'Z_p84   '                                                            \n",
       "TFORM171= 'D       '                                                            \n",
       "TTYPE172= 'logHST_WFC3_F110W_wd_Best'                                           \n",
       "TFORM172= 'D       '                                                            \n",
       "TTYPE173= 'logL_Exp'                                                            \n",
       "TFORM173= 'D       '                                                            \n",
       "TTYPE174= 'logHST_ACS_WFC_F475W_nd_Best'                                        \n",
       "TFORM174= 'D       '                                                            \n",
       "TTYPE175= 'Pmax_indx'                                                           \n",
       "TFORM175= 'K       '                                                            \n",
       "TTYPE176= 'logHST_WFC3_F336W_nd_Exp'                                            \n",
       "TFORM176= 'D       '                                                            \n",
       "TTYPE177= 'M_ini_p50'                                                           \n",
       "TFORM177= 'D       '                                                            \n",
       "TTYPE178= 'logHST_WFC3_F160W_wd_p50'                                            \n",
       "TFORM178= 'D       '                                                            \n",
       "TTYPE179= 'mbol_Exp'                                                            \n",
       "TFORM179= 'D       '                                                            \n",
       "TTYPE180= 'logHST_WFC3_F160W_nd_Best'                                           \n",
       "TFORM180= 'D       '                                                            \n",
       "TTYPE181= 'Rv_A_Best'                                                           \n",
       "TFORM181= 'D       '                                                            \n",
       "TTYPE182= 'logg_p16'                                                            \n",
       "TFORM182= 'D       '                                                            "
      ]
     },
     "execution_count": 1010,
     "metadata": {},
     "output_type": "execute_result"
    }
   ],
   "source": [
    "data.header"
   ]
  },
  {
   "cell_type": "code",
   "execution_count": 780,
   "metadata": {
    "ExecuteTime": {
     "end_time": "2019-05-26T14:06:20.355681Z",
     "start_time": "2019-05-26T14:06:20.183560Z"
    }
   },
   "outputs": [],
   "source": [
    "_ = pd.DataFrame(points)"
   ]
  },
  {
   "cell_type": "code",
   "execution_count": 319,
   "metadata": {
    "ExecuteTime": {
     "end_time": "2019-05-14T12:12:32.892338Z",
     "start_time": "2019-05-14T12:12:32.883332Z"
    }
   },
   "outputs": [
    {
     "data": {
      "text/plain": [
       "array([42.08534992, 11.63993712])"
      ]
     },
     "execution_count": 319,
     "metadata": {},
     "output_type": "execute_result"
    }
   ],
   "source": [
    "np.array(vertices).min(0)"
   ]
  }
 ],
 "metadata": {
  "kernelspec": {
   "display_name": "Python 3",
   "language": "python",
   "name": "python3"
  },
  "language_info": {
   "codemirror_mode": {
    "name": "ipython",
    "version": 3
   },
   "file_extension": ".py",
   "mimetype": "text/x-python",
   "name": "python",
   "nbconvert_exporter": "python",
   "pygments_lexer": "ipython3",
   "version": "3.7.3"
  },
  "toc": {
   "base_numbering": 1,
   "nav_menu": {},
   "number_sections": true,
   "sideBar": true,
   "skip_h1_title": false,
   "title_cell": "Table of Contents",
   "title_sidebar": "Contents",
   "toc_cell": false,
   "toc_position": {},
   "toc_section_display": true,
   "toc_window_display": false
  },
  "varInspector": {
   "cols": {
    "lenName": 16,
    "lenType": 16,
    "lenVar": 40
   },
   "kernels_config": {
    "python": {
     "delete_cmd_postfix": "",
     "delete_cmd_prefix": "del ",
     "library": "var_list.py",
     "varRefreshCmd": "print(var_dic_list())"
    },
    "r": {
     "delete_cmd_postfix": ") ",
     "delete_cmd_prefix": "rm(",
     "library": "var_list.r",
     "varRefreshCmd": "cat(var_dic_list()) "
    }
   },
   "types_to_exclude": [
    "module",
    "function",
    "builtin_function_or_method",
    "instance",
    "_Feature"
   ],
   "window_display": false
  }
 },
 "nbformat": 4,
 "nbformat_minor": 2
}
