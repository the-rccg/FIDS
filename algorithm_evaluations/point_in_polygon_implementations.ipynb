{
 "cells": [
  {
   "cell_type": "markdown",
   "metadata": {
    "ExecuteTime": {
     "end_time": "2019-05-14T10:10:14.419126Z",
     "start_time": "2019-05-14T10:10:14.414125Z"
    }
   },
   "source": [
    "# Point in Polygon Tests"
   ]
  },
  {
   "cell_type": "markdown",
   "metadata": {
    "ExecuteTime": {
     "end_time": "2019-05-14T10:09:58.305682Z",
     "start_time": "2019-05-14T10:09:58.260649Z"
    }
   },
   "source": [
    "# Setup"
   ]
  },
  {
   "cell_type": "code",
   "execution_count": 1,
   "metadata": {
    "ExecuteTime": {
     "end_time": "2019-05-13T16:23:20.128243Z",
     "start_time": "2019-05-13T16:23:19.853045Z"
    }
   },
   "outputs": [],
   "source": [
    "import numpy as np\n",
    "import json\n",
    "from pprint import pprint\n",
    "from memory_profiler import profile"
   ]
  },
  {
   "cell_type": "code",
   "execution_count": 4,
   "metadata": {
    "ExecuteTime": {
     "end_time": "2019-05-13T16:23:41.962747Z",
     "start_time": "2019-05-13T16:23:39.286848Z"
    }
   },
   "outputs": [],
   "source": [
    "from astropy.io import fits\n",
    "data = fits.open('PHAT_BEAST/b22_stats_toothpick_v1.1.fits', memmap=True)[1]"
   ]
  },
  {
   "cell_type": "code",
   "execution_count": 42,
   "metadata": {
    "ExecuteTime": {
     "end_time": "2019-05-13T16:34:34.788999Z",
     "start_time": "2019-05-13T16:34:32.498336Z"
    }
   },
   "outputs": [],
   "source": [
    "from numba import jit"
   ]
  },
  {
   "cell_type": "code",
   "execution_count": 294,
   "metadata": {
    "ExecuteTime": {
     "end_time": "2019-05-14T11:58:15.006051Z",
     "start_time": "2019-05-14T11:58:14.995043Z"
    }
   },
   "outputs": [],
   "source": [
    "vertices = [(42.08966338773695, 11.63993711820775),\n",
    " (42.16591939189332, 11.791014549991507),\n",
    " (42.172697703373885, 11.792076979097095),\n",
    " (42.15775460760991, 11.86325972917151),\n",
    " (42.10768753417391, 11.954628632252101)]"
   ]
  },
  {
   "cell_type": "code",
   "execution_count": 298,
   "metadata": {
    "ExecuteTime": {
     "end_time": "2019-05-14T12:00:53.425102Z",
     "start_time": "2019-05-14T12:00:53.410106Z"
    }
   },
   "outputs": [],
   "source": [
    "vertices = [(42.098136277087654, 11.957815919568866),\n",
    " (42.09613359415022, 11.967377781519161),\n",
    " (42.08534991679477, 11.969290140940114),\n",
    " (42.085658021862066, 11.862197300065922),\n",
    " (42.08673638959761, 11.833511714215039),\n",
    " (42.08750665226586, 11.818637706736803),\n",
    " (42.09536333148197, 11.737893094712094),\n",
    " (42.100909222693346, 11.713457225283562),\n",
    " (42.10614700883742, 11.695395930488562),\n",
    " (42.105992956303766, 11.693271072277387),\n",
    " (42.10768753417391, 11.677334635693562),\n",
    " (42.112463162717034, 11.644399333420326),\n",
    " (42.114157740587174, 11.63993711820775),\n",
    " (42.119087421663956, 11.641212046103561),\n",
    " (42.12263062993789, 11.644399333420326),\n",
    " (42.12478736540898, 11.64758662073709),\n",
    " (42.12524952300992, 11.650773908053855),\n",
    " (42.124633312875325, 11.645461762525914),\n",
    " (42.12694410088007, 11.649711478948268),\n",
    " (42.13664941049996, 11.655023624476208),\n",
    " (42.140192618773895, 11.663523057320914),\n",
    " (42.141579091576745, 11.742142811134446),\n",
    " (42.1405007238412, 11.793139408202684),\n",
    " (42.1395764086393, 11.799513982836213),\n",
    " (42.1398845137066, 11.835636572426214),\n",
    " (42.13834398837011, 11.912131468028571),\n",
    " (42.13834398837011, 11.910006609817394),\n",
    " (42.13572509529807, 11.923818188190042),\n",
    " (42.12771436354831, 11.94931648672416),\n",
    " (42.12802246861561, 11.950378915829749)]"
   ]
  },
  {
   "cell_type": "code",
   "execution_count": 92,
   "metadata": {
    "ExecuteTime": {
     "end_time": "2019-05-13T17:32:27.718462Z",
     "start_time": "2019-05-13T17:32:24.355077Z"
    }
   },
   "outputs": [],
   "source": [
    "points = np.vstack([data.data['DEC'], data.data['RA']])"
   ]
  },
  {
   "cell_type": "code",
   "execution_count": 93,
   "metadata": {
    "ExecuteTime": {
     "end_time": "2019-05-13T17:32:29.025392Z",
     "start_time": "2019-05-13T17:32:29.017388Z"
    }
   },
   "outputs": [
    {
     "data": {
      "text/plain": [
       "array([[42.16295068, 11.94153659],\n",
       "       [42.1134434 , 11.68024732],\n",
       "       [42.11515299, 11.88223938],\n",
       "       ...,\n",
       "       [42.15991029, 11.69838903],\n",
       "       [42.15988112, 11.69978689],\n",
       "       [42.16066163, 11.69991191]])"
      ]
     },
     "execution_count": 93,
     "metadata": {},
     "output_type": "execute_result"
    }
   ],
   "source": [
    "points.T"
   ]
  },
  {
   "cell_type": "code",
   "execution_count": 280,
   "metadata": {
    "ExecuteTime": {
     "end_time": "2019-05-14T10:33:57.798485Z",
     "start_time": "2019-05-14T10:33:57.794482Z"
    }
   },
   "outputs": [],
   "source": [
    "vertices = np.array([[42.09, 11.94], [42.09, 11.90], [42.11, 11.90], [42.11, 11,95]])"
   ]
  },
  {
   "cell_type": "code",
   "execution_count": 235,
   "metadata": {
    "ExecuteTime": {
     "end_time": "2019-05-14T10:11:04.753886Z",
     "start_time": "2019-05-14T10:11:04.659818Z"
    }
   },
   "outputs": [],
   "source": [
    "from matplotlib import pylab as plt"
   ]
  },
  {
   "cell_type": "code",
   "execution_count": 236,
   "metadata": {
    "ExecuteTime": {
     "end_time": "2019-05-14T10:11:20.084775Z",
     "start_time": "2019-05-14T10:11:20.074767Z"
    }
   },
   "outputs": [],
   "source": [
    "from matplotlib import patches"
   ]
  },
  {
   "cell_type": "code",
   "execution_count": 320,
   "metadata": {
    "ExecuteTime": {
     "end_time": "2019-05-14T12:14:16.370840Z",
     "start_time": "2019-05-14T12:14:05.943434Z"
    },
    "scrolled": false
   },
   "outputs": [
    {
     "data": {
      "text/plain": [
       "<matplotlib.patches.Polygon at 0x6e7153cc88>"
      ]
     },
     "execution_count": 320,
     "metadata": {},
     "output_type": "execute_result"
    },
    {
     "data": {
      "image/png": "[encoded data removed]",
      "text/plain": [
       "<Figure size 1080x432 with 1 Axes>"
      ]
     },
     "metadata": {
      "needs_background": "light"
     },
     "output_type": "display_data"
    }
   ],
   "source": [
    "fig, ax = plt.subplots(1,1, figsize=(15,6))\n",
    "ax.scatter(data.data['DEC'], data.data['RA'])\n",
    "ax.add_patch(patches.Polygon(np.array(vertices), closed=False, fill=True, color='r', alpha=0.5))"
   ]
  },
  {
   "cell_type": "code",
   "execution_count": 301,
   "metadata": {
    "ExecuteTime": {
     "end_time": "2019-05-14T12:02:39.740357Z",
     "start_time": "2019-05-14T12:02:39.725345Z"
    }
   },
   "outputs": [],
   "source": [
    "def plot(flagged):\n",
    "    fig, ax = plt.subplots(1,1, figsize=(15,6))\n",
    "    ax.scatter(data.data['DEC'], data.data['RA'])\n",
    "    ax.add_patch(patches.Polygon(vertices, closed=False, fill=True, color='r', alpha=0.2))\n",
    "    ax.scatter(data.data['DEC'][flagged], data.data['RA'][flagged], color='k')"
   ]
  },
  {
   "cell_type": "markdown",
   "metadata": {},
   "source": [
    "## Other stuff"
   ]
  },
  {
   "cell_type": "code",
   "execution_count": 33,
   "metadata": {
    "ExecuteTime": {
     "end_time": "2019-05-13T16:31:36.712587Z",
     "start_time": "2019-05-13T16:31:10.434027Z"
    }
   },
   "outputs": [],
   "source": [
    "shapely_points = np.apply_along_axis(Point, 1, points.T)"
   ]
  },
  {
   "cell_type": "code",
   "execution_count": 21,
   "metadata": {
    "ExecuteTime": {
     "end_time": "2019-05-13T16:26:43.322974Z",
     "start_time": "2019-05-13T16:26:43.306963Z"
    }
   },
   "outputs": [],
   "source": [
    "def clip(subjectPolygon, clipPolygon):\n",
    "   def inside(p):\n",
    "      return(cp2[0]-cp1[0])*(p[1]-cp1[1]) > (cp2[1]-cp1[1])*(p[0]-cp1[0])\n",
    " \n",
    "   def computeIntersection():\n",
    "      dc = [ cp1[0] - cp2[0], cp1[1] - cp2[1] ]\n",
    "      dp = [ s[0] - e[0], s[1] - e[1] ]\n",
    "      n1 = cp1[0] * cp2[1] - cp1[1] * cp2[0]\n",
    "      n2 = s[0] * e[1] - s[1] * e[0] \n",
    "      n3 = 1.0 / (dc[0] * dp[1] - dc[1] * dp[0])\n",
    "      return [(n1*dp[0] - n2*dc[0]) * n3, (n1*dp[1] - n2*dc[1]) * n3]\n",
    " \n",
    "   outputList = subjectPolygon\n",
    "   cp1 = clipPolygon[-1]\n",
    " \n",
    "   for clipVertex in clipPolygon:\n",
    "      cp2 = clipVertex\n",
    "      inputList = outputList\n",
    "      outputList = []\n",
    "      s = inputList[-1]\n",
    " \n",
    "      for subjectVertex in inputList:\n",
    "         e = subjectVertex\n",
    "         if inside(e):\n",
    "            if not inside(s):\n",
    "               outputList.append(computeIntersection())\n",
    "            outputList.append(e)\n",
    "         elif inside(s):\n",
    "            outputList.append(computeIntersection())\n",
    "         s = e\n",
    "      cp1 = cp2\n",
    "   return(outputList)\n",
    " "
   ]
  },
  {
   "cell_type": "code",
   "execution_count": null,
   "metadata": {},
   "outputs": [],
   "source": []
  },
  {
   "cell_type": "code",
   "execution_count": null,
   "metadata": {},
   "outputs": [],
   "source": []
  },
  {
   "cell_type": "markdown",
   "metadata": {
    "heading_collapsed": true
   },
   "source": [
    "## GEOS via Shapely (23s)"
   ]
  },
  {
   "cell_type": "code",
   "execution_count": 647,
   "metadata": {
    "ExecuteTime": {
     "end_time": "2019-05-15T07:55:48.368196Z",
     "start_time": "2019-05-15T07:55:48.362192Z"
    },
    "hidden": true
   },
   "outputs": [],
   "source": [
    "# Option 1:  Shapely\n",
    "# https://automating-gis-processes.github.io/CSC18/lessons/L4/point-in-polygon.html\n",
    "#import shapely.speedups\n",
    "#shapely.speedups.enable()\n",
    "from shapely.geometry import Point\n",
    "from shapely.geometry.polygon import Polygon\n",
    "polygon = Polygon(vertices)"
   ]
  },
  {
   "cell_type": "code",
   "execution_count": 648,
   "metadata": {
    "ExecuteTime": {
     "end_time": "2019-05-15T07:56:05.544915Z",
     "start_time": "2019-05-15T07:55:49.745177Z"
    },
    "hidden": true
   },
   "outputs": [],
   "source": [
    "shapely_points = [Point(points[:,i]) for i in range(points.shape[1])]"
   ]
  },
  {
   "cell_type": "code",
   "execution_count": 649,
   "metadata": {
    "ExecuteTime": {
     "end_time": "2019-05-15T07:56:06.832817Z",
     "start_time": "2019-05-15T07:56:06.816807Z"
    },
    "hidden": true
   },
   "outputs": [],
   "source": [
    "@jit(parallel=True)\n",
    "def to_points(points):\n",
    "    shapely_points = np.empty(points.shape[0], dtype=Point)\n",
    "    for i in range(points.shape[0]):\n",
    "        shapely_points[i] = Point(points[i])\n",
    "    return shapely_points"
   ]
  },
  {
   "cell_type": "code",
   "execution_count": 656,
   "metadata": {
    "ExecuteTime": {
     "end_time": "2019-05-15T08:01:03.181012Z",
     "start_time": "2019-05-15T08:00:53.745310Z"
    },
    "hidden": true
   },
   "outputs": [],
   "source": [
    "shapely_points = to_points(points.T)"
   ]
  },
  {
   "cell_type": "code",
   "execution_count": 657,
   "metadata": {
    "ExecuteTime": {
     "end_time": "2019-05-15T08:01:40.656385Z",
     "start_time": "2019-05-15T08:01:28.222986Z"
    },
    "hidden": true
   },
   "outputs": [],
   "source": [
    "flags = [polygon.contains(pt) for pt in shapely_points]"
   ]
  },
  {
   "cell_type": "code",
   "execution_count": 660,
   "metadata": {
    "ExecuteTime": {
     "end_time": "2019-05-15T08:03:28.916062Z",
     "start_time": "2019-05-15T08:03:28.909055Z"
    },
    "hidden": true
   },
   "outputs": [],
   "source": [
    "@jit(parallel=True)\n",
    "def to_flags(points):\n",
    "    flags = np.zeros(points.shape[0], dtype=np.bool_)\n",
    "    for i in range(points.shape[0]):\n",
    "        flags[i] = polygon.contains(points[i])\n",
    "    return flags"
   ]
  },
  {
   "cell_type": "code",
   "execution_count": 663,
   "metadata": {
    "ExecuteTime": {
     "end_time": "2019-05-15T08:04:05.646427Z",
     "start_time": "2019-05-15T08:03:53.463266Z"
    },
    "hidden": true
   },
   "outputs": [],
   "source": [
    "flags = to_flags(shapely_points)"
   ]
  },
  {
   "cell_type": "code",
   "execution_count": 664,
   "metadata": {
    "ExecuteTime": {
     "end_time": "2019-05-15T08:04:44.950956Z",
     "start_time": "2019-05-15T08:04:21.894968Z"
    },
    "hidden": true
   },
   "outputs": [],
   "source": [
    "flags = to_flags(to_points(points.T))"
   ]
  },
  {
   "cell_type": "code",
   "execution_count": null,
   "metadata": {
    "ExecuteTime": {
     "end_time": "2019-05-15T08:00:37.166535Z",
     "start_time": "2019-05-15T07:56:01.251Z"
    },
    "hidden": true
   },
   "outputs": [],
   "source": [
    "plot(flags)"
   ]
  },
  {
   "cell_type": "markdown",
   "metadata": {
    "heading_collapsed": true
   },
   "source": [
    "## Matplotlib Path (0.19s)"
   ]
  },
  {
   "cell_type": "code",
   "execution_count": 642,
   "metadata": {
    "ExecuteTime": {
     "end_time": "2019-05-15T07:54:48.075372Z",
     "start_time": "2019-05-15T07:54:48.069370Z"
    },
    "hidden": true
   },
   "outputs": [],
   "source": [
    "# Option 2:  Matplotlib\n",
    "from matplotlib import path\n",
    "import matplotlib.pyplot as plt\n",
    "polygon = path.Path(vertices)"
   ]
  },
  {
   "cell_type": "code",
   "execution_count": 646,
   "metadata": {
    "ExecuteTime": {
     "end_time": "2019-05-15T07:55:25.839194Z",
     "start_time": "2019-05-15T07:55:10.336183Z"
    },
    "hidden": true
   },
   "outputs": [
    {
     "name": "stdout",
     "output_type": "stream",
     "text": [
      "191 ms ± 7.87 ms per loop (mean ± std. dev. of 7 runs, 10 loops each)\n"
     ]
    }
   ],
   "source": [
    "%%timeit\n",
    "flags = polygon.contains_points(points.T)"
   ]
  },
  {
   "cell_type": "markdown",
   "metadata": {
    "heading_collapsed": true
   },
   "source": [
    "## Ray Tracing (best: 0.156s)"
   ]
  },
  {
   "cell_type": "markdown",
   "metadata": {
    "heading_collapsed": true,
    "hidden": true
   },
   "source": [
    "### Ray Tracing Python (40s)"
   ]
  },
  {
   "cell_type": "code",
   "execution_count": 309,
   "metadata": {
    "ExecuteTime": {
     "end_time": "2019-05-14T12:04:34.020170Z",
     "start_time": "2019-05-14T12:04:34.011162Z"
    },
    "hidden": true
   },
   "outputs": [],
   "source": [
    "# Option 3:  Ray Tracing\n",
    "def ray_tracing(x, y, poly):\n",
    "    n = len(poly)\n",
    "    inside = False\n",
    "    xints = 0.0\n",
    "    p1x, p1y = poly[0]\n",
    "    p2x, p2y = [0.0, 0.0]\n",
    "    for i in range(n+1):\n",
    "        p2x, p2y = poly[i % n]\n",
    "        if y > min(p1y, p2y):\n",
    "            if y <= max(p1y, p2y):\n",
    "                if x <= max(p1x, p2x):\n",
    "                    if p1y != p2y:\n",
    "                        xints = (y-p1y)*(p2x-p1x)/(p2y-p1y)+p1x\n",
    "                    if p1x == p2x or x <= xints:\n",
    "                        inside = not inside\n",
    "        p1x, p1y = p2x, p2y\n",
    "    return inside"
   ]
  },
  {
   "cell_type": "code",
   "execution_count": 159,
   "metadata": {
    "ExecuteTime": {
     "end_time": "2019-05-14T08:36:43.844398Z",
     "start_time": "2019-05-14T08:36:01.238571Z"
    },
    "hidden": true
   },
   "outputs": [],
   "source": [
    "%%timeit\n",
    "flags = np.zeros(len(points.T))\n",
    "for i, point in enumerate(points.T):\n",
    "    flags[i] = ray_tracing(*point, vertices)"
   ]
  },
  {
   "cell_type": "markdown",
   "metadata": {
    "heading_collapsed": true,
    "hidden": true
   },
   "source": [
    "### Numba Accelerated (1.7s)"
   ]
  },
  {
   "cell_type": "code",
   "execution_count": 310,
   "metadata": {
    "ExecuteTime": {
     "end_time": "2019-05-14T12:04:44.041288Z",
     "start_time": "2019-05-14T12:04:44.030278Z"
    },
    "hidden": true
   },
   "outputs": [],
   "source": [
    "# Option 3:  Numba Ray Tracing\n",
    "@jit(nopython=True, parallel=True)\n",
    "def ray_tracing(x, y, poly):\n",
    "    n = len(poly)\n",
    "    inside = False\n",
    "    xints = 0.0\n",
    "    p1x, p1y = poly[0]\n",
    "    p2x, p2y = [0.0, 0.0]\n",
    "    for i in range(n+1):\n",
    "        p2x, p2y = poly[i % n]\n",
    "        if y > min(p1y, p2y):\n",
    "            if y <= max(p1y, p2y):\n",
    "                if x <= max(p1x, p2x):\n",
    "                    if p1y != p2y:\n",
    "                        xints = (y-p1y)*(p2x-p1x)/(p2y-p1y)+p1x\n",
    "                    if p1x == p2x or x <= xints:\n",
    "                        inside = not inside\n",
    "        p1x, p1y = p2x, p2y\n",
    "    return inside"
   ]
  },
  {
   "cell_type": "code",
   "execution_count": 162,
   "metadata": {
    "ExecuteTime": {
     "end_time": "2019-05-14T08:37:24.407829Z",
     "start_time": "2019-05-14T08:37:11.056363Z"
    },
    "hidden": true
   },
   "outputs": [
    {
     "name": "stdout",
     "output_type": "stream",
     "text": [
      "1.67 s ± 86.3 ms per loop (mean ± std. dev. of 7 runs, 1 loop each)\n"
     ]
    }
   ],
   "source": [
    "%%timeit\n",
    "flags = np.zeros(len(points.T))\n",
    "for i, point in enumerate(points.T):\n",
    "    flags[i] = ray_tracing(*point, vertices)"
   ]
  },
  {
   "cell_type": "markdown",
   "metadata": {
    "heading_collapsed": true,
    "hidden": true
   },
   "source": [
    "### Numba Envelope Accelerated (0.20s)"
   ]
  },
  {
   "cell_type": "code",
   "execution_count": 311,
   "metadata": {
    "ExecuteTime": {
     "end_time": "2019-05-14T12:04:55.986022Z",
     "start_time": "2019-05-14T12:04:55.933988Z"
    },
    "hidden": true
   },
   "outputs": [],
   "source": [
    "@jit(nopython=True, parallel=True)\n",
    "def get_ray_flags(x, y, vertices):\n",
    "    flags = np.zeros(len(x))\n",
    "    for i in range(len(x)):\n",
    "        flags[i] = ray_tracing(x[i], y[i], vertices)\n",
    "    return flags"
   ]
  },
  {
   "cell_type": "code",
   "execution_count": 165,
   "metadata": {
    "ExecuteTime": {
     "end_time": "2019-05-14T08:38:01.240601Z",
     "start_time": "2019-05-14T08:37:44.741273Z"
    },
    "hidden": true
   },
   "outputs": [
    {
     "name": "stdout",
     "output_type": "stream",
     "text": [
      "203 ms ± 2.25 ms per loop (mean ± std. dev. of 7 runs, 10 loops each)\n"
     ]
    }
   ],
   "source": [
    "%%timeit\n",
    "flags = get_ray_flags(*points, vertices)"
   ]
  },
  {
   "cell_type": "markdown",
   "metadata": {
    "heading_collapsed": true,
    "hidden": true
   },
   "source": [
    "### Numba Envelope Accelerated with Empty Bool Array (0.156s)"
   ]
  },
  {
   "cell_type": "code",
   "execution_count": 312,
   "metadata": {
    "ExecuteTime": {
     "end_time": "2019-05-14T12:05:01.062630Z",
     "start_time": "2019-05-14T12:05:01.048621Z"
    },
    "hidden": true
   },
   "outputs": [],
   "source": [
    "@jit(nopython=True, parallel=True)\n",
    "def get_ray_flags(x, y, vertices):\n",
    "    flags = np.empty(len(x), dtype=np.bool_)\n",
    "    for i in range(len(x)):\n",
    "        flags[i] = ray_tracing(x[i], y[i], vertices)\n",
    "    return flags"
   ]
  },
  {
   "cell_type": "code",
   "execution_count": 221,
   "metadata": {
    "ExecuteTime": {
     "end_time": "2019-05-14T08:47:38.988550Z",
     "start_time": "2019-05-14T08:47:26.296520Z"
    },
    "hidden": true
   },
   "outputs": [
    {
     "name": "stdout",
     "output_type": "stream",
     "text": [
      "156 ms ± 6.51 ms per loop (mean ± std. dev. of 7 runs, 10 loops each)\n"
     ]
    }
   ],
   "source": [
    "%%timeit\n",
    "flags = get_ray_flags(*points, vertices)"
   ]
  },
  {
   "cell_type": "code",
   "execution_count": 313,
   "metadata": {
    "ExecuteTime": {
     "end_time": "2019-05-14T12:05:25.427936Z",
     "start_time": "2019-05-14T12:05:09.729786Z"
    },
    "hidden": true
   },
   "outputs": [
    {
     "data": {
      "image/png": "[encoded data removed]",
      "text/plain": [
       "<Figure size 1080x432 with 1 Axes>"
      ]
     },
     "metadata": {
      "needs_background": "light"
     },
     "output_type": "display_data"
    }
   ],
   "source": [
    "flags = get_ray_flags(*points, vertices)\n",
    "plot(flags)"
   ]
  },
  {
   "cell_type": "markdown",
   "metadata": {},
   "source": [
    "## Even-Odd Rule (Best: 0.048s)"
   ]
  },
  {
   "cell_type": "markdown",
   "metadata": {},
   "source": [
    "\"The Method\n",
    "\n",
    "I run a semi-infinite ray horizontally (increasing x, fixed y) out from the test point, and count how many edges it crosses. At each crossing, the ray switches between inside and outside. This is called the **Jordan curve theorem**.\n",
    "\n",
    "The case of the ray going through a vertex is handled correctly via a careful selection of inequalities. Don't mess with this code unless you're familiar with the idea of **Simulation of Simplicity**. This pretends to shift the ray infinitesimally down so that it either clearly intersects, or clearly doesn't touch. Since this is merely a conceptual, infinitesimal, shift, it never creates an intersection that didn't exist before, and never destroys an intersection that clearly existed before.\n",
    "\n",
    "The ray is tested against each edge thus:\n",
    "\n",
    "    Is the point in the half-plane to the left of the extended edge? and\n",
    "    Is the point's Y coordinate within the edge's Y-range? \n",
    "\n",
    "Handling endpoints here is tricky.\""
   ]
  },
  {
   "cell_type": "markdown",
   "metadata": {
    "heading_collapsed": true
   },
   "source": [
    "### Python Function (52s)"
   ]
  },
  {
   "cell_type": "code",
   "execution_count": 166,
   "metadata": {
    "ExecuteTime": {
     "end_time": "2019-05-14T08:38:41.773392Z",
     "start_time": "2019-05-14T08:38:41.761382Z"
    },
    "hidden": true
   },
   "outputs": [],
   "source": [
    "# Option 4:  Even-odd Rule\n",
    "def isPointInPath(x, y, poly):\n",
    "    \"\"\"\n",
    "    x, y -- x and y coordinates of point\n",
    "    poly -- a list of tuples [(x, y), (x, y), ...]\n",
    "    https://wrf.ecse.rpi.edu/Research/Short_Notes/pnpoly.html\n",
    "    \"\"\"\n",
    "    num = len(poly)\n",
    "    i = 0\n",
    "    j = num - 1\n",
    "    c = False\n",
    "    for i in range(num):\n",
    "        if ((poly[i][1] > y) != (poly[j][1] > y)) and \\\n",
    "                (x < poly[i][0] + (poly[j][0] - poly[i][0]) * (y - poly[i][1]) /\n",
    "                                (poly[j][1] - poly[i][1])):\n",
    "            c = not c\n",
    "        j = i\n",
    "    return c"
   ]
  },
  {
   "cell_type": "code",
   "execution_count": 167,
   "metadata": {
    "ExecuteTime": {
     "end_time": "2019-05-14T08:39:36.590364Z",
     "start_time": "2019-05-14T08:38:43.689752Z"
    },
    "hidden": true
   },
   "outputs": [],
   "source": [
    "flags = np.zeros(len(points.T))\n",
    "for i, point in enumerate(points.T):\n",
    "    flags[i] = isPointInPath(*point, vertices)"
   ]
  },
  {
   "cell_type": "markdown",
   "metadata": {
    "ExecuteTime": {
     "end_time": "2019-05-13T17:42:16.133499Z",
     "start_time": "2019-05-13T17:42:16.025422Z"
    },
    "heading_collapsed": true
   },
   "source": [
    "### Numba Accelerated (1.9s)"
   ]
  },
  {
   "cell_type": "code",
   "execution_count": 675,
   "metadata": {
    "ExecuteTime": {
     "end_time": "2019-05-15T13:21:28.081038Z",
     "start_time": "2019-05-15T13:21:27.600642Z"
    },
    "hidden": true
   },
   "outputs": [],
   "source": [
    "@jit(nopython=True, parallel=True)\n",
    "def isPointInPath(x, y, poly):\n",
    "    \"\"\"\n",
    "    x, y -- x and y coordinates of point\n",
    "    poly -- a list of tuples [(x, y), (x, y), ...]\n",
    "    -------------------------------------------------\n",
    "    PNPOLY - Point Inclusion in Polygon Test\n",
    "    W. Randolph Franklin (WRF) \n",
    "    source:  https://wrf.ecse.rpi.edu/Research/Short_Notes/pnpoly.html\n",
    "    \"\"\"\n",
    "    num = len(poly)  # Number of vertices\n",
    "    i = 0            # First Vertex\n",
    "    j = num - 1      # Previous Vertex\n",
    "    c = False\n",
    "    # Loop over vertices\n",
    "    for i in range(num):\n",
    "        # if (a) and (b)\n",
    "        # a) ((vertex[1][y] > pt[y]) != (vertex[0][y] > pt[y]))\n",
    "        # a) XOR(), false if either vertex is higher than point\n",
    "        # b) x < (vertex[1][x] + (y - vertex[1][y])*(vertex[0][x]-vertex[1][x])/(vertex[0][y]-vertex[1][y]))\n",
    "        #                                   slope = (vertex[1][y]-vertex[0][y])/ (vertex[1][x]-vertex[0][x])\n",
    "        #                                         =-(vertex[0][y]-vertex[1][y])/-(vertex[0][x]-vertex[1][x])\n",
    "        #                                         = (vertex[0][y]-vertex[1][y])/ (vertex[0][x]-vertex[1][x])\n",
    "        # b) x < (vertex[1][x] + (y - vertex[1][y])/slope)\n",
    "        # b) \n",
    "        if ((poly[i][1] > y) != (poly[j][1] > y)) and \\\n",
    "                (x < poly[i][0] + (poly[j][0] - poly[i][0]) * (y - poly[i][1]) /\n",
    "                                (poly[j][1] - poly[i][1])):\n",
    "            c = not c\n",
    "        j = i\n",
    "    return c\n",
    "flags = isPointInPath(*point, vertices)"
   ]
  },
  {
   "cell_type": "code",
   "execution_count": 231,
   "metadata": {
    "ExecuteTime": {
     "end_time": "2019-05-14T08:52:52.946865Z",
     "start_time": "2019-05-14T08:52:38.609685Z"
    },
    "hidden": true
   },
   "outputs": [
    {
     "name": "stdout",
     "output_type": "stream",
     "text": [
      "1.73 s ± 94.7 ms per loop (mean ± std. dev. of 7 runs, 1 loop each)\n"
     ]
    }
   ],
   "source": [
    "%%timeit\n",
    "flags = np.zeros(len(points.T))\n",
    "for i, point in enumerate(points.T):\n",
    "    flags[i] = isPointInPath(*point, vertices)"
   ]
  },
  {
   "cell_type": "markdown",
   "metadata": {
    "heading_collapsed": true
   },
   "source": [
    "### Numba Envelope Accelerated (0.080s)"
   ]
  },
  {
   "cell_type": "code",
   "execution_count": 177,
   "metadata": {
    "ExecuteTime": {
     "end_time": "2019-05-14T08:42:21.519354Z",
     "start_time": "2019-05-14T08:42:21.511346Z"
    },
    "hidden": true
   },
   "outputs": [],
   "source": [
    "@jit(nopython=True, parallel=True)\n",
    "def get_even_odd_flags(x, y, vertices):\n",
    "    flags = np.zeros(len(x))\n",
    "    for i in range(len(x)):\n",
    "        flags[i] = isPointInPath(x[i], y[i], vertices)\n",
    "    return flags"
   ]
  },
  {
   "cell_type": "code",
   "execution_count": 180,
   "metadata": {
    "ExecuteTime": {
     "end_time": "2019-05-14T08:42:56.222137Z",
     "start_time": "2019-05-14T08:42:49.541393Z"
    },
    "hidden": true
   },
   "outputs": [
    {
     "name": "stdout",
     "output_type": "stream",
     "text": [
      "82.3 ms ± 2.66 ms per loop (mean ± std. dev. of 7 runs, 10 loops each)\n"
     ]
    }
   ],
   "source": [
    "%%timeit\n",
    "flags = get_even_odd_flags(*points, vertices)"
   ]
  },
  {
   "cell_type": "markdown",
   "metadata": {},
   "source": [
    "### Numba Envelope Accelerated with Empty Bool Array (0.048s)"
   ]
  },
  {
   "cell_type": "code",
   "execution_count": 226,
   "metadata": {
    "ExecuteTime": {
     "end_time": "2019-05-14T08:48:46.718144Z",
     "start_time": "2019-05-14T08:48:46.710140Z"
    }
   },
   "outputs": [],
   "source": [
    "@jit(nopython=True, parallel=True)\n",
    "def get_even_odd_flags(x, y, vertices):\n",
    "    flags = np.empty(len(x), dtype=np.bool_)\n",
    "    for i in range(len(x)):\n",
    "        flags[i] = isPointInPath(x[i], y[i], vertices)\n",
    "    return flags"
   ]
  },
  {
   "cell_type": "code",
   "execution_count": 228,
   "metadata": {
    "ExecuteTime": {
     "end_time": "2019-05-14T08:48:53.268814Z",
     "start_time": "2019-05-14T08:48:49.304981Z"
    }
   },
   "outputs": [
    {
     "name": "stdout",
     "output_type": "stream",
     "text": [
      "48.4 ms ± 652 µs per loop (mean ± std. dev. of 7 runs, 10 loops each)\n"
     ]
    }
   ],
   "source": [
    "%%timeit\n",
    "flags = get_even_odd_flags(*points, vertices)"
   ]
  },
  {
   "cell_type": "code",
   "execution_count": 314,
   "metadata": {
    "ExecuteTime": {
     "end_time": "2019-05-14T12:05:58.965755Z",
     "start_time": "2019-05-14T12:05:44.005131Z"
    }
   },
   "outputs": [
    {
     "data": {
      "image/png": "[encoded data removed]",
      "text/plain": [
       "<Figure size 1080x432 with 1 Axes>"
      ]
     },
     "metadata": {
      "needs_background": "light"
     },
     "output_type": "display_data"
    }
   ],
   "source": [
    "flags = get_even_odd_flags(*points, vertices)\n",
    "plot(flags)"
   ]
  },
  {
   "cell_type": "code",
   "execution_count": 678,
   "metadata": {
    "ExecuteTime": {
     "end_time": "2019-05-15T13:21:55.679585Z",
     "start_time": "2019-05-15T13:21:55.642560Z"
    }
   },
   "outputs": [],
   "source": [
    "@jit(nopython=True, parallel=True)\n",
    "def get_even_odd_flags(x, y, vertices):\n",
    "    flags = np.empty(len(x), dtype=np.bool_)\n",
    "    for i in range(len(x)):\n",
    "        flags[i] = isPointInPath(x[i], y[i], vertices)\n",
    "    return flags"
   ]
  },
  {
   "cell_type": "code",
   "execution_count": 680,
   "metadata": {
    "ExecuteTime": {
     "end_time": "2019-05-15T13:22:07.083684Z",
     "start_time": "2019-05-15T13:22:00.153763Z"
    }
   },
   "outputs": [
    {
     "name": "stdout",
     "output_type": "stream",
     "text": [
      "83.1 ms ± 3.54 ms per loop (mean ± std. dev. of 7 runs, 10 loops each)\n"
     ]
    }
   ],
   "source": [
    "%%timeit\n",
    "flags = get_even_odd_flags(*points, vertices)"
   ]
  },
  {
   "cell_type": "markdown",
   "metadata": {
    "ExecuteTime": {
     "end_time": "2019-05-14T08:54:10.143324Z",
     "start_time": "2019-05-14T08:54:10.140326Z"
    }
   },
   "source": [
    "## Even-Odd Rule for Arrays (Best: 0.09s)"
   ]
  },
  {
   "cell_type": "markdown",
   "metadata": {
    "ExecuteTime": {
     "end_time": "2019-05-15T05:55:59.091502Z",
     "start_time": "2019-05-15T05:55:59.087502Z"
    },
    "heading_collapsed": true
   },
   "source": [
    "### Simple NumPy Array Computation (0.64s)"
   ]
  },
  {
   "cell_type": "code",
   "execution_count": 328,
   "metadata": {
    "ExecuteTime": {
     "end_time": "2019-05-15T05:54:16.643124Z",
     "start_time": "2019-05-15T05:54:16.626112Z"
    },
    "hidden": true
   },
   "outputs": [],
   "source": [
    "#@jit(nopython=True, parallel=True)\n",
    "def is_point_in_path(n, x, y, poly):\n",
    "    \"\"\"\n",
    "    x, y -- x and y coordinates of point\n",
    "    poly -- a list of tuples [(x, y), (x, y), ...]\n",
    "    -------------------------------------------------\n",
    "    PNPOLY - Point Inclusion in Polygon Test\n",
    "    W. Randolph Franklin (WRF) \n",
    "    source:  https://wrf.ecse.rpi.edu/Research/Short_Notes/pnpoly.html\n",
    "    \"\"\"\n",
    "    num = len(poly)  # Number of vertices\n",
    "    i = 0            # First Vertex\n",
    "    j = num - 1      # Previous Vertex\n",
    "    c = np.zeros(n, dtype=np.bool_)\n",
    "    # Loop over vertices\n",
    "    for i in range(num):\n",
    "        # if (a) and (b)\n",
    "        # a) ((vertex[1][y] > pt[y]) != (vertex[0][y] > pt[y]))\n",
    "        # a) XOR(), false if either vertex is higher than point\n",
    "        # b) x < (vertex[1][x] + (y - vertex[1][y])*(vertex[0][x]-vertex[1][x])/(vertex[0][y]-vertex[1][y]))\n",
    "        #                                   slope = (vertex[1][y]-vertex[0][y])/ (vertex[1][x]-vertex[0][x])\n",
    "        #                                         =-(vertex[0][y]-vertex[1][y])/-(vertex[0][x]-vertex[1][x])\n",
    "        #                                         = (vertex[0][y]-vertex[1][y])/ (vertex[0][x]-vertex[1][x])\n",
    "        # b) x < (vertex[1][x] + (y - vertex[1][y])/slope)\n",
    "        # b) \n",
    "        mask = np.logical_and(\n",
    "                np.not_equal(poly[i][1]>y, poly[j][1] > y),\n",
    "                (x < poly[i][0] + (poly[j][0] - poly[i][0]) * (y - poly[i][1]) /\n",
    "                                (poly[j][1] - poly[i][1]))\n",
    "        )\n",
    "        np.invert(c, out=c, where=mask)\n",
    "\n",
    "        j = i\n",
    "    return c\n",
    "flags = isPointInPath(*point, vertices)"
   ]
  },
  {
   "cell_type": "code",
   "execution_count": 330,
   "metadata": {
    "ExecuteTime": {
     "end_time": "2019-05-15T05:54:49.578533Z",
     "start_time": "2019-05-15T05:54:25.973759Z"
    },
    "hidden": true
   },
   "outputs": [
    {
     "data": {
      "image/png": "[encoded data removed]",
      "text/plain": [
       "<Figure size 1080x432 with 1 Axes>"
      ]
     },
     "metadata": {
      "needs_background": "light"
     },
     "output_type": "display_data"
    }
   ],
   "source": [
    "flags = is_point_in_path(len(points[0]), *points, vertices)\n",
    "plot(flags)"
   ]
  },
  {
   "cell_type": "code",
   "execution_count": 333,
   "metadata": {
    "ExecuteTime": {
     "end_time": "2019-05-15T05:55:38.610369Z",
     "start_time": "2019-05-15T05:55:33.473711Z"
    },
    "hidden": true
   },
   "outputs": [
    {
     "name": "stdout",
     "output_type": "stream",
     "text": [
      "640 ms ± 26.8 ms per loop (mean ± std. dev. of 7 runs, 1 loop each)\n"
     ]
    }
   ],
   "source": [
    "%%timeit\n",
    "flags = is_point_in_path(len(points[0]), *points, vertices)"
   ]
  },
  {
   "cell_type": "markdown",
   "metadata": {
    "heading_collapsed": true
   },
   "source": [
    "### Numba NumPy Array (0.09s)"
   ]
  },
  {
   "cell_type": "code",
   "execution_count": 626,
   "metadata": {
    "ExecuteTime": {
     "end_time": "2019-05-15T07:45:22.305373Z",
     "start_time": "2019-05-15T07:45:22.284361Z"
    },
    "hidden": true
   },
   "outputs": [],
   "source": [
    "@jit(nopython=True, parallel=True)\n",
    "def is_point_in_path(x, y, poly):\n",
    "    \"\"\"\n",
    "    x, y -- x and y coordinates of point\n",
    "    poly -- a list of tuples [(x, y), (x, y), ...]\n",
    "    -------------------------------------------------\n",
    "    PNPOLY - Point Inclusion in Polygon Test\n",
    "    W. Randolph Franklin (WRF) \n",
    "    source:  https://wrf.ecse.rpi.edu/Research/Short_Notes/pnpoly.html\n",
    "    \"\"\"\n",
    "    num = len(poly)  # Number of vertices\n",
    "    i = 0            # First Vertex\n",
    "    j = num - 1      # Previous Vertex\n",
    "    c = np.zeros(len(x), dtype=np.bool_)\n",
    "    # Loop over vertices\n",
    "    for i in range(num):\n",
    "        # if (a) and (b)\n",
    "        # a) ((vertex[1][y] > pt[y]) != (vertex[0][y] > pt[y]))\n",
    "        # a) XOR(), false if either vertex is higher than point\n",
    "        # b) x < (vertex[1][x] + (y - vertex[1][y])*(vertex[0][x]-vertex[1][x])/(vertex[0][y]-vertex[1][y]))\n",
    "        #                                   slope = (vertex[1][y]-vertex[0][y])/ (vertex[1][x]-vertex[0][x])\n",
    "        #                                         =-(vertex[0][y]-vertex[1][y])/-(vertex[0][x]-vertex[1][x])\n",
    "        #                                         = (vertex[0][y]-vertex[1][y])/ (vertex[0][x]-vertex[1][x])\n",
    "        # b) x < (vertex[1][x] + (y - vertex[1][y])/slope)\n",
    "        # b) \n",
    "        mask = np.logical_and(\n",
    "                np.not_equal(poly[i][1]>y, poly[j][1] > y),\n",
    "                (x < poly[i][0] + (poly[j][0] - poly[i][0]) * (y - poly[i][1]) /\n",
    "                                (poly[j][1] - poly[i][1]))\n",
    "        )\n",
    "        c[mask] = ~c[mask] #np.invert(c, out=c, where=mask)\n",
    "\n",
    "        j = i\n",
    "    return c\n",
    "flags = isPointInPath(*point, vertices)"
   ]
  },
  {
   "cell_type": "code",
   "execution_count": 627,
   "metadata": {
    "ExecuteTime": {
     "end_time": "2019-05-15T07:45:25.804865Z",
     "start_time": "2019-05-15T07:45:23.398150Z"
    },
    "hidden": true
   },
   "outputs": [
    {
     "name": "stdout",
     "output_type": "stream",
     "text": [
      "99.2 ms ± 9.62 ms per loop (mean ± std. dev. of 7 runs, 1 loop each)\n"
     ]
    }
   ],
   "source": [
    "%%timeit\n",
    "flags = is_point_in_path(*points, vertices)"
   ]
  },
  {
   "cell_type": "markdown",
   "metadata": {},
   "source": [
    "###  NumpyArray Numba (NoPython, Parallel, Fastmath: 0.09s)"
   ]
  },
  {
   "cell_type": "code",
   "execution_count": 628,
   "metadata": {
    "ExecuteTime": {
     "end_time": "2019-05-15T07:45:34.414981Z",
     "start_time": "2019-05-15T07:45:34.401974Z"
    }
   },
   "outputs": [],
   "source": [
    "@jit(nopython=True, parallel=True, fastmath=True)\n",
    "def is_point_in_path(x, y, poly):\n",
    "    \"\"\"\n",
    "    x, y -- x and y coordinates of point\n",
    "    poly -- a list of tuples [(x, y), (x, y), ...]\n",
    "    -------------------------------------------------\n",
    "    PNPOLY - Point Inclusion in Polygon Test\n",
    "    W. Randolph Franklin (WRF) \n",
    "    source:  https://wrf.ecse.rpi.edu/Research/Short_Notes/pnpoly.html\n",
    "    \"\"\"\n",
    "    num = len(poly)  # Number of vertices\n",
    "    i = 0            # First Vertex\n",
    "    j = num - 1      # Previous Vertex\n",
    "    c = np.zeros(len(x), dtype=np.bool_)\n",
    "    # Loop over vertices\n",
    "    for i in range(num):\n",
    "        # if (a) and (b)\n",
    "        # a) ((vertex[1][y] > pt[y]) != (vertex[0][y] > pt[y]))\n",
    "        # a) XOR(), false if either vertex is higher than point\n",
    "        # b) x < (vertex[1][x] + (y - vertex[1][y])*(vertex[0][x]-vertex[1][x])/(vertex[0][y]-vertex[1][y]))\n",
    "        #                                   slope = (vertex[1][y]-vertex[0][y])/ (vertex[1][x]-vertex[0][x])\n",
    "        #                                         =-(vertex[0][y]-vertex[1][y])/-(vertex[0][x]-vertex[1][x])\n",
    "        #                                         = (vertex[0][y]-vertex[1][y])/ (vertex[0][x]-vertex[1][x])\n",
    "        # b) x < (vertex[1][x] + (y - vertex[1][y])/slope)\n",
    "        # b) \n",
    "        mask = np.logical_and(\n",
    "            np.not_equal(\n",
    "                poly[i][1]>y, \n",
    "                poly[j][1] > y\n",
    "            ),\n",
    "            (x < poly[i][0] + (poly[j][0] - poly[i][0]) * (y - poly[i][1]) / (poly[j][1] - poly[i][1]))\n",
    "        )\n",
    "        c[mask] = ~c[mask] #np.invert(c, out=c, where=mask)\n",
    "\n",
    "        j = i\n",
    "    return c\n",
    "flags = isPointInPath(*point, vertices)"
   ]
  },
  {
   "cell_type": "code",
   "execution_count": 629,
   "metadata": {
    "ExecuteTime": {
     "end_time": "2019-05-15T07:45:38.225687Z",
     "start_time": "2019-05-15T07:45:35.918050Z"
    }
   },
   "outputs": [
    {
     "name": "stdout",
     "output_type": "stream",
     "text": [
      "92 ms ± 5.98 ms per loop (mean ± std. dev. of 7 runs, 1 loop each)\n"
     ]
    }
   ],
   "source": [
    "%%timeit\n",
    "flags = is_point_in_path(*points, vertices)"
   ]
  },
  {
   "cell_type": "markdown",
   "metadata": {},
   "source": [
    "### More Array Computation"
   ]
  },
  {
   "cell_type": "markdown",
   "metadata": {
    "heading_collapsed": true
   },
   "source": [
    "#### Using newaxis (0.7s)"
   ]
  },
  {
   "cell_type": "code",
   "execution_count": 520,
   "metadata": {
    "ExecuteTime": {
     "end_time": "2019-05-15T07:10:16.261447Z",
     "start_time": "2019-05-15T07:10:15.525916Z"
    },
    "hidden": true
   },
   "outputs": [],
   "source": [
    "#@jit(nopython=True, parallel=True, fastmath=True)\n",
    "def is_point_in_path(x, y, poly):\n",
    "    \"\"\"\n",
    "    x, y -- x and y coordinates of point\n",
    "    poly -- a list of tuples [(x, y), (x, y), ...]\n",
    "    -------------------------------------------------\n",
    "    PNPOLY - Point Inclusion in Polygon Test\n",
    "    W. Randolph Franklin (WRF) \n",
    "    source:  https://wrf.ecse.rpi.edu/Research/Short_Notes/pnpoly.html\n",
    "    \"\"\"\n",
    "    num = len(poly)  # Number of vertices\n",
    "    i = poly            # First Vertex\n",
    "    j = np.roll(poly, 1, 0)  # Previous Vertex\n",
    "    c = np.zeros(len(x), dtype=np.bool_)\n",
    "    mask = np.logical_and(\n",
    "        np.not_equal(\n",
    "            np.greater(i[:,1,np.newaxis], y), \n",
    "            np.greater(j[:,1,np.newaxis], y)\n",
    "        ),\n",
    "        np.less(\n",
    "            x, \n",
    "            i[:,0,np.newaxis] + (j[:,0,np.newaxis] - i[:,0,np.newaxis]) * (y - i[:,1,np.newaxis]) /\n",
    "                            (j[:,1,np.newaxis] - i[:,1,np.newaxis]))\n",
    "    )\n",
    "    c = np.logical_xor.reduce(mask)\n",
    "    #c[mask] = ~c[mask] #np.invert(c, out=c, where=mask)\n",
    "\n",
    "    return c\n",
    "flags = is_point_in_path(*points, np.array(vertices))"
   ]
  },
  {
   "cell_type": "code",
   "execution_count": 521,
   "metadata": {
    "ExecuteTime": {
     "end_time": "2019-05-15T07:10:29.264682Z",
     "start_time": "2019-05-15T07:10:23.349500Z"
    },
    "hidden": true
   },
   "outputs": [
    {
     "name": "stdout",
     "output_type": "stream",
     "text": [
      "724 ms ± 68.6 ms per loop (mean ± std. dev. of 7 runs, 1 loop each)\n"
     ]
    }
   ],
   "source": [
    "%%timeit\n",
    "flags = is_point_in_path(*points, np.array(vertices))"
   ]
  },
  {
   "cell_type": "code",
   "execution_count": 393,
   "metadata": {
    "ExecuteTime": {
     "end_time": "2019-05-15T06:42:31.897746Z",
     "start_time": "2019-05-15T06:42:15.174812Z"
    },
    "hidden": true
   },
   "outputs": [
    {
     "data": {
      "image/png": "[encoded data removed]",
      "text/plain": [
       "<Figure size 1080x432 with 1 Axes>"
      ]
     },
     "metadata": {
      "needs_background": "light"
     },
     "output_type": "display_data"
    }
   ],
   "source": [
    "plot(flags)"
   ]
  },
  {
   "cell_type": "markdown",
   "metadata": {
    "heading_collapsed": true
   },
   "source": [
    "#### Using expand_dims (0.88s)"
   ]
  },
  {
   "cell_type": "code",
   "execution_count": 522,
   "metadata": {
    "ExecuteTime": {
     "end_time": "2019-05-15T07:10:42.880355Z",
     "start_time": "2019-05-15T07:10:42.051767Z"
    },
    "hidden": true
   },
   "outputs": [],
   "source": [
    "def is_point_in_path(x, y, poly):\n",
    "    \"\"\"\n",
    "    x, y -- x and y coordinates of point\n",
    "    poly -- a list of tuples [(x, y), (x, y), ...]\n",
    "    -------------------------------------------------\n",
    "    PNPOLY - Point Inclusion in Polygon Test\n",
    "    W. Randolph Franklin (WRF) \n",
    "    source:  https://wrf.ecse.rpi.edu/Research/Short_Notes/pnpoly.html\n",
    "    \"\"\"\n",
    "    num = len(poly)  # Number of vertices\n",
    "    i = poly            # First Vertex\n",
    "    j = np.roll(poly, 1)  # Previous Vertex\n",
    "    i = np.expand_dims(np.transpose(i),2)\n",
    "    j = np.expand_dims(np.transpose(j),2)\n",
    "    c = np.zeros(len(x), dtype=np.bool_)\n",
    "    # Loop over vertices\n",
    "    # if (a) and (b)\n",
    "    # a) ((vertex[1][y] > pt[y]) != (vertex[0][y] > pt[y]))\n",
    "    # a) XOR(), false if either vertex is higher than point\n",
    "    # b) x < (vertex[1][x] + (y - vertex[1][y])*(vertex[0][x]-vertex[1][x])/(vertex[0][y]-vertex[1][y]))\n",
    "    #                                   slope = (vertex[1][y]-vertex[0][y])/ (vertex[1][x]-vertex[0][x])\n",
    "    #                                         =-(vertex[0][y]-vertex[1][y])/-(vertex[0][x]-vertex[1][x])\n",
    "    #                                         = (vertex[0][y]-vertex[1][y])/ (vertex[0][x]-vertex[1][x])\n",
    "    # b) x < (vertex[1][x] + (y - vertex[1][y])/slope)\n",
    "    # b) \n",
    "    mask = np.logical_and(\n",
    "        np.not_equal(\n",
    "            np.greater(i[1], y), \n",
    "            np.greater(j[1], y)\n",
    "        ),\n",
    "        np.less(\n",
    "            x, \n",
    "            i[0] + (j[0] - i[0]) * (y - i[1]) / (j[1] - i[1])\n",
    "        )\n",
    "    )\n",
    "    c = np.sum(mask, axis=0) % 2\n",
    "    #c = np.logical_xor.reduce(mask)\n",
    "    #c[mask] = ~c[mask] #np.invert(c, out=c, where=mask)\n",
    "\n",
    "    return c\n",
    "\n",
    "flags = is_point_in_path(*points, np.array(vertices))"
   ]
  },
  {
   "cell_type": "code",
   "execution_count": 523,
   "metadata": {
    "ExecuteTime": {
     "end_time": "2019-05-15T07:10:50.874032Z",
     "start_time": "2019-05-15T07:10:43.977132Z"
    },
    "hidden": true
   },
   "outputs": [
    {
     "name": "stdout",
     "output_type": "stream",
     "text": [
      "878 ms ± 150 ms per loop (mean ± std. dev. of 7 runs, 1 loop each)\n"
     ]
    }
   ],
   "source": [
    "%%timeit\n",
    "flags = is_point_in_path(*points, np.array(vertices))"
   ]
  },
  {
   "cell_type": "markdown",
   "metadata": {
    "heading_collapsed": true
   },
   "source": [
    "#### Using Numba and Expand_dims (0.18s)"
   ]
  },
  {
   "cell_type": "code",
   "execution_count": 604,
   "metadata": {
    "ExecuteTime": {
     "end_time": "2019-05-15T07:39:17.018942Z",
     "start_time": "2019-05-15T07:39:16.031242Z"
    },
    "hidden": true
   },
   "outputs": [],
   "source": [
    "@jit(nopython=True, fastmath=True)\n",
    "def is_point_in_path(x, y, poly):\n",
    "    \"\"\"\n",
    "    x, y -- x and y coordinates of point\n",
    "    poly -- a list of tuples [(x, y), (x, y), ...]\n",
    "    -------------------------------------------------\n",
    "    PNPOLY - Point Inclusion in Polygon Test\n",
    "    W. Randolph Franklin (WRF) \n",
    "    source:  https://wrf.ecse.rpi.edu/Research/Short_Notes/pnpoly.html\n",
    "    \"\"\"\n",
    "    num = len(poly)  # Number of vertices\n",
    "    i = poly            # First Vertex\n",
    "    j = np.roll(poly, 1)  # Previous Vertex\n",
    "    i = np.expand_dims(np.transpose(i),2)\n",
    "    j = np.expand_dims(np.transpose(j),2)\n",
    "    #c = np.zeros(len(x), dtype=np.bool_)\n",
    "    #print(i.shape)\n",
    "    #print(j.shape)\n",
    "    #print(x.shape, y.shape)\n",
    "    x = np.expand_dims(x,0)\n",
    "    y = np.expand_dims(y,0)\n",
    "    #print(x.shape, y.shape)\n",
    "    \n",
    "    #print(np.logical_and(\n",
    "    #    np.not_equal(\n",
    "    #        np.greater(i[1], y), \n",
    "    #        np.greater(j[1], y)\n",
    "    #    ),\n",
    "    #    np.less(\n",
    "    #        x, \n",
    "    #        i[0] + (j[0] - i[0]) * (y - i[1]) / (j[1] - i[1])\n",
    "    #    )\n",
    "    #).shape)\n",
    "    #print(np.not_equal(\n",
    "    #        np.greater(i[1], y), \n",
    "    #        np.greater(j[1], y)\n",
    "    #    ).shape)\n",
    "    #print(np.less(\n",
    "    #        x, \n",
    "    #        i[0] + (j[0] - i[0]) * (y - i[1]) / (j[1] - i[1])\n",
    "    #    ).shape)\n",
    "    #print(np.greater(i[1], y).shape)\n",
    "    #print((i[0] + (j[0] - i[0]) * (y - i[1]) / (j[1] - i[1])).shape)\n",
    "    # Loop over vertices\n",
    "    # if (a) and (b)\n",
    "    # a) ((vertex[1][y] > pt[y]) != (vertex[0][y] > pt[y]))\n",
    "    # a) XOR(), false if either vertex is higher than point\n",
    "    # b) x < (vertex[1][x] + (y - vertex[1][y])*(vertex[0][x]-vertex[1][x])/(vertex[0][y]-vertex[1][y]))\n",
    "    #                                   slope = (vertex[1][y]-vertex[0][y])/ (vertex[1][x]-vertex[0][x])\n",
    "    #                                         =-(vertex[0][y]-vertex[1][y])/-(vertex[0][x]-vertex[1][x])\n",
    "    #                                         = (vertex[0][y]-vertex[1][y])/ (vertex[0][x]-vertex[1][x])\n",
    "    # b) x < (vertex[1][x] + (y - vertex[1][y])/slope)\n",
    "    # b) \n",
    "    mask = np.logical_and(\n",
    "        np.not_equal(\n",
    "            np.greater(i[1], y), \n",
    "            np.greater(j[1], y)\n",
    "        ),\n",
    "        np.less(\n",
    "            x, \n",
    "            i[0] + (j[0] - i[0]) * (y - i[1]) / (j[1] - i[1])\n",
    "        )\n",
    "    )\n",
    "    c = np.sum(mask, axis=0) % 2\n",
    "    #c = np.logical_xor.reduce(mask)\n",
    "    #c[mask] = ~c[mask] #np.invert(c, out=c, where=mask)\n",
    "\n",
    "    return c\n",
    "\n",
    "flags = is_point_in_path(*points, np.array(vertices))"
   ]
  },
  {
   "cell_type": "code",
   "execution_count": 605,
   "metadata": {
    "ExecuteTime": {
     "end_time": "2019-05-15T07:39:21.392051Z",
     "start_time": "2019-05-15T07:39:19.951026Z"
    },
    "hidden": true
   },
   "outputs": [
    {
     "name": "stdout",
     "output_type": "stream",
     "text": [
      "175 ms ± 13 ms per loop (mean ± std. dev. of 7 runs, 1 loop each)\n"
     ]
    }
   ],
   "source": [
    "%%timeit\n",
    "flags = is_point_in_path(*points, np.array(vertices))"
   ]
  },
  {
   "cell_type": "markdown",
   "metadata": {
    "hidden": true
   },
   "source": [
    "NOTE: Parallel fails due to broadcasting problem"
   ]
  },
  {
   "cell_type": "markdown",
   "metadata": {},
   "source": [
    "#### Explicit logical xor reduction (0.14ms)"
   ]
  },
  {
   "cell_type": "code",
   "execution_count": 637,
   "metadata": {
    "ExecuteTime": {
     "end_time": "2019-05-15T07:53:43.768718Z",
     "start_time": "2019-05-15T07:53:42.463773Z"
    }
   },
   "outputs": [],
   "source": [
    "@jit(nopython=True, fastmath=True)\n",
    "def red(mask):\n",
    "    \"\"\" 140ms \"\"\"\n",
    "    c = np.zeros(len(x), dtype=np.bool_)\n",
    "    for idx in range(num):\n",
    "        c = np.logical_xor(mask[idx], c)\n",
    "    return c\n",
    "\n",
    "#@jit(nopython=True, fastmath=True)\n",
    "#def red(mask):\n",
    "#    \"\"\" 200ms \"\"\"\n",
    "#    return np.sum(mask, axis=0) % 2\n",
    "\n",
    "\n",
    "@jit(nopython=True, fastmath=True)\n",
    "def is_point_in_path(x, y, poly):\n",
    "    \"\"\"\n",
    "    x, y -- x and y coordinates of point\n",
    "    poly -- a list of tuples [(x, y), (x, y), ...]\n",
    "    -------------------------------------------------\n",
    "    PNPOLY - Point Inclusion in Polygon Test\n",
    "    W. Randolph Franklin (WRF) \n",
    "    source:  https://wrf.ecse.rpi.edu/Research/Short_Notes/pnpoly.html\n",
    "    \"\"\"\n",
    "    num = len(poly)  # Number of vertices\n",
    "    i = poly            # First Vertex\n",
    "    j = np.roll(poly, 1)  # Previous Vertex\n",
    "    i = np.expand_dims(np.transpose(i),2)\n",
    "    j = np.expand_dims(np.transpose(j),2)\n",
    "    # Loop over vertices\n",
    "    # if (a) and (b)\n",
    "    # a) ((vertex[1][y] > pt[y]) != (vertex[0][y] > pt[y]))\n",
    "    # a) XOR(), false if either vertex is higher than point\n",
    "    # b) x < (vertex[1][x] + (y - vertex[1][y])*(vertex[0][x]-vertex[1][x])/(vertex[0][y]-vertex[1][y]))\n",
    "    #                                   slope = (vertex[1][y]-vertex[0][y])/ (vertex[1][x]-vertex[0][x])\n",
    "    #                                         =-(vertex[0][y]-vertex[1][y])/-(vertex[0][x]-vertex[1][x])\n",
    "    #                                         = (vertex[0][y]-vertex[1][y])/ (vertex[0][x]-vertex[1][x])\n",
    "    # b) x < (vertex[1][x] + (y - vertex[1][y])/slope)\n",
    "    # b) \n",
    "    mask = np.logical_and(\n",
    "        np.not_equal(\n",
    "            np.greater(i[1], y), \n",
    "            np.greater(j[1], y)\n",
    "        ),\n",
    "        np.less(\n",
    "            x, \n",
    "            i[0] + (j[0] - i[0]) * (y - i[1]) / (j[1] - i[1])\n",
    "        )\n",
    "    )\n",
    "\n",
    "    return red(mask)\n",
    "\n",
    "flags = is_point_in_path(*points, np.array(vertices))"
   ]
  },
  {
   "cell_type": "code",
   "execution_count": 640,
   "metadata": {
    "ExecuteTime": {
     "end_time": "2019-05-15T07:54:01.496289Z",
     "start_time": "2019-05-15T07:53:49.993138Z"
    }
   },
   "outputs": [
    {
     "name": "stdout",
     "output_type": "stream",
     "text": [
      "141 ms ± 1.89 ms per loop (mean ± std. dev. of 7 runs, 10 loops each)\n"
     ]
    }
   ],
   "source": [
    "%%timeit\n",
    "is_point_in_path(*points, np.array(vertices))"
   ]
  },
  {
   "cell_type": "markdown",
   "metadata": {},
   "source": [
    "#### Logical Reduce Operations"
   ]
  },
  {
   "cell_type": "code",
   "execution_count": 669,
   "metadata": {
    "ExecuteTime": {
     "end_time": "2019-05-15T13:20:11.789578Z",
     "start_time": "2019-05-15T13:20:10.956985Z"
    }
   },
   "outputs": [],
   "source": [
    "poly = vertices\n",
    "x, y = points\n",
    "\n",
    "num = len(poly)  # Number of vertices\n",
    "i = poly            # First Vertex\n",
    "j = np.roll(poly, 1)  # Previous Vertex\n",
    "i = np.expand_dims(np.transpose(i),2)\n",
    "j = np.expand_dims(np.transpose(j),2)\n",
    "c = np.zeros(len(x), dtype=np.bool_)\n",
    "# Loop over vertices\n",
    "# if (a) and (b)\n",
    "# a) ((vertex[1][y] > pt[y]) != (vertex[0][y] > pt[y]))\n",
    "# a) XOR(), false if either vertex is higher than point\n",
    "# b) x < (vertex[1][x] + (y - vertex[1][y])*(vertex[0][x]-vertex[1][x])/(vertex[0][y]-vertex[1][y]))\n",
    "#                                   slope = (vertex[1][y]-vertex[0][y])/ (vertex[1][x]-vertex[0][x])\n",
    "#                                         =-(vertex[0][y]-vertex[1][y])/-(vertex[0][x]-vertex[1][x])\n",
    "#                                         = (vertex[0][y]-vertex[1][y])/ (vertex[0][x]-vertex[1][x])\n",
    "# b) x < (vertex[1][x] + (y - vertex[1][y])/slope)\n",
    "# b) \n",
    "mask = np.logical_and(\n",
    "    np.not_equal(\n",
    "        np.greater(i[1], y), \n",
    "        np.greater(j[1], y)\n",
    "    ),\n",
    "    np.less(\n",
    "        x, \n",
    "        i[0] + (j[0] - i[0]) * (y - i[1]) / (j[1] - i[1])\n",
    "    )\n",
    ")\n",
    "c = np.sum(mask, axis=0) % 2\n",
    "#c = np.logical_xor.reduce(mask)\n",
    "#c[mask] = ~c[mask] #np.invert(c, out=c, where=mask)\n"
   ]
  },
  {
   "cell_type": "code",
   "execution_count": 556,
   "metadata": {
    "ExecuteTime": {
     "end_time": "2019-05-15T07:21:44.642691Z",
     "start_time": "2019-05-15T07:21:42.645273Z"
    }
   },
   "outputs": [
    {
     "name": "stdout",
     "output_type": "stream",
     "text": [
      "23.5 ms ± 1.15 ms per loop (mean ± std. dev. of 7 runs, 10 loops each)\n"
     ]
    }
   ],
   "source": [
    "%%timeit\n",
    "np.logical_xor.reduce(mask)"
   ]
  },
  {
   "cell_type": "code",
   "execution_count": 555,
   "metadata": {
    "ExecuteTime": {
     "end_time": "2019-05-15T07:21:37.880889Z",
     "start_time": "2019-05-15T07:21:34.533512Z"
    }
   },
   "outputs": [
    {
     "name": "stdout",
     "output_type": "stream",
     "text": [
      "41 ms ± 3.85 ms per loop (mean ± std. dev. of 7 runs, 10 loops each)\n"
     ]
    }
   ],
   "source": [
    "%%timeit\n",
    "np.sum(mask, axis=0) % 2"
   ]
  },
  {
   "cell_type": "code",
   "execution_count": null,
   "metadata": {},
   "outputs": [],
   "source": []
  },
  {
   "cell_type": "code",
   "execution_count": 544,
   "metadata": {
    "ExecuteTime": {
     "end_time": "2019-05-15T07:17:58.855617Z",
     "start_time": "2019-05-15T07:17:58.816609Z"
    }
   },
   "outputs": [
    {
     "data": {
      "text/plain": [
       "array([[ True,  True,  True, ...,  True,  True,  True],\n",
       "       [ True,  True,  True, ...,  True,  True,  True],\n",
       "       [ True,  True,  True, ...,  True,  True,  True],\n",
       "       ...,\n",
       "       [False,  True,  True, ...,  True,  True,  True],\n",
       "       [ True,  True,  True, ...,  True,  True,  True],\n",
       "       [ True,  True,  True, ...,  True,  True,  True]])"
      ]
     },
     "execution_count": 544,
     "metadata": {},
     "output_type": "execute_result"
    }
   ],
   "source": [
    " np.greater(np.expand_dims(np.array(vertices).T[1], 1), points[1])"
   ]
  },
  {
   "cell_type": "markdown",
   "metadata": {},
   "source": [
    "# Further Analysis"
   ]
  },
  {
   "cell_type": "code",
   "execution_count": null,
   "metadata": {},
   "outputs": [],
   "source": []
  },
  {
   "cell_type": "code",
   "execution_count": null,
   "metadata": {},
   "outputs": [],
   "source": []
  },
  {
   "cell_type": "code",
   "execution_count": null,
   "metadata": {},
   "outputs": [],
   "source": []
  },
  {
   "cell_type": "code",
   "execution_count": null,
   "metadata": {},
   "outputs": [],
   "source": []
  },
  {
   "cell_type": "code",
   "execution_count": 319,
   "metadata": {
    "ExecuteTime": {
     "end_time": "2019-05-14T12:12:32.892338Z",
     "start_time": "2019-05-14T12:12:32.883332Z"
    }
   },
   "outputs": [
    {
     "data": {
      "text/plain": [
       "array([42.08534992, 11.63993712])"
      ]
     },
     "execution_count": 319,
     "metadata": {},
     "output_type": "execute_result"
    }
   ],
   "source": [
    "np.array(vertices).min(0)"
   ]
  }
 ],
 "metadata": {
  "kernelspec": {
   "display_name": "Python 3",
   "language": "python",
   "name": "python3"
  },
  "language_info": {
   "codemirror_mode": {
    "name": "ipython",
    "version": 3
   },
   "file_extension": ".py",
   "mimetype": "text/x-python",
   "name": "python",
   "nbconvert_exporter": "python",
   "pygments_lexer": "ipython3",
   "version": "3.7.3"
  },
  "toc": {
   "base_numbering": 1,
   "nav_menu": {},
   "number_sections": true,
   "sideBar": true,
   "skip_h1_title": false,
   "title_cell": "Table of Contents",
   "title_sidebar": "Contents",
   "toc_cell": false,
   "toc_position": {},
   "toc_section_display": true,
   "toc_window_display": false
  },
  "varInspector": {
   "cols": {
    "lenName": 16,
    "lenType": 16,
    "lenVar": 40
   },
   "kernels_config": {
    "python": {
     "delete_cmd_postfix": "",
     "delete_cmd_prefix": "del ",
     "library": "var_list.py",
     "varRefreshCmd": "print(var_dic_list())"
    },
    "r": {
     "delete_cmd_postfix": ") ",
     "delete_cmd_prefix": "rm(",
     "library": "var_list.r",
     "varRefreshCmd": "cat(var_dic_list()) "
    }
   },
   "types_to_exclude": [
    "module",
    "function",
    "builtin_function_or_method",
    "instance",
    "_Feature"
   ],
   "window_display": false
  }
 },
 "nbformat": 4,
 "nbformat_minor": 2
}
