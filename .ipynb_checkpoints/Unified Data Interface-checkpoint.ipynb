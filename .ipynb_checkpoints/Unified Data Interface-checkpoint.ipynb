{
 "cells": [
  {
   "cell_type": "code",
   "execution_count": 1,
   "metadata": {},
   "outputs": [],
   "source": [
    "# File names\n",
    "name_pre = 'b'\n",
    "name_end = '_stats_toothpick_v1.1.fits' \n",
    "name_list = [\"{}{:02}{}\".format(name_pre, i, name_end) for i in range(2,24)]\n",
    "filepath = '/home/ilion/0/qd174/Git/PHAT_BEAST/'"
   ]
  },
  {
   "cell_type": "code",
   "execution_count": 24,
   "metadata": {},
   "outputs": [],
   "source": [
    "from astropy.io import fits\n",
    "data = np.array([fits.open(filepath + filename, memmap=True)[1] for filename in name_list])\n",
    "column_names = data[0].columns.names"
   ]
  },
  {
   "cell_type": "code",
   "execution_count": 11,
   "metadata": {},
   "outputs": [
    {
     "data": {
      "text/plain": [
       "264"
      ]
     },
     "execution_count": 11,
     "metadata": {},
     "output_type": "execute_result"
    }
   ],
   "source": [
    "import sys\n",
    "sys.getsizeof(data)"
   ]
  },
  {
   "cell_type": "code",
   "execution_count": 2,
   "metadata": {},
   "outputs": [],
   "source": [
    "import numpy as np"
   ]
  },
  {
   "cell_type": "code",
   "execution_count": 25,
   "metadata": {},
   "outputs": [
    {
     "data": {
      "text/plain": [
       "array([41.30651666, 41.35671469, 41.24782826, 41.33286783, 41.26621411,\n",
       "       41.18271918, 41.23190887, 41.34401198, 41.3037616 , 41.23138694,\n",
       "       41.18189154, 41.24738839, 41.33429234, 41.27289648, 41.33423943,\n",
       "       41.2318987 , 41.30650537, 41.26886428, 41.25211132, 41.20722426,\n",
       "       41.53384452, 41.59793725, 41.4476699 , 41.50750076, 41.45197925,\n",
       "       41.58960365, 41.60635193, 41.49505176, 41.61183941, 41.60785268,\n",
       "       41.59809449, 41.53350575, 41.60073967, 41.48533642, 41.48669443,\n",
       "       41.45180462, 41.56190571, 41.56189467, 41.55068773, 41.50616151])"
      ]
     },
     "execution_count": 25,
     "metadata": {},
     "output_type": "execute_result"
    }
   ],
   "source": [
    "brick_idx = [2,5]\n",
    "np.concatenate(\n",
    "    [\n",
    "        data[brick_i].data['DEC'][:20]\n",
    "        for brick_i in brick_idx\n",
    "    ]\n",
    ")"
   ]
  },
  {
   "cell_type": "code",
   "execution_count": 20,
   "metadata": {},
   "outputs": [
    {
     "data": {
      "text/plain": [
       "[2, 5]"
      ]
     },
     "execution_count": 20,
     "metadata": {},
     "output_type": "execute_result"
    }
   ],
   "source": [
    "brick_idx"
   ]
  },
  {
   "cell_type": "code",
   "execution_count": 29,
   "metadata": {},
   "outputs": [
    {
     "data": {
      "text/plain": [
       "2296520"
      ]
     },
     "execution_count": 29,
     "metadata": {},
     "output_type": "execute_result"
    }
   ],
   "source": [
    "fits.open(filepath + name_list[0], memmap=True)[1].header['NAXIS2']"
   ]
  },
  {
   "cell_type": "code",
   "execution_count": 5,
   "metadata": {},
   "outputs": [],
   "source": [
    "import numba as nb\n",
    "@nb.jit(nb.f8[:](nb.f8, nb.f8))\n",
    "def getSampleIndices(sample_size, total_size):\n",
    "    \"\"\" \n",
    "    Returns data points for the subsample in the range\n",
    "    Timed Tests:   data_count = 100,000,000;  sample_size = 100,000;\n",
    "        926 us  np.random.randint(low=0, high=data_count+1, size=sample_size) \n",
    "        935 us  np.random.choice(data_count, size=sample_size, replace=True, p=None)\n",
    "         85 ms  random.sample(range(data_count), sample_size)\n",
    "          6 s   np.random.choice(data_count, size=sample_size, replace=False, p=None)\n",
    "    \"\"\"\n",
    "    # note: allows multiple identical values, hence n<=num_points, but orders mag faster\n",
    "    select_points = np.random.randint(\n",
    "                        low=0, high=total_size+1, \n",
    "                        size=sample_size\n",
    "                    )\n",
    "    unique_pts = np.unique(select_points)\n",
    "    unique_pts_count = len(unique_pts)\n",
    "    select_points[:unique_pts_count] = unique_ptss\n",
    "    while len(select_points) != sample_size:\n",
    "        # TODO: In theory go for more and then only add as needed \n",
    "        select_points[unique_pts_count:] = np.random.randint(low=0, high=total_size+1, \n",
    "                                                  size=sample_size-unique_pts_count )\n",
    "        unique_pts = np.unique(select_points)\n",
    "        unique_pts_count = len(unique_pts)\n",
    "\n",
    "    return selected_points\n"
   ]
  },
  {
   "cell_type": "code",
   "execution_count": 4,
   "metadata": {},
   "outputs": [],
   "source": [
    "data_count = 100000000\n",
    "sample_size = 100000"
   ]
  },
  {
   "cell_type": "code",
   "execution_count": 3,
   "metadata": {},
   "outputs": [],
   "source": [
    "import random"
   ]
  },
  {
   "cell_type": "code",
   "execution_count": null,
   "metadata": {},
   "outputs": [],
   "source": [
    "%%timeit\n",
    "selection = getSampleIndices(data_count, sample_size)"
   ]
  },
  {
   "cell_type": "code",
   "execution_count": 9,
   "metadata": {},
   "outputs": [
    {
     "data": {
      "text/plain": [
       "numpy.ndarray"
      ]
     },
     "execution_count": 9,
     "metadata": {},
     "output_type": "execute_result"
    }
   ],
   "source": [
    "selection = np.random.randint(low=0, high=data_count+1, size=sample_size)\n",
    "len(selection)"
   ]
  },
  {
   "cell_type": "code",
   "execution_count": 6,
   "metadata": {},
   "outputs": [
    {
     "name": "stdout",
     "output_type": "stream",
     "text": [
      "100 ms ± 7.66 ms per loop (mean ± std. dev. of 7 runs, 10 loops each)\n"
     ]
    }
   ],
   "source": [
    "%%timeit\n",
    "selection = random.sample(range(data_count), sample_size)"
   ]
  },
  {
   "cell_type": "code",
   "execution_count": 33,
   "metadata": {},
   "outputs": [
    {
     "name": "stdout",
     "output_type": "stream",
     "text": [
      "5.78 s ± 391 ms per loop (mean ± std. dev. of 7 runs, 1 loop each)\n"
     ]
    }
   ],
   "source": [
    "%%timeit\n",
    "selection = np.random.choice(data_count, size=sample_size, replace=False, p=None)"
   ]
  },
  {
   "cell_type": "code",
   "execution_count": 38,
   "metadata": {},
   "outputs": [
    {
     "name": "stdout",
     "output_type": "stream",
     "text": [
      "975 µs ± 15.6 µs per loop (mean ± std. dev. of 7 runs, 1000 loops each)\n"
     ]
    }
   ],
   "source": [
    "%%timeit\n",
    "selection = np.random.choice(data_count, size=sample_size, replace=True, p=None)"
   ]
  },
  {
   "cell_type": "code",
   "execution_count": 39,
   "metadata": {},
   "outputs": [
    {
     "name": "stdout",
     "output_type": "stream",
     "text": [
      "979 µs ± 19.4 µs per loop (mean ± std. dev. of 7 runs, 1000 loops each)\n"
     ]
    }
   ],
   "source": [
    "%%timeit  # not unique\n",
    "selection = np.random.randint(low=0, high=data_count+1, size=sample_size)"
   ]
  },
  {
   "cell_type": "code",
   "execution_count": 35,
   "metadata": {},
   "outputs": [
    {
     "name": "stdout",
     "output_type": "stream",
     "text": [
      "6.98 ms ± 60.1 µs per loop (mean ± std. dev. of 7 runs, 100 loops each)\n"
     ]
    }
   ],
   "source": [
    "%%timeit  # not unique\n",
    "selection = np.unique(np.random.randint(low=0, high=data_count+1, size=sample_size))"
   ]
  },
  {
   "cell_type": "code",
   "execution_count": 31,
   "metadata": {},
   "outputs": [
    {
     "data": {
      "text/plain": [
       "10000"
      ]
     },
     "execution_count": 31,
     "metadata": {},
     "output_type": "execute_result"
    }
   ],
   "source": [
    "selection = random.sample(range(data_count), sample_size)\n",
    "len(np.unique(selection))"
   ]
  },
  {
   "cell_type": "code",
   "execution_count": 32,
   "metadata": {},
   "outputs": [
    {
     "data": {
      "text/plain": [
       "10000"
      ]
     },
     "execution_count": 32,
     "metadata": {},
     "output_type": "execute_result"
    }
   ],
   "source": [
    "selection = np.random.choice(data_count, size=sample_size, replace=False, p=None)\n",
    "len(np.unique(selection))"
   ]
  },
  {
   "cell_type": "code",
   "execution_count": 48,
   "metadata": {},
   "outputs": [
    {
     "data": {
      "text/plain": [
       "10000"
      ]
     },
     "execution_count": 48,
     "metadata": {},
     "output_type": "execute_result"
    }
   ],
   "source": [
    "selection = np.random.randint(low=0, high=data_count, size=sample_size)\n",
    "len(np.unique(selection))"
   ]
  },
  {
   "cell_type": "code",
   "execution_count": 35,
   "metadata": {},
   "outputs": [
    {
     "ename": "TypeError",
     "evalue": "'list' object cannot be interpreted as an integer",
     "output_type": "error",
     "traceback": [
      "\u001b[0;31m---------------------------------------------------------------------------\u001b[0m",
      "\u001b[0;31mTypeError\u001b[0m                                 Traceback (most recent call last)",
      "\u001b[0;32m<ipython-input-35-cd501ea93bbf>\u001b[0m in \u001b[0;36m<module>\u001b[0;34m\u001b[0m\n\u001b[0;32m----> 1\u001b[0;31m \u001b[0mselection\u001b[0m \u001b[0;34m=\u001b[0m \u001b[0mnp\u001b[0m\u001b[0;34m.\u001b[0m\u001b[0mrandom\u001b[0m\u001b[0;34m.\u001b[0m\u001b[0mrand\u001b[0m\u001b[0;34m(\u001b[0m\u001b[0;34m[\u001b[0m\u001b[0msample_size\u001b[0m\u001b[0;34m,\u001b[0m \u001b[0mdata_count\u001b[0m\u001b[0;34m]\u001b[0m\u001b[0;34m)\u001b[0m\u001b[0;34m\u001b[0m\u001b[0m\n\u001b[0m\u001b[1;32m      2\u001b[0m \u001b[0mlen\u001b[0m\u001b[0;34m(\u001b[0m\u001b[0mnp\u001b[0m\u001b[0;34m.\u001b[0m\u001b[0munique\u001b[0m\u001b[0;34m(\u001b[0m\u001b[0mselection\u001b[0m\u001b[0;34m)\u001b[0m\u001b[0;34m)\u001b[0m\u001b[0;34m\u001b[0m\u001b[0m\n",
      "\u001b[0;32mmtrand.pyx\u001b[0m in \u001b[0;36mmtrand.RandomState.rand\u001b[0;34m()\u001b[0m\n",
      "\u001b[0;32mmtrand.pyx\u001b[0m in \u001b[0;36mmtrand.RandomState.random_sample\u001b[0;34m()\u001b[0m\n",
      "\u001b[0;32mmtrand.pyx\u001b[0m in \u001b[0;36mmtrand.cont0_array\u001b[0;34m()\u001b[0m\n",
      "\u001b[0;31mTypeError\u001b[0m: 'list' object cannot be interpreted as an integer"
     ]
    }
   ],
   "source": [
    "selection = np.random.rand(sample_size, data_count])\n",
    "len(np.unique(selection))"
   ]
  },
  {
   "cell_type": "code",
   "execution_count": 9,
   "metadata": {},
   "outputs": [
    {
     "data": {
      "text/plain": [
       "False"
      ]
     },
     "execution_count": 9,
     "metadata": {},
     "output_type": "execute_result"
    }
   ],
   "source": [
    "[\"a\", \"b\"] in [\"a\", \"b\", \"c\"]"
   ]
  }
 ],
 "metadata": {
  "kernelspec": {
   "display_name": "Python 3",
   "language": "python",
   "name": "python3"
  },
  "language_info": {
   "codemirror_mode": {
    "name": "ipython",
    "version": 3
   },
   "file_extension": ".py",
   "mimetype": "text/x-python",
   "name": "python",
   "nbconvert_exporter": "python",
   "pygments_lexer": "ipython3",
   "version": "3.6.6"
  }
 },
 "nbformat": 4,
 "nbformat_minor": 2
}
